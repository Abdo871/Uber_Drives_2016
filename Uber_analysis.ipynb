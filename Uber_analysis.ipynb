{
 "cells": [
  {
   "cell_type": "code",
   "execution_count": 1,
   "id": "fc246f5a",
   "metadata": {},
   "outputs": [
    {
     "name": "stderr",
     "output_type": "stream",
     "text": [
      "c:\\Users\\ahmad\\anaconda3\\lib\\site-packages\\numpy\\_distributor_init.py:30: UserWarning: loaded more than 1 DLL from .libs:\n",
      "c:\\Users\\ahmad\\anaconda3\\lib\\site-packages\\numpy\\.libs\\libopenblas.EL2C6PLE4ZYW3ECEVIV3OXXGRN2NRFM2.gfortran-win_amd64.dll\n",
      "c:\\Users\\ahmad\\anaconda3\\lib\\site-packages\\numpy\\.libs\\libopenblas.FB5AE2TYXYH2IJRDKGDGQ3XBKLKTF43H.gfortran-win_amd64.dll\n",
      "  warnings.warn(\"loaded more than 1 DLL from .libs:\"\n"
     ]
    }
   ],
   "source": [
    "import pandas as pd\n",
    "import seaborn as sns\n",
    "import numpy as np\n",
    "import plotly.express as px"
   ]
  },
  {
   "cell_type": "code",
   "execution_count": 2,
   "id": "9cbba153",
   "metadata": {},
   "outputs": [],
   "source": [
    "df = pd.read_csv('My Uber Drives - 2016.csv')"
   ]
  },
  {
   "cell_type": "code",
   "execution_count": 3,
   "id": "8edabd97",
   "metadata": {
    "scrolled": false
   },
   "outputs": [
    {
     "data": {
      "text/html": [
       "<div>\n",
       "<style scoped>\n",
       "    .dataframe tbody tr th:only-of-type {\n",
       "        vertical-align: middle;\n",
       "    }\n",
       "\n",
       "    .dataframe tbody tr th {\n",
       "        vertical-align: top;\n",
       "    }\n",
       "\n",
       "    .dataframe thead th {\n",
       "        text-align: right;\n",
       "    }\n",
       "</style>\n",
       "<table border=\"1\" class=\"dataframe\">\n",
       "  <thead>\n",
       "    <tr style=\"text-align: right;\">\n",
       "      <th></th>\n",
       "      <th>START_DATE*</th>\n",
       "      <th>END_DATE*</th>\n",
       "      <th>CATEGORY*</th>\n",
       "      <th>START*</th>\n",
       "      <th>STOP*</th>\n",
       "      <th>MILES*</th>\n",
       "      <th>PURPOSE*</th>\n",
       "    </tr>\n",
       "  </thead>\n",
       "  <tbody>\n",
       "    <tr>\n",
       "      <th>0</th>\n",
       "      <td>1/1/2016 21:11</td>\n",
       "      <td>1/1/2016 21:17</td>\n",
       "      <td>Business</td>\n",
       "      <td>Fort Pierce</td>\n",
       "      <td>Fort Pierce</td>\n",
       "      <td>5.1</td>\n",
       "      <td>Meal/Entertain</td>\n",
       "    </tr>\n",
       "    <tr>\n",
       "      <th>1</th>\n",
       "      <td>1/2/2016 1:25</td>\n",
       "      <td>1/2/2016 1:37</td>\n",
       "      <td>Business</td>\n",
       "      <td>Fort Pierce</td>\n",
       "      <td>Fort Pierce</td>\n",
       "      <td>5.0</td>\n",
       "      <td>NaN</td>\n",
       "    </tr>\n",
       "    <tr>\n",
       "      <th>2</th>\n",
       "      <td>1/2/2016 20:25</td>\n",
       "      <td>1/2/2016 20:38</td>\n",
       "      <td>Business</td>\n",
       "      <td>Fort Pierce</td>\n",
       "      <td>Fort Pierce</td>\n",
       "      <td>4.8</td>\n",
       "      <td>Errand/Supplies</td>\n",
       "    </tr>\n",
       "    <tr>\n",
       "      <th>3</th>\n",
       "      <td>1/5/2016 17:31</td>\n",
       "      <td>1/5/2016 17:45</td>\n",
       "      <td>Business</td>\n",
       "      <td>Fort Pierce</td>\n",
       "      <td>Fort Pierce</td>\n",
       "      <td>4.7</td>\n",
       "      <td>Meeting</td>\n",
       "    </tr>\n",
       "    <tr>\n",
       "      <th>4</th>\n",
       "      <td>1/6/2016 14:42</td>\n",
       "      <td>1/6/2016 15:49</td>\n",
       "      <td>Business</td>\n",
       "      <td>Fort Pierce</td>\n",
       "      <td>West Palm Beach</td>\n",
       "      <td>63.7</td>\n",
       "      <td>Customer Visit</td>\n",
       "    </tr>\n",
       "  </tbody>\n",
       "</table>\n",
       "</div>"
      ],
      "text/plain": [
       "      START_DATE*       END_DATE* CATEGORY*       START*            STOP*  \\\n",
       "0  1/1/2016 21:11  1/1/2016 21:17  Business  Fort Pierce      Fort Pierce   \n",
       "1   1/2/2016 1:25   1/2/2016 1:37  Business  Fort Pierce      Fort Pierce   \n",
       "2  1/2/2016 20:25  1/2/2016 20:38  Business  Fort Pierce      Fort Pierce   \n",
       "3  1/5/2016 17:31  1/5/2016 17:45  Business  Fort Pierce      Fort Pierce   \n",
       "4  1/6/2016 14:42  1/6/2016 15:49  Business  Fort Pierce  West Palm Beach   \n",
       "\n",
       "   MILES*         PURPOSE*  \n",
       "0     5.1   Meal/Entertain  \n",
       "1     5.0              NaN  \n",
       "2     4.8  Errand/Supplies  \n",
       "3     4.7          Meeting  \n",
       "4    63.7   Customer Visit  "
      ]
     },
     "execution_count": 3,
     "metadata": {},
     "output_type": "execute_result"
    }
   ],
   "source": [
    "df.head()"
   ]
  },
  {
   "cell_type": "markdown",
   "id": "9fce6e62",
   "metadata": {},
   "source": [
    "### Get the information of data"
   ]
  },
  {
   "cell_type": "code",
   "execution_count": 4,
   "id": "e82406f5",
   "metadata": {
    "scrolled": true
   },
   "outputs": [
    {
     "name": "stdout",
     "output_type": "stream",
     "text": [
      "<class 'pandas.core.frame.DataFrame'>\n",
      "RangeIndex: 1156 entries, 0 to 1155\n",
      "Data columns (total 7 columns):\n",
      " #   Column       Non-Null Count  Dtype  \n",
      "---  ------       --------------  -----  \n",
      " 0   START_DATE*  1156 non-null   object \n",
      " 1   END_DATE*    1155 non-null   object \n",
      " 2   CATEGORY*    1155 non-null   object \n",
      " 3   START*       1155 non-null   object \n",
      " 4   STOP*        1155 non-null   object \n",
      " 5   MILES*       1156 non-null   float64\n",
      " 6   PURPOSE*     653 non-null    object \n",
      "dtypes: float64(1), object(6)\n",
      "memory usage: 63.3+ KB\n"
     ]
    }
   ],
   "source": [
    "df.info()"
   ]
  },
  {
   "cell_type": "code",
   "execution_count": 5,
   "id": "706256e5",
   "metadata": {},
   "outputs": [
    {
     "name": "stderr",
     "output_type": "stream",
     "text": [
      "C:\\Users\\ahmad\\AppData\\Local\\Temp\\ipykernel_15412\\2575899969.py:1: FutureWarning: The default value of regex will change from True to False in a future version. In addition, single character regular expressions will *not* be treated as literal strings when regex=True.\n",
      "  df.columns = df.columns.str.replace('*', '').str.lower()\n"
     ]
    },
    {
     "data": {
      "text/plain": [
       "Index(['start_date', 'end_date', 'category', 'start', 'stop', 'miles',\n",
       "       'purpose'],\n",
       "      dtype='object')"
      ]
     },
     "execution_count": 5,
     "metadata": {},
     "output_type": "execute_result"
    }
   ],
   "source": [
    "df.columns = df.columns.str.replace('*', '').str.lower()\n",
    "df.columns"
   ]
  },
  {
   "cell_type": "code",
   "execution_count": 6,
   "id": "e131e2a6",
   "metadata": {},
   "outputs": [
    {
     "data": {
      "text/plain": [
       "start_date    0.000000\n",
       "end_date      0.000865\n",
       "category      0.000865\n",
       "start         0.000865\n",
       "stop          0.000865\n",
       "miles         0.000000\n",
       "purpose       0.435121\n",
       "dtype: float64"
      ]
     },
     "execution_count": 6,
     "metadata": {},
     "output_type": "execute_result"
    }
   ],
   "source": [
    "df.isna().mean()"
   ]
  },
  {
   "cell_type": "code",
   "execution_count": 7,
   "id": "ccc281fa",
   "metadata": {},
   "outputs": [
    {
     "data": {
      "text/html": [
       "<div>\n",
       "<style scoped>\n",
       "    .dataframe tbody tr th:only-of-type {\n",
       "        vertical-align: middle;\n",
       "    }\n",
       "\n",
       "    .dataframe tbody tr th {\n",
       "        vertical-align: top;\n",
       "    }\n",
       "\n",
       "    .dataframe thead th {\n",
       "        text-align: right;\n",
       "    }\n",
       "</style>\n",
       "<table border=\"1\" class=\"dataframe\">\n",
       "  <thead>\n",
       "    <tr style=\"text-align: right;\">\n",
       "      <th></th>\n",
       "      <th>miles</th>\n",
       "    </tr>\n",
       "  </thead>\n",
       "  <tbody>\n",
       "    <tr>\n",
       "      <th>count</th>\n",
       "      <td>1156.000000</td>\n",
       "    </tr>\n",
       "    <tr>\n",
       "      <th>mean</th>\n",
       "      <td>21.115398</td>\n",
       "    </tr>\n",
       "    <tr>\n",
       "      <th>std</th>\n",
       "      <td>359.299007</td>\n",
       "    </tr>\n",
       "    <tr>\n",
       "      <th>min</th>\n",
       "      <td>0.500000</td>\n",
       "    </tr>\n",
       "    <tr>\n",
       "      <th>25%</th>\n",
       "      <td>2.900000</td>\n",
       "    </tr>\n",
       "    <tr>\n",
       "      <th>50%</th>\n",
       "      <td>6.000000</td>\n",
       "    </tr>\n",
       "    <tr>\n",
       "      <th>75%</th>\n",
       "      <td>10.400000</td>\n",
       "    </tr>\n",
       "    <tr>\n",
       "      <th>max</th>\n",
       "      <td>12204.700000</td>\n",
       "    </tr>\n",
       "  </tbody>\n",
       "</table>\n",
       "</div>"
      ],
      "text/plain": [
       "              miles\n",
       "count   1156.000000\n",
       "mean      21.115398\n",
       "std      359.299007\n",
       "min        0.500000\n",
       "25%        2.900000\n",
       "50%        6.000000\n",
       "75%       10.400000\n",
       "max    12204.700000"
      ]
     },
     "execution_count": 7,
     "metadata": {},
     "output_type": "execute_result"
    }
   ],
   "source": [
    "df.describe()"
   ]
  },
  {
   "cell_type": "code",
   "execution_count": 8,
   "id": "dfca1961",
   "metadata": {},
   "outputs": [
    {
     "data": {
      "text/plain": [
       "0.80    12.300\n",
       "0.90    17.100\n",
       "0.95    28.125\n",
       "0.97    44.145\n",
       "Name: miles, dtype: float64"
      ]
     },
     "execution_count": 8,
     "metadata": {},
     "output_type": "execute_result"
    }
   ],
   "source": [
    "df.miles.quantile([0.8,0.9, 0.95, 0.97])"
   ]
  },
  {
   "cell_type": "code",
   "execution_count": 9,
   "id": "aa4e40fe",
   "metadata": {},
   "outputs": [
    {
     "data": {
      "text/plain": [
       "Int64Index([1155], dtype='int64')"
      ]
     },
     "execution_count": 9,
     "metadata": {},
     "output_type": "execute_result"
    }
   ],
   "source": [
    "df[df.miles == df.miles.max()].index"
   ]
  },
  {
   "cell_type": "code",
   "execution_count": 10,
   "id": "5b62f3c1",
   "metadata": {},
   "outputs": [],
   "source": [
    "df.drop(df[df.miles == df.miles.max()].index, inplace=True)"
   ]
  },
  {
   "cell_type": "code",
   "execution_count": 11,
   "id": "60801f3d",
   "metadata": {},
   "outputs": [
    {
     "data": {
      "text/html": [
       "<div>\n",
       "<style scoped>\n",
       "    .dataframe tbody tr th:only-of-type {\n",
       "        vertical-align: middle;\n",
       "    }\n",
       "\n",
       "    .dataframe tbody tr th {\n",
       "        vertical-align: top;\n",
       "    }\n",
       "\n",
       "    .dataframe thead th {\n",
       "        text-align: right;\n",
       "    }\n",
       "</style>\n",
       "<table border=\"1\" class=\"dataframe\">\n",
       "  <thead>\n",
       "    <tr style=\"text-align: right;\">\n",
       "      <th></th>\n",
       "      <th>miles</th>\n",
       "    </tr>\n",
       "  </thead>\n",
       "  <tbody>\n",
       "    <tr>\n",
       "      <th>count</th>\n",
       "      <td>1155.000000</td>\n",
       "    </tr>\n",
       "    <tr>\n",
       "      <th>mean</th>\n",
       "      <td>10.566840</td>\n",
       "    </tr>\n",
       "    <tr>\n",
       "      <th>std</th>\n",
       "      <td>21.579106</td>\n",
       "    </tr>\n",
       "    <tr>\n",
       "      <th>min</th>\n",
       "      <td>0.500000</td>\n",
       "    </tr>\n",
       "    <tr>\n",
       "      <th>25%</th>\n",
       "      <td>2.900000</td>\n",
       "    </tr>\n",
       "    <tr>\n",
       "      <th>50%</th>\n",
       "      <td>6.000000</td>\n",
       "    </tr>\n",
       "    <tr>\n",
       "      <th>75%</th>\n",
       "      <td>10.400000</td>\n",
       "    </tr>\n",
       "    <tr>\n",
       "      <th>max</th>\n",
       "      <td>310.300000</td>\n",
       "    </tr>\n",
       "  </tbody>\n",
       "</table>\n",
       "</div>"
      ],
      "text/plain": [
       "             miles\n",
       "count  1155.000000\n",
       "mean     10.566840\n",
       "std      21.579106\n",
       "min       0.500000\n",
       "25%       2.900000\n",
       "50%       6.000000\n",
       "75%      10.400000\n",
       "max     310.300000"
      ]
     },
     "execution_count": 11,
     "metadata": {},
     "output_type": "execute_result"
    }
   ],
   "source": [
    "df.describe()"
   ]
  },
  {
   "cell_type": "code",
   "execution_count": 12,
   "id": "cf6a43e6",
   "metadata": {},
   "outputs": [
    {
     "data": {
      "text/html": [
       "<div>\n",
       "<style scoped>\n",
       "    .dataframe tbody tr th:only-of-type {\n",
       "        vertical-align: middle;\n",
       "    }\n",
       "\n",
       "    .dataframe tbody tr th {\n",
       "        vertical-align: top;\n",
       "    }\n",
       "\n",
       "    .dataframe thead th {\n",
       "        text-align: right;\n",
       "    }\n",
       "</style>\n",
       "<table border=\"1\" class=\"dataframe\">\n",
       "  <thead>\n",
       "    <tr style=\"text-align: right;\">\n",
       "      <th></th>\n",
       "      <th>start_date</th>\n",
       "      <th>end_date</th>\n",
       "      <th>category</th>\n",
       "      <th>start</th>\n",
       "      <th>stop</th>\n",
       "      <th>purpose</th>\n",
       "    </tr>\n",
       "  </thead>\n",
       "  <tbody>\n",
       "    <tr>\n",
       "      <th>count</th>\n",
       "      <td>1155</td>\n",
       "      <td>1155</td>\n",
       "      <td>1155</td>\n",
       "      <td>1155</td>\n",
       "      <td>1155</td>\n",
       "      <td>653</td>\n",
       "    </tr>\n",
       "    <tr>\n",
       "      <th>unique</th>\n",
       "      <td>1154</td>\n",
       "      <td>1154</td>\n",
       "      <td>2</td>\n",
       "      <td>177</td>\n",
       "      <td>188</td>\n",
       "      <td>10</td>\n",
       "    </tr>\n",
       "    <tr>\n",
       "      <th>top</th>\n",
       "      <td>6/28/2016 23:34</td>\n",
       "      <td>6/28/2016 23:59</td>\n",
       "      <td>Business</td>\n",
       "      <td>Cary</td>\n",
       "      <td>Cary</td>\n",
       "      <td>Meeting</td>\n",
       "    </tr>\n",
       "    <tr>\n",
       "      <th>freq</th>\n",
       "      <td>2</td>\n",
       "      <td>2</td>\n",
       "      <td>1078</td>\n",
       "      <td>201</td>\n",
       "      <td>203</td>\n",
       "      <td>187</td>\n",
       "    </tr>\n",
       "  </tbody>\n",
       "</table>\n",
       "</div>"
      ],
      "text/plain": [
       "             start_date         end_date  category start  stop  purpose\n",
       "count              1155             1155      1155  1155  1155      653\n",
       "unique             1154             1154         2   177   188       10\n",
       "top     6/28/2016 23:34  6/28/2016 23:59  Business  Cary  Cary  Meeting\n",
       "freq                  2                2      1078   201   203      187"
      ]
     },
     "execution_count": 12,
     "metadata": {},
     "output_type": "execute_result"
    }
   ],
   "source": [
    "df.describe(include='object')"
   ]
  },
  {
   "cell_type": "markdown",
   "id": "407db3a1",
   "metadata": {},
   "source": [
    "### Univariate Analysis"
   ]
  },
  {
   "cell_type": "code",
   "execution_count": 13,
   "id": "b9a4ad2a",
   "metadata": {},
   "outputs": [
    {
     "data": {
      "text/plain": [
       "Business    1078\n",
       "Personal      77\n",
       "Name: category, dtype: int64"
      ]
     },
     "execution_count": 13,
     "metadata": {},
     "output_type": "execute_result"
    }
   ],
   "source": [
    "df['category'].value_counts()"
   ]
  },
  {
   "cell_type": "code",
   "execution_count": 14,
   "id": "fdb4fe59",
   "metadata": {},
   "outputs": [
    {
     "data": {
      "text/plain": [
       "177"
      ]
     },
     "execution_count": 14,
     "metadata": {},
     "output_type": "execute_result"
    }
   ],
   "source": [
    "df['start'].nunique()"
   ]
  },
  {
   "cell_type": "code",
   "execution_count": 15,
   "id": "bab14fd0",
   "metadata": {},
   "outputs": [
    {
     "data": {
      "text/plain": [
       "Cary                 203\n",
       "Unknown Location     149\n",
       "Morrisville           84\n",
       "Whitebridge           65\n",
       "Islamabad             58\n",
       "                    ... \n",
       "Daytona Beach          1\n",
       "Sand Lake Commons      1\n",
       "Sky Lake               1\n",
       "Vista East             1\n",
       "Ilukwatta              1\n",
       "Name: stop, Length: 188, dtype: int64"
      ]
     },
     "execution_count": 15,
     "metadata": {},
     "output_type": "execute_result"
    }
   ],
   "source": [
    "df['stop'].value_counts()"
   ]
  },
  {
   "cell_type": "code",
   "execution_count": 16,
   "id": "12544854",
   "metadata": {},
   "outputs": [
    {
     "data": {
      "text/plain": [
       "Meeting            187\n",
       "Meal/Entertain     160\n",
       "Errand/Supplies    128\n",
       "Customer Visit     101\n",
       "Temporary Site      50\n",
       "Between Offices     18\n",
       "Moving               4\n",
       "Airport/Travel       3\n",
       "Charity ($)          1\n",
       "Commute              1\n",
       "Name: purpose, dtype: int64"
      ]
     },
     "execution_count": 16,
     "metadata": {},
     "output_type": "execute_result"
    }
   ],
   "source": [
    "df['purpose'].value_counts()"
   ]
  },
  {
   "cell_type": "code",
   "execution_count": 17,
   "id": "6bb25a49",
   "metadata": {},
   "outputs": [
    {
     "data": {
      "text/plain": [
       "269    310.3\n",
       "270    201.0\n",
       "881    195.9\n",
       "776    195.6\n",
       "546    195.3\n",
       "559    180.2\n",
       "297    174.2\n",
       "299    159.3\n",
       "727    156.9\n",
       "268    144.0\n",
       "Name: miles, dtype: float64"
      ]
     },
     "execution_count": 17,
     "metadata": {},
     "output_type": "execute_result"
    }
   ],
   "source": [
    "df['miles'].nlargest(10)"
   ]
  },
  {
   "cell_type": "markdown",
   "id": "fec1d5f4",
   "metadata": {},
   "source": [
    "### Convert the MILES TO KM"
   ]
  },
  {
   "cell_type": "code",
   "execution_count": 18,
   "id": "c9bbc7fa",
   "metadata": {},
   "outputs": [],
   "source": [
    "df['km'] = df['miles'] * 1.60934"
   ]
  },
  {
   "cell_type": "code",
   "execution_count": 19,
   "id": "82a3956d",
   "metadata": {},
   "outputs": [],
   "source": [
    "df.drop('miles',axis=1,inplace = True)"
   ]
  },
  {
   "cell_type": "code",
   "execution_count": 20,
   "id": "d5b0ca1a",
   "metadata": {},
   "outputs": [
    {
     "data": {
      "text/plain": [
       "15.932466    28\n",
       "4.988954     26\n",
       "3.379614     19\n",
       "16.737136    19\n",
       "4.828020     19\n",
       "             ..\n",
       "75.478046     1\n",
       "64.695468     1\n",
       "26.715044     1\n",
       "31.060262     1\n",
       "77.570188     1\n",
       "Name: km, Length: 256, dtype: int64"
      ]
     },
     "execution_count": 20,
     "metadata": {},
     "output_type": "execute_result"
    }
   ],
   "source": [
    "df['km'].value_counts()"
   ]
  },
  {
   "cell_type": "code",
   "execution_count": 21,
   "id": "b7ae219f",
   "metadata": {},
   "outputs": [],
   "source": [
    "max_index= df['km'].argmax()"
   ]
  },
  {
   "cell_type": "code",
   "execution_count": 22,
   "id": "78e387d8",
   "metadata": {},
   "outputs": [
    {
     "data": {
      "text/plain": [
       "269"
      ]
     },
     "execution_count": 22,
     "metadata": {},
     "output_type": "execute_result"
    }
   ],
   "source": [
    "max_index"
   ]
  },
  {
   "cell_type": "code",
   "execution_count": 23,
   "id": "7a6a9019",
   "metadata": {},
   "outputs": [
    {
     "data": {
      "text/html": [
       "<div>\n",
       "<style scoped>\n",
       "    .dataframe tbody tr th:only-of-type {\n",
       "        vertical-align: middle;\n",
       "    }\n",
       "\n",
       "    .dataframe tbody tr th {\n",
       "        vertical-align: top;\n",
       "    }\n",
       "\n",
       "    .dataframe thead th {\n",
       "        text-align: right;\n",
       "    }\n",
       "</style>\n",
       "<table border=\"1\" class=\"dataframe\">\n",
       "  <thead>\n",
       "    <tr style=\"text-align: right;\">\n",
       "      <th></th>\n",
       "      <th>start_date</th>\n",
       "      <th>end_date</th>\n",
       "      <th>category</th>\n",
       "      <th>start</th>\n",
       "      <th>stop</th>\n",
       "      <th>purpose</th>\n",
       "      <th>km</th>\n",
       "    </tr>\n",
       "  </thead>\n",
       "  <tbody>\n",
       "    <tr>\n",
       "      <th>44</th>\n",
       "      <td>1/26/2016 17:27</td>\n",
       "      <td>1/26/2016 17:29</td>\n",
       "      <td>Business</td>\n",
       "      <td>Cary</td>\n",
       "      <td>Cary</td>\n",
       "      <td>Errand/Supplies</td>\n",
       "      <td>0.80467</td>\n",
       "    </tr>\n",
       "    <tr>\n",
       "      <th>120</th>\n",
       "      <td>2/17/2016 16:38</td>\n",
       "      <td>2/17/2016 16:43</td>\n",
       "      <td>Business</td>\n",
       "      <td>Katunayaka</td>\n",
       "      <td>Katunayaka</td>\n",
       "      <td>Errand/Supplies</td>\n",
       "      <td>0.80467</td>\n",
       "    </tr>\n",
       "    <tr>\n",
       "      <th>420</th>\n",
       "      <td>6/8/2016 17:16</td>\n",
       "      <td>6/8/2016 17:18</td>\n",
       "      <td>Business</td>\n",
       "      <td>Soho</td>\n",
       "      <td>Tribeca</td>\n",
       "      <td>Errand/Supplies</td>\n",
       "      <td>0.80467</td>\n",
       "    </tr>\n",
       "  </tbody>\n",
       "</table>\n",
       "</div>"
      ],
      "text/plain": [
       "          start_date         end_date  category       start        stop  \\\n",
       "44   1/26/2016 17:27  1/26/2016 17:29  Business        Cary        Cary   \n",
       "120  2/17/2016 16:38  2/17/2016 16:43  Business  Katunayaka  Katunayaka   \n",
       "420   6/8/2016 17:16   6/8/2016 17:18  Business        Soho     Tribeca   \n",
       "\n",
       "             purpose       km  \n",
       "44   Errand/Supplies  0.80467  \n",
       "120  Errand/Supplies  0.80467  \n",
       "420  Errand/Supplies  0.80467  "
      ]
     },
     "execution_count": 23,
     "metadata": {},
     "output_type": "execute_result"
    }
   ],
   "source": [
    "df[df['km'] == df['km'].min()]"
   ]
  },
  {
   "cell_type": "code",
   "execution_count": 24,
   "id": "2f03c75e",
   "metadata": {},
   "outputs": [
    {
     "data": {
      "text/plain": [
       "44"
      ]
     },
     "execution_count": 24,
     "metadata": {},
     "output_type": "execute_result"
    }
   ],
   "source": [
    "df['km'].argmin()"
   ]
  },
  {
   "cell_type": "code",
   "execution_count": 25,
   "id": "1882fe51",
   "metadata": {},
   "outputs": [
    {
     "data": {
      "application/vnd.plotly.v1+json": {
       "config": {
        "plotlyServerURL": "https://plot.ly"
       },
       "data": [
        {
         "alignmentgroup": "True",
         "bingroup": "x",
         "hovertemplate": "km=%{x}<br>count=%{y}<extra></extra>",
         "legendgroup": "",
         "marker": {
          "color": "#636efa",
          "pattern": {
           "shape": ""
          }
         },
         "name": "",
         "nbinsx": 100,
         "offsetgroup": "",
         "orientation": "v",
         "showlegend": false,
         "type": "histogram",
         "x": [
          8.207633999999999,
          8.0467,
          7.724831999999999,
          7.563898,
          102.51495800000001,
          6.9201619999999995,
          11.426314,
          1.2874720000000002,
          13.357522000000001,
          26.55411,
          17.380872,
          12.07005,
          9.977908000000001,
          10.299776000000001,
          2.5749440000000003,
          2.735878,
          3.057746,
          3.057746,
          6.43736,
          2.896812,
          3.8624159999999996,
          3.21868,
          24.301033999999998,
          18.024607999999997,
          18.990212,
          35.244546,
          6.276426,
          12.87472,
          16.737136,
          16.737136,
          7.724831999999999,
          7.563898,
          11.587248,
          12.230984,
          27.519714,
          24.301033999999998,
          64.695468,
          2.5749440000000003,
          3.8624159999999996,
          1.60934,
          3.21868,
          3.7014819999999995,
          3.057746,
          2.2530759999999996,
          0.80467,
          2.896812,
          30.094658,
          5.471756,
          4.345218,
          20.760486,
          30.57746,
          23.657297999999997,
          25.266638,
          7.402963999999999,
          8.368568,
          16.737136,
          16.254334,
          9.334171999999999,
          8.85137,
          9.173238,
          9.173238,
          31.221196,
          37.497622,
          6.276426,
          13.357522000000001,
          9.65604,
          2.5749440000000003,
          8.368568,
          15.610598,
          2.5749440000000003,
          1.7702740000000001,
          2.5749440000000003,
          14.48406,
          12.391918,
          16.737136,
          16.737136,
          18.346476,
          14.48406,
          5.149888000000001,
          9.012303999999999,
          9.173238,
          9.816974,
          9.816974,
          6.9201619999999995,
          4.345218,
          8.529501999999999,
          4.82802,
          8.207633999999999,
          2.41401,
          9.816974,
          9.816974,
          27.841582000000002,
          9.173238,
          21.72609,
          9.816974,
          13.67939,
          4.184284,
          27.35878,
          28.96812,
          13.518456,
          18.50741,
          14.323126,
          4.345218,
          2.896812,
          13.035654,
          3.21868,
          20.92142,
          22.369826,
          70.328158,
          22.691694,
          4.184284,
          7.24203,
          2.735878,
          2.896812,
          9.65604,
          1.7702740000000001,
          5.793624,
          23.657297999999997,
          2.735878,
          34.439876,
          0.80467,
          37.81949,
          20.438617999999998,
          9.65604,
          8.368568,
          16.0934,
          29.450922000000002,
          18.024607999999997,
          12.230984,
          2.41401,
          1.60934,
          11.748182,
          5.63269,
          6.759228,
          21.887024,
          4.02335,
          23.174496,
          4.82802,
          2.41401,
          29.611855999999996,
          37.175754000000005,
          26.55411,
          5.149888000000001,
          12.391918,
          23.33543,
          3.8624159999999996,
          7.402963999999999,
          14.162192000000001,
          13.357522000000001,
          36.532018,
          20.92142,
          13.035654,
          3.5405480000000003,
          15.610598,
          32.1868,
          13.035654,
          2.41401,
          2.735878,
          4.9889540000000006,
          5.149888000000001,
          9.65604,
          9.334171999999999,
          10.138842,
          2.735878,
          17.059003999999998,
          15.932466,
          3.057746,
          6.759228,
          3.21868,
          12.391918,
          10.943512,
          3.379614,
          6.115492,
          9.012303999999999,
          4.184284,
          10.621644,
          12.87472,
          12.87472,
          3.5405480000000003,
          3.7014819999999995,
          8.368568,
          12.230984,
          27.841582000000002,
          15.932466,
          15.932466,
          16.737136,
          17.541806,
          25.266638,
          7.885766,
          1.2874720000000002,
          21.72609,
          3.057746,
          3.21868,
          10.46071,
          6.759228,
          5.63269,
          12.552852,
          12.552852,
          6.276426,
          4.506151999999999,
          19.955816000000002,
          9.495106,
          15.127796,
          19.151146,
          11.587248,
          12.230984,
          2.5749440000000003,
          13.518456,
          20.599552000000003,
          3.7014819999999995,
          2.5749440000000003,
          3.21868,
          1.2874720000000002,
          1.9312079999999998,
          1.60934,
          3.379614,
          3.5405480000000003,
          3.057746,
          9.173238,
          13.518456,
          9.977908000000001,
          16.89807,
          11.587248,
          20.11675,
          3.21868,
          4.345218,
          3.21868,
          4.506151999999999,
          2.735878,
          3.21868,
          3.379614,
          2.735878,
          218.87024,
          48.602067999999996,
          24.94477,
          7.885766,
          20.277684,
          16.737136,
          1.7702740000000001,
          1.7702740000000001,
          21.243288,
          1.60934,
          14.805927999999998,
          15.127796,
          19.31208,
          56.487834,
          58.74091,
          4.9889540000000006,
          3.379614,
          1.9312079999999998,
          12.07005,
          91.73238,
          9.495106,
          9.977908000000001,
          16.737136,
          1.9312079999999998,
          15.449663999999999,
          1.60934,
          1.448406,
          14.162192000000001,
          41.199104000000005,
          37.01482,
          13.035654,
          2.2530759999999996,
          2.735878,
          2.5749440000000003,
          3.21868,
          3.5405480000000003,
          231.74496,
          499.37820200000004,
          323.47734,
          10.782578,
          14.162192000000001,
          1.9312079999999998,
          3.379614,
          10.621644,
          9.816974,
          11.104446000000001,
          11.748182,
          5.793624,
          43.774048,
          41.360037999999996,
          21.887024,
          9.977908000000001,
          9.65604,
          22.208892000000002,
          46.348992,
          25.910374,
          26.393175999999997,
          17.70274,
          24.94477,
          32.669602,
          1.1265379999999998,
          8.85137,
          8.207633999999999,
          124.40198199999999,
          129.55187,
          280.34702799999997,
          231.74496,
          256.367862,
          12.713786,
          12.87472,
          9.816974,
          9.816974,
          16.89807,
          14.001257999999998,
          2.896812,
          30.738394000000003,
          29.933724,
          4.506151999999999,
          14.323126,
          12.07005,
          25.588506,
          10.46071,
          24.622902,
          22.047957999999998,
          19.151146,
          2.2530759999999996,
          24.461968,
          9.65604,
          9.816974,
          13.196587999999998,
          12.87472,
          21.887024,
          36.21015,
          16.737136,
          16.0934,
          9.65604,
          10.46071,
          4.9889540000000006,
          3.057746,
          6.759228,
          7.885766,
          7.724831999999999,
          19.955816000000002,
          52.786351999999994,
          8.85137,
          15.932466,
          16.0934,
          22.852628,
          29.289987999999997,
          12.391918,
          10.943512,
          3.379614,
          3.7014819999999995,
          9.977908000000001,
          12.07005,
          4.9889540000000006,
          3.5405480000000003,
          6.276426,
          4.02335,
          14.001257999999998,
          23.33543,
          7.24203,
          8.0467,
          22.852628,
          4.667085999999999,
          20.760486,
          23.174496,
          27.35878,
          12.713786,
          13.518456,
          32.99147,
          15.771532,
          28.324384000000002,
          14.966862,
          12.713786,
          41.199104000000005,
          13.035654,
          4.9889540000000006,
          4.9889540000000006,
          4.506151999999999,
          4.345218,
          3.057746,
          13.518456,
          12.230984,
          4.667085999999999,
          18.024607999999997,
          13.196587999999998,
          4.82802,
          4.02335,
          5.793624,
          5.793624,
          7.24203,
          1.9312079999999998,
          2.735878,
          7.563898,
          9.816974,
          18.185542,
          23.979166,
          22.53076,
          2.896812,
          10.782578,
          15.449663999999999,
          16.737136,
          15.932466,
          9.65604,
          5.310822,
          4.9889540000000006,
          2.735878,
          6.43736,
          12.552852,
          12.552852,
          6.115492,
          4.02335,
          15.932466,
          15.932466,
          4.82802,
          3.8624159999999996,
          9.173238,
          11.587248,
          16.737136,
          15.932466,
          16.737136,
          15.932466,
          14.001257999999998,
          35.888282000000004,
          5.310822,
          1.1265379999999998,
          4.02335,
          0.80467,
          1.448406,
          7.724831999999999,
          26.232242,
          16.737136,
          15.932466,
          5.9545580000000005,
          7.402963999999999,
          2.735878,
          16.737136,
          15.932466,
          4.02335,
          6.9201619999999995,
          4.506151999999999,
          13.518456,
          21.243288,
          6.276426,
          8.207633999999999,
          8.368568,
          15.771532,
          18.668343999999998,
          8.207633999999999,
          14.966862,
          19.955816000000002,
          3.057746,
          10.299776000000001,
          8.85137,
          2.41401,
          23.33543,
          4.345218,
          24.1401,
          20.760486,
          21.887024,
          19.633948,
          14.001257999999998,
          9.65604,
          9.495106,
          31.060262,
          26.715044000000002,
          11.426314,
          3.379614,
          13.840323999999999,
          14.48406,
          4.9889540000000006,
          13.518456,
          20.599552000000003,
          7.24203,
          18.990212,
          1.7702740000000001,
          27.35878,
          2.735878,
          24.94477,
          2.5749440000000003,
          2.41401,
          20.277684,
          7.724831999999999,
          3.5405480000000003,
          20.92142,
          75.47804599999999,
          4.02335,
          13.840323999999999,
          8.368568,
          12.230984,
          2.896812,
          7.563898,
          4.506151999999999,
          48.2802,
          7.0810960000000005,
          1.60934,
          13.196587999999998,
          16.737136,
          15.932466,
          15.932466,
          11.748182,
          11.909116000000001,
          2.5749440000000003,
          2.896812,
          16.737136,
          15.932466,
          15.932466,
          15.932466,
          21.404222,
          18.185542,
          16.89807,
          15.932466,
          16.254334,
          15.932466,
          4.9889540000000006,
          4.9889540000000006,
          15.932466,
          15.932466,
          14.162192000000001,
          14.001257999999998,
          18.990212,
          1.9312079999999998,
          15.932466,
          0.9656039999999999,
          15.932466,
          13.840323999999999,
          10.138842,
          15.932466,
          15.932466,
          5.310822,
          4.9889540000000006,
          12.713786,
          14.323126,
          20.599552000000003,
          12.391918,
          11.26538,
          20.11675,
          21.243288,
          20.92142,
          7.885766,
          13.67939,
          2.092142,
          2.896812,
          21.887024,
          21.565156,
          19.794882,
          2.2530759999999996,
          14.001257999999998,
          37.81949,
          3.5405480000000003,
          7.0810960000000005,
          5.310822,
          18.990212,
          314.304102,
          13.357522000000001,
          5.149888000000001,
          36.049215999999994,
          19.633948,
          7.24203,
          45.222454,
          6.115492,
          67.43134599999999,
          38.302292,
          20.92142,
          7.0810960000000005,
          24.301033999999998,
          290.003068,
          6.598293999999999,
          9.816974,
          5.310822,
          7.563898,
          11.587248,
          8.85137,
          5.310822,
          1.448406,
          6.115492,
          10.299776000000001,
          4.82802,
          14.001257999999998,
          6.276426,
          7.724831999999999,
          4.506151999999999,
          2.2530759999999996,
          2.2530759999999996,
          4.345218,
          3.7014819999999995,
          5.9545580000000005,
          4.667085999999999,
          6.115492,
          8.207633999999999,
          14.644993999999999,
          12.87472,
          15.932466,
          9.816974,
          19.633948,
          12.87472,
          6.43736,
          15.28873,
          4.82802,
          10.138842,
          16.737136,
          15.932466,
          2.41401,
          7.885766,
          12.713786,
          2.735878,
          3.5405480000000003,
          3.379614,
          4.02335,
          4.02335,
          4.506151999999999,
          23.657297999999997,
          23.496364,
          3.7014819999999995,
          3.5405480000000003,
          3.5405480000000003,
          22.53076,
          21.404222,
          2.896812,
          9.977908000000001,
          2.092142,
          3.057746,
          11.104446000000001,
          7.402963999999999,
          4.506151999999999,
          14.644993999999999,
          13.035654,
          13.518456,
          7.885766,
          1.60934,
          1.60934,
          3.21868,
          1.7702740000000001,
          2.41401,
          2.092142,
          2.896812,
          2.41401,
          10.621644,
          12.87472,
          4.345218,
          4.345218,
          4.02335,
          4.02335,
          8.368568,
          6.43736,
          4.345218,
          7.724831999999999,
          5.149888000000001,
          11.104446000000001,
          23.979166,
          28.002515999999996,
          20.760486,
          24.622902,
          1.60934,
          9.65604,
          3.5405480000000003,
          7.0810960000000005,
          4.506151999999999,
          51.016078,
          51.337945999999995,
          3.057746,
          2.896812,
          13.518456,
          25.105704,
          22.691694,
          25.266638,
          41.681906,
          12.713786,
          4.345218,
          8.85137,
          9.173238,
          1.9312079999999998,
          9.173238,
          26.071308,
          4.184284,
          19.473014,
          2.2530759999999996,
          10.299776000000001,
          11.748182,
          8.529501999999999,
          8.85137,
          12.391918,
          12.230984,
          12.230984,
          5.310822,
          10.46071,
          3.21868,
          9.173238,
          5.149888000000001,
          20.11675,
          12.230984,
          12.391918,
          19.633948,
          2.2530759999999996,
          32.508668,
          15.771532,
          10.138842,
          7.885766,
          2.41401,
          17.541806,
          30.57746,
          30.57746,
          12.713786,
          6.598293999999999,
          30.094658,
          14.001257999999998,
          12.07005,
          12.391918,
          7.0810960000000005,
          8.0467,
          3.057746,
          12.713786,
          28.485318,
          40.555368,
          154.818508,
          56.3269,
          8.85137,
          81.110736,
          14.805927999999998,
          11.748182,
          8.0467,
          6.115492,
          6.276426,
          11.909116000000001,
          2.41401,
          12.713786,
          4.667085999999999,
          5.471756,
          6.115492,
          9.495106,
          15.449663999999999,
          11.26538,
          1.448406,
          139.368844,
          252.505446,
          16.254334,
          9.977908000000001,
          8.529501999999999,
          19.473014,
          17.380872,
          6.9201619999999995,
          4.02335,
          9.173238,
          4.506151999999999,
          6.43736,
          8.85137,
          4.184284,
          3.379614,
          14.162192000000001,
          7.0810960000000005,
          8.529501999999999,
          20.92142,
          20.92142,
          17.059003999999998,
          3.5405480000000003,
          14.805927999999998,
          20.760486,
          27.680647999999998,
          111.20539399999998,
          4.506151999999999,
          13.840323999999999,
          15.771532,
          5.793624,
          2.735878,
          18.50741,
          1.1265379999999998,
          1.1265379999999998,
          1.448406,
          2.5749440000000003,
          15.127796,
          29.289987999999997,
          16.89807,
          9.173238,
          28.96812,
          29.450922000000002,
          26.55411,
          15.449663999999999,
          4.667085999999999,
          13.196587999999998,
          3.8624159999999996,
          9.334171999999999,
          15.771532,
          11.748182,
          314.786904,
          32.99147,
          20.277684,
          60.672118000000005,
          26.875978,
          16.89807,
          4.506151999999999,
          2.5749440000000003,
          20.438617999999998,
          46.027124,
          24.301033999999998,
          28.807185999999998,
          181.211684,
          29.611855999999996,
          22.208892000000002,
          53.430088000000005,
          4.184284,
          9.334171999999999,
          13.357522000000001,
          3.8624159999999996,
          4.9889540000000006,
          9.816974,
          5.793624,
          12.87472,
          12.391918,
          2.735878,
          15.28873,
          27.519714,
          29.611855999999996,
          15.771532,
          1.60934,
          1.1265379999999998,
          3.7014819999999995,
          17.541806,
          20.438617999999998,
          19.955816000000002,
          6.115492,
          27.35878,
          9.977908000000001,
          4.9889540000000006,
          16.89807,
          13.035654,
          4.9889540000000006,
          3.379614,
          6.9201619999999995,
          4.02335,
          33.152404000000004,
          28.324384000000002,
          9.012303999999999,
          5.310822,
          8.529501999999999,
          5.310822,
          5.310822,
          12.713786,
          20.92142,
          4.82802,
          4.82802,
          6.115492,
          15.28873,
          2.735878,
          17.380872,
          6.598293999999999,
          3.5405480000000003,
          7.402963999999999,
          4.9889540000000006,
          76.765518,
          71.77656400000001,
          21.243288,
          14.001257999999998,
          27.680647999999998,
          22.53076,
          45.222454,
          45.383388,
          4.9889540000000006,
          4.9889540000000006,
          26.393175999999997,
          24.783836,
          3.5405480000000003,
          18.024607999999997,
          3.5405480000000003,
          5.793624,
          5.793624,
          7.885766,
          14.001257999999998,
          3.379614,
          3.379614,
          13.518456,
          9.495106,
          19.473014,
          6.276426,
          9.977908000000001,
          16.737136,
          15.932466,
          172.19938,
          215.007824,
          147.737412,
          65.500138,
          121.827038,
          47.958332,
          26.232242,
          10.46071,
          10.138842,
          10.621644,
          24.461968,
          110.078856,
          315.269706,
          72.742168,
          5.149888000000001,
          16.576202000000002,
          21.082354,
          15.449663999999999,
          26.55411,
          20.599552000000003,
          1.9312079999999998,
          1.60934,
          6.598293999999999,
          6.759228,
          2.2530759999999996,
          2.896812,
          13.67939,
          8.0467,
          6.115492,
          4.02335,
          3.8624159999999996,
          2.2530759999999996,
          2.896812,
          4.9889540000000006,
          4.9889540000000006,
          12.713786,
          6.115492,
          6.9201619999999995,
          6.276426,
          3.5405480000000003,
          4.506151999999999,
          3.5405480000000003,
          3.8624159999999996,
          4.506151999999999,
          70.650026,
          2.896812,
          5.310822,
          18.990212,
          21.243288,
          19.633948,
          18.185542,
          5.793624,
          4.82802,
          18.346476,
          1.448406,
          9.977908000000001,
          1.1265379999999998,
          8.85137,
          20.438617999999998,
          4.184284,
          1.7702740000000001,
          20.277684,
          1.9312079999999998,
          1.7702740000000001,
          15.932466,
          9.65604,
          1.2874720000000002,
          73.868706,
          6.43736,
          4.02335,
          58.901844000000004,
          4.667085999999999,
          4.184284,
          3.7014819999999995,
          10.299776000000001,
          2.2530759999999996,
          0.9656039999999999,
          9.495106,
          1.2874720000000002,
          2.092142,
          5.9545580000000005,
          3.7014819999999995,
          4.184284,
          3.057746,
          3.379614,
          6.43736,
          1.448406,
          1.448406,
          3.8624159999999996,
          3.057746,
          3.057746,
          71.77656400000001,
          70.167224,
          4.02335,
          5.9545580000000005,
          8.207633999999999,
          15.610598,
          18.990212,
          3.7014819999999995,
          4.9889540000000006,
          26.232242,
          4.9889540000000006,
          8.368568,
          9.816974,
          16.576202000000002,
          16.89807,
          2.41401,
          2.896812,
          8.690436,
          8.690436,
          63.086128,
          10.299776000000001,
          4.345218,
          29.77279,
          4.02335,
          3.379614,
          10.782578,
          5.63269,
          5.471756,
          8.85137,
          6.598293999999999,
          20.438617999999998,
          4.82802,
          5.63269,
          9.495106,
          3.057746,
          5.310822,
          2.092142,
          16.576202000000002,
          17.863674,
          2.2530759999999996,
          8.207633999999999,
          14.48406,
          21.404222,
          4.02335,
          5.310822,
          4.667085999999999,
          13.67939,
          10.782578,
          4.9889540000000006,
          8.85137,
          8.85137,
          4.667085999999999,
          4.667085999999999,
          8.207633999999999,
          8.529501999999999,
          5.310822,
          4.82802,
          10.621644,
          2.896812,
          4.82802,
          4.667085999999999,
          5.471756,
          6.598293999999999,
          6.115492,
          10.621644,
          6.43736,
          11.26538,
          11.104446000000001,
          5.471756,
          5.471756,
          3.21868,
          3.21868,
          8.207633999999999,
          14.162192000000001,
          9.012303999999999,
          30.416525999999998,
          25.105704,
          25.105704,
          4.82802,
          4.9889540000000006,
          4.82802,
          7.724831999999999,
          3.379614,
          4.9889540000000006,
          7.0810960000000005,
          7.563898,
          4.82802,
          4.82802,
          6.759228,
          6.598293999999999,
          5.471756,
          5.310822,
          4.82802,
          4.9889540000000006,
          17.059003999999998,
          7.724831999999999,
          8.529501999999999,
          7.885766,
          16.415267999999998,
          14.805927999999998,
          12.391918,
          9.495106,
          1.1265379999999998,
          2.092142,
          4.02335,
          8.529501999999999,
          8.690436,
          16.415267999999998,
          11.587248,
          3.5405480000000003,
          17.70274,
          19.31208,
          5.310822,
          31.221196,
          2.735878,
          9.173238,
          2.896812,
          2.2530759999999996,
          16.576202000000002,
          18.50741,
          7.885766,
          5.63269,
          26.071308,
          3.21868,
          3.379614,
          3.379614,
          11.587248,
          19.31208,
          165.76202,
          51.98168199999999,
          8.529501999999999,
          18.668343999999998,
          37.336687999999995,
          5.149888000000001,
          19.794882,
          22.53076,
          3.379614,
          3.379614,
          4.82802,
          9.977908000000001,
          15.449663999999999,
          2.092142,
          11.426314,
          10.138842,
          17.219938,
          8.529501999999999,
          2.5749440000000003,
          5.793624,
          2.735878,
          4.667085999999999,
          0.9656039999999999,
          0.9656039999999999,
          3.7014819999999995,
          3.7014819999999995,
          5.149888000000001,
          9.977908000000001,
          12.391918,
          6.115492,
          12.713786,
          7.885766,
          8.0467,
          0.9656039999999999,
          4.9889540000000006,
          12.713786,
          8.85137,
          16.576202000000002,
          16.737136,
          3.21868,
          13.67939,
          7.0810960000000005,
          6.115492,
          8.207633999999999,
          6.115492,
          18.668343999999998,
          19.151146,
          2.2530759999999996,
          1.7702740000000001,
          6.598293999999999,
          9.816974,
          2.092142,
          4.82802,
          6.598293999999999,
          11.587248,
          10.299776000000001,
          20.760486,
          4.506151999999999,
          4.667085999999999,
          7.402963999999999,
          7.402963999999999,
          1.2874720000000002,
          1.1265379999999998,
          6.276426,
          26.071308,
          10.299776000000001,
          77.570188
         ],
         "xaxis": "x",
         "yaxis": "y"
        }
       ],
       "layout": {
        "barmode": "relative",
        "legend": {
         "tracegroupgap": 0
        },
        "margin": {
         "t": 60
        },
        "template": {
         "data": {
          "bar": [
           {
            "error_x": {
             "color": "#2a3f5f"
            },
            "error_y": {
             "color": "#2a3f5f"
            },
            "marker": {
             "line": {
              "color": "#E5ECF6",
              "width": 0.5
             },
             "pattern": {
              "fillmode": "overlay",
              "size": 10,
              "solidity": 0.2
             }
            },
            "type": "bar"
           }
          ],
          "barpolar": [
           {
            "marker": {
             "line": {
              "color": "#E5ECF6",
              "width": 0.5
             },
             "pattern": {
              "fillmode": "overlay",
              "size": 10,
              "solidity": 0.2
             }
            },
            "type": "barpolar"
           }
          ],
          "carpet": [
           {
            "aaxis": {
             "endlinecolor": "#2a3f5f",
             "gridcolor": "white",
             "linecolor": "white",
             "minorgridcolor": "white",
             "startlinecolor": "#2a3f5f"
            },
            "baxis": {
             "endlinecolor": "#2a3f5f",
             "gridcolor": "white",
             "linecolor": "white",
             "minorgridcolor": "white",
             "startlinecolor": "#2a3f5f"
            },
            "type": "carpet"
           }
          ],
          "choropleth": [
           {
            "colorbar": {
             "outlinewidth": 0,
             "ticks": ""
            },
            "type": "choropleth"
           }
          ],
          "contour": [
           {
            "colorbar": {
             "outlinewidth": 0,
             "ticks": ""
            },
            "colorscale": [
             [
              0,
              "#0d0887"
             ],
             [
              0.1111111111111111,
              "#46039f"
             ],
             [
              0.2222222222222222,
              "#7201a8"
             ],
             [
              0.3333333333333333,
              "#9c179e"
             ],
             [
              0.4444444444444444,
              "#bd3786"
             ],
             [
              0.5555555555555556,
              "#d8576b"
             ],
             [
              0.6666666666666666,
              "#ed7953"
             ],
             [
              0.7777777777777778,
              "#fb9f3a"
             ],
             [
              0.8888888888888888,
              "#fdca26"
             ],
             [
              1,
              "#f0f921"
             ]
            ],
            "type": "contour"
           }
          ],
          "contourcarpet": [
           {
            "colorbar": {
             "outlinewidth": 0,
             "ticks": ""
            },
            "type": "contourcarpet"
           }
          ],
          "heatmap": [
           {
            "colorbar": {
             "outlinewidth": 0,
             "ticks": ""
            },
            "colorscale": [
             [
              0,
              "#0d0887"
             ],
             [
              0.1111111111111111,
              "#46039f"
             ],
             [
              0.2222222222222222,
              "#7201a8"
             ],
             [
              0.3333333333333333,
              "#9c179e"
             ],
             [
              0.4444444444444444,
              "#bd3786"
             ],
             [
              0.5555555555555556,
              "#d8576b"
             ],
             [
              0.6666666666666666,
              "#ed7953"
             ],
             [
              0.7777777777777778,
              "#fb9f3a"
             ],
             [
              0.8888888888888888,
              "#fdca26"
             ],
             [
              1,
              "#f0f921"
             ]
            ],
            "type": "heatmap"
           }
          ],
          "heatmapgl": [
           {
            "colorbar": {
             "outlinewidth": 0,
             "ticks": ""
            },
            "colorscale": [
             [
              0,
              "#0d0887"
             ],
             [
              0.1111111111111111,
              "#46039f"
             ],
             [
              0.2222222222222222,
              "#7201a8"
             ],
             [
              0.3333333333333333,
              "#9c179e"
             ],
             [
              0.4444444444444444,
              "#bd3786"
             ],
             [
              0.5555555555555556,
              "#d8576b"
             ],
             [
              0.6666666666666666,
              "#ed7953"
             ],
             [
              0.7777777777777778,
              "#fb9f3a"
             ],
             [
              0.8888888888888888,
              "#fdca26"
             ],
             [
              1,
              "#f0f921"
             ]
            ],
            "type": "heatmapgl"
           }
          ],
          "histogram": [
           {
            "marker": {
             "pattern": {
              "fillmode": "overlay",
              "size": 10,
              "solidity": 0.2
             }
            },
            "type": "histogram"
           }
          ],
          "histogram2d": [
           {
            "colorbar": {
             "outlinewidth": 0,
             "ticks": ""
            },
            "colorscale": [
             [
              0,
              "#0d0887"
             ],
             [
              0.1111111111111111,
              "#46039f"
             ],
             [
              0.2222222222222222,
              "#7201a8"
             ],
             [
              0.3333333333333333,
              "#9c179e"
             ],
             [
              0.4444444444444444,
              "#bd3786"
             ],
             [
              0.5555555555555556,
              "#d8576b"
             ],
             [
              0.6666666666666666,
              "#ed7953"
             ],
             [
              0.7777777777777778,
              "#fb9f3a"
             ],
             [
              0.8888888888888888,
              "#fdca26"
             ],
             [
              1,
              "#f0f921"
             ]
            ],
            "type": "histogram2d"
           }
          ],
          "histogram2dcontour": [
           {
            "colorbar": {
             "outlinewidth": 0,
             "ticks": ""
            },
            "colorscale": [
             [
              0,
              "#0d0887"
             ],
             [
              0.1111111111111111,
              "#46039f"
             ],
             [
              0.2222222222222222,
              "#7201a8"
             ],
             [
              0.3333333333333333,
              "#9c179e"
             ],
             [
              0.4444444444444444,
              "#bd3786"
             ],
             [
              0.5555555555555556,
              "#d8576b"
             ],
             [
              0.6666666666666666,
              "#ed7953"
             ],
             [
              0.7777777777777778,
              "#fb9f3a"
             ],
             [
              0.8888888888888888,
              "#fdca26"
             ],
             [
              1,
              "#f0f921"
             ]
            ],
            "type": "histogram2dcontour"
           }
          ],
          "mesh3d": [
           {
            "colorbar": {
             "outlinewidth": 0,
             "ticks": ""
            },
            "type": "mesh3d"
           }
          ],
          "parcoords": [
           {
            "line": {
             "colorbar": {
              "outlinewidth": 0,
              "ticks": ""
             }
            },
            "type": "parcoords"
           }
          ],
          "pie": [
           {
            "automargin": true,
            "type": "pie"
           }
          ],
          "scatter": [
           {
            "fillpattern": {
             "fillmode": "overlay",
             "size": 10,
             "solidity": 0.2
            },
            "type": "scatter"
           }
          ],
          "scatter3d": [
           {
            "line": {
             "colorbar": {
              "outlinewidth": 0,
              "ticks": ""
             }
            },
            "marker": {
             "colorbar": {
              "outlinewidth": 0,
              "ticks": ""
             }
            },
            "type": "scatter3d"
           }
          ],
          "scattercarpet": [
           {
            "marker": {
             "colorbar": {
              "outlinewidth": 0,
              "ticks": ""
             }
            },
            "type": "scattercarpet"
           }
          ],
          "scattergeo": [
           {
            "marker": {
             "colorbar": {
              "outlinewidth": 0,
              "ticks": ""
             }
            },
            "type": "scattergeo"
           }
          ],
          "scattergl": [
           {
            "marker": {
             "colorbar": {
              "outlinewidth": 0,
              "ticks": ""
             }
            },
            "type": "scattergl"
           }
          ],
          "scattermapbox": [
           {
            "marker": {
             "colorbar": {
              "outlinewidth": 0,
              "ticks": ""
             }
            },
            "type": "scattermapbox"
           }
          ],
          "scatterpolar": [
           {
            "marker": {
             "colorbar": {
              "outlinewidth": 0,
              "ticks": ""
             }
            },
            "type": "scatterpolar"
           }
          ],
          "scatterpolargl": [
           {
            "marker": {
             "colorbar": {
              "outlinewidth": 0,
              "ticks": ""
             }
            },
            "type": "scatterpolargl"
           }
          ],
          "scatterternary": [
           {
            "marker": {
             "colorbar": {
              "outlinewidth": 0,
              "ticks": ""
             }
            },
            "type": "scatterternary"
           }
          ],
          "surface": [
           {
            "colorbar": {
             "outlinewidth": 0,
             "ticks": ""
            },
            "colorscale": [
             [
              0,
              "#0d0887"
             ],
             [
              0.1111111111111111,
              "#46039f"
             ],
             [
              0.2222222222222222,
              "#7201a8"
             ],
             [
              0.3333333333333333,
              "#9c179e"
             ],
             [
              0.4444444444444444,
              "#bd3786"
             ],
             [
              0.5555555555555556,
              "#d8576b"
             ],
             [
              0.6666666666666666,
              "#ed7953"
             ],
             [
              0.7777777777777778,
              "#fb9f3a"
             ],
             [
              0.8888888888888888,
              "#fdca26"
             ],
             [
              1,
              "#f0f921"
             ]
            ],
            "type": "surface"
           }
          ],
          "table": [
           {
            "cells": {
             "fill": {
              "color": "#EBF0F8"
             },
             "line": {
              "color": "white"
             }
            },
            "header": {
             "fill": {
              "color": "#C8D4E3"
             },
             "line": {
              "color": "white"
             }
            },
            "type": "table"
           }
          ]
         },
         "layout": {
          "annotationdefaults": {
           "arrowcolor": "#2a3f5f",
           "arrowhead": 0,
           "arrowwidth": 1
          },
          "autotypenumbers": "strict",
          "coloraxis": {
           "colorbar": {
            "outlinewidth": 0,
            "ticks": ""
           }
          },
          "colorscale": {
           "diverging": [
            [
             0,
             "#8e0152"
            ],
            [
             0.1,
             "#c51b7d"
            ],
            [
             0.2,
             "#de77ae"
            ],
            [
             0.3,
             "#f1b6da"
            ],
            [
             0.4,
             "#fde0ef"
            ],
            [
             0.5,
             "#f7f7f7"
            ],
            [
             0.6,
             "#e6f5d0"
            ],
            [
             0.7,
             "#b8e186"
            ],
            [
             0.8,
             "#7fbc41"
            ],
            [
             0.9,
             "#4d9221"
            ],
            [
             1,
             "#276419"
            ]
           ],
           "sequential": [
            [
             0,
             "#0d0887"
            ],
            [
             0.1111111111111111,
             "#46039f"
            ],
            [
             0.2222222222222222,
             "#7201a8"
            ],
            [
             0.3333333333333333,
             "#9c179e"
            ],
            [
             0.4444444444444444,
             "#bd3786"
            ],
            [
             0.5555555555555556,
             "#d8576b"
            ],
            [
             0.6666666666666666,
             "#ed7953"
            ],
            [
             0.7777777777777778,
             "#fb9f3a"
            ],
            [
             0.8888888888888888,
             "#fdca26"
            ],
            [
             1,
             "#f0f921"
            ]
           ],
           "sequentialminus": [
            [
             0,
             "#0d0887"
            ],
            [
             0.1111111111111111,
             "#46039f"
            ],
            [
             0.2222222222222222,
             "#7201a8"
            ],
            [
             0.3333333333333333,
             "#9c179e"
            ],
            [
             0.4444444444444444,
             "#bd3786"
            ],
            [
             0.5555555555555556,
             "#d8576b"
            ],
            [
             0.6666666666666666,
             "#ed7953"
            ],
            [
             0.7777777777777778,
             "#fb9f3a"
            ],
            [
             0.8888888888888888,
             "#fdca26"
            ],
            [
             1,
             "#f0f921"
            ]
           ]
          },
          "colorway": [
           "#636efa",
           "#EF553B",
           "#00cc96",
           "#ab63fa",
           "#FFA15A",
           "#19d3f3",
           "#FF6692",
           "#B6E880",
           "#FF97FF",
           "#FECB52"
          ],
          "font": {
           "color": "#2a3f5f"
          },
          "geo": {
           "bgcolor": "white",
           "lakecolor": "white",
           "landcolor": "#E5ECF6",
           "showlakes": true,
           "showland": true,
           "subunitcolor": "white"
          },
          "hoverlabel": {
           "align": "left"
          },
          "hovermode": "closest",
          "mapbox": {
           "style": "light"
          },
          "paper_bgcolor": "white",
          "plot_bgcolor": "#E5ECF6",
          "polar": {
           "angularaxis": {
            "gridcolor": "white",
            "linecolor": "white",
            "ticks": ""
           },
           "bgcolor": "#E5ECF6",
           "radialaxis": {
            "gridcolor": "white",
            "linecolor": "white",
            "ticks": ""
           }
          },
          "scene": {
           "xaxis": {
            "backgroundcolor": "#E5ECF6",
            "gridcolor": "white",
            "gridwidth": 2,
            "linecolor": "white",
            "showbackground": true,
            "ticks": "",
            "zerolinecolor": "white"
           },
           "yaxis": {
            "backgroundcolor": "#E5ECF6",
            "gridcolor": "white",
            "gridwidth": 2,
            "linecolor": "white",
            "showbackground": true,
            "ticks": "",
            "zerolinecolor": "white"
           },
           "zaxis": {
            "backgroundcolor": "#E5ECF6",
            "gridcolor": "white",
            "gridwidth": 2,
            "linecolor": "white",
            "showbackground": true,
            "ticks": "",
            "zerolinecolor": "white"
           }
          },
          "shapedefaults": {
           "line": {
            "color": "#2a3f5f"
           }
          },
          "ternary": {
           "aaxis": {
            "gridcolor": "white",
            "linecolor": "white",
            "ticks": ""
           },
           "baxis": {
            "gridcolor": "white",
            "linecolor": "white",
            "ticks": ""
           },
           "bgcolor": "#E5ECF6",
           "caxis": {
            "gridcolor": "white",
            "linecolor": "white",
            "ticks": ""
           }
          },
          "title": {
           "x": 0.05
          },
          "xaxis": {
           "automargin": true,
           "gridcolor": "white",
           "linecolor": "white",
           "ticks": "",
           "title": {
            "standoff": 15
           },
           "zerolinecolor": "white",
           "zerolinewidth": 2
          },
          "yaxis": {
           "automargin": true,
           "gridcolor": "white",
           "linecolor": "white",
           "ticks": "",
           "title": {
            "standoff": 15
           },
           "zerolinecolor": "white",
           "zerolinewidth": 2
          }
         }
        },
        "xaxis": {
         "anchor": "y",
         "domain": [
          0,
          1
         ],
         "title": {
          "text": "km"
         }
        },
        "yaxis": {
         "anchor": "x",
         "domain": [
          0,
          1
         ],
         "title": {
          "text": "count"
         }
        }
       }
      }
     },
     "metadata": {},
     "output_type": "display_data"
    }
   ],
   "source": [
    "px.histogram(df,x='km',nbins=100)"
   ]
  },
  {
   "cell_type": "code",
   "execution_count": 26,
   "id": "457dc2b1",
   "metadata": {
    "scrolled": true
   },
   "outputs": [
    {
     "name": "stdout",
     "output_type": "stream",
     "text": [
      "<class 'pandas.core.frame.DataFrame'>\n",
      "RangeIndex: 1155 entries, 0 to 1154\n",
      "Data columns (total 7 columns):\n",
      " #   Column      Non-Null Count  Dtype  \n",
      "---  ------      --------------  -----  \n",
      " 0   start_date  1155 non-null   object \n",
      " 1   end_date    1155 non-null   object \n",
      " 2   category    1155 non-null   object \n",
      " 3   start       1155 non-null   object \n",
      " 4   stop        1155 non-null   object \n",
      " 5   purpose     653 non-null    object \n",
      " 6   km          1155 non-null   float64\n",
      "dtypes: float64(1), object(6)\n",
      "memory usage: 63.3+ KB\n"
     ]
    }
   ],
   "source": [
    "df.info()"
   ]
  },
  {
   "cell_type": "code",
   "execution_count": 27,
   "id": "365dd9d0",
   "metadata": {},
   "outputs": [
    {
     "data": {
      "text/plain": [
       "start_date     0.000000\n",
       "end_date       0.000000\n",
       "category       0.000000\n",
       "start          0.000000\n",
       "stop           0.000000\n",
       "purpose       43.463203\n",
       "km             0.000000\n",
       "dtype: float64"
      ]
     },
     "execution_count": 27,
     "metadata": {},
     "output_type": "execute_result"
    }
   ],
   "source": [
    "df.isnull().mean() * 100"
   ]
  },
  {
   "cell_type": "markdown",
   "id": "a5916c9c",
   "metadata": {},
   "source": [
    "## For each purpose for each starting city calculate the sum of kms driven "
   ]
  },
  {
   "cell_type": "code",
   "execution_count": 28,
   "id": "56d2a922",
   "metadata": {},
   "outputs": [
    {
     "data": {
      "text/plain": [
       "purpose          start           \n",
       "Airport/Travel   Kar?chi               6.598294\n",
       "                 Unknown Location     19.955816\n",
       "Between Offices  Berkeley             38.624160\n",
       "                 Burtrose              7.724832\n",
       "                 CBD                   3.057746\n",
       "                                        ...    \n",
       "Temporary Site   Oakland              15.610598\n",
       "                 Raleigh              32.508668\n",
       "                 San Francisco        34.922678\n",
       "                 Summerwinds          14.001258\n",
       "                 Unknown Location    268.920714\n",
       "Name: km, Length: 227, dtype: float64"
      ]
     },
     "execution_count": 28,
     "metadata": {},
     "output_type": "execute_result"
    }
   ],
   "source": [
    "df.groupby(['purpose', 'start'])['km'].sum()"
   ]
  },
  {
   "cell_type": "code",
   "execution_count": 29,
   "id": "4af360da",
   "metadata": {},
   "outputs": [
    {
     "data": {
      "text/html": [
       "<div>\n",
       "<style scoped>\n",
       "    .dataframe tbody tr th:only-of-type {\n",
       "        vertical-align: middle;\n",
       "    }\n",
       "\n",
       "    .dataframe tbody tr th {\n",
       "        vertical-align: top;\n",
       "    }\n",
       "\n",
       "    .dataframe thead th {\n",
       "        text-align: right;\n",
       "    }\n",
       "</style>\n",
       "<table border=\"1\" class=\"dataframe\">\n",
       "  <thead>\n",
       "    <tr style=\"text-align: right;\">\n",
       "      <th>start</th>\n",
       "      <th>Apex</th>\n",
       "      <th>Arabi</th>\n",
       "      <th>Asheville</th>\n",
       "      <th>Austin</th>\n",
       "      <th>Banner Elk</th>\n",
       "      <th>Bellevue</th>\n",
       "      <th>Berkeley</th>\n",
       "      <th>Boone</th>\n",
       "      <th>Briar Meadow</th>\n",
       "      <th>Burtrose</th>\n",
       "      <th>...</th>\n",
       "      <th>Washington Avenue</th>\n",
       "      <th>Waverly Place</th>\n",
       "      <th>Wayne Ridge</th>\n",
       "      <th>West Berkeley</th>\n",
       "      <th>West Palm Beach</th>\n",
       "      <th>West University</th>\n",
       "      <th>Weston</th>\n",
       "      <th>Westpark Place</th>\n",
       "      <th>Whitebridge</th>\n",
       "      <th>Winston Salem</th>\n",
       "    </tr>\n",
       "    <tr>\n",
       "      <th>purpose</th>\n",
       "      <th></th>\n",
       "      <th></th>\n",
       "      <th></th>\n",
       "      <th></th>\n",
       "      <th></th>\n",
       "      <th></th>\n",
       "      <th></th>\n",
       "      <th></th>\n",
       "      <th></th>\n",
       "      <th></th>\n",
       "      <th></th>\n",
       "      <th></th>\n",
       "      <th></th>\n",
       "      <th></th>\n",
       "      <th></th>\n",
       "      <th></th>\n",
       "      <th></th>\n",
       "      <th></th>\n",
       "      <th></th>\n",
       "      <th></th>\n",
       "      <th></th>\n",
       "    </tr>\n",
       "  </thead>\n",
       "  <tbody>\n",
       "    <tr>\n",
       "      <th>Airport/Travel</th>\n",
       "      <td>NaN</td>\n",
       "      <td>NaN</td>\n",
       "      <td>NaN</td>\n",
       "      <td>NaN</td>\n",
       "      <td>NaN</td>\n",
       "      <td>NaN</td>\n",
       "      <td>NaN</td>\n",
       "      <td>NaN</td>\n",
       "      <td>NaN</td>\n",
       "      <td>NaN</td>\n",
       "      <td>...</td>\n",
       "      <td>NaN</td>\n",
       "      <td>NaN</td>\n",
       "      <td>NaN</td>\n",
       "      <td>NaN</td>\n",
       "      <td>NaN</td>\n",
       "      <td>NaN</td>\n",
       "      <td>NaN</td>\n",
       "      <td>NaN</td>\n",
       "      <td>NaN</td>\n",
       "      <td>NaN</td>\n",
       "    </tr>\n",
       "    <tr>\n",
       "      <th>Between Offices</th>\n",
       "      <td>NaN</td>\n",
       "      <td>NaN</td>\n",
       "      <td>NaN</td>\n",
       "      <td>NaN</td>\n",
       "      <td>NaN</td>\n",
       "      <td>NaN</td>\n",
       "      <td>38.624160</td>\n",
       "      <td>NaN</td>\n",
       "      <td>NaN</td>\n",
       "      <td>7.724832</td>\n",
       "      <td>...</td>\n",
       "      <td>NaN</td>\n",
       "      <td>NaN</td>\n",
       "      <td>NaN</td>\n",
       "      <td>NaN</td>\n",
       "      <td>NaN</td>\n",
       "      <td>NaN</td>\n",
       "      <td>NaN</td>\n",
       "      <td>NaN</td>\n",
       "      <td>29.450922</td>\n",
       "      <td>NaN</td>\n",
       "    </tr>\n",
       "    <tr>\n",
       "      <th>Charity ($)</th>\n",
       "      <td>NaN</td>\n",
       "      <td>NaN</td>\n",
       "      <td>NaN</td>\n",
       "      <td>NaN</td>\n",
       "      <td>24.301034</td>\n",
       "      <td>NaN</td>\n",
       "      <td>NaN</td>\n",
       "      <td>NaN</td>\n",
       "      <td>NaN</td>\n",
       "      <td>NaN</td>\n",
       "      <td>...</td>\n",
       "      <td>NaN</td>\n",
       "      <td>NaN</td>\n",
       "      <td>NaN</td>\n",
       "      <td>NaN</td>\n",
       "      <td>NaN</td>\n",
       "      <td>NaN</td>\n",
       "      <td>NaN</td>\n",
       "      <td>NaN</td>\n",
       "      <td>NaN</td>\n",
       "      <td>NaN</td>\n",
       "    </tr>\n",
       "    <tr>\n",
       "      <th>Commute</th>\n",
       "      <td>NaN</td>\n",
       "      <td>NaN</td>\n",
       "      <td>NaN</td>\n",
       "      <td>NaN</td>\n",
       "      <td>NaN</td>\n",
       "      <td>NaN</td>\n",
       "      <td>NaN</td>\n",
       "      <td>290.003068</td>\n",
       "      <td>NaN</td>\n",
       "      <td>NaN</td>\n",
       "      <td>...</td>\n",
       "      <td>NaN</td>\n",
       "      <td>NaN</td>\n",
       "      <td>NaN</td>\n",
       "      <td>NaN</td>\n",
       "      <td>NaN</td>\n",
       "      <td>NaN</td>\n",
       "      <td>NaN</td>\n",
       "      <td>NaN</td>\n",
       "      <td>NaN</td>\n",
       "      <td>NaN</td>\n",
       "    </tr>\n",
       "    <tr>\n",
       "      <th>Customer Visit</th>\n",
       "      <td>43.130312</td>\n",
       "      <td>NaN</td>\n",
       "      <td>NaN</td>\n",
       "      <td>218.87024</td>\n",
       "      <td>NaN</td>\n",
       "      <td>NaN</td>\n",
       "      <td>171.877512</td>\n",
       "      <td>NaN</td>\n",
       "      <td>15.449664</td>\n",
       "      <td>NaN</td>\n",
       "      <td>...</td>\n",
       "      <td>NaN</td>\n",
       "      <td>NaN</td>\n",
       "      <td>NaN</td>\n",
       "      <td>NaN</td>\n",
       "      <td>NaN</td>\n",
       "      <td>NaN</td>\n",
       "      <td>NaN</td>\n",
       "      <td>NaN</td>\n",
       "      <td>22.852628</td>\n",
       "      <td>NaN</td>\n",
       "    </tr>\n",
       "    <tr>\n",
       "      <th>Errand/Supplies</th>\n",
       "      <td>NaN</td>\n",
       "      <td>NaN</td>\n",
       "      <td>NaN</td>\n",
       "      <td>NaN</td>\n",
       "      <td>7.081096</td>\n",
       "      <td>NaN</td>\n",
       "      <td>NaN</td>\n",
       "      <td>NaN</td>\n",
       "      <td>NaN</td>\n",
       "      <td>NaN</td>\n",
       "      <td>...</td>\n",
       "      <td>NaN</td>\n",
       "      <td>NaN</td>\n",
       "      <td>NaN</td>\n",
       "      <td>NaN</td>\n",
       "      <td>NaN</td>\n",
       "      <td>NaN</td>\n",
       "      <td>NaN</td>\n",
       "      <td>9.656040</td>\n",
       "      <td>44.417784</td>\n",
       "      <td>NaN</td>\n",
       "    </tr>\n",
       "    <tr>\n",
       "      <th>Meal/Entertain</th>\n",
       "      <td>29.289988</td>\n",
       "      <td>27.35878</td>\n",
       "      <td>NaN</td>\n",
       "      <td>NaN</td>\n",
       "      <td>NaN</td>\n",
       "      <td>NaN</td>\n",
       "      <td>8.207634</td>\n",
       "      <td>NaN</td>\n",
       "      <td>NaN</td>\n",
       "      <td>NaN</td>\n",
       "      <td>...</td>\n",
       "      <td>NaN</td>\n",
       "      <td>15.610598</td>\n",
       "      <td>25.74944</td>\n",
       "      <td>NaN</td>\n",
       "      <td>6.920162</td>\n",
       "      <td>3.379614</td>\n",
       "      <td>6.115492</td>\n",
       "      <td>9.816974</td>\n",
       "      <td>134.701758</td>\n",
       "      <td>NaN</td>\n",
       "    </tr>\n",
       "    <tr>\n",
       "      <th>Meeting</th>\n",
       "      <td>23.496364</td>\n",
       "      <td>NaN</td>\n",
       "      <td>147.737412</td>\n",
       "      <td>NaN</td>\n",
       "      <td>NaN</td>\n",
       "      <td>20.760486</td>\n",
       "      <td>NaN</td>\n",
       "      <td>NaN</td>\n",
       "      <td>NaN</td>\n",
       "      <td>NaN</td>\n",
       "      <td>...</td>\n",
       "      <td>9.977908</td>\n",
       "      <td>10.943512</td>\n",
       "      <td>12.87472</td>\n",
       "      <td>15.932466</td>\n",
       "      <td>11.426314</td>\n",
       "      <td>NaN</td>\n",
       "      <td>NaN</td>\n",
       "      <td>NaN</td>\n",
       "      <td>61.154920</td>\n",
       "      <td>215.007824</td>\n",
       "    </tr>\n",
       "    <tr>\n",
       "      <th>Moving</th>\n",
       "      <td>NaN</td>\n",
       "      <td>NaN</td>\n",
       "      <td>NaN</td>\n",
       "      <td>NaN</td>\n",
       "      <td>NaN</td>\n",
       "      <td>NaN</td>\n",
       "      <td>NaN</td>\n",
       "      <td>NaN</td>\n",
       "      <td>NaN</td>\n",
       "      <td>NaN</td>\n",
       "      <td>...</td>\n",
       "      <td>NaN</td>\n",
       "      <td>NaN</td>\n",
       "      <td>NaN</td>\n",
       "      <td>NaN</td>\n",
       "      <td>NaN</td>\n",
       "      <td>NaN</td>\n",
       "      <td>NaN</td>\n",
       "      <td>NaN</td>\n",
       "      <td>NaN</td>\n",
       "      <td>NaN</td>\n",
       "    </tr>\n",
       "    <tr>\n",
       "      <th>Temporary Site</th>\n",
       "      <td>14.162192</td>\n",
       "      <td>NaN</td>\n",
       "      <td>NaN</td>\n",
       "      <td>NaN</td>\n",
       "      <td>NaN</td>\n",
       "      <td>NaN</td>\n",
       "      <td>23.979166</td>\n",
       "      <td>NaN</td>\n",
       "      <td>NaN</td>\n",
       "      <td>NaN</td>\n",
       "      <td>...</td>\n",
       "      <td>NaN</td>\n",
       "      <td>NaN</td>\n",
       "      <td>NaN</td>\n",
       "      <td>NaN</td>\n",
       "      <td>NaN</td>\n",
       "      <td>NaN</td>\n",
       "      <td>NaN</td>\n",
       "      <td>NaN</td>\n",
       "      <td>NaN</td>\n",
       "      <td>NaN</td>\n",
       "    </tr>\n",
       "  </tbody>\n",
       "</table>\n",
       "<p>10 rows × 131 columns</p>\n",
       "</div>"
      ],
      "text/plain": [
       "start                 Apex     Arabi   Asheville     Austin  Banner Elk  \\\n",
       "purpose                                                                   \n",
       "Airport/Travel         NaN       NaN         NaN        NaN         NaN   \n",
       "Between Offices        NaN       NaN         NaN        NaN         NaN   \n",
       "Charity ($)            NaN       NaN         NaN        NaN   24.301034   \n",
       "Commute                NaN       NaN         NaN        NaN         NaN   \n",
       "Customer Visit   43.130312       NaN         NaN  218.87024         NaN   \n",
       "Errand/Supplies        NaN       NaN         NaN        NaN    7.081096   \n",
       "Meal/Entertain   29.289988  27.35878         NaN        NaN         NaN   \n",
       "Meeting          23.496364       NaN  147.737412        NaN         NaN   \n",
       "Moving                 NaN       NaN         NaN        NaN         NaN   \n",
       "Temporary Site   14.162192       NaN         NaN        NaN         NaN   \n",
       "\n",
       "start             Bellevue    Berkeley       Boone  Briar Meadow  Burtrose  \\\n",
       "purpose                                                                      \n",
       "Airport/Travel         NaN         NaN         NaN           NaN       NaN   \n",
       "Between Offices        NaN   38.624160         NaN           NaN  7.724832   \n",
       "Charity ($)            NaN         NaN         NaN           NaN       NaN   \n",
       "Commute                NaN         NaN  290.003068           NaN       NaN   \n",
       "Customer Visit         NaN  171.877512         NaN     15.449664       NaN   \n",
       "Errand/Supplies        NaN         NaN         NaN           NaN       NaN   \n",
       "Meal/Entertain         NaN    8.207634         NaN           NaN       NaN   \n",
       "Meeting          20.760486         NaN         NaN           NaN       NaN   \n",
       "Moving                 NaN         NaN         NaN           NaN       NaN   \n",
       "Temporary Site         NaN   23.979166         NaN           NaN       NaN   \n",
       "\n",
       "start            ...  Washington Avenue  Waverly Place  Wayne Ridge  \\\n",
       "purpose          ...                                                  \n",
       "Airport/Travel   ...                NaN            NaN          NaN   \n",
       "Between Offices  ...                NaN            NaN          NaN   \n",
       "Charity ($)      ...                NaN            NaN          NaN   \n",
       "Commute          ...                NaN            NaN          NaN   \n",
       "Customer Visit   ...                NaN            NaN          NaN   \n",
       "Errand/Supplies  ...                NaN            NaN          NaN   \n",
       "Meal/Entertain   ...                NaN      15.610598     25.74944   \n",
       "Meeting          ...           9.977908      10.943512     12.87472   \n",
       "Moving           ...                NaN            NaN          NaN   \n",
       "Temporary Site   ...                NaN            NaN          NaN   \n",
       "\n",
       "start            West Berkeley  West Palm Beach  West University    Weston  \\\n",
       "purpose                                                                      \n",
       "Airport/Travel             NaN              NaN              NaN       NaN   \n",
       "Between Offices            NaN              NaN              NaN       NaN   \n",
       "Charity ($)                NaN              NaN              NaN       NaN   \n",
       "Commute                    NaN              NaN              NaN       NaN   \n",
       "Customer Visit             NaN              NaN              NaN       NaN   \n",
       "Errand/Supplies            NaN              NaN              NaN       NaN   \n",
       "Meal/Entertain             NaN         6.920162         3.379614  6.115492   \n",
       "Meeting              15.932466        11.426314              NaN       NaN   \n",
       "Moving                     NaN              NaN              NaN       NaN   \n",
       "Temporary Site             NaN              NaN              NaN       NaN   \n",
       "\n",
       "start            Westpark Place  Whitebridge  Winston Salem  \n",
       "purpose                                                      \n",
       "Airport/Travel              NaN          NaN            NaN  \n",
       "Between Offices             NaN    29.450922            NaN  \n",
       "Charity ($)                 NaN          NaN            NaN  \n",
       "Commute                     NaN          NaN            NaN  \n",
       "Customer Visit              NaN    22.852628            NaN  \n",
       "Errand/Supplies        9.656040    44.417784            NaN  \n",
       "Meal/Entertain         9.816974   134.701758            NaN  \n",
       "Meeting                     NaN    61.154920     215.007824  \n",
       "Moving                      NaN          NaN            NaN  \n",
       "Temporary Site              NaN          NaN            NaN  \n",
       "\n",
       "[10 rows x 131 columns]"
      ]
     },
     "execution_count": 29,
     "metadata": {},
     "output_type": "execute_result"
    }
   ],
   "source": [
    "pd.pivot_table(index = 'purpose' , columns='start',values = 'km', aggfunc='sum' , data = df)"
   ]
  },
  {
   "cell_type": "code",
   "execution_count": 30,
   "id": "785efccf",
   "metadata": {},
   "outputs": [],
   "source": [
    "#df.drop('PURPOSE*',axis=1,inplace = True)"
   ]
  },
  {
   "cell_type": "markdown",
   "id": "1bab976d",
   "metadata": {},
   "source": [
    "### Describe the KM of all trips"
   ]
  },
  {
   "cell_type": "code",
   "execution_count": 31,
   "id": "81cc56de",
   "metadata": {},
   "outputs": [
    {
     "data": {
      "text/plain": [
       "count    1155.000000\n",
       "mean       17.005638\n",
       "std        34.728118\n",
       "min         0.804670\n",
       "25%         4.667086\n",
       "50%         9.656040\n",
       "75%        16.737136\n",
       "max       499.378202\n",
       "Name: km, dtype: float64"
      ]
     },
     "execution_count": 31,
     "metadata": {},
     "output_type": "execute_result"
    }
   ],
   "source": [
    "df.describe()['km']"
   ]
  },
  {
   "cell_type": "code",
   "execution_count": 32,
   "id": "079ad266",
   "metadata": {
    "scrolled": true
   },
   "outputs": [
    {
     "data": {
      "application/vnd.plotly.v1+json": {
       "config": {
        "plotlyServerURL": "https://plot.ly"
       },
       "data": [
        {
         "alignmentgroup": "True",
         "bingroup": "x",
         "hovertemplate": "km=%{x}<br>count=%{y}<extra></extra>",
         "legendgroup": "",
         "marker": {
          "color": "#636efa",
          "pattern": {
           "shape": ""
          }
         },
         "name": "",
         "nbinsx": 100,
         "offsetgroup": "",
         "orientation": "v",
         "showlegend": false,
         "type": "histogram",
         "x": [
          8.207633999999999,
          8.0467,
          7.724831999999999,
          7.563898,
          102.51495800000001,
          6.9201619999999995,
          11.426314,
          1.2874720000000002,
          13.357522000000001,
          26.55411,
          17.380872,
          12.07005,
          9.977908000000001,
          10.299776000000001,
          2.5749440000000003,
          2.735878,
          3.057746,
          3.057746,
          6.43736,
          2.896812,
          3.8624159999999996,
          3.21868,
          24.301033999999998,
          18.024607999999997,
          18.990212,
          35.244546,
          6.276426,
          12.87472,
          16.737136,
          16.737136,
          7.724831999999999,
          7.563898,
          11.587248,
          12.230984,
          27.519714,
          24.301033999999998,
          64.695468,
          2.5749440000000003,
          3.8624159999999996,
          1.60934,
          3.21868,
          3.7014819999999995,
          3.057746,
          2.2530759999999996,
          0.80467,
          2.896812,
          30.094658,
          5.471756,
          4.345218,
          20.760486,
          30.57746,
          23.657297999999997,
          25.266638,
          7.402963999999999,
          8.368568,
          16.737136,
          16.254334,
          9.334171999999999,
          8.85137,
          9.173238,
          9.173238,
          31.221196,
          37.497622,
          6.276426,
          13.357522000000001,
          9.65604,
          2.5749440000000003,
          8.368568,
          15.610598,
          2.5749440000000003,
          1.7702740000000001,
          2.5749440000000003,
          14.48406,
          12.391918,
          16.737136,
          16.737136,
          18.346476,
          14.48406,
          5.149888000000001,
          9.012303999999999,
          9.173238,
          9.816974,
          9.816974,
          6.9201619999999995,
          4.345218,
          8.529501999999999,
          4.82802,
          8.207633999999999,
          2.41401,
          9.816974,
          9.816974,
          27.841582000000002,
          9.173238,
          21.72609,
          9.816974,
          13.67939,
          4.184284,
          27.35878,
          28.96812,
          13.518456,
          18.50741,
          14.323126,
          4.345218,
          2.896812,
          13.035654,
          3.21868,
          20.92142,
          22.369826,
          70.328158,
          22.691694,
          4.184284,
          7.24203,
          2.735878,
          2.896812,
          9.65604,
          1.7702740000000001,
          5.793624,
          23.657297999999997,
          2.735878,
          34.439876,
          0.80467,
          37.81949,
          20.438617999999998,
          9.65604,
          8.368568,
          16.0934,
          29.450922000000002,
          18.024607999999997,
          12.230984,
          2.41401,
          1.60934,
          11.748182,
          5.63269,
          6.759228,
          21.887024,
          4.02335,
          23.174496,
          4.82802,
          2.41401,
          29.611855999999996,
          37.175754000000005,
          26.55411,
          5.149888000000001,
          12.391918,
          23.33543,
          3.8624159999999996,
          7.402963999999999,
          14.162192000000001,
          13.357522000000001,
          36.532018,
          20.92142,
          13.035654,
          3.5405480000000003,
          15.610598,
          32.1868,
          13.035654,
          2.41401,
          2.735878,
          4.9889540000000006,
          5.149888000000001,
          9.65604,
          9.334171999999999,
          10.138842,
          2.735878,
          17.059003999999998,
          15.932466,
          3.057746,
          6.759228,
          3.21868,
          12.391918,
          10.943512,
          3.379614,
          6.115492,
          9.012303999999999,
          4.184284,
          10.621644,
          12.87472,
          12.87472,
          3.5405480000000003,
          3.7014819999999995,
          8.368568,
          12.230984,
          27.841582000000002,
          15.932466,
          15.932466,
          16.737136,
          17.541806,
          25.266638,
          7.885766,
          1.2874720000000002,
          21.72609,
          3.057746,
          3.21868,
          10.46071,
          6.759228,
          5.63269,
          12.552852,
          12.552852,
          6.276426,
          4.506151999999999,
          19.955816000000002,
          9.495106,
          15.127796,
          19.151146,
          11.587248,
          12.230984,
          2.5749440000000003,
          13.518456,
          20.599552000000003,
          3.7014819999999995,
          2.5749440000000003,
          3.21868,
          1.2874720000000002,
          1.9312079999999998,
          1.60934,
          3.379614,
          3.5405480000000003,
          3.057746,
          9.173238,
          13.518456,
          9.977908000000001,
          16.89807,
          11.587248,
          20.11675,
          3.21868,
          4.345218,
          3.21868,
          4.506151999999999,
          2.735878,
          3.21868,
          3.379614,
          2.735878,
          218.87024,
          48.602067999999996,
          24.94477,
          7.885766,
          20.277684,
          16.737136,
          1.7702740000000001,
          1.7702740000000001,
          21.243288,
          1.60934,
          14.805927999999998,
          15.127796,
          19.31208,
          56.487834,
          58.74091,
          4.9889540000000006,
          3.379614,
          1.9312079999999998,
          12.07005,
          91.73238,
          9.495106,
          9.977908000000001,
          16.737136,
          1.9312079999999998,
          15.449663999999999,
          1.60934,
          1.448406,
          14.162192000000001,
          41.199104000000005,
          37.01482,
          13.035654,
          2.2530759999999996,
          2.735878,
          2.5749440000000003,
          3.21868,
          3.5405480000000003,
          231.74496,
          499.37820200000004,
          323.47734,
          10.782578,
          14.162192000000001,
          1.9312079999999998,
          3.379614,
          10.621644,
          9.816974,
          11.104446000000001,
          11.748182,
          5.793624,
          43.774048,
          41.360037999999996,
          21.887024,
          9.977908000000001,
          9.65604,
          22.208892000000002,
          46.348992,
          25.910374,
          26.393175999999997,
          17.70274,
          24.94477,
          32.669602,
          1.1265379999999998,
          8.85137,
          8.207633999999999,
          124.40198199999999,
          129.55187,
          280.34702799999997,
          231.74496,
          256.367862,
          12.713786,
          12.87472,
          9.816974,
          9.816974,
          16.89807,
          14.001257999999998,
          2.896812,
          30.738394000000003,
          29.933724,
          4.506151999999999,
          14.323126,
          12.07005,
          25.588506,
          10.46071,
          24.622902,
          22.047957999999998,
          19.151146,
          2.2530759999999996,
          24.461968,
          9.65604,
          9.816974,
          13.196587999999998,
          12.87472,
          21.887024,
          36.21015,
          16.737136,
          16.0934,
          9.65604,
          10.46071,
          4.9889540000000006,
          3.057746,
          6.759228,
          7.885766,
          7.724831999999999,
          19.955816000000002,
          52.786351999999994,
          8.85137,
          15.932466,
          16.0934,
          22.852628,
          29.289987999999997,
          12.391918,
          10.943512,
          3.379614,
          3.7014819999999995,
          9.977908000000001,
          12.07005,
          4.9889540000000006,
          3.5405480000000003,
          6.276426,
          4.02335,
          14.001257999999998,
          23.33543,
          7.24203,
          8.0467,
          22.852628,
          4.667085999999999,
          20.760486,
          23.174496,
          27.35878,
          12.713786,
          13.518456,
          32.99147,
          15.771532,
          28.324384000000002,
          14.966862,
          12.713786,
          41.199104000000005,
          13.035654,
          4.9889540000000006,
          4.9889540000000006,
          4.506151999999999,
          4.345218,
          3.057746,
          13.518456,
          12.230984,
          4.667085999999999,
          18.024607999999997,
          13.196587999999998,
          4.82802,
          4.02335,
          5.793624,
          5.793624,
          7.24203,
          1.9312079999999998,
          2.735878,
          7.563898,
          9.816974,
          18.185542,
          23.979166,
          22.53076,
          2.896812,
          10.782578,
          15.449663999999999,
          16.737136,
          15.932466,
          9.65604,
          5.310822,
          4.9889540000000006,
          2.735878,
          6.43736,
          12.552852,
          12.552852,
          6.115492,
          4.02335,
          15.932466,
          15.932466,
          4.82802,
          3.8624159999999996,
          9.173238,
          11.587248,
          16.737136,
          15.932466,
          16.737136,
          15.932466,
          14.001257999999998,
          35.888282000000004,
          5.310822,
          1.1265379999999998,
          4.02335,
          0.80467,
          1.448406,
          7.724831999999999,
          26.232242,
          16.737136,
          15.932466,
          5.9545580000000005,
          7.402963999999999,
          2.735878,
          16.737136,
          15.932466,
          4.02335,
          6.9201619999999995,
          4.506151999999999,
          13.518456,
          21.243288,
          6.276426,
          8.207633999999999,
          8.368568,
          15.771532,
          18.668343999999998,
          8.207633999999999,
          14.966862,
          19.955816000000002,
          3.057746,
          10.299776000000001,
          8.85137,
          2.41401,
          23.33543,
          4.345218,
          24.1401,
          20.760486,
          21.887024,
          19.633948,
          14.001257999999998,
          9.65604,
          9.495106,
          31.060262,
          26.715044000000002,
          11.426314,
          3.379614,
          13.840323999999999,
          14.48406,
          4.9889540000000006,
          13.518456,
          20.599552000000003,
          7.24203,
          18.990212,
          1.7702740000000001,
          27.35878,
          2.735878,
          24.94477,
          2.5749440000000003,
          2.41401,
          20.277684,
          7.724831999999999,
          3.5405480000000003,
          20.92142,
          75.47804599999999,
          4.02335,
          13.840323999999999,
          8.368568,
          12.230984,
          2.896812,
          7.563898,
          4.506151999999999,
          48.2802,
          7.0810960000000005,
          1.60934,
          13.196587999999998,
          16.737136,
          15.932466,
          15.932466,
          11.748182,
          11.909116000000001,
          2.5749440000000003,
          2.896812,
          16.737136,
          15.932466,
          15.932466,
          15.932466,
          21.404222,
          18.185542,
          16.89807,
          15.932466,
          16.254334,
          15.932466,
          4.9889540000000006,
          4.9889540000000006,
          15.932466,
          15.932466,
          14.162192000000001,
          14.001257999999998,
          18.990212,
          1.9312079999999998,
          15.932466,
          0.9656039999999999,
          15.932466,
          13.840323999999999,
          10.138842,
          15.932466,
          15.932466,
          5.310822,
          4.9889540000000006,
          12.713786,
          14.323126,
          20.599552000000003,
          12.391918,
          11.26538,
          20.11675,
          21.243288,
          20.92142,
          7.885766,
          13.67939,
          2.092142,
          2.896812,
          21.887024,
          21.565156,
          19.794882,
          2.2530759999999996,
          14.001257999999998,
          37.81949,
          3.5405480000000003,
          7.0810960000000005,
          5.310822,
          18.990212,
          314.304102,
          13.357522000000001,
          5.149888000000001,
          36.049215999999994,
          19.633948,
          7.24203,
          45.222454,
          6.115492,
          67.43134599999999,
          38.302292,
          20.92142,
          7.0810960000000005,
          24.301033999999998,
          290.003068,
          6.598293999999999,
          9.816974,
          5.310822,
          7.563898,
          11.587248,
          8.85137,
          5.310822,
          1.448406,
          6.115492,
          10.299776000000001,
          4.82802,
          14.001257999999998,
          6.276426,
          7.724831999999999,
          4.506151999999999,
          2.2530759999999996,
          2.2530759999999996,
          4.345218,
          3.7014819999999995,
          5.9545580000000005,
          4.667085999999999,
          6.115492,
          8.207633999999999,
          14.644993999999999,
          12.87472,
          15.932466,
          9.816974,
          19.633948,
          12.87472,
          6.43736,
          15.28873,
          4.82802,
          10.138842,
          16.737136,
          15.932466,
          2.41401,
          7.885766,
          12.713786,
          2.735878,
          3.5405480000000003,
          3.379614,
          4.02335,
          4.02335,
          4.506151999999999,
          23.657297999999997,
          23.496364,
          3.7014819999999995,
          3.5405480000000003,
          3.5405480000000003,
          22.53076,
          21.404222,
          2.896812,
          9.977908000000001,
          2.092142,
          3.057746,
          11.104446000000001,
          7.402963999999999,
          4.506151999999999,
          14.644993999999999,
          13.035654,
          13.518456,
          7.885766,
          1.60934,
          1.60934,
          3.21868,
          1.7702740000000001,
          2.41401,
          2.092142,
          2.896812,
          2.41401,
          10.621644,
          12.87472,
          4.345218,
          4.345218,
          4.02335,
          4.02335,
          8.368568,
          6.43736,
          4.345218,
          7.724831999999999,
          5.149888000000001,
          11.104446000000001,
          23.979166,
          28.002515999999996,
          20.760486,
          24.622902,
          1.60934,
          9.65604,
          3.5405480000000003,
          7.0810960000000005,
          4.506151999999999,
          51.016078,
          51.337945999999995,
          3.057746,
          2.896812,
          13.518456,
          25.105704,
          22.691694,
          25.266638,
          41.681906,
          12.713786,
          4.345218,
          8.85137,
          9.173238,
          1.9312079999999998,
          9.173238,
          26.071308,
          4.184284,
          19.473014,
          2.2530759999999996,
          10.299776000000001,
          11.748182,
          8.529501999999999,
          8.85137,
          12.391918,
          12.230984,
          12.230984,
          5.310822,
          10.46071,
          3.21868,
          9.173238,
          5.149888000000001,
          20.11675,
          12.230984,
          12.391918,
          19.633948,
          2.2530759999999996,
          32.508668,
          15.771532,
          10.138842,
          7.885766,
          2.41401,
          17.541806,
          30.57746,
          30.57746,
          12.713786,
          6.598293999999999,
          30.094658,
          14.001257999999998,
          12.07005,
          12.391918,
          7.0810960000000005,
          8.0467,
          3.057746,
          12.713786,
          28.485318,
          40.555368,
          154.818508,
          56.3269,
          8.85137,
          81.110736,
          14.805927999999998,
          11.748182,
          8.0467,
          6.115492,
          6.276426,
          11.909116000000001,
          2.41401,
          12.713786,
          4.667085999999999,
          5.471756,
          6.115492,
          9.495106,
          15.449663999999999,
          11.26538,
          1.448406,
          139.368844,
          252.505446,
          16.254334,
          9.977908000000001,
          8.529501999999999,
          19.473014,
          17.380872,
          6.9201619999999995,
          4.02335,
          9.173238,
          4.506151999999999,
          6.43736,
          8.85137,
          4.184284,
          3.379614,
          14.162192000000001,
          7.0810960000000005,
          8.529501999999999,
          20.92142,
          20.92142,
          17.059003999999998,
          3.5405480000000003,
          14.805927999999998,
          20.760486,
          27.680647999999998,
          111.20539399999998,
          4.506151999999999,
          13.840323999999999,
          15.771532,
          5.793624,
          2.735878,
          18.50741,
          1.1265379999999998,
          1.1265379999999998,
          1.448406,
          2.5749440000000003,
          15.127796,
          29.289987999999997,
          16.89807,
          9.173238,
          28.96812,
          29.450922000000002,
          26.55411,
          15.449663999999999,
          4.667085999999999,
          13.196587999999998,
          3.8624159999999996,
          9.334171999999999,
          15.771532,
          11.748182,
          314.786904,
          32.99147,
          20.277684,
          60.672118000000005,
          26.875978,
          16.89807,
          4.506151999999999,
          2.5749440000000003,
          20.438617999999998,
          46.027124,
          24.301033999999998,
          28.807185999999998,
          181.211684,
          29.611855999999996,
          22.208892000000002,
          53.430088000000005,
          4.184284,
          9.334171999999999,
          13.357522000000001,
          3.8624159999999996,
          4.9889540000000006,
          9.816974,
          5.793624,
          12.87472,
          12.391918,
          2.735878,
          15.28873,
          27.519714,
          29.611855999999996,
          15.771532,
          1.60934,
          1.1265379999999998,
          3.7014819999999995,
          17.541806,
          20.438617999999998,
          19.955816000000002,
          6.115492,
          27.35878,
          9.977908000000001,
          4.9889540000000006,
          16.89807,
          13.035654,
          4.9889540000000006,
          3.379614,
          6.9201619999999995,
          4.02335,
          33.152404000000004,
          28.324384000000002,
          9.012303999999999,
          5.310822,
          8.529501999999999,
          5.310822,
          5.310822,
          12.713786,
          20.92142,
          4.82802,
          4.82802,
          6.115492,
          15.28873,
          2.735878,
          17.380872,
          6.598293999999999,
          3.5405480000000003,
          7.402963999999999,
          4.9889540000000006,
          76.765518,
          71.77656400000001,
          21.243288,
          14.001257999999998,
          27.680647999999998,
          22.53076,
          45.222454,
          45.383388,
          4.9889540000000006,
          4.9889540000000006,
          26.393175999999997,
          24.783836,
          3.5405480000000003,
          18.024607999999997,
          3.5405480000000003,
          5.793624,
          5.793624,
          7.885766,
          14.001257999999998,
          3.379614,
          3.379614,
          13.518456,
          9.495106,
          19.473014,
          6.276426,
          9.977908000000001,
          16.737136,
          15.932466,
          172.19938,
          215.007824,
          147.737412,
          65.500138,
          121.827038,
          47.958332,
          26.232242,
          10.46071,
          10.138842,
          10.621644,
          24.461968,
          110.078856,
          315.269706,
          72.742168,
          5.149888000000001,
          16.576202000000002,
          21.082354,
          15.449663999999999,
          26.55411,
          20.599552000000003,
          1.9312079999999998,
          1.60934,
          6.598293999999999,
          6.759228,
          2.2530759999999996,
          2.896812,
          13.67939,
          8.0467,
          6.115492,
          4.02335,
          3.8624159999999996,
          2.2530759999999996,
          2.896812,
          4.9889540000000006,
          4.9889540000000006,
          12.713786,
          6.115492,
          6.9201619999999995,
          6.276426,
          3.5405480000000003,
          4.506151999999999,
          3.5405480000000003,
          3.8624159999999996,
          4.506151999999999,
          70.650026,
          2.896812,
          5.310822,
          18.990212,
          21.243288,
          19.633948,
          18.185542,
          5.793624,
          4.82802,
          18.346476,
          1.448406,
          9.977908000000001,
          1.1265379999999998,
          8.85137,
          20.438617999999998,
          4.184284,
          1.7702740000000001,
          20.277684,
          1.9312079999999998,
          1.7702740000000001,
          15.932466,
          9.65604,
          1.2874720000000002,
          73.868706,
          6.43736,
          4.02335,
          58.901844000000004,
          4.667085999999999,
          4.184284,
          3.7014819999999995,
          10.299776000000001,
          2.2530759999999996,
          0.9656039999999999,
          9.495106,
          1.2874720000000002,
          2.092142,
          5.9545580000000005,
          3.7014819999999995,
          4.184284,
          3.057746,
          3.379614,
          6.43736,
          1.448406,
          1.448406,
          3.8624159999999996,
          3.057746,
          3.057746,
          71.77656400000001,
          70.167224,
          4.02335,
          5.9545580000000005,
          8.207633999999999,
          15.610598,
          18.990212,
          3.7014819999999995,
          4.9889540000000006,
          26.232242,
          4.9889540000000006,
          8.368568,
          9.816974,
          16.576202000000002,
          16.89807,
          2.41401,
          2.896812,
          8.690436,
          8.690436,
          63.086128,
          10.299776000000001,
          4.345218,
          29.77279,
          4.02335,
          3.379614,
          10.782578,
          5.63269,
          5.471756,
          8.85137,
          6.598293999999999,
          20.438617999999998,
          4.82802,
          5.63269,
          9.495106,
          3.057746,
          5.310822,
          2.092142,
          16.576202000000002,
          17.863674,
          2.2530759999999996,
          8.207633999999999,
          14.48406,
          21.404222,
          4.02335,
          5.310822,
          4.667085999999999,
          13.67939,
          10.782578,
          4.9889540000000006,
          8.85137,
          8.85137,
          4.667085999999999,
          4.667085999999999,
          8.207633999999999,
          8.529501999999999,
          5.310822,
          4.82802,
          10.621644,
          2.896812,
          4.82802,
          4.667085999999999,
          5.471756,
          6.598293999999999,
          6.115492,
          10.621644,
          6.43736,
          11.26538,
          11.104446000000001,
          5.471756,
          5.471756,
          3.21868,
          3.21868,
          8.207633999999999,
          14.162192000000001,
          9.012303999999999,
          30.416525999999998,
          25.105704,
          25.105704,
          4.82802,
          4.9889540000000006,
          4.82802,
          7.724831999999999,
          3.379614,
          4.9889540000000006,
          7.0810960000000005,
          7.563898,
          4.82802,
          4.82802,
          6.759228,
          6.598293999999999,
          5.471756,
          5.310822,
          4.82802,
          4.9889540000000006,
          17.059003999999998,
          7.724831999999999,
          8.529501999999999,
          7.885766,
          16.415267999999998,
          14.805927999999998,
          12.391918,
          9.495106,
          1.1265379999999998,
          2.092142,
          4.02335,
          8.529501999999999,
          8.690436,
          16.415267999999998,
          11.587248,
          3.5405480000000003,
          17.70274,
          19.31208,
          5.310822,
          31.221196,
          2.735878,
          9.173238,
          2.896812,
          2.2530759999999996,
          16.576202000000002,
          18.50741,
          7.885766,
          5.63269,
          26.071308,
          3.21868,
          3.379614,
          3.379614,
          11.587248,
          19.31208,
          165.76202,
          51.98168199999999,
          8.529501999999999,
          18.668343999999998,
          37.336687999999995,
          5.149888000000001,
          19.794882,
          22.53076,
          3.379614,
          3.379614,
          4.82802,
          9.977908000000001,
          15.449663999999999,
          2.092142,
          11.426314,
          10.138842,
          17.219938,
          8.529501999999999,
          2.5749440000000003,
          5.793624,
          2.735878,
          4.667085999999999,
          0.9656039999999999,
          0.9656039999999999,
          3.7014819999999995,
          3.7014819999999995,
          5.149888000000001,
          9.977908000000001,
          12.391918,
          6.115492,
          12.713786,
          7.885766,
          8.0467,
          0.9656039999999999,
          4.9889540000000006,
          12.713786,
          8.85137,
          16.576202000000002,
          16.737136,
          3.21868,
          13.67939,
          7.0810960000000005,
          6.115492,
          8.207633999999999,
          6.115492,
          18.668343999999998,
          19.151146,
          2.2530759999999996,
          1.7702740000000001,
          6.598293999999999,
          9.816974,
          2.092142,
          4.82802,
          6.598293999999999,
          11.587248,
          10.299776000000001,
          20.760486,
          4.506151999999999,
          4.667085999999999,
          7.402963999999999,
          7.402963999999999,
          1.2874720000000002,
          1.1265379999999998,
          6.276426,
          26.071308,
          10.299776000000001,
          77.570188
         ],
         "xaxis": "x",
         "yaxis": "y"
        }
       ],
       "layout": {
        "barmode": "relative",
        "legend": {
         "tracegroupgap": 0
        },
        "margin": {
         "t": 60
        },
        "template": {
         "data": {
          "bar": [
           {
            "error_x": {
             "color": "#2a3f5f"
            },
            "error_y": {
             "color": "#2a3f5f"
            },
            "marker": {
             "line": {
              "color": "#E5ECF6",
              "width": 0.5
             },
             "pattern": {
              "fillmode": "overlay",
              "size": 10,
              "solidity": 0.2
             }
            },
            "type": "bar"
           }
          ],
          "barpolar": [
           {
            "marker": {
             "line": {
              "color": "#E5ECF6",
              "width": 0.5
             },
             "pattern": {
              "fillmode": "overlay",
              "size": 10,
              "solidity": 0.2
             }
            },
            "type": "barpolar"
           }
          ],
          "carpet": [
           {
            "aaxis": {
             "endlinecolor": "#2a3f5f",
             "gridcolor": "white",
             "linecolor": "white",
             "minorgridcolor": "white",
             "startlinecolor": "#2a3f5f"
            },
            "baxis": {
             "endlinecolor": "#2a3f5f",
             "gridcolor": "white",
             "linecolor": "white",
             "minorgridcolor": "white",
             "startlinecolor": "#2a3f5f"
            },
            "type": "carpet"
           }
          ],
          "choropleth": [
           {
            "colorbar": {
             "outlinewidth": 0,
             "ticks": ""
            },
            "type": "choropleth"
           }
          ],
          "contour": [
           {
            "colorbar": {
             "outlinewidth": 0,
             "ticks": ""
            },
            "colorscale": [
             [
              0,
              "#0d0887"
             ],
             [
              0.1111111111111111,
              "#46039f"
             ],
             [
              0.2222222222222222,
              "#7201a8"
             ],
             [
              0.3333333333333333,
              "#9c179e"
             ],
             [
              0.4444444444444444,
              "#bd3786"
             ],
             [
              0.5555555555555556,
              "#d8576b"
             ],
             [
              0.6666666666666666,
              "#ed7953"
             ],
             [
              0.7777777777777778,
              "#fb9f3a"
             ],
             [
              0.8888888888888888,
              "#fdca26"
             ],
             [
              1,
              "#f0f921"
             ]
            ],
            "type": "contour"
           }
          ],
          "contourcarpet": [
           {
            "colorbar": {
             "outlinewidth": 0,
             "ticks": ""
            },
            "type": "contourcarpet"
           }
          ],
          "heatmap": [
           {
            "colorbar": {
             "outlinewidth": 0,
             "ticks": ""
            },
            "colorscale": [
             [
              0,
              "#0d0887"
             ],
             [
              0.1111111111111111,
              "#46039f"
             ],
             [
              0.2222222222222222,
              "#7201a8"
             ],
             [
              0.3333333333333333,
              "#9c179e"
             ],
             [
              0.4444444444444444,
              "#bd3786"
             ],
             [
              0.5555555555555556,
              "#d8576b"
             ],
             [
              0.6666666666666666,
              "#ed7953"
             ],
             [
              0.7777777777777778,
              "#fb9f3a"
             ],
             [
              0.8888888888888888,
              "#fdca26"
             ],
             [
              1,
              "#f0f921"
             ]
            ],
            "type": "heatmap"
           }
          ],
          "heatmapgl": [
           {
            "colorbar": {
             "outlinewidth": 0,
             "ticks": ""
            },
            "colorscale": [
             [
              0,
              "#0d0887"
             ],
             [
              0.1111111111111111,
              "#46039f"
             ],
             [
              0.2222222222222222,
              "#7201a8"
             ],
             [
              0.3333333333333333,
              "#9c179e"
             ],
             [
              0.4444444444444444,
              "#bd3786"
             ],
             [
              0.5555555555555556,
              "#d8576b"
             ],
             [
              0.6666666666666666,
              "#ed7953"
             ],
             [
              0.7777777777777778,
              "#fb9f3a"
             ],
             [
              0.8888888888888888,
              "#fdca26"
             ],
             [
              1,
              "#f0f921"
             ]
            ],
            "type": "heatmapgl"
           }
          ],
          "histogram": [
           {
            "marker": {
             "pattern": {
              "fillmode": "overlay",
              "size": 10,
              "solidity": 0.2
             }
            },
            "type": "histogram"
           }
          ],
          "histogram2d": [
           {
            "colorbar": {
             "outlinewidth": 0,
             "ticks": ""
            },
            "colorscale": [
             [
              0,
              "#0d0887"
             ],
             [
              0.1111111111111111,
              "#46039f"
             ],
             [
              0.2222222222222222,
              "#7201a8"
             ],
             [
              0.3333333333333333,
              "#9c179e"
             ],
             [
              0.4444444444444444,
              "#bd3786"
             ],
             [
              0.5555555555555556,
              "#d8576b"
             ],
             [
              0.6666666666666666,
              "#ed7953"
             ],
             [
              0.7777777777777778,
              "#fb9f3a"
             ],
             [
              0.8888888888888888,
              "#fdca26"
             ],
             [
              1,
              "#f0f921"
             ]
            ],
            "type": "histogram2d"
           }
          ],
          "histogram2dcontour": [
           {
            "colorbar": {
             "outlinewidth": 0,
             "ticks": ""
            },
            "colorscale": [
             [
              0,
              "#0d0887"
             ],
             [
              0.1111111111111111,
              "#46039f"
             ],
             [
              0.2222222222222222,
              "#7201a8"
             ],
             [
              0.3333333333333333,
              "#9c179e"
             ],
             [
              0.4444444444444444,
              "#bd3786"
             ],
             [
              0.5555555555555556,
              "#d8576b"
             ],
             [
              0.6666666666666666,
              "#ed7953"
             ],
             [
              0.7777777777777778,
              "#fb9f3a"
             ],
             [
              0.8888888888888888,
              "#fdca26"
             ],
             [
              1,
              "#f0f921"
             ]
            ],
            "type": "histogram2dcontour"
           }
          ],
          "mesh3d": [
           {
            "colorbar": {
             "outlinewidth": 0,
             "ticks": ""
            },
            "type": "mesh3d"
           }
          ],
          "parcoords": [
           {
            "line": {
             "colorbar": {
              "outlinewidth": 0,
              "ticks": ""
             }
            },
            "type": "parcoords"
           }
          ],
          "pie": [
           {
            "automargin": true,
            "type": "pie"
           }
          ],
          "scatter": [
           {
            "fillpattern": {
             "fillmode": "overlay",
             "size": 10,
             "solidity": 0.2
            },
            "type": "scatter"
           }
          ],
          "scatter3d": [
           {
            "line": {
             "colorbar": {
              "outlinewidth": 0,
              "ticks": ""
             }
            },
            "marker": {
             "colorbar": {
              "outlinewidth": 0,
              "ticks": ""
             }
            },
            "type": "scatter3d"
           }
          ],
          "scattercarpet": [
           {
            "marker": {
             "colorbar": {
              "outlinewidth": 0,
              "ticks": ""
             }
            },
            "type": "scattercarpet"
           }
          ],
          "scattergeo": [
           {
            "marker": {
             "colorbar": {
              "outlinewidth": 0,
              "ticks": ""
             }
            },
            "type": "scattergeo"
           }
          ],
          "scattergl": [
           {
            "marker": {
             "colorbar": {
              "outlinewidth": 0,
              "ticks": ""
             }
            },
            "type": "scattergl"
           }
          ],
          "scattermapbox": [
           {
            "marker": {
             "colorbar": {
              "outlinewidth": 0,
              "ticks": ""
             }
            },
            "type": "scattermapbox"
           }
          ],
          "scatterpolar": [
           {
            "marker": {
             "colorbar": {
              "outlinewidth": 0,
              "ticks": ""
             }
            },
            "type": "scatterpolar"
           }
          ],
          "scatterpolargl": [
           {
            "marker": {
             "colorbar": {
              "outlinewidth": 0,
              "ticks": ""
             }
            },
            "type": "scatterpolargl"
           }
          ],
          "scatterternary": [
           {
            "marker": {
             "colorbar": {
              "outlinewidth": 0,
              "ticks": ""
             }
            },
            "type": "scatterternary"
           }
          ],
          "surface": [
           {
            "colorbar": {
             "outlinewidth": 0,
             "ticks": ""
            },
            "colorscale": [
             [
              0,
              "#0d0887"
             ],
             [
              0.1111111111111111,
              "#46039f"
             ],
             [
              0.2222222222222222,
              "#7201a8"
             ],
             [
              0.3333333333333333,
              "#9c179e"
             ],
             [
              0.4444444444444444,
              "#bd3786"
             ],
             [
              0.5555555555555556,
              "#d8576b"
             ],
             [
              0.6666666666666666,
              "#ed7953"
             ],
             [
              0.7777777777777778,
              "#fb9f3a"
             ],
             [
              0.8888888888888888,
              "#fdca26"
             ],
             [
              1,
              "#f0f921"
             ]
            ],
            "type": "surface"
           }
          ],
          "table": [
           {
            "cells": {
             "fill": {
              "color": "#EBF0F8"
             },
             "line": {
              "color": "white"
             }
            },
            "header": {
             "fill": {
              "color": "#C8D4E3"
             },
             "line": {
              "color": "white"
             }
            },
            "type": "table"
           }
          ]
         },
         "layout": {
          "annotationdefaults": {
           "arrowcolor": "#2a3f5f",
           "arrowhead": 0,
           "arrowwidth": 1
          },
          "autotypenumbers": "strict",
          "coloraxis": {
           "colorbar": {
            "outlinewidth": 0,
            "ticks": ""
           }
          },
          "colorscale": {
           "diverging": [
            [
             0,
             "#8e0152"
            ],
            [
             0.1,
             "#c51b7d"
            ],
            [
             0.2,
             "#de77ae"
            ],
            [
             0.3,
             "#f1b6da"
            ],
            [
             0.4,
             "#fde0ef"
            ],
            [
             0.5,
             "#f7f7f7"
            ],
            [
             0.6,
             "#e6f5d0"
            ],
            [
             0.7,
             "#b8e186"
            ],
            [
             0.8,
             "#7fbc41"
            ],
            [
             0.9,
             "#4d9221"
            ],
            [
             1,
             "#276419"
            ]
           ],
           "sequential": [
            [
             0,
             "#0d0887"
            ],
            [
             0.1111111111111111,
             "#46039f"
            ],
            [
             0.2222222222222222,
             "#7201a8"
            ],
            [
             0.3333333333333333,
             "#9c179e"
            ],
            [
             0.4444444444444444,
             "#bd3786"
            ],
            [
             0.5555555555555556,
             "#d8576b"
            ],
            [
             0.6666666666666666,
             "#ed7953"
            ],
            [
             0.7777777777777778,
             "#fb9f3a"
            ],
            [
             0.8888888888888888,
             "#fdca26"
            ],
            [
             1,
             "#f0f921"
            ]
           ],
           "sequentialminus": [
            [
             0,
             "#0d0887"
            ],
            [
             0.1111111111111111,
             "#46039f"
            ],
            [
             0.2222222222222222,
             "#7201a8"
            ],
            [
             0.3333333333333333,
             "#9c179e"
            ],
            [
             0.4444444444444444,
             "#bd3786"
            ],
            [
             0.5555555555555556,
             "#d8576b"
            ],
            [
             0.6666666666666666,
             "#ed7953"
            ],
            [
             0.7777777777777778,
             "#fb9f3a"
            ],
            [
             0.8888888888888888,
             "#fdca26"
            ],
            [
             1,
             "#f0f921"
            ]
           ]
          },
          "colorway": [
           "#636efa",
           "#EF553B",
           "#00cc96",
           "#ab63fa",
           "#FFA15A",
           "#19d3f3",
           "#FF6692",
           "#B6E880",
           "#FF97FF",
           "#FECB52"
          ],
          "font": {
           "color": "#2a3f5f"
          },
          "geo": {
           "bgcolor": "white",
           "lakecolor": "white",
           "landcolor": "#E5ECF6",
           "showlakes": true,
           "showland": true,
           "subunitcolor": "white"
          },
          "hoverlabel": {
           "align": "left"
          },
          "hovermode": "closest",
          "mapbox": {
           "style": "light"
          },
          "paper_bgcolor": "white",
          "plot_bgcolor": "#E5ECF6",
          "polar": {
           "angularaxis": {
            "gridcolor": "white",
            "linecolor": "white",
            "ticks": ""
           },
           "bgcolor": "#E5ECF6",
           "radialaxis": {
            "gridcolor": "white",
            "linecolor": "white",
            "ticks": ""
           }
          },
          "scene": {
           "xaxis": {
            "backgroundcolor": "#E5ECF6",
            "gridcolor": "white",
            "gridwidth": 2,
            "linecolor": "white",
            "showbackground": true,
            "ticks": "",
            "zerolinecolor": "white"
           },
           "yaxis": {
            "backgroundcolor": "#E5ECF6",
            "gridcolor": "white",
            "gridwidth": 2,
            "linecolor": "white",
            "showbackground": true,
            "ticks": "",
            "zerolinecolor": "white"
           },
           "zaxis": {
            "backgroundcolor": "#E5ECF6",
            "gridcolor": "white",
            "gridwidth": 2,
            "linecolor": "white",
            "showbackground": true,
            "ticks": "",
            "zerolinecolor": "white"
           }
          },
          "shapedefaults": {
           "line": {
            "color": "#2a3f5f"
           }
          },
          "ternary": {
           "aaxis": {
            "gridcolor": "white",
            "linecolor": "white",
            "ticks": ""
           },
           "baxis": {
            "gridcolor": "white",
            "linecolor": "white",
            "ticks": ""
           },
           "bgcolor": "#E5ECF6",
           "caxis": {
            "gridcolor": "white",
            "linecolor": "white",
            "ticks": ""
           }
          },
          "title": {
           "x": 0.05
          },
          "xaxis": {
           "automargin": true,
           "gridcolor": "white",
           "linecolor": "white",
           "ticks": "",
           "title": {
            "standoff": 15
           },
           "zerolinecolor": "white",
           "zerolinewidth": 2
          },
          "yaxis": {
           "automargin": true,
           "gridcolor": "white",
           "linecolor": "white",
           "ticks": "",
           "title": {
            "standoff": 15
           },
           "zerolinecolor": "white",
           "zerolinewidth": 2
          }
         }
        },
        "xaxis": {
         "anchor": "y",
         "domain": [
          0,
          1
         ],
         "title": {
          "text": "km"
         }
        },
        "yaxis": {
         "anchor": "x",
         "domain": [
          0,
          1
         ],
         "title": {
          "text": "count"
         }
        }
       }
      }
     },
     "metadata": {},
     "output_type": "display_data"
    }
   ],
   "source": [
    "px.histogram(df,x='km',nbins=100)"
   ]
  },
  {
   "cell_type": "markdown",
   "id": "3a4a0f0f",
   "metadata": {},
   "source": [
    "### Feature Enigneering "
   ]
  },
  {
   "cell_type": "markdown",
   "id": "43ad87b2",
   "metadata": {},
   "source": [
    "#### Format Data"
   ]
  },
  {
   "cell_type": "code",
   "execution_count": 33,
   "id": "ba21425e",
   "metadata": {},
   "outputs": [],
   "source": [
    "df['start_date'] = pd.to_datetime(df['start_date'],format ='%m/%d/%Y %H:%M')\n",
    "df['end_date'] = pd.to_datetime(df['end_date'],format ='%m/%d/%Y %H:%M')"
   ]
  },
  {
   "cell_type": "code",
   "execution_count": 34,
   "id": "48ab7ad3",
   "metadata": {
    "scrolled": true
   },
   "outputs": [
    {
     "name": "stdout",
     "output_type": "stream",
     "text": [
      "<class 'pandas.core.frame.DataFrame'>\n",
      "RangeIndex: 1155 entries, 0 to 1154\n",
      "Data columns (total 7 columns):\n",
      " #   Column      Non-Null Count  Dtype         \n",
      "---  ------      --------------  -----         \n",
      " 0   start_date  1155 non-null   datetime64[ns]\n",
      " 1   end_date    1155 non-null   datetime64[ns]\n",
      " 2   category    1155 non-null   object        \n",
      " 3   start       1155 non-null   object        \n",
      " 4   stop        1155 non-null   object        \n",
      " 5   purpose     653 non-null    object        \n",
      " 6   km          1155 non-null   float64       \n",
      "dtypes: datetime64[ns](2), float64(1), object(4)\n",
      "memory usage: 63.3+ KB\n"
     ]
    }
   ],
   "source": [
    "df.info()"
   ]
  },
  {
   "cell_type": "markdown",
   "id": "4c8c48de",
   "metadata": {},
   "source": [
    "#### Get the Duration"
   ]
  },
  {
   "cell_type": "code",
   "execution_count": 35,
   "id": "f03873f8",
   "metadata": {},
   "outputs": [
    {
     "data": {
      "text/plain": [
       "0      0 days 00:06:00\n",
       "1      0 days 00:12:00\n",
       "2      0 days 00:13:00\n",
       "3      0 days 00:14:00\n",
       "4      0 days 01:07:00\n",
       "             ...      \n",
       "1150   0 days 00:07:00\n",
       "1151   0 days 00:18:00\n",
       "1152   0 days 00:35:00\n",
       "1153   0 days 00:18:00\n",
       "1154   0 days 01:43:00\n",
       "Length: 1155, dtype: timedelta64[ns]"
      ]
     },
     "execution_count": 35,
     "metadata": {},
     "output_type": "execute_result"
    }
   ],
   "source": [
    "duration = df['end_date'] - df['start_date']\n",
    "duration"
   ]
  },
  {
   "cell_type": "code",
   "execution_count": 36,
   "id": "1d9ebd85",
   "metadata": {},
   "outputs": [
    {
     "data": {
      "text/plain": [
       "0         6.0\n",
       "1        12.0\n",
       "2        13.0\n",
       "3        14.0\n",
       "4        67.0\n",
       "        ...  \n",
       "1150      7.0\n",
       "1151     18.0\n",
       "1152     35.0\n",
       "1153     18.0\n",
       "1154    103.0\n",
       "Length: 1155, dtype: float64"
      ]
     },
     "execution_count": 36,
     "metadata": {},
     "output_type": "execute_result"
    }
   ],
   "source": [
    "duration.dt.total_seconds() / 60"
   ]
  },
  {
   "cell_type": "code",
   "execution_count": 37,
   "id": "62d401fb",
   "metadata": {},
   "outputs": [],
   "source": [
    "df['duration'] = (df['end_date']-df['start_date'] ) / np.timedelta64(1,'m')\n",
    "# df['duration'] = (df['end_date'] - df['start_date']).total_seconds() / 60"
   ]
  },
  {
   "cell_type": "code",
   "execution_count": 38,
   "id": "34dbb4a6",
   "metadata": {
    "scrolled": true
   },
   "outputs": [
    {
     "data": {
      "text/html": [
       "<div>\n",
       "<style scoped>\n",
       "    .dataframe tbody tr th:only-of-type {\n",
       "        vertical-align: middle;\n",
       "    }\n",
       "\n",
       "    .dataframe tbody tr th {\n",
       "        vertical-align: top;\n",
       "    }\n",
       "\n",
       "    .dataframe thead th {\n",
       "        text-align: right;\n",
       "    }\n",
       "</style>\n",
       "<table border=\"1\" class=\"dataframe\">\n",
       "  <thead>\n",
       "    <tr style=\"text-align: right;\">\n",
       "      <th></th>\n",
       "      <th>start_date</th>\n",
       "      <th>end_date</th>\n",
       "      <th>category</th>\n",
       "      <th>start</th>\n",
       "      <th>stop</th>\n",
       "      <th>purpose</th>\n",
       "      <th>km</th>\n",
       "      <th>duration</th>\n",
       "    </tr>\n",
       "  </thead>\n",
       "  <tbody>\n",
       "    <tr>\n",
       "      <th>0</th>\n",
       "      <td>2016-01-01 21:11:00</td>\n",
       "      <td>2016-01-01 21:17:00</td>\n",
       "      <td>Business</td>\n",
       "      <td>Fort Pierce</td>\n",
       "      <td>Fort Pierce</td>\n",
       "      <td>Meal/Entertain</td>\n",
       "      <td>8.207634</td>\n",
       "      <td>6.0</td>\n",
       "    </tr>\n",
       "    <tr>\n",
       "      <th>1</th>\n",
       "      <td>2016-01-02 01:25:00</td>\n",
       "      <td>2016-01-02 01:37:00</td>\n",
       "      <td>Business</td>\n",
       "      <td>Fort Pierce</td>\n",
       "      <td>Fort Pierce</td>\n",
       "      <td>NaN</td>\n",
       "      <td>8.046700</td>\n",
       "      <td>12.0</td>\n",
       "    </tr>\n",
       "    <tr>\n",
       "      <th>2</th>\n",
       "      <td>2016-01-02 20:25:00</td>\n",
       "      <td>2016-01-02 20:38:00</td>\n",
       "      <td>Business</td>\n",
       "      <td>Fort Pierce</td>\n",
       "      <td>Fort Pierce</td>\n",
       "      <td>Errand/Supplies</td>\n",
       "      <td>7.724832</td>\n",
       "      <td>13.0</td>\n",
       "    </tr>\n",
       "    <tr>\n",
       "      <th>3</th>\n",
       "      <td>2016-01-05 17:31:00</td>\n",
       "      <td>2016-01-05 17:45:00</td>\n",
       "      <td>Business</td>\n",
       "      <td>Fort Pierce</td>\n",
       "      <td>Fort Pierce</td>\n",
       "      <td>Meeting</td>\n",
       "      <td>7.563898</td>\n",
       "      <td>14.0</td>\n",
       "    </tr>\n",
       "    <tr>\n",
       "      <th>4</th>\n",
       "      <td>2016-01-06 14:42:00</td>\n",
       "      <td>2016-01-06 15:49:00</td>\n",
       "      <td>Business</td>\n",
       "      <td>Fort Pierce</td>\n",
       "      <td>West Palm Beach</td>\n",
       "      <td>Customer Visit</td>\n",
       "      <td>102.514958</td>\n",
       "      <td>67.0</td>\n",
       "    </tr>\n",
       "    <tr>\n",
       "      <th>...</th>\n",
       "      <td>...</td>\n",
       "      <td>...</td>\n",
       "      <td>...</td>\n",
       "      <td>...</td>\n",
       "      <td>...</td>\n",
       "      <td>...</td>\n",
       "      <td>...</td>\n",
       "      <td>...</td>\n",
       "    </tr>\n",
       "    <tr>\n",
       "      <th>1150</th>\n",
       "      <td>2016-12-31 01:07:00</td>\n",
       "      <td>2016-12-31 01:14:00</td>\n",
       "      <td>Business</td>\n",
       "      <td>Kar?chi</td>\n",
       "      <td>Kar?chi</td>\n",
       "      <td>Meeting</td>\n",
       "      <td>1.126538</td>\n",
       "      <td>7.0</td>\n",
       "    </tr>\n",
       "    <tr>\n",
       "      <th>1151</th>\n",
       "      <td>2016-12-31 13:24:00</td>\n",
       "      <td>2016-12-31 13:42:00</td>\n",
       "      <td>Business</td>\n",
       "      <td>Kar?chi</td>\n",
       "      <td>Unknown Location</td>\n",
       "      <td>Temporary Site</td>\n",
       "      <td>6.276426</td>\n",
       "      <td>18.0</td>\n",
       "    </tr>\n",
       "    <tr>\n",
       "      <th>1152</th>\n",
       "      <td>2016-12-31 15:03:00</td>\n",
       "      <td>2016-12-31 15:38:00</td>\n",
       "      <td>Business</td>\n",
       "      <td>Unknown Location</td>\n",
       "      <td>Unknown Location</td>\n",
       "      <td>Meeting</td>\n",
       "      <td>26.071308</td>\n",
       "      <td>35.0</td>\n",
       "    </tr>\n",
       "    <tr>\n",
       "      <th>1153</th>\n",
       "      <td>2016-12-31 21:32:00</td>\n",
       "      <td>2016-12-31 21:50:00</td>\n",
       "      <td>Business</td>\n",
       "      <td>Katunayake</td>\n",
       "      <td>Gampaha</td>\n",
       "      <td>Temporary Site</td>\n",
       "      <td>10.299776</td>\n",
       "      <td>18.0</td>\n",
       "    </tr>\n",
       "    <tr>\n",
       "      <th>1154</th>\n",
       "      <td>2016-12-31 22:08:00</td>\n",
       "      <td>2016-12-31 23:51:00</td>\n",
       "      <td>Business</td>\n",
       "      <td>Gampaha</td>\n",
       "      <td>Ilukwatta</td>\n",
       "      <td>Temporary Site</td>\n",
       "      <td>77.570188</td>\n",
       "      <td>103.0</td>\n",
       "    </tr>\n",
       "  </tbody>\n",
       "</table>\n",
       "<p>1155 rows × 8 columns</p>\n",
       "</div>"
      ],
      "text/plain": [
       "              start_date            end_date  category             start  \\\n",
       "0    2016-01-01 21:11:00 2016-01-01 21:17:00  Business       Fort Pierce   \n",
       "1    2016-01-02 01:25:00 2016-01-02 01:37:00  Business       Fort Pierce   \n",
       "2    2016-01-02 20:25:00 2016-01-02 20:38:00  Business       Fort Pierce   \n",
       "3    2016-01-05 17:31:00 2016-01-05 17:45:00  Business       Fort Pierce   \n",
       "4    2016-01-06 14:42:00 2016-01-06 15:49:00  Business       Fort Pierce   \n",
       "...                  ...                 ...       ...               ...   \n",
       "1150 2016-12-31 01:07:00 2016-12-31 01:14:00  Business           Kar?chi   \n",
       "1151 2016-12-31 13:24:00 2016-12-31 13:42:00  Business           Kar?chi   \n",
       "1152 2016-12-31 15:03:00 2016-12-31 15:38:00  Business  Unknown Location   \n",
       "1153 2016-12-31 21:32:00 2016-12-31 21:50:00  Business        Katunayake   \n",
       "1154 2016-12-31 22:08:00 2016-12-31 23:51:00  Business           Gampaha   \n",
       "\n",
       "                  stop          purpose          km  duration  \n",
       "0          Fort Pierce   Meal/Entertain    8.207634       6.0  \n",
       "1          Fort Pierce              NaN    8.046700      12.0  \n",
       "2          Fort Pierce  Errand/Supplies    7.724832      13.0  \n",
       "3          Fort Pierce          Meeting    7.563898      14.0  \n",
       "4      West Palm Beach   Customer Visit  102.514958      67.0  \n",
       "...                ...              ...         ...       ...  \n",
       "1150           Kar?chi          Meeting    1.126538       7.0  \n",
       "1151  Unknown Location   Temporary Site    6.276426      18.0  \n",
       "1152  Unknown Location          Meeting   26.071308      35.0  \n",
       "1153           Gampaha   Temporary Site   10.299776      18.0  \n",
       "1154         Ilukwatta   Temporary Site   77.570188     103.0  \n",
       "\n",
       "[1155 rows x 8 columns]"
      ]
     },
     "execution_count": 38,
     "metadata": {},
     "output_type": "execute_result"
    }
   ],
   "source": [
    "df"
   ]
  },
  {
   "cell_type": "markdown",
   "id": "5c93e240",
   "metadata": {},
   "source": [
    "### Get the Speed"
   ]
  },
  {
   "cell_type": "code",
   "execution_count": 39,
   "id": "945c28fa",
   "metadata": {},
   "outputs": [],
   "source": [
    "df['speed'] = df['km'] / (df['duration'] / 60)"
   ]
  },
  {
   "cell_type": "code",
   "execution_count": 40,
   "id": "a664001d",
   "metadata": {
    "scrolled": true
   },
   "outputs": [
    {
     "data": {
      "text/plain": [
       "count    1155.000000\n",
       "mean             inf\n",
       "std              NaN\n",
       "min         6.304357\n",
       "25%        23.960298\n",
       "50%        33.796140\n",
       "75%        45.978530\n",
       "max              inf\n",
       "Name: speed, dtype: float64"
      ]
     },
     "execution_count": 40,
     "metadata": {},
     "output_type": "execute_result"
    }
   ],
   "source": [
    "df.describe()['speed']"
   ]
  },
  {
   "cell_type": "code",
   "execution_count": null,
   "id": "debcc80f",
   "metadata": {},
   "outputs": [],
   "source": []
  },
  {
   "cell_type": "markdown",
   "id": "95189267",
   "metadata": {},
   "source": [
    "### Modify the speed"
   ]
  },
  {
   "cell_type": "code",
   "execution_count": 41,
   "id": "eb9c92f7",
   "metadata": {},
   "outputs": [
    {
     "data": {
      "text/html": [
       "<div>\n",
       "<style scoped>\n",
       "    .dataframe tbody tr th:only-of-type {\n",
       "        vertical-align: middle;\n",
       "    }\n",
       "\n",
       "    .dataframe tbody tr th {\n",
       "        vertical-align: top;\n",
       "    }\n",
       "\n",
       "    .dataframe thead th {\n",
       "        text-align: right;\n",
       "    }\n",
       "</style>\n",
       "<table border=\"1\" class=\"dataframe\">\n",
       "  <thead>\n",
       "    <tr style=\"text-align: right;\">\n",
       "      <th></th>\n",
       "      <th>start_date</th>\n",
       "      <th>end_date</th>\n",
       "      <th>category</th>\n",
       "      <th>start</th>\n",
       "      <th>stop</th>\n",
       "      <th>purpose</th>\n",
       "      <th>km</th>\n",
       "      <th>duration</th>\n",
       "      <th>speed</th>\n",
       "    </tr>\n",
       "  </thead>\n",
       "  <tbody>\n",
       "    <tr>\n",
       "      <th>751</th>\n",
       "      <td>2016-09-06 17:49:00</td>\n",
       "      <td>2016-09-06 17:49:00</td>\n",
       "      <td>Business</td>\n",
       "      <td>Unknown Location</td>\n",
       "      <td>Unknown Location</td>\n",
       "      <td>NaN</td>\n",
       "      <td>111.205394</td>\n",
       "      <td>0.0</td>\n",
       "      <td>inf</td>\n",
       "    </tr>\n",
       "    <tr>\n",
       "      <th>761</th>\n",
       "      <td>2016-09-16 07:08:00</td>\n",
       "      <td>2016-09-16 07:08:00</td>\n",
       "      <td>Business</td>\n",
       "      <td>Unknown Location</td>\n",
       "      <td>Unknown Location</td>\n",
       "      <td>NaN</td>\n",
       "      <td>2.574944</td>\n",
       "      <td>0.0</td>\n",
       "      <td>inf</td>\n",
       "    </tr>\n",
       "    <tr>\n",
       "      <th>798</th>\n",
       "      <td>2016-10-08 15:03:00</td>\n",
       "      <td>2016-10-08 15:03:00</td>\n",
       "      <td>Business</td>\n",
       "      <td>Karachi</td>\n",
       "      <td>Karachi</td>\n",
       "      <td>NaN</td>\n",
       "      <td>5.793624</td>\n",
       "      <td>0.0</td>\n",
       "      <td>inf</td>\n",
       "    </tr>\n",
       "    <tr>\n",
       "      <th>807</th>\n",
       "      <td>2016-10-13 13:02:00</td>\n",
       "      <td>2016-10-13 13:02:00</td>\n",
       "      <td>Business</td>\n",
       "      <td>Islamabad</td>\n",
       "      <td>Islamabad</td>\n",
       "      <td>NaN</td>\n",
       "      <td>1.126538</td>\n",
       "      <td>0.0</td>\n",
       "      <td>inf</td>\n",
       "    </tr>\n",
       "  </tbody>\n",
       "</table>\n",
       "</div>"
      ],
      "text/plain": [
       "             start_date            end_date  category             start  \\\n",
       "751 2016-09-06 17:49:00 2016-09-06 17:49:00  Business  Unknown Location   \n",
       "761 2016-09-16 07:08:00 2016-09-16 07:08:00  Business  Unknown Location   \n",
       "798 2016-10-08 15:03:00 2016-10-08 15:03:00  Business           Karachi   \n",
       "807 2016-10-13 13:02:00 2016-10-13 13:02:00  Business         Islamabad   \n",
       "\n",
       "                 stop purpose          km  duration  speed  \n",
       "751  Unknown Location     NaN  111.205394       0.0    inf  \n",
       "761  Unknown Location     NaN    2.574944       0.0    inf  \n",
       "798           Karachi     NaN    5.793624       0.0    inf  \n",
       "807         Islamabad     NaN    1.126538       0.0    inf  "
      ]
     },
     "execution_count": 41,
     "metadata": {},
     "output_type": "execute_result"
    }
   ],
   "source": [
    "df[df['start_date'] == df['end_date']]"
   ]
  },
  {
   "cell_type": "code",
   "execution_count": 42,
   "id": "a4e338e1",
   "metadata": {},
   "outputs": [
    {
     "data": {
      "text/html": [
       "<div>\n",
       "<style scoped>\n",
       "    .dataframe tbody tr th:only-of-type {\n",
       "        vertical-align: middle;\n",
       "    }\n",
       "\n",
       "    .dataframe tbody tr th {\n",
       "        vertical-align: top;\n",
       "    }\n",
       "\n",
       "    .dataframe thead th {\n",
       "        text-align: right;\n",
       "    }\n",
       "</style>\n",
       "<table border=\"1\" class=\"dataframe\">\n",
       "  <thead>\n",
       "    <tr style=\"text-align: right;\">\n",
       "      <th></th>\n",
       "      <th>start_date</th>\n",
       "      <th>end_date</th>\n",
       "      <th>category</th>\n",
       "      <th>start</th>\n",
       "      <th>stop</th>\n",
       "      <th>purpose</th>\n",
       "      <th>km</th>\n",
       "      <th>duration</th>\n",
       "      <th>speed</th>\n",
       "    </tr>\n",
       "  </thead>\n",
       "  <tbody>\n",
       "    <tr>\n",
       "      <th>751</th>\n",
       "      <td>2016-09-06 17:49:00</td>\n",
       "      <td>2016-09-06 17:49:00</td>\n",
       "      <td>Business</td>\n",
       "      <td>Unknown Location</td>\n",
       "      <td>Unknown Location</td>\n",
       "      <td>NaN</td>\n",
       "      <td>111.205394</td>\n",
       "      <td>0.0</td>\n",
       "      <td>inf</td>\n",
       "    </tr>\n",
       "    <tr>\n",
       "      <th>761</th>\n",
       "      <td>2016-09-16 07:08:00</td>\n",
       "      <td>2016-09-16 07:08:00</td>\n",
       "      <td>Business</td>\n",
       "      <td>Unknown Location</td>\n",
       "      <td>Unknown Location</td>\n",
       "      <td>NaN</td>\n",
       "      <td>2.574944</td>\n",
       "      <td>0.0</td>\n",
       "      <td>inf</td>\n",
       "    </tr>\n",
       "    <tr>\n",
       "      <th>798</th>\n",
       "      <td>2016-10-08 15:03:00</td>\n",
       "      <td>2016-10-08 15:03:00</td>\n",
       "      <td>Business</td>\n",
       "      <td>Karachi</td>\n",
       "      <td>Karachi</td>\n",
       "      <td>NaN</td>\n",
       "      <td>5.793624</td>\n",
       "      <td>0.0</td>\n",
       "      <td>inf</td>\n",
       "    </tr>\n",
       "    <tr>\n",
       "      <th>807</th>\n",
       "      <td>2016-10-13 13:02:00</td>\n",
       "      <td>2016-10-13 13:02:00</td>\n",
       "      <td>Business</td>\n",
       "      <td>Islamabad</td>\n",
       "      <td>Islamabad</td>\n",
       "      <td>NaN</td>\n",
       "      <td>1.126538</td>\n",
       "      <td>0.0</td>\n",
       "      <td>inf</td>\n",
       "    </tr>\n",
       "  </tbody>\n",
       "</table>\n",
       "</div>"
      ],
      "text/plain": [
       "             start_date            end_date  category             start  \\\n",
       "751 2016-09-06 17:49:00 2016-09-06 17:49:00  Business  Unknown Location   \n",
       "761 2016-09-16 07:08:00 2016-09-16 07:08:00  Business  Unknown Location   \n",
       "798 2016-10-08 15:03:00 2016-10-08 15:03:00  Business           Karachi   \n",
       "807 2016-10-13 13:02:00 2016-10-13 13:02:00  Business         Islamabad   \n",
       "\n",
       "                 stop purpose          km  duration  speed  \n",
       "751  Unknown Location     NaN  111.205394       0.0    inf  \n",
       "761  Unknown Location     NaN    2.574944       0.0    inf  \n",
       "798           Karachi     NaN    5.793624       0.0    inf  \n",
       "807         Islamabad     NaN    1.126538       0.0    inf  "
      ]
     },
     "execution_count": 42,
     "metadata": {},
     "output_type": "execute_result"
    }
   ],
   "source": [
    "df[df['speed']==np.inf]"
   ]
  },
  {
   "cell_type": "code",
   "execution_count": 43,
   "id": "f9c74c24",
   "metadata": {},
   "outputs": [],
   "source": [
    "df.drop(df[df['speed']==np.inf].index, axis =0, inplace = True)"
   ]
  },
  {
   "cell_type": "code",
   "execution_count": 44,
   "id": "e735a4a5",
   "metadata": {},
   "outputs": [
    {
     "data": {
      "text/html": [
       "<div>\n",
       "<style scoped>\n",
       "    .dataframe tbody tr th:only-of-type {\n",
       "        vertical-align: middle;\n",
       "    }\n",
       "\n",
       "    .dataframe tbody tr th {\n",
       "        vertical-align: top;\n",
       "    }\n",
       "\n",
       "    .dataframe thead th {\n",
       "        text-align: right;\n",
       "    }\n",
       "</style>\n",
       "<table border=\"1\" class=\"dataframe\">\n",
       "  <thead>\n",
       "    <tr style=\"text-align: right;\">\n",
       "      <th></th>\n",
       "      <th>start_date</th>\n",
       "      <th>end_date</th>\n",
       "      <th>category</th>\n",
       "      <th>start</th>\n",
       "      <th>stop</th>\n",
       "      <th>purpose</th>\n",
       "      <th>km</th>\n",
       "      <th>duration</th>\n",
       "      <th>speed</th>\n",
       "    </tr>\n",
       "  </thead>\n",
       "  <tbody>\n",
       "  </tbody>\n",
       "</table>\n",
       "</div>"
      ],
      "text/plain": [
       "Empty DataFrame\n",
       "Columns: [start_date, end_date, category, start, stop, purpose, km, duration, speed]\n",
       "Index: []"
      ]
     },
     "execution_count": 44,
     "metadata": {},
     "output_type": "execute_result"
    }
   ],
   "source": [
    "df[df['speed']==np.inf]"
   ]
  },
  {
   "cell_type": "code",
   "execution_count": 45,
   "id": "2e3d09e6",
   "metadata": {},
   "outputs": [
    {
     "data": {
      "text/plain": [
       "count    1151.000000\n",
       "mean       23.324066\n",
       "std        27.331271\n",
       "min         1.000000\n",
       "25%        10.000000\n",
       "50%        17.000000\n",
       "75%        28.000000\n",
       "max       336.000000\n",
       "Name: duration, dtype: float64"
      ]
     },
     "execution_count": 45,
     "metadata": {},
     "output_type": "execute_result"
    }
   ],
   "source": [
    "df['duration'].describe()"
   ]
  },
  {
   "cell_type": "code",
   "execution_count": 46,
   "id": "a747264d",
   "metadata": {},
   "outputs": [
    {
     "data": {
      "application/vnd.plotly.v1+json": {
       "config": {
        "plotlyServerURL": "https://plot.ly"
       },
       "data": [
        {
         "alignmentgroup": "True",
         "bingroup": "x",
         "hovertemplate": "duration=%{x}<br>count=%{y}<extra></extra>",
         "legendgroup": "",
         "marker": {
          "color": "#636efa",
          "pattern": {
           "shape": ""
          }
         },
         "name": "",
         "nbinsx": 100,
         "offsetgroup": "",
         "orientation": "v",
         "showlegend": false,
         "type": "histogram",
         "x": [
          6,
          12,
          13,
          14,
          67,
          4,
          5,
          6,
          20,
          27,
          43,
          35,
          20,
          26,
          7,
          14,
          13,
          16,
          16,
          14,
          15,
          12,
          58,
          13,
          28,
          36,
          6,
          20,
          20,
          18,
          11,
          11,
          14,
          14,
          35,
          31,
          54,
          4,
          8,
          5,
          9,
          8,
          8,
          5,
          2,
          7,
          29,
          10,
          8,
          22,
          32,
          20,
          30,
          14,
          11,
          20,
          23,
          21,
          19,
          12,
          15,
          40,
          33,
          11,
          19,
          15,
          4,
          21,
          32,
          6,
          4,
          4,
          27,
          19,
          20,
          19,
          33,
          24,
          9,
          12,
          14,
          14,
          18,
          11,
          10,
          13,
          7,
          16,
          4,
          16,
          16,
          42,
          21,
          22,
          15,
          21,
          7,
          21,
          34,
          17,
          33,
          20,
          16,
          10,
          33,
          17,
          27,
          23,
          52,
          65,
          10,
          30,
          3,
          12,
          36,
          9,
          4,
          46,
          5,
          44,
          5,
          8,
          42,
          15,
          14,
          41,
          12,
          30,
          27,
          6,
          5,
          18,
          19,
          11,
          22,
          17,
          33,
          8,
          8,
          36,
          64,
          55,
          3,
          21,
          39,
          4,
          14,
          22,
          21,
          57,
          27,
          17,
          5,
          28,
          37,
          15,
          5,
          6,
          8,
          15,
          20,
          17,
          23,
          6,
          24,
          23,
          8,
          18,
          11,
          16,
          16,
          7,
          10,
          12,
          8,
          20,
          23,
          18,
          7,
          6,
          14,
          21,
          40,
          19,
          17,
          20,
          22,
          29,
          12,
          6,
          29,
          6,
          9,
          15,
          15,
          10,
          22,
          21,
          11,
          10,
          24,
          16,
          21,
          26,
          17,
          25,
          12,
          17,
          29,
          16,
          10,
          12,
          7,
          7,
          8,
          14,
          9,
          10,
          30,
          20,
          21,
          19,
          12,
          20,
          15,
          16,
          12,
          13,
          11,
          11,
          13,
          11,
          139,
          42,
          42,
          22,
          31,
          16,
          6,
          8,
          44,
          6,
          14,
          15,
          23,
          56,
          64,
          15,
          10,
          8,
          36,
          66,
          11,
          14,
          26,
          6,
          21,
          5,
          8,
          16,
          37,
          26,
          18,
          13,
          5,
          6,
          7,
          6,
          178,
          330,
          165,
          24,
          30,
          4,
          9,
          12,
          25,
          15,
          14,
          13,
          53,
          31,
          44,
          19,
          15,
          17,
          50,
          35,
          32,
          18,
          48,
          48,
          5,
          16,
          15,
          146,
          72,
          178,
          143,
          136,
          16,
          20,
          19,
          15,
          18,
          17,
          8,
          37,
          42,
          11,
          19,
          20,
          22,
          19,
          40,
          43,
          31,
          3,
          30,
          18,
          16,
          24,
          22,
          39,
          30,
          20,
          24,
          13,
          16,
          9,
          6,
          9,
          10,
          12,
          25,
          19,
          18,
          17,
          21,
          32,
          35,
          15,
          18,
          8,
          5,
          12,
          16,
          11,
          7,
          11,
          8,
          21,
          19,
          6,
          8,
          12,
          6,
          13,
          15,
          14,
          26,
          17,
          27,
          28,
          24,
          17,
          12,
          37,
          17,
          4,
          4,
          8,
          12,
          6,
          30,
          2,
          24,
          11,
          29,
          7,
          7,
          8,
          12,
          4,
          6,
          3,
          6,
          14,
          29,
          47,
          37,
          9,
          28,
          29,
          20,
          30,
          23,
          15,
          12,
          6,
          19,
          30,
          16,
          11,
          9,
          12,
          16,
          9,
          8,
          14,
          29,
          19,
          14,
          18,
          23,
          30,
          57,
          17,
          6,
          16,
          2,
          6,
          14,
          69,
          17,
          8,
          8,
          5,
          6,
          19,
          26,
          3,
          11,
          21,
          19,
          29,
          39,
          29,
          5,
          18,
          30,
          9,
          30,
          20,
          8,
          25,
          20,
          6,
          54,
          4,
          24,
          17,
          13,
          33,
          22,
          11,
          9,
          29,
          51,
          16,
          7,
          18,
          22,
          9,
          19,
          18,
          9,
          53,
          7,
          28,
          9,
          88,
          11,
          7,
          35,
          27,
          9,
          28,
          71,
          9,
          28,
          25,
          17,
          7,
          18,
          12,
          40,
          9,
          10,
          17,
          20,
          25,
          25,
          28,
          16,
          2,
          5,
          18,
          22,
          17,
          25,
          23,
          24,
          18,
          21,
          18,
          24,
          10,
          6,
          18,
          15,
          18,
          26,
          17,
          5,
          20,
          4,
          20,
          21,
          20,
          19,
          20,
          10,
          13,
          28,
          6,
          36,
          23,
          21,
          23,
          19,
          43,
          14,
          18,
          7,
          11,
          16,
          17,
          35,
          5,
          24,
          41,
          14,
          12,
          8,
          31,
          206,
          21,
          10,
          40,
          30,
          12,
          56,
          16,
          88,
          53,
          33,
          13,
          27,
          185,
          12,
          21,
          11,
          16,
          21,
          15,
          7,
          4,
          8,
          16,
          15,
          30,
          10,
          18,
          12,
          7,
          4,
          6,
          9,
          15,
          9,
          11,
          14,
          23,
          17,
          21,
          16,
          33,
          18,
          17,
          24,
          12,
          20,
          16,
          25,
          6,
          11,
          29,
          7,
          6,
          10,
          8,
          8,
          12,
          23,
          26,
          5,
          2,
          18,
          25,
          25,
          7,
          17,
          11,
          18,
          22,
          7,
          7,
          30,
          32,
          21,
          24,
          8,
          6,
          14,
          4,
          4,
          7,
          4,
          10,
          18,
          22,
          9,
          15,
          6,
          8,
          14,
          13,
          11,
          25,
          9,
          18,
          21,
          33,
          28,
          35,
          1,
          15,
          7,
          14,
          10,
          52,
          45,
          3,
          9,
          23,
          47,
          27,
          38,
          82,
          13,
          7,
          7,
          21,
          7,
          16,
          23,
          24,
          23,
          5,
          15,
          21,
          6,
          29,
          19,
          27,
          21,
          13,
          20,
          9,
          17,
          15,
          40,
          29,
          29,
          32,
          7,
          36,
          44,
          16,
          13,
          9,
          24,
          35,
          77,
          52,
          38,
          29,
          15,
          34,
          16,
          11,
          15,
          5,
          121,
          49,
          51,
          144,
          65,
          20,
          121,
          32,
          18,
          14,
          12,
          10,
          23,
          12,
          25,
          17,
          14,
          23,
          10,
          37,
          19,
          5,
          103,
          178,
          21,
          16,
          18,
          44,
          29,
          10,
          10,
          15,
          10,
          15,
          17,
          9,
          12,
          23,
          21,
          20,
          42,
          33,
          15,
          19,
          47,
          41,
          19,
          17,
          4,
          2,
          5,
          9,
          40,
          6,
          4,
          5,
          4,
          31,
          16,
          8,
          44,
          39,
          19,
          120,
          25,
          41,
          4,
          2,
          82,
          80,
          336,
          135,
          154,
          161,
          95,
          3,
          17,
          10,
          29,
          62,
          1,
          167,
          17,
          2,
          40,
          3,
          23,
          16,
          42,
          15,
          19,
          28,
          3,
          19,
          6,
          40,
          41,
          3,
          38,
          6,
          9,
          45,
          54,
          36,
          24,
          132,
          20,
          13,
          19,
          21,
          9,
          6,
          9,
          7,
          38,
          42,
          14,
          14,
          17,
          10,
          9,
          28,
          21,
          10,
          6,
          14,
          27,
          11,
          29,
          18,
          13,
          28,
          8,
          58,
          53,
          15,
          15,
          37,
          47,
          41,
          42,
          10,
          15,
          29,
          40,
          7,
          41,
          7,
          17,
          11,
          9,
          21,
          6,
          10,
          25,
          15,
          29,
          7,
          22,
          18,
          30,
          126,
          114,
          107,
          103,
          126,
          41,
          62,
          27,
          30,
          11,
          20,
          73,
          181,
          73,
          9,
          29,
          26,
          25,
          37,
          33,
          7,
          6,
          13,
          14,
          8,
          7,
          25,
          15,
          7,
          6,
          6,
          5,
          13,
          17,
          12,
          16,
          7,
          16,
          13,
          9,
          11,
          8,
          14,
          17,
          61,
          8,
          15,
          29,
          40,
          28,
          33,
          20,
          13,
          33,
          6,
          32,
          5,
          14,
          37,
          10,
          6,
          29,
          11,
          10,
          5,
          23,
          3,
          48,
          15,
          12,
          67,
          13,
          10,
          20,
          30,
          8,
          4,
          31,
          7,
          11,
          19,
          8,
          26,
          6,
          12,
          29,
          6,
          4,
          11,
          10,
          12,
          49,
          53,
          9,
          11,
          7,
          17,
          16,
          6,
          10,
          31,
          10,
          11,
          25,
          19,
          21,
          5,
          14,
          13,
          21,
          65,
          30,
          9,
          52,
          12,
          10,
          14,
          9,
          8,
          15,
          13,
          52,
          10,
          12,
          16,
          11,
          11,
          10,
          17,
          18,
          5,
          12,
          20,
          35,
          7,
          7,
          14,
          31,
          42,
          10,
          15,
          16,
          12,
          10,
          11,
          15,
          7,
          8,
          21,
          7,
          10,
          7,
          11,
          13,
          15,
          29,
          11,
          20,
          37,
          13,
          9,
          5,
          5,
          15,
          28,
          23,
          54,
          33,
          36,
          10,
          12,
          10,
          10,
          8,
          10,
          15,
          13,
          10,
          9,
          10,
          9,
          18,
          12,
          10,
          16,
          34,
          34,
          40,
          38,
          47,
          29,
          28,
          19,
          4,
          11,
          8,
          14,
          13,
          29,
          19,
          12,
          35,
          35,
          18,
          47,
          6,
          23,
          10,
          11,
          34,
          28,
          16,
          14,
          42,
          11,
          10,
          9,
          32,
          46,
          166,
          58,
          16,
          26,
          33,
          6,
          9,
          46,
          12,
          5,
          20,
          25,
          70,
          11,
          53,
          21,
          36,
          19,
          2,
          21,
          15,
          15,
          5,
          4,
          11,
          6,
          11,
          14,
          21,
          13,
          34,
          12,
          22,
          4,
          14,
          24,
          31,
          32,
          30,
          8,
          35,
          14,
          23,
          34,
          17,
          23,
          32,
          8,
          7,
          15,
          16,
          11,
          15,
          20,
          30,
          49,
          33,
          18,
          25,
          22,
          23,
          4,
          7,
          18,
          35,
          18,
          103
         ],
         "xaxis": "x",
         "yaxis": "y"
        }
       ],
       "layout": {
        "barmode": "relative",
        "legend": {
         "tracegroupgap": 0
        },
        "margin": {
         "t": 60
        },
        "template": {
         "data": {
          "bar": [
           {
            "error_x": {
             "color": "#2a3f5f"
            },
            "error_y": {
             "color": "#2a3f5f"
            },
            "marker": {
             "line": {
              "color": "#E5ECF6",
              "width": 0.5
             },
             "pattern": {
              "fillmode": "overlay",
              "size": 10,
              "solidity": 0.2
             }
            },
            "type": "bar"
           }
          ],
          "barpolar": [
           {
            "marker": {
             "line": {
              "color": "#E5ECF6",
              "width": 0.5
             },
             "pattern": {
              "fillmode": "overlay",
              "size": 10,
              "solidity": 0.2
             }
            },
            "type": "barpolar"
           }
          ],
          "carpet": [
           {
            "aaxis": {
             "endlinecolor": "#2a3f5f",
             "gridcolor": "white",
             "linecolor": "white",
             "minorgridcolor": "white",
             "startlinecolor": "#2a3f5f"
            },
            "baxis": {
             "endlinecolor": "#2a3f5f",
             "gridcolor": "white",
             "linecolor": "white",
             "minorgridcolor": "white",
             "startlinecolor": "#2a3f5f"
            },
            "type": "carpet"
           }
          ],
          "choropleth": [
           {
            "colorbar": {
             "outlinewidth": 0,
             "ticks": ""
            },
            "type": "choropleth"
           }
          ],
          "contour": [
           {
            "colorbar": {
             "outlinewidth": 0,
             "ticks": ""
            },
            "colorscale": [
             [
              0,
              "#0d0887"
             ],
             [
              0.1111111111111111,
              "#46039f"
             ],
             [
              0.2222222222222222,
              "#7201a8"
             ],
             [
              0.3333333333333333,
              "#9c179e"
             ],
             [
              0.4444444444444444,
              "#bd3786"
             ],
             [
              0.5555555555555556,
              "#d8576b"
             ],
             [
              0.6666666666666666,
              "#ed7953"
             ],
             [
              0.7777777777777778,
              "#fb9f3a"
             ],
             [
              0.8888888888888888,
              "#fdca26"
             ],
             [
              1,
              "#f0f921"
             ]
            ],
            "type": "contour"
           }
          ],
          "contourcarpet": [
           {
            "colorbar": {
             "outlinewidth": 0,
             "ticks": ""
            },
            "type": "contourcarpet"
           }
          ],
          "heatmap": [
           {
            "colorbar": {
             "outlinewidth": 0,
             "ticks": ""
            },
            "colorscale": [
             [
              0,
              "#0d0887"
             ],
             [
              0.1111111111111111,
              "#46039f"
             ],
             [
              0.2222222222222222,
              "#7201a8"
             ],
             [
              0.3333333333333333,
              "#9c179e"
             ],
             [
              0.4444444444444444,
              "#bd3786"
             ],
             [
              0.5555555555555556,
              "#d8576b"
             ],
             [
              0.6666666666666666,
              "#ed7953"
             ],
             [
              0.7777777777777778,
              "#fb9f3a"
             ],
             [
              0.8888888888888888,
              "#fdca26"
             ],
             [
              1,
              "#f0f921"
             ]
            ],
            "type": "heatmap"
           }
          ],
          "heatmapgl": [
           {
            "colorbar": {
             "outlinewidth": 0,
             "ticks": ""
            },
            "colorscale": [
             [
              0,
              "#0d0887"
             ],
             [
              0.1111111111111111,
              "#46039f"
             ],
             [
              0.2222222222222222,
              "#7201a8"
             ],
             [
              0.3333333333333333,
              "#9c179e"
             ],
             [
              0.4444444444444444,
              "#bd3786"
             ],
             [
              0.5555555555555556,
              "#d8576b"
             ],
             [
              0.6666666666666666,
              "#ed7953"
             ],
             [
              0.7777777777777778,
              "#fb9f3a"
             ],
             [
              0.8888888888888888,
              "#fdca26"
             ],
             [
              1,
              "#f0f921"
             ]
            ],
            "type": "heatmapgl"
           }
          ],
          "histogram": [
           {
            "marker": {
             "pattern": {
              "fillmode": "overlay",
              "size": 10,
              "solidity": 0.2
             }
            },
            "type": "histogram"
           }
          ],
          "histogram2d": [
           {
            "colorbar": {
             "outlinewidth": 0,
             "ticks": ""
            },
            "colorscale": [
             [
              0,
              "#0d0887"
             ],
             [
              0.1111111111111111,
              "#46039f"
             ],
             [
              0.2222222222222222,
              "#7201a8"
             ],
             [
              0.3333333333333333,
              "#9c179e"
             ],
             [
              0.4444444444444444,
              "#bd3786"
             ],
             [
              0.5555555555555556,
              "#d8576b"
             ],
             [
              0.6666666666666666,
              "#ed7953"
             ],
             [
              0.7777777777777778,
              "#fb9f3a"
             ],
             [
              0.8888888888888888,
              "#fdca26"
             ],
             [
              1,
              "#f0f921"
             ]
            ],
            "type": "histogram2d"
           }
          ],
          "histogram2dcontour": [
           {
            "colorbar": {
             "outlinewidth": 0,
             "ticks": ""
            },
            "colorscale": [
             [
              0,
              "#0d0887"
             ],
             [
              0.1111111111111111,
              "#46039f"
             ],
             [
              0.2222222222222222,
              "#7201a8"
             ],
             [
              0.3333333333333333,
              "#9c179e"
             ],
             [
              0.4444444444444444,
              "#bd3786"
             ],
             [
              0.5555555555555556,
              "#d8576b"
             ],
             [
              0.6666666666666666,
              "#ed7953"
             ],
             [
              0.7777777777777778,
              "#fb9f3a"
             ],
             [
              0.8888888888888888,
              "#fdca26"
             ],
             [
              1,
              "#f0f921"
             ]
            ],
            "type": "histogram2dcontour"
           }
          ],
          "mesh3d": [
           {
            "colorbar": {
             "outlinewidth": 0,
             "ticks": ""
            },
            "type": "mesh3d"
           }
          ],
          "parcoords": [
           {
            "line": {
             "colorbar": {
              "outlinewidth": 0,
              "ticks": ""
             }
            },
            "type": "parcoords"
           }
          ],
          "pie": [
           {
            "automargin": true,
            "type": "pie"
           }
          ],
          "scatter": [
           {
            "fillpattern": {
             "fillmode": "overlay",
             "size": 10,
             "solidity": 0.2
            },
            "type": "scatter"
           }
          ],
          "scatter3d": [
           {
            "line": {
             "colorbar": {
              "outlinewidth": 0,
              "ticks": ""
             }
            },
            "marker": {
             "colorbar": {
              "outlinewidth": 0,
              "ticks": ""
             }
            },
            "type": "scatter3d"
           }
          ],
          "scattercarpet": [
           {
            "marker": {
             "colorbar": {
              "outlinewidth": 0,
              "ticks": ""
             }
            },
            "type": "scattercarpet"
           }
          ],
          "scattergeo": [
           {
            "marker": {
             "colorbar": {
              "outlinewidth": 0,
              "ticks": ""
             }
            },
            "type": "scattergeo"
           }
          ],
          "scattergl": [
           {
            "marker": {
             "colorbar": {
              "outlinewidth": 0,
              "ticks": ""
             }
            },
            "type": "scattergl"
           }
          ],
          "scattermapbox": [
           {
            "marker": {
             "colorbar": {
              "outlinewidth": 0,
              "ticks": ""
             }
            },
            "type": "scattermapbox"
           }
          ],
          "scatterpolar": [
           {
            "marker": {
             "colorbar": {
              "outlinewidth": 0,
              "ticks": ""
             }
            },
            "type": "scatterpolar"
           }
          ],
          "scatterpolargl": [
           {
            "marker": {
             "colorbar": {
              "outlinewidth": 0,
              "ticks": ""
             }
            },
            "type": "scatterpolargl"
           }
          ],
          "scatterternary": [
           {
            "marker": {
             "colorbar": {
              "outlinewidth": 0,
              "ticks": ""
             }
            },
            "type": "scatterternary"
           }
          ],
          "surface": [
           {
            "colorbar": {
             "outlinewidth": 0,
             "ticks": ""
            },
            "colorscale": [
             [
              0,
              "#0d0887"
             ],
             [
              0.1111111111111111,
              "#46039f"
             ],
             [
              0.2222222222222222,
              "#7201a8"
             ],
             [
              0.3333333333333333,
              "#9c179e"
             ],
             [
              0.4444444444444444,
              "#bd3786"
             ],
             [
              0.5555555555555556,
              "#d8576b"
             ],
             [
              0.6666666666666666,
              "#ed7953"
             ],
             [
              0.7777777777777778,
              "#fb9f3a"
             ],
             [
              0.8888888888888888,
              "#fdca26"
             ],
             [
              1,
              "#f0f921"
             ]
            ],
            "type": "surface"
           }
          ],
          "table": [
           {
            "cells": {
             "fill": {
              "color": "#EBF0F8"
             },
             "line": {
              "color": "white"
             }
            },
            "header": {
             "fill": {
              "color": "#C8D4E3"
             },
             "line": {
              "color": "white"
             }
            },
            "type": "table"
           }
          ]
         },
         "layout": {
          "annotationdefaults": {
           "arrowcolor": "#2a3f5f",
           "arrowhead": 0,
           "arrowwidth": 1
          },
          "autotypenumbers": "strict",
          "coloraxis": {
           "colorbar": {
            "outlinewidth": 0,
            "ticks": ""
           }
          },
          "colorscale": {
           "diverging": [
            [
             0,
             "#8e0152"
            ],
            [
             0.1,
             "#c51b7d"
            ],
            [
             0.2,
             "#de77ae"
            ],
            [
             0.3,
             "#f1b6da"
            ],
            [
             0.4,
             "#fde0ef"
            ],
            [
             0.5,
             "#f7f7f7"
            ],
            [
             0.6,
             "#e6f5d0"
            ],
            [
             0.7,
             "#b8e186"
            ],
            [
             0.8,
             "#7fbc41"
            ],
            [
             0.9,
             "#4d9221"
            ],
            [
             1,
             "#276419"
            ]
           ],
           "sequential": [
            [
             0,
             "#0d0887"
            ],
            [
             0.1111111111111111,
             "#46039f"
            ],
            [
             0.2222222222222222,
             "#7201a8"
            ],
            [
             0.3333333333333333,
             "#9c179e"
            ],
            [
             0.4444444444444444,
             "#bd3786"
            ],
            [
             0.5555555555555556,
             "#d8576b"
            ],
            [
             0.6666666666666666,
             "#ed7953"
            ],
            [
             0.7777777777777778,
             "#fb9f3a"
            ],
            [
             0.8888888888888888,
             "#fdca26"
            ],
            [
             1,
             "#f0f921"
            ]
           ],
           "sequentialminus": [
            [
             0,
             "#0d0887"
            ],
            [
             0.1111111111111111,
             "#46039f"
            ],
            [
             0.2222222222222222,
             "#7201a8"
            ],
            [
             0.3333333333333333,
             "#9c179e"
            ],
            [
             0.4444444444444444,
             "#bd3786"
            ],
            [
             0.5555555555555556,
             "#d8576b"
            ],
            [
             0.6666666666666666,
             "#ed7953"
            ],
            [
             0.7777777777777778,
             "#fb9f3a"
            ],
            [
             0.8888888888888888,
             "#fdca26"
            ],
            [
             1,
             "#f0f921"
            ]
           ]
          },
          "colorway": [
           "#636efa",
           "#EF553B",
           "#00cc96",
           "#ab63fa",
           "#FFA15A",
           "#19d3f3",
           "#FF6692",
           "#B6E880",
           "#FF97FF",
           "#FECB52"
          ],
          "font": {
           "color": "#2a3f5f"
          },
          "geo": {
           "bgcolor": "white",
           "lakecolor": "white",
           "landcolor": "#E5ECF6",
           "showlakes": true,
           "showland": true,
           "subunitcolor": "white"
          },
          "hoverlabel": {
           "align": "left"
          },
          "hovermode": "closest",
          "mapbox": {
           "style": "light"
          },
          "paper_bgcolor": "white",
          "plot_bgcolor": "#E5ECF6",
          "polar": {
           "angularaxis": {
            "gridcolor": "white",
            "linecolor": "white",
            "ticks": ""
           },
           "bgcolor": "#E5ECF6",
           "radialaxis": {
            "gridcolor": "white",
            "linecolor": "white",
            "ticks": ""
           }
          },
          "scene": {
           "xaxis": {
            "backgroundcolor": "#E5ECF6",
            "gridcolor": "white",
            "gridwidth": 2,
            "linecolor": "white",
            "showbackground": true,
            "ticks": "",
            "zerolinecolor": "white"
           },
           "yaxis": {
            "backgroundcolor": "#E5ECF6",
            "gridcolor": "white",
            "gridwidth": 2,
            "linecolor": "white",
            "showbackground": true,
            "ticks": "",
            "zerolinecolor": "white"
           },
           "zaxis": {
            "backgroundcolor": "#E5ECF6",
            "gridcolor": "white",
            "gridwidth": 2,
            "linecolor": "white",
            "showbackground": true,
            "ticks": "",
            "zerolinecolor": "white"
           }
          },
          "shapedefaults": {
           "line": {
            "color": "#2a3f5f"
           }
          },
          "ternary": {
           "aaxis": {
            "gridcolor": "white",
            "linecolor": "white",
            "ticks": ""
           },
           "baxis": {
            "gridcolor": "white",
            "linecolor": "white",
            "ticks": ""
           },
           "bgcolor": "#E5ECF6",
           "caxis": {
            "gridcolor": "white",
            "linecolor": "white",
            "ticks": ""
           }
          },
          "title": {
           "x": 0.05
          },
          "xaxis": {
           "automargin": true,
           "gridcolor": "white",
           "linecolor": "white",
           "ticks": "",
           "title": {
            "standoff": 15
           },
           "zerolinecolor": "white",
           "zerolinewidth": 2
          },
          "yaxis": {
           "automargin": true,
           "gridcolor": "white",
           "linecolor": "white",
           "ticks": "",
           "title": {
            "standoff": 15
           },
           "zerolinecolor": "white",
           "zerolinewidth": 2
          }
         }
        },
        "xaxis": {
         "anchor": "y",
         "domain": [
          0,
          1
         ],
         "title": {
          "text": "duration"
         }
        },
        "yaxis": {
         "anchor": "x",
         "domain": [
          0,
          1
         ],
         "title": {
          "text": "count"
         }
        }
       }
      }
     },
     "metadata": {},
     "output_type": "display_data"
    }
   ],
   "source": [
    "px.histogram(df,x='duration',nbins=100)"
   ]
  },
  {
   "cell_type": "code",
   "execution_count": 47,
   "id": "b36be9e7",
   "metadata": {},
   "outputs": [
    {
     "data": {
      "text/html": [
       "<div>\n",
       "<style scoped>\n",
       "    .dataframe tbody tr th:only-of-type {\n",
       "        vertical-align: middle;\n",
       "    }\n",
       "\n",
       "    .dataframe tbody tr th {\n",
       "        vertical-align: top;\n",
       "    }\n",
       "\n",
       "    .dataframe thead th {\n",
       "        text-align: right;\n",
       "    }\n",
       "</style>\n",
       "<table border=\"1\" class=\"dataframe\">\n",
       "  <thead>\n",
       "    <tr style=\"text-align: right;\">\n",
       "      <th></th>\n",
       "      <th>start_date</th>\n",
       "      <th>end_date</th>\n",
       "      <th>category</th>\n",
       "      <th>start</th>\n",
       "      <th>stop</th>\n",
       "      <th>purpose</th>\n",
       "      <th>km</th>\n",
       "      <th>duration</th>\n",
       "      <th>speed</th>\n",
       "    </tr>\n",
       "  </thead>\n",
       "  <tbody>\n",
       "    <tr>\n",
       "      <th>880</th>\n",
       "      <td>2016-10-30 13:24:00</td>\n",
       "      <td>2016-10-30 14:37:00</td>\n",
       "      <td>Business</td>\n",
       "      <td>Bryson City</td>\n",
       "      <td>Asheville</td>\n",
       "      <td>NaN</td>\n",
       "      <td>110.078856</td>\n",
       "      <td>73.0</td>\n",
       "      <td>90.475772</td>\n",
       "    </tr>\n",
       "  </tbody>\n",
       "</table>\n",
       "</div>"
      ],
      "text/plain": [
       "             start_date            end_date  category        start       stop  \\\n",
       "880 2016-10-30 13:24:00 2016-10-30 14:37:00  Business  Bryson City  Asheville   \n",
       "\n",
       "    purpose          km  duration      speed  \n",
       "880     NaN  110.078856      73.0  90.475772  "
      ]
     },
     "execution_count": 47,
     "metadata": {},
     "output_type": "execute_result"
    }
   ],
   "source": [
    "df[df['km'].between(110,120)]"
   ]
  },
  {
   "cell_type": "code",
   "execution_count": 48,
   "id": "017fb4a5",
   "metadata": {},
   "outputs": [
    {
     "data": {
      "text/html": [
       "<div>\n",
       "<style scoped>\n",
       "    .dataframe tbody tr th:only-of-type {\n",
       "        vertical-align: middle;\n",
       "    }\n",
       "\n",
       "    .dataframe tbody tr th {\n",
       "        vertical-align: top;\n",
       "    }\n",
       "\n",
       "    .dataframe thead th {\n",
       "        text-align: right;\n",
       "    }\n",
       "</style>\n",
       "<table border=\"1\" class=\"dataframe\">\n",
       "  <thead>\n",
       "    <tr style=\"text-align: right;\">\n",
       "      <th></th>\n",
       "      <th>start_date</th>\n",
       "      <th>end_date</th>\n",
       "      <th>category</th>\n",
       "      <th>start</th>\n",
       "      <th>stop</th>\n",
       "      <th>purpose</th>\n",
       "      <th>km</th>\n",
       "      <th>duration</th>\n",
       "      <th>speed</th>\n",
       "    </tr>\n",
       "  </thead>\n",
       "  <tbody>\n",
       "    <tr>\n",
       "      <th>0</th>\n",
       "      <td>2016-01-01 21:11:00</td>\n",
       "      <td>2016-01-01 21:17:00</td>\n",
       "      <td>Business</td>\n",
       "      <td>Fort Pierce</td>\n",
       "      <td>Fort Pierce</td>\n",
       "      <td>Meal/Entertain</td>\n",
       "      <td>8.207634</td>\n",
       "      <td>6.0</td>\n",
       "      <td>82.076340</td>\n",
       "    </tr>\n",
       "    <tr>\n",
       "      <th>1</th>\n",
       "      <td>2016-01-02 01:25:00</td>\n",
       "      <td>2016-01-02 01:37:00</td>\n",
       "      <td>Business</td>\n",
       "      <td>Fort Pierce</td>\n",
       "      <td>Fort Pierce</td>\n",
       "      <td>NaN</td>\n",
       "      <td>8.046700</td>\n",
       "      <td>12.0</td>\n",
       "      <td>40.233500</td>\n",
       "    </tr>\n",
       "    <tr>\n",
       "      <th>2</th>\n",
       "      <td>2016-01-02 20:25:00</td>\n",
       "      <td>2016-01-02 20:38:00</td>\n",
       "      <td>Business</td>\n",
       "      <td>Fort Pierce</td>\n",
       "      <td>Fort Pierce</td>\n",
       "      <td>Errand/Supplies</td>\n",
       "      <td>7.724832</td>\n",
       "      <td>13.0</td>\n",
       "      <td>35.653071</td>\n",
       "    </tr>\n",
       "    <tr>\n",
       "      <th>3</th>\n",
       "      <td>2016-01-05 17:31:00</td>\n",
       "      <td>2016-01-05 17:45:00</td>\n",
       "      <td>Business</td>\n",
       "      <td>Fort Pierce</td>\n",
       "      <td>Fort Pierce</td>\n",
       "      <td>Meeting</td>\n",
       "      <td>7.563898</td>\n",
       "      <td>14.0</td>\n",
       "      <td>32.416706</td>\n",
       "    </tr>\n",
       "    <tr>\n",
       "      <th>4</th>\n",
       "      <td>2016-01-06 14:42:00</td>\n",
       "      <td>2016-01-06 15:49:00</td>\n",
       "      <td>Business</td>\n",
       "      <td>Fort Pierce</td>\n",
       "      <td>West Palm Beach</td>\n",
       "      <td>Customer Visit</td>\n",
       "      <td>102.514958</td>\n",
       "      <td>67.0</td>\n",
       "      <td>91.804440</td>\n",
       "    </tr>\n",
       "    <tr>\n",
       "      <th>...</th>\n",
       "      <td>...</td>\n",
       "      <td>...</td>\n",
       "      <td>...</td>\n",
       "      <td>...</td>\n",
       "      <td>...</td>\n",
       "      <td>...</td>\n",
       "      <td>...</td>\n",
       "      <td>...</td>\n",
       "      <td>...</td>\n",
       "    </tr>\n",
       "    <tr>\n",
       "      <th>1150</th>\n",
       "      <td>2016-12-31 01:07:00</td>\n",
       "      <td>2016-12-31 01:14:00</td>\n",
       "      <td>Business</td>\n",
       "      <td>Kar?chi</td>\n",
       "      <td>Kar?chi</td>\n",
       "      <td>Meeting</td>\n",
       "      <td>1.126538</td>\n",
       "      <td>7.0</td>\n",
       "      <td>9.656040</td>\n",
       "    </tr>\n",
       "    <tr>\n",
       "      <th>1151</th>\n",
       "      <td>2016-12-31 13:24:00</td>\n",
       "      <td>2016-12-31 13:42:00</td>\n",
       "      <td>Business</td>\n",
       "      <td>Kar?chi</td>\n",
       "      <td>Unknown Location</td>\n",
       "      <td>Temporary Site</td>\n",
       "      <td>6.276426</td>\n",
       "      <td>18.0</td>\n",
       "      <td>20.921420</td>\n",
       "    </tr>\n",
       "    <tr>\n",
       "      <th>1152</th>\n",
       "      <td>2016-12-31 15:03:00</td>\n",
       "      <td>2016-12-31 15:38:00</td>\n",
       "      <td>Business</td>\n",
       "      <td>Unknown Location</td>\n",
       "      <td>Unknown Location</td>\n",
       "      <td>Meeting</td>\n",
       "      <td>26.071308</td>\n",
       "      <td>35.0</td>\n",
       "      <td>44.693671</td>\n",
       "    </tr>\n",
       "    <tr>\n",
       "      <th>1153</th>\n",
       "      <td>2016-12-31 21:32:00</td>\n",
       "      <td>2016-12-31 21:50:00</td>\n",
       "      <td>Business</td>\n",
       "      <td>Katunayake</td>\n",
       "      <td>Gampaha</td>\n",
       "      <td>Temporary Site</td>\n",
       "      <td>10.299776</td>\n",
       "      <td>18.0</td>\n",
       "      <td>34.332587</td>\n",
       "    </tr>\n",
       "    <tr>\n",
       "      <th>1154</th>\n",
       "      <td>2016-12-31 22:08:00</td>\n",
       "      <td>2016-12-31 23:51:00</td>\n",
       "      <td>Business</td>\n",
       "      <td>Gampaha</td>\n",
       "      <td>Ilukwatta</td>\n",
       "      <td>Temporary Site</td>\n",
       "      <td>77.570188</td>\n",
       "      <td>103.0</td>\n",
       "      <td>45.186517</td>\n",
       "    </tr>\n",
       "  </tbody>\n",
       "</table>\n",
       "<p>1074 rows × 9 columns</p>\n",
       "</div>"
      ],
      "text/plain": [
       "              start_date            end_date  category             start  \\\n",
       "0    2016-01-01 21:11:00 2016-01-01 21:17:00  Business       Fort Pierce   \n",
       "1    2016-01-02 01:25:00 2016-01-02 01:37:00  Business       Fort Pierce   \n",
       "2    2016-01-02 20:25:00 2016-01-02 20:38:00  Business       Fort Pierce   \n",
       "3    2016-01-05 17:31:00 2016-01-05 17:45:00  Business       Fort Pierce   \n",
       "4    2016-01-06 14:42:00 2016-01-06 15:49:00  Business       Fort Pierce   \n",
       "...                  ...                 ...       ...               ...   \n",
       "1150 2016-12-31 01:07:00 2016-12-31 01:14:00  Business           Kar?chi   \n",
       "1151 2016-12-31 13:24:00 2016-12-31 13:42:00  Business           Kar?chi   \n",
       "1152 2016-12-31 15:03:00 2016-12-31 15:38:00  Business  Unknown Location   \n",
       "1153 2016-12-31 21:32:00 2016-12-31 21:50:00  Business        Katunayake   \n",
       "1154 2016-12-31 22:08:00 2016-12-31 23:51:00  Business           Gampaha   \n",
       "\n",
       "                  stop          purpose          km  duration      speed  \n",
       "0          Fort Pierce   Meal/Entertain    8.207634       6.0  82.076340  \n",
       "1          Fort Pierce              NaN    8.046700      12.0  40.233500  \n",
       "2          Fort Pierce  Errand/Supplies    7.724832      13.0  35.653071  \n",
       "3          Fort Pierce          Meeting    7.563898      14.0  32.416706  \n",
       "4      West Palm Beach   Customer Visit  102.514958      67.0  91.804440  \n",
       "...                ...              ...         ...       ...        ...  \n",
       "1150           Kar?chi          Meeting    1.126538       7.0   9.656040  \n",
       "1151  Unknown Location   Temporary Site    6.276426      18.0  20.921420  \n",
       "1152  Unknown Location          Meeting   26.071308      35.0  44.693671  \n",
       "1153           Gampaha   Temporary Site   10.299776      18.0  34.332587  \n",
       "1154         Ilukwatta   Temporary Site   77.570188     103.0  45.186517  \n",
       "\n",
       "[1074 rows x 9 columns]"
      ]
     },
     "execution_count": 48,
     "metadata": {},
     "output_type": "execute_result"
    }
   ],
   "source": [
    "df[df['category'].isin(['Business'])]"
   ]
  },
  {
   "cell_type": "code",
   "execution_count": 49,
   "id": "30012055",
   "metadata": {},
   "outputs": [
    {
     "data": {
      "text/html": [
       "<div>\n",
       "<style scoped>\n",
       "    .dataframe tbody tr th:only-of-type {\n",
       "        vertical-align: middle;\n",
       "    }\n",
       "\n",
       "    .dataframe tbody tr th {\n",
       "        vertical-align: top;\n",
       "    }\n",
       "\n",
       "    .dataframe thead th {\n",
       "        text-align: right;\n",
       "    }\n",
       "</style>\n",
       "<table border=\"1\" class=\"dataframe\">\n",
       "  <thead>\n",
       "    <tr style=\"text-align: right;\">\n",
       "      <th></th>\n",
       "      <th>start_date</th>\n",
       "      <th>end_date</th>\n",
       "      <th>category</th>\n",
       "      <th>start</th>\n",
       "      <th>stop</th>\n",
       "      <th>purpose</th>\n",
       "      <th>km</th>\n",
       "      <th>duration</th>\n",
       "      <th>speed</th>\n",
       "    </tr>\n",
       "  </thead>\n",
       "  <tbody>\n",
       "    <tr>\n",
       "      <th>6</th>\n",
       "      <td>2016-01-06 17:30:00</td>\n",
       "      <td>2016-01-06 17:35:00</td>\n",
       "      <td>Business</td>\n",
       "      <td>West Palm Beach</td>\n",
       "      <td>Palm Beach</td>\n",
       "      <td>Meeting</td>\n",
       "      <td>11.426314</td>\n",
       "      <td>5.0</td>\n",
       "      <td>137.115768</td>\n",
       "    </tr>\n",
       "    <tr>\n",
       "      <th>39</th>\n",
       "      <td>2016-01-21 16:01:00</td>\n",
       "      <td>2016-01-21 16:06:00</td>\n",
       "      <td>Business</td>\n",
       "      <td>Cary</td>\n",
       "      <td>Cary</td>\n",
       "      <td>Meal/Entertain</td>\n",
       "      <td>1.609340</td>\n",
       "      <td>5.0</td>\n",
       "      <td>19.312080</td>\n",
       "    </tr>\n",
       "    <tr>\n",
       "      <th>43</th>\n",
       "      <td>2016-01-26 17:17:00</td>\n",
       "      <td>2016-01-26 17:22:00</td>\n",
       "      <td>Business</td>\n",
       "      <td>Cary</td>\n",
       "      <td>Cary</td>\n",
       "      <td>Errand/Supplies</td>\n",
       "      <td>2.253076</td>\n",
       "      <td>5.0</td>\n",
       "      <td>27.036912</td>\n",
       "    </tr>\n",
       "    <tr>\n",
       "      <th>118</th>\n",
       "      <td>2016-02-17 15:17:00</td>\n",
       "      <td>2016-02-17 15:22:00</td>\n",
       "      <td>Business</td>\n",
       "      <td>Colombo</td>\n",
       "      <td>Colombo</td>\n",
       "      <td>Meal/Entertain</td>\n",
       "      <td>2.735878</td>\n",
       "      <td>5.0</td>\n",
       "      <td>32.830536</td>\n",
       "    </tr>\n",
       "    <tr>\n",
       "      <th>120</th>\n",
       "      <td>2016-02-17 16:38:00</td>\n",
       "      <td>2016-02-17 16:43:00</td>\n",
       "      <td>Business</td>\n",
       "      <td>Katunayaka</td>\n",
       "      <td>Katunayaka</td>\n",
       "      <td>Errand/Supplies</td>\n",
       "      <td>0.804670</td>\n",
       "      <td>5.0</td>\n",
       "      <td>9.656040</td>\n",
       "    </tr>\n",
       "    <tr>\n",
       "      <th>130</th>\n",
       "      <td>2016-02-19 11:45:00</td>\n",
       "      <td>2016-02-19 11:50:00</td>\n",
       "      <td>Personal</td>\n",
       "      <td>Islamabad</td>\n",
       "      <td>Islamabad</td>\n",
       "      <td>NaN</td>\n",
       "      <td>1.609340</td>\n",
       "      <td>5.0</td>\n",
       "      <td>19.312080</td>\n",
       "    </tr>\n",
       "    <tr>\n",
       "      <th>152</th>\n",
       "      <td>2016-02-21 15:36:00</td>\n",
       "      <td>2016-02-21 15:41:00</td>\n",
       "      <td>Business</td>\n",
       "      <td>Noorpur Shahan</td>\n",
       "      <td>Unknown Location</td>\n",
       "      <td>Meal/Entertain</td>\n",
       "      <td>3.540548</td>\n",
       "      <td>5.0</td>\n",
       "      <td>42.486576</td>\n",
       "    </tr>\n",
       "    <tr>\n",
       "      <th>156</th>\n",
       "      <td>2016-02-24 14:30:00</td>\n",
       "      <td>2016-02-24 14:35:00</td>\n",
       "      <td>Business</td>\n",
       "      <td>Whitebridge</td>\n",
       "      <td>Preston</td>\n",
       "      <td>NaN</td>\n",
       "      <td>2.414010</td>\n",
       "      <td>5.0</td>\n",
       "      <td>28.968120</td>\n",
       "    </tr>\n",
       "    <tr>\n",
       "      <th>257</th>\n",
       "      <td>2016-03-21 10:21:00</td>\n",
       "      <td>2016-03-21 10:26:00</td>\n",
       "      <td>Personal</td>\n",
       "      <td>Midtown</td>\n",
       "      <td>Downtown</td>\n",
       "      <td>NaN</td>\n",
       "      <td>1.609340</td>\n",
       "      <td>5.0</td>\n",
       "      <td>19.312080</td>\n",
       "    </tr>\n",
       "    <tr>\n",
       "      <th>264</th>\n",
       "      <td>2016-03-23 14:37:00</td>\n",
       "      <td>2016-03-23 14:42:00</td>\n",
       "      <td>Personal</td>\n",
       "      <td>Whitebridge</td>\n",
       "      <td>Preston</td>\n",
       "      <td>NaN</td>\n",
       "      <td>2.735878</td>\n",
       "      <td>5.0</td>\n",
       "      <td>32.830536</td>\n",
       "    </tr>\n",
       "    <tr>\n",
       "      <th>292</th>\n",
       "      <td>2016-04-01 16:52:00</td>\n",
       "      <td>2016-04-01 16:57:00</td>\n",
       "      <td>Personal</td>\n",
       "      <td>Kissimmee</td>\n",
       "      <td>Kissimmee</td>\n",
       "      <td>NaN</td>\n",
       "      <td>1.126538</td>\n",
       "      <td>5.0</td>\n",
       "      <td>13.518456</td>\n",
       "    </tr>\n",
       "    <tr>\n",
       "      <th>344</th>\n",
       "      <td>2016-05-01 14:26:00</td>\n",
       "      <td>2016-05-01 14:31:00</td>\n",
       "      <td>Business</td>\n",
       "      <td>Westpark Place</td>\n",
       "      <td>Whitebridge</td>\n",
       "      <td>NaN</td>\n",
       "      <td>3.701482</td>\n",
       "      <td>5.0</td>\n",
       "      <td>44.417784</td>\n",
       "    </tr>\n",
       "    <tr>\n",
       "      <th>427</th>\n",
       "      <td>2016-06-11 17:34:00</td>\n",
       "      <td>2016-06-11 17:39:00</td>\n",
       "      <td>Business</td>\n",
       "      <td>Morrisville</td>\n",
       "      <td>Cary</td>\n",
       "      <td>Meal/Entertain</td>\n",
       "      <td>7.402964</td>\n",
       "      <td>5.0</td>\n",
       "      <td>88.835568</td>\n",
       "    </tr>\n",
       "    <tr>\n",
       "      <th>438</th>\n",
       "      <td>2016-06-13 20:00:00</td>\n",
       "      <td>2016-06-13 20:05:00</td>\n",
       "      <td>Business</td>\n",
       "      <td>Oakland</td>\n",
       "      <td>Unknown Location</td>\n",
       "      <td>Customer Visit</td>\n",
       "      <td>8.368568</td>\n",
       "      <td>5.0</td>\n",
       "      <td>100.422816</td>\n",
       "    </tr>\n",
       "    <tr>\n",
       "      <th>496</th>\n",
       "      <td>2016-06-29 12:11:00</td>\n",
       "      <td>2016-06-29 12:16:00</td>\n",
       "      <td>Business</td>\n",
       "      <td>Westpark Place</td>\n",
       "      <td>Whitebridge</td>\n",
       "      <td>NaN</td>\n",
       "      <td>2.896812</td>\n",
       "      <td>5.0</td>\n",
       "      <td>34.761744</td>\n",
       "    </tr>\n",
       "    <tr>\n",
       "      <th>514</th>\n",
       "      <td>2016-07-05 00:00:00</td>\n",
       "      <td>2016-07-05 00:05:00</td>\n",
       "      <td>Business</td>\n",
       "      <td>Parkwood</td>\n",
       "      <td>Parkwood</td>\n",
       "      <td>Errand/Supplies</td>\n",
       "      <td>1.931208</td>\n",
       "      <td>5.0</td>\n",
       "      <td>23.174496</td>\n",
       "    </tr>\n",
       "    <tr>\n",
       "      <th>539</th>\n",
       "      <td>2016-07-12 19:21:00</td>\n",
       "      <td>2016-07-12 19:26:00</td>\n",
       "      <td>Personal</td>\n",
       "      <td>Kenner</td>\n",
       "      <td>Kenner</td>\n",
       "      <td>NaN</td>\n",
       "      <td>2.253076</td>\n",
       "      <td>5.0</td>\n",
       "      <td>27.036912</td>\n",
       "    </tr>\n",
       "    <tr>\n",
       "      <th>606</th>\n",
       "      <td>2016-07-28 00:04:00</td>\n",
       "      <td>2016-07-28 00:09:00</td>\n",
       "      <td>Business</td>\n",
       "      <td>Morrisville</td>\n",
       "      <td>Cary</td>\n",
       "      <td>NaN</td>\n",
       "      <td>3.701482</td>\n",
       "      <td>5.0</td>\n",
       "      <td>44.417784</td>\n",
       "    </tr>\n",
       "    <tr>\n",
       "      <th>669</th>\n",
       "      <td>2016-08-17 14:45:00</td>\n",
       "      <td>2016-08-17 14:50:00</td>\n",
       "      <td>Business</td>\n",
       "      <td>Unknown Location</td>\n",
       "      <td>R?walpindi</td>\n",
       "      <td>NaN</td>\n",
       "      <td>2.253076</td>\n",
       "      <td>5.0</td>\n",
       "      <td>27.036912</td>\n",
       "    </tr>\n",
       "    <tr>\n",
       "      <th>703</th>\n",
       "      <td>2016-08-23 15:07:00</td>\n",
       "      <td>2016-08-23 15:12:00</td>\n",
       "      <td>Business</td>\n",
       "      <td>Unknown Location</td>\n",
       "      <td>Unknown Location</td>\n",
       "      <td>NaN</td>\n",
       "      <td>3.057746</td>\n",
       "      <td>5.0</td>\n",
       "      <td>36.692952</td>\n",
       "    </tr>\n",
       "    <tr>\n",
       "      <th>725</th>\n",
       "      <td>2016-08-27 12:12:00</td>\n",
       "      <td>2016-08-27 12:17:00</td>\n",
       "      <td>Business</td>\n",
       "      <td>Lahore</td>\n",
       "      <td>Lahore</td>\n",
       "      <td>NaN</td>\n",
       "      <td>1.448406</td>\n",
       "      <td>5.0</td>\n",
       "      <td>17.380872</td>\n",
       "    </tr>\n",
       "    <tr>\n",
       "      <th>755</th>\n",
       "      <td>2016-09-12 08:07:00</td>\n",
       "      <td>2016-09-12 08:12:00</td>\n",
       "      <td>Business</td>\n",
       "      <td>Unknown Location</td>\n",
       "      <td>Unknown Location</td>\n",
       "      <td>NaN</td>\n",
       "      <td>5.793624</td>\n",
       "      <td>5.0</td>\n",
       "      <td>69.523488</td>\n",
       "    </tr>\n",
       "    <tr>\n",
       "      <th>760</th>\n",
       "      <td>2016-09-15 20:33:00</td>\n",
       "      <td>2016-09-15 20:38:00</td>\n",
       "      <td>Business</td>\n",
       "      <td>Unknown Location</td>\n",
       "      <td>Unknown Location</td>\n",
       "      <td>NaN</td>\n",
       "      <td>1.448406</td>\n",
       "      <td>5.0</td>\n",
       "      <td>17.380872</td>\n",
       "    </tr>\n",
       "    <tr>\n",
       "      <th>900</th>\n",
       "      <td>2016-11-03 13:42:00</td>\n",
       "      <td>2016-11-03 13:47:00</td>\n",
       "      <td>Business</td>\n",
       "      <td>Whitebridge</td>\n",
       "      <td>Westpark Place</td>\n",
       "      <td>NaN</td>\n",
       "      <td>2.253076</td>\n",
       "      <td>5.0</td>\n",
       "      <td>27.036912</td>\n",
       "    </tr>\n",
       "    <tr>\n",
       "      <th>925</th>\n",
       "      <td>2016-11-09 18:09:00</td>\n",
       "      <td>2016-11-09 18:14:00</td>\n",
       "      <td>Business</td>\n",
       "      <td>Sunnyside</td>\n",
       "      <td>Ingleside</td>\n",
       "      <td>NaN</td>\n",
       "      <td>1.126538</td>\n",
       "      <td>5.0</td>\n",
       "      <td>13.518456</td>\n",
       "    </tr>\n",
       "    <tr>\n",
       "      <th>933</th>\n",
       "      <td>2016-11-10 15:17:00</td>\n",
       "      <td>2016-11-10 15:22:00</td>\n",
       "      <td>Business</td>\n",
       "      <td>San Francisco</td>\n",
       "      <td>Oakland</td>\n",
       "      <td>Temporary Site</td>\n",
       "      <td>15.932466</td>\n",
       "      <td>5.0</td>\n",
       "      <td>191.189592</td>\n",
       "    </tr>\n",
       "    <tr>\n",
       "      <th>975</th>\n",
       "      <td>2016-11-19 16:01:00</td>\n",
       "      <td>2016-11-19 16:06:00</td>\n",
       "      <td>Business</td>\n",
       "      <td>Cary</td>\n",
       "      <td>Cary</td>\n",
       "      <td>NaN</td>\n",
       "      <td>2.414010</td>\n",
       "      <td>5.0</td>\n",
       "      <td>28.968120</td>\n",
       "    </tr>\n",
       "    <tr>\n",
       "      <th>999</th>\n",
       "      <td>2016-11-26 15:54:00</td>\n",
       "      <td>2016-11-26 15:59:00</td>\n",
       "      <td>Business</td>\n",
       "      <td>Cary</td>\n",
       "      <td>Cary</td>\n",
       "      <td>NaN</td>\n",
       "      <td>2.253076</td>\n",
       "      <td>5.0</td>\n",
       "      <td>27.036912</td>\n",
       "    </tr>\n",
       "    <tr>\n",
       "      <th>1030</th>\n",
       "      <td>2016-12-08 19:22:00</td>\n",
       "      <td>2016-12-08 19:27:00</td>\n",
       "      <td>Business</td>\n",
       "      <td>Cary</td>\n",
       "      <td>Cary</td>\n",
       "      <td>Meeting</td>\n",
       "      <td>3.218680</td>\n",
       "      <td>5.0</td>\n",
       "      <td>38.624160</td>\n",
       "    </tr>\n",
       "    <tr>\n",
       "      <th>1031</th>\n",
       "      <td>2016-12-08 21:26:00</td>\n",
       "      <td>2016-12-08 21:31:00</td>\n",
       "      <td>Business</td>\n",
       "      <td>Cary</td>\n",
       "      <td>Cary</td>\n",
       "      <td>Errand/Supplies</td>\n",
       "      <td>3.218680</td>\n",
       "      <td>5.0</td>\n",
       "      <td>38.624160</td>\n",
       "    </tr>\n",
       "    <tr>\n",
       "      <th>1097</th>\n",
       "      <td>2016-12-22 23:27:00</td>\n",
       "      <td>2016-12-22 23:32:00</td>\n",
       "      <td>Business</td>\n",
       "      <td>Lahore</td>\n",
       "      <td>Lahore</td>\n",
       "      <td>Customer Visit</td>\n",
       "      <td>3.379614</td>\n",
       "      <td>5.0</td>\n",
       "      <td>40.555368</td>\n",
       "    </tr>\n",
       "    <tr>\n",
       "      <th>1110</th>\n",
       "      <td>2016-12-24 22:04:00</td>\n",
       "      <td>2016-12-24 22:09:00</td>\n",
       "      <td>Business</td>\n",
       "      <td>Lahore</td>\n",
       "      <td>Lahore</td>\n",
       "      <td>Errand/Supplies</td>\n",
       "      <td>0.965604</td>\n",
       "      <td>5.0</td>\n",
       "      <td>11.587248</td>\n",
       "    </tr>\n",
       "  </tbody>\n",
       "</table>\n",
       "</div>"
      ],
      "text/plain": [
       "              start_date            end_date  category             start  \\\n",
       "6    2016-01-06 17:30:00 2016-01-06 17:35:00  Business   West Palm Beach   \n",
       "39   2016-01-21 16:01:00 2016-01-21 16:06:00  Business              Cary   \n",
       "43   2016-01-26 17:17:00 2016-01-26 17:22:00  Business              Cary   \n",
       "118  2016-02-17 15:17:00 2016-02-17 15:22:00  Business           Colombo   \n",
       "120  2016-02-17 16:38:00 2016-02-17 16:43:00  Business        Katunayaka   \n",
       "130  2016-02-19 11:45:00 2016-02-19 11:50:00  Personal         Islamabad   \n",
       "152  2016-02-21 15:36:00 2016-02-21 15:41:00  Business    Noorpur Shahan   \n",
       "156  2016-02-24 14:30:00 2016-02-24 14:35:00  Business       Whitebridge   \n",
       "257  2016-03-21 10:21:00 2016-03-21 10:26:00  Personal           Midtown   \n",
       "264  2016-03-23 14:37:00 2016-03-23 14:42:00  Personal       Whitebridge   \n",
       "292  2016-04-01 16:52:00 2016-04-01 16:57:00  Personal         Kissimmee   \n",
       "344  2016-05-01 14:26:00 2016-05-01 14:31:00  Business    Westpark Place   \n",
       "427  2016-06-11 17:34:00 2016-06-11 17:39:00  Business       Morrisville   \n",
       "438  2016-06-13 20:00:00 2016-06-13 20:05:00  Business           Oakland   \n",
       "496  2016-06-29 12:11:00 2016-06-29 12:16:00  Business    Westpark Place   \n",
       "514  2016-07-05 00:00:00 2016-07-05 00:05:00  Business          Parkwood   \n",
       "539  2016-07-12 19:21:00 2016-07-12 19:26:00  Personal            Kenner   \n",
       "606  2016-07-28 00:04:00 2016-07-28 00:09:00  Business       Morrisville   \n",
       "669  2016-08-17 14:45:00 2016-08-17 14:50:00  Business  Unknown Location   \n",
       "703  2016-08-23 15:07:00 2016-08-23 15:12:00  Business  Unknown Location   \n",
       "725  2016-08-27 12:12:00 2016-08-27 12:17:00  Business            Lahore   \n",
       "755  2016-09-12 08:07:00 2016-09-12 08:12:00  Business  Unknown Location   \n",
       "760  2016-09-15 20:33:00 2016-09-15 20:38:00  Business  Unknown Location   \n",
       "900  2016-11-03 13:42:00 2016-11-03 13:47:00  Business       Whitebridge   \n",
       "925  2016-11-09 18:09:00 2016-11-09 18:14:00  Business         Sunnyside   \n",
       "933  2016-11-10 15:17:00 2016-11-10 15:22:00  Business     San Francisco   \n",
       "975  2016-11-19 16:01:00 2016-11-19 16:06:00  Business              Cary   \n",
       "999  2016-11-26 15:54:00 2016-11-26 15:59:00  Business              Cary   \n",
       "1030 2016-12-08 19:22:00 2016-12-08 19:27:00  Business              Cary   \n",
       "1031 2016-12-08 21:26:00 2016-12-08 21:31:00  Business              Cary   \n",
       "1097 2016-12-22 23:27:00 2016-12-22 23:32:00  Business            Lahore   \n",
       "1110 2016-12-24 22:04:00 2016-12-24 22:09:00  Business            Lahore   \n",
       "\n",
       "                  stop          purpose         km  duration       speed  \n",
       "6           Palm Beach          Meeting  11.426314       5.0  137.115768  \n",
       "39                Cary   Meal/Entertain   1.609340       5.0   19.312080  \n",
       "43                Cary  Errand/Supplies   2.253076       5.0   27.036912  \n",
       "118            Colombo   Meal/Entertain   2.735878       5.0   32.830536  \n",
       "120         Katunayaka  Errand/Supplies   0.804670       5.0    9.656040  \n",
       "130          Islamabad              NaN   1.609340       5.0   19.312080  \n",
       "152   Unknown Location   Meal/Entertain   3.540548       5.0   42.486576  \n",
       "156            Preston              NaN   2.414010       5.0   28.968120  \n",
       "257           Downtown              NaN   1.609340       5.0   19.312080  \n",
       "264            Preston              NaN   2.735878       5.0   32.830536  \n",
       "292          Kissimmee              NaN   1.126538       5.0   13.518456  \n",
       "344        Whitebridge              NaN   3.701482       5.0   44.417784  \n",
       "427               Cary   Meal/Entertain   7.402964       5.0   88.835568  \n",
       "438   Unknown Location   Customer Visit   8.368568       5.0  100.422816  \n",
       "496        Whitebridge              NaN   2.896812       5.0   34.761744  \n",
       "514           Parkwood  Errand/Supplies   1.931208       5.0   23.174496  \n",
       "539             Kenner              NaN   2.253076       5.0   27.036912  \n",
       "606               Cary              NaN   3.701482       5.0   44.417784  \n",
       "669         R?walpindi              NaN   2.253076       5.0   27.036912  \n",
       "703   Unknown Location              NaN   3.057746       5.0   36.692952  \n",
       "725             Lahore              NaN   1.448406       5.0   17.380872  \n",
       "755   Unknown Location              NaN   5.793624       5.0   69.523488  \n",
       "760   Unknown Location              NaN   1.448406       5.0   17.380872  \n",
       "900     Westpark Place              NaN   2.253076       5.0   27.036912  \n",
       "925          Ingleside              NaN   1.126538       5.0   13.518456  \n",
       "933            Oakland   Temporary Site  15.932466       5.0  191.189592  \n",
       "975               Cary              NaN   2.414010       5.0   28.968120  \n",
       "999               Cary              NaN   2.253076       5.0   27.036912  \n",
       "1030              Cary          Meeting   3.218680       5.0   38.624160  \n",
       "1031              Cary  Errand/Supplies   3.218680       5.0   38.624160  \n",
       "1097            Lahore   Customer Visit   3.379614       5.0   40.555368  \n",
       "1110            Lahore  Errand/Supplies   0.965604       5.0   11.587248  "
      ]
     },
     "execution_count": 49,
     "metadata": {},
     "output_type": "execute_result"
    }
   ],
   "source": [
    "data = df[df.duration == 5]\n",
    "data"
   ]
  },
  {
   "cell_type": "code",
   "execution_count": 50,
   "id": "21db77ca",
   "metadata": {},
   "outputs": [],
   "source": [
    "# data.iloc[4]['duration']\n",
    "# data.at[4,'duration'] \n"
   ]
  },
  {
   "cell_type": "code",
   "execution_count": 51,
   "id": "80e915da",
   "metadata": {},
   "outputs": [
    {
     "data": {
      "text/html": [
       "<div>\n",
       "<style scoped>\n",
       "    .dataframe tbody tr th:only-of-type {\n",
       "        vertical-align: middle;\n",
       "    }\n",
       "\n",
       "    .dataframe tbody tr th {\n",
       "        vertical-align: top;\n",
       "    }\n",
       "\n",
       "    .dataframe thead th {\n",
       "        text-align: right;\n",
       "    }\n",
       "</style>\n",
       "<table border=\"1\" class=\"dataframe\">\n",
       "  <thead>\n",
       "    <tr style=\"text-align: right;\">\n",
       "      <th></th>\n",
       "      <th>start_date</th>\n",
       "      <th>end_date</th>\n",
       "      <th>category</th>\n",
       "      <th>start</th>\n",
       "      <th>stop</th>\n",
       "      <th>purpose</th>\n",
       "      <th>km</th>\n",
       "      <th>duration</th>\n",
       "      <th>speed</th>\n",
       "    </tr>\n",
       "  </thead>\n",
       "  <tbody>\n",
       "    <tr>\n",
       "      <th>786</th>\n",
       "      <td>2016-10-04 12:17:00</td>\n",
       "      <td>2016-10-04 12:18:00</td>\n",
       "      <td>Business</td>\n",
       "      <td>Unknown Location</td>\n",
       "      <td>Unknown Location</td>\n",
       "      <td>NaN</td>\n",
       "      <td>24.301034</td>\n",
       "      <td>1.0</td>\n",
       "      <td>1458.062040</td>\n",
       "    </tr>\n",
       "    <tr>\n",
       "      <th>791</th>\n",
       "      <td>2016-10-07 10:56:00</td>\n",
       "      <td>2016-10-07 10:59:00</td>\n",
       "      <td>Business</td>\n",
       "      <td>Unknown Location</td>\n",
       "      <td>Lahore</td>\n",
       "      <td>NaN</td>\n",
       "      <td>53.430088</td>\n",
       "      <td>3.0</td>\n",
       "      <td>1068.601760</td>\n",
       "    </tr>\n",
       "    <tr>\n",
       "      <th>789</th>\n",
       "      <td>2016-10-06 18:37:00</td>\n",
       "      <td>2016-10-06 18:39:00</td>\n",
       "      <td>Business</td>\n",
       "      <td>Unknown Location</td>\n",
       "      <td>Unknown Location</td>\n",
       "      <td>NaN</td>\n",
       "      <td>29.611856</td>\n",
       "      <td>2.0</td>\n",
       "      <td>888.355680</td>\n",
       "    </tr>\n",
       "    <tr>\n",
       "      <th>788</th>\n",
       "      <td>2016-10-06 17:23:00</td>\n",
       "      <td>2016-10-06 17:40:00</td>\n",
       "      <td>Business</td>\n",
       "      <td>R?walpindi</td>\n",
       "      <td>Unknown Location</td>\n",
       "      <td>NaN</td>\n",
       "      <td>181.211684</td>\n",
       "      <td>17.0</td>\n",
       "      <td>639.570649</td>\n",
       "    </tr>\n",
       "    <tr>\n",
       "      <th>804</th>\n",
       "      <td>2016-10-12 19:18:00</td>\n",
       "      <td>2016-10-12 19:21:00</td>\n",
       "      <td>Business</td>\n",
       "      <td>R?walpindi</td>\n",
       "      <td>Unknown Location</td>\n",
       "      <td>NaN</td>\n",
       "      <td>29.611856</td>\n",
       "      <td>3.0</td>\n",
       "      <td>592.237120</td>\n",
       "    </tr>\n",
       "    <tr>\n",
       "      <th>...</th>\n",
       "      <td>...</td>\n",
       "      <td>...</td>\n",
       "      <td>...</td>\n",
       "      <td>...</td>\n",
       "      <td>...</td>\n",
       "      <td>...</td>\n",
       "      <td>...</td>\n",
       "      <td>...</td>\n",
       "      <td>...</td>\n",
       "    </tr>\n",
       "    <tr>\n",
       "      <th>1150</th>\n",
       "      <td>2016-12-31 01:07:00</td>\n",
       "      <td>2016-12-31 01:14:00</td>\n",
       "      <td>Business</td>\n",
       "      <td>Kar?chi</td>\n",
       "      <td>Kar?chi</td>\n",
       "      <td>Meeting</td>\n",
       "      <td>1.126538</td>\n",
       "      <td>7.0</td>\n",
       "      <td>9.656040</td>\n",
       "    </tr>\n",
       "    <tr>\n",
       "      <th>775</th>\n",
       "      <td>2016-09-27 19:14:00</td>\n",
       "      <td>2016-09-27 20:34:00</td>\n",
       "      <td>Business</td>\n",
       "      <td>Lahore</td>\n",
       "      <td>Unknown Location</td>\n",
       "      <td>NaN</td>\n",
       "      <td>11.748182</td>\n",
       "      <td>80.0</td>\n",
       "      <td>8.811136</td>\n",
       "    </tr>\n",
       "    <tr>\n",
       "      <th>778</th>\n",
       "      <td>2016-09-29 16:13:00</td>\n",
       "      <td>2016-09-29 18:47:00</td>\n",
       "      <td>Business</td>\n",
       "      <td>Unknown Location</td>\n",
       "      <td>Islamabad</td>\n",
       "      <td>NaN</td>\n",
       "      <td>20.277684</td>\n",
       "      <td>154.0</td>\n",
       "      <td>7.900396</td>\n",
       "    </tr>\n",
       "    <tr>\n",
       "      <th>769</th>\n",
       "      <td>2016-09-20 20:47:00</td>\n",
       "      <td>2016-09-20 22:47:00</td>\n",
       "      <td>Business</td>\n",
       "      <td>Unknown Location</td>\n",
       "      <td>R?walpindi</td>\n",
       "      <td>NaN</td>\n",
       "      <td>15.449664</td>\n",
       "      <td>120.0</td>\n",
       "      <td>7.724832</td>\n",
       "    </tr>\n",
       "    <tr>\n",
       "      <th>704</th>\n",
       "      <td>2016-08-23 15:15:00</td>\n",
       "      <td>2016-08-23 17:16:00</td>\n",
       "      <td>Business</td>\n",
       "      <td>Unknown Location</td>\n",
       "      <td>Unknown Location</td>\n",
       "      <td>NaN</td>\n",
       "      <td>12.713786</td>\n",
       "      <td>121.0</td>\n",
       "      <td>6.304357</td>\n",
       "    </tr>\n",
       "  </tbody>\n",
       "</table>\n",
       "<p>1151 rows × 9 columns</p>\n",
       "</div>"
      ],
      "text/plain": [
       "              start_date            end_date  category             start  \\\n",
       "786  2016-10-04 12:17:00 2016-10-04 12:18:00  Business  Unknown Location   \n",
       "791  2016-10-07 10:56:00 2016-10-07 10:59:00  Business  Unknown Location   \n",
       "789  2016-10-06 18:37:00 2016-10-06 18:39:00  Business  Unknown Location   \n",
       "788  2016-10-06 17:23:00 2016-10-06 17:40:00  Business        R?walpindi   \n",
       "804  2016-10-12 19:18:00 2016-10-12 19:21:00  Business        R?walpindi   \n",
       "...                  ...                 ...       ...               ...   \n",
       "1150 2016-12-31 01:07:00 2016-12-31 01:14:00  Business           Kar?chi   \n",
       "775  2016-09-27 19:14:00 2016-09-27 20:34:00  Business            Lahore   \n",
       "778  2016-09-29 16:13:00 2016-09-29 18:47:00  Business  Unknown Location   \n",
       "769  2016-09-20 20:47:00 2016-09-20 22:47:00  Business  Unknown Location   \n",
       "704  2016-08-23 15:15:00 2016-08-23 17:16:00  Business  Unknown Location   \n",
       "\n",
       "                  stop  purpose          km  duration        speed  \n",
       "786   Unknown Location      NaN   24.301034       1.0  1458.062040  \n",
       "791             Lahore      NaN   53.430088       3.0  1068.601760  \n",
       "789   Unknown Location      NaN   29.611856       2.0   888.355680  \n",
       "788   Unknown Location      NaN  181.211684      17.0   639.570649  \n",
       "804   Unknown Location      NaN   29.611856       3.0   592.237120  \n",
       "...                ...      ...         ...       ...          ...  \n",
       "1150           Kar?chi  Meeting    1.126538       7.0     9.656040  \n",
       "775   Unknown Location      NaN   11.748182      80.0     8.811136  \n",
       "778          Islamabad      NaN   20.277684     154.0     7.900396  \n",
       "769         R?walpindi      NaN   15.449664     120.0     7.724832  \n",
       "704   Unknown Location      NaN   12.713786     121.0     6.304357  \n",
       "\n",
       "[1151 rows x 9 columns]"
      ]
     },
     "execution_count": 51,
     "metadata": {},
     "output_type": "execute_result"
    }
   ],
   "source": [
    "df.sort_values('speed',ascending=False)"
   ]
  },
  {
   "cell_type": "markdown",
   "id": "204bf0cd",
   "metadata": {},
   "source": [
    "### Describe the speed of all trips"
   ]
  },
  {
   "cell_type": "code",
   "execution_count": 52,
   "id": "d95362cb",
   "metadata": {},
   "outputs": [
    {
     "data": {
      "text/plain": [
       "count    1151.000000\n",
       "mean       43.142701\n",
       "std        69.488555\n",
       "min         6.304357\n",
       "25%        23.938583\n",
       "50%        33.796140\n",
       "75%        45.756462\n",
       "max      1458.062040\n",
       "Name: speed, dtype: float64"
      ]
     },
     "execution_count": 52,
     "metadata": {},
     "output_type": "execute_result"
    }
   ],
   "source": [
    "df['speed'].describe()"
   ]
  },
  {
   "cell_type": "code",
   "execution_count": 53,
   "id": "39f3982e",
   "metadata": {},
   "outputs": [
    {
     "data": {
      "text/plain": [
       "count    1151.000000\n",
       "mean       16.959871\n",
       "std        34.670004\n",
       "min         0.804670\n",
       "25%         4.667086\n",
       "50%         9.656040\n",
       "75%        16.737136\n",
       "max       499.378202\n",
       "Name: km, dtype: float64"
      ]
     },
     "execution_count": 53,
     "metadata": {},
     "output_type": "execute_result"
    }
   ],
   "source": [
    "df['km'].describe()"
   ]
  },
  {
   "cell_type": "code",
   "execution_count": 54,
   "id": "6aa9d96f",
   "metadata": {},
   "outputs": [
    {
     "data": {
      "application/vnd.plotly.v1+json": {
       "config": {
        "plotlyServerURL": "https://plot.ly"
       },
       "data": [
        {
         "alignmentgroup": "True",
         "bingroup": "x",
         "hovertemplate": "speed=%{x}<br>count=%{y}<extra></extra>",
         "legendgroup": "",
         "marker": {
          "color": "#636efa",
          "pattern": {
           "shape": ""
          }
         },
         "name": "",
         "nbinsx": 100,
         "offsetgroup": "",
         "orientation": "v",
         "showlegend": false,
         "type": "histogram",
         "x": [
          82.07633999999999,
          40.23349999999999,
          35.653070769230766,
          32.41670571428571,
          91.80444,
          103.80242999999999,
          137.115768,
          12.874720000000002,
          40.07256600000001,
          59.00913333333334,
          24.252379534883723,
          20.691514285714284,
          29.933724000000005,
          23.768713846153847,
          22.070948571428573,
          11.725191428571428,
          14.112673846153845,
          11.466547499999999,
          24.1401,
          12.414908571428573,
          15.449663999999999,
          16.0934,
          25.13900068965517,
          83.19049846153844,
          40.69331142857143,
          58.74091,
          62.76425999999999,
          38.62416,
          50.211408,
          55.79045333333333,
          42.13544727272727,
          41.257625454545455,
          49.65963428571429,
          52.418502857142855,
          47.17665257142857,
          47.0342593548387,
          71.88385333333333,
          38.62416,
          28.96812,
          19.31208,
          21.457866666666668,
          27.761114999999997,
          22.933094999999998,
          27.036911999999997,
          24.1401,
          24.829817142857145,
          62.264809655172414,
          32.830536,
          32.589135,
          56.619507272727276,
          57.3327375,
          70.97189399999999,
          50.533276,
          31.726988571428567,
          45.64673454545455,
          50.211408,
          42.40261043478261,
          26.669062857142855,
          27.951694736842104,
          45.866189999999996,
          36.692952,
          46.831794,
          68.17749454545454,
          34.23505090909091,
          42.181648421052635,
          38.62416,
          38.62416,
          23.910194285714287,
          29.269871249999998,
          25.749440000000003,
          26.55411,
          38.62416,
          32.1868,
          39.13237263157895,
          50.211408,
          52.854113684210525,
          33.35722909090909,
          36.21015,
          34.33258666666667,
          45.06151999999999,
          39.31387714285714,
          42.072745714285716,
          32.72324666666667,
          37.74633818181818,
          26.071308000000002,
          39.3669323076923,
          41.383028571428575,
          30.778627499999995,
          36.210150000000006,
          36.8136525,
          36.8136525,
          39.77368857142858,
          26.209251428571427,
          59.25297272727273,
          39.267896,
          39.08397142857143,
          35.865291428571425,
          78.16794285714286,
          51.12021176470588,
          47.71219764705883,
          33.64983636363636,
          42.969378000000006,
          16.2945675,
          17.380872000000004,
          23.701189090909086,
          11.360047058823529,
          46.492044444444446,
          58.35606782608695,
          81.14787461538461,
          20.946179076923077,
          25.105704,
          14.48406,
          54.71756,
          14.48406,
          16.093400000000003,
          11.801826666666669,
          86.90436000000001,
          30.8573452173913,
          32.830536,
          46.96346727272727,
          9.65604,
          283.646175,
          29.198025714285713,
          38.62416,
          35.865291428571425,
          23.55131707317073,
          147.25461,
          36.049215999999994,
          27.179964444444444,
          24.1401,
          19.31208,
          39.160606666666666,
          17.78744210526316,
          36.86851636363637,
          59.69188363636364,
          14.200058823529412,
          42.13544727272727,
          36.210150000000006,
          18.105075000000003,
          49.35309333333333,
          34.852269375000006,
          28.968120000000003,
          102.99776000000001,
          35.405480000000004,
          35.900661538461534,
          57.93624,
          31.726988571428567,
          38.62416,
          38.164348571428576,
          38.45475578947369,
          46.492044444444446,
          46.008190588235294,
          42.48657600000001,
          33.45128142857143,
          52.19481081081081,
          52.142616,
          28.968120000000003,
          27.35878,
          37.41715500000001,
          20.599552000000003,
          28.968120000000003,
          32.944136470588234,
          26.44915304347826,
          27.35878,
          42.64750999999999,
          41.56295478260869,
          22.933094999999998,
          22.53076,
          17.556436363636365,
          46.4696925,
          41.03817,
          28.96812,
          36.692952,
          45.06151999999999,
          31.38213,
          31.864932,
          33.58622608695652,
          42.915733333333336,
          30.34755428571429,
          37.01481999999999,
          35.865291428571425,
          34.94566857142857,
          41.762373000000004,
          50.31305052631579,
          56.23223294117647,
          50.211408,
          47.8412890909091,
          52.27580275862069,
          39.42883,
          12.874720000000002,
          44.95053103448276,
          30.57746,
          21.457866666666668,
          41.84284,
          27.036912,
          33.79614,
          34.23505090909091,
          35.86529142857143,
          34.23505090909091,
          27.036911999999997,
          49.889540000000004,
          35.6066475,
          43.22227428571429,
          44.194952307692304,
          40.89616941176471,
          29.354361599999997,
          12.874720000000002,
          47.71219764705883,
          42.619762758620695,
          13.880557499999998,
          15.449664000000002,
          16.0934,
          11.035474285714287,
          16.553211428571426,
          12.07005,
          14.48406,
          23.603653333333337,
          18.346476,
          18.346476,
          40.555368,
          28.508308571428575,
          53.36232631578948,
          57.93624,
          60.35025,
          12.87472,
          16.2945675,
          16.0934,
          20.79762461538461,
          14.92297090909091,
          17.556436363636365,
          15.598218461538462,
          14.92297090909091,
          94.47636258992804,
          69.43152571428571,
          35.63538571428571,
          21.50663454545455,
          39.247130322580645,
          62.76426,
          17.70274,
          13.277055,
          28.968120000000003,
          16.0934,
          63.453977142857134,
          60.511184,
          50.379339130434786,
          60.52267928571428,
          55.069603125,
          19.955816000000002,
          20.277684,
          14.48406,
          20.11675,
          83.39307272727272,
          51.791487272727274,
          42.762462857142864,
          38.624159999999996,
          19.312079999999998,
          44.14189714285714,
          19.31208,
          10.863045000000001,
          53.10822,
          66.80935783783784,
          85.41881538461539,
          43.45218,
          10.398812307692305,
          32.830536,
          25.749440000000003,
          27.588685714285713,
          35.40548,
          78.11627865168539,
          90.79603672727274,
          117.62812363636364,
          26.956445000000002,
          28.324384000000002,
          28.96812,
          22.53076,
          53.108219999999996,
          23.5607376,
          44.417784000000005,
          50.349351428571424,
          26.739803076923078,
          49.55552603773585,
          80.05168645161288,
          29.84594181818182,
          31.509183157894743,
          38.62416,
          78.38432470588236,
          55.6187904,
          44.417784,
          49.487204999999996,
          59.00913333333333,
          31.180962499999996,
          40.8370025,
          13.518455999999999,
          33.1926375,
          32.830535999999995,
          51.12410219178082,
          107.95989166666668,
          94.49899820224718,
          97.23564755244755,
          113.10346852941177,
          47.6766975,
          38.62416,
          31.00097052631579,
          39.267896,
          56.3269,
          49.41620470588235,
          21.726090000000003,
          49.846044324324325,
          42.762462857142864,
          24.579010909090908,
          45.23092421052632,
          36.210150000000006,
          69.78683454545455,
          33.03382105263158,
          36.934353,
          30.76459255813953,
          37.066734193548385,
          45.06151999999999,
          48.923936,
          32.186800000000005,
          36.8136525,
          32.99146999999999,
          35.11287272727273,
          33.67234461538462,
          72.4203,
          50.211408,
          40.23349999999999,
          44.566338461538464,
          39.2276625,
          33.25969333333334,
          30.57746,
          45.06152,
          47.314596,
          38.624159999999996,
          47.8939584,
          166.69374315789472,
          29.504566666666665,
          56.23223294117647,
          45.981142857142856,
          42.8486775,
          50.21140799999999,
          49.567672,
          36.47837333333334,
          25.347105000000003,
          44.417784,
          49.889540000000004,
          45.2626875,
          27.21247636363637,
          30.34755428571429,
          34.23505090909091,
          30.175124999999998,
          40.003594285714286,
          73.69083157894737,
          72.4203,
          60.350249999999996,
          114.26313999999999,
          46.67085999999999,
          95.8176276923077,
          92.697984,
          117.25191428571428,
          29.339506153846155,
          47.71219764705883,
          73.31437777777778,
          33.79614,
          70.81096,
          52.824218823529414,
          63.56893,
          66.80935783783784,
          46.008190588235294,
          74.83431000000002,
          74.83431000000002,
          33.796139999999994,
          21.72609,
          30.57746,
          27.036912,
          366.92951999999997,
          11.667714999999998,
          98.31604363636363,
          27.303285517241378,
          41.383028571428575,
          34.48585714285714,
          43.452180000000006,
          28.96812,
          108.63045,
          19.312079999999998,
          54.71756,
          75.63897999999999,
          42.072745714285716,
          37.62525931034483,
          30.611701276595745,
          36.53636756756757,
          19.31208,
          23.10552428571429,
          31.964822068965514,
          50.211408,
          31.864932,
          25.189669565217393,
          21.243288,
          24.944770000000002,
          27.35878,
          20.328505263157897,
          25.105704,
          47.073195,
          33.357229090909094,
          26.822333333333333,
          79.66233,
          59.7467475,
          32.186800000000005,
          28.96812,
          39.31387714285714,
          23.973616551724138,
          52.854113684210525,
          68.28199714285714,
          55.79045333333333,
          41.56295478260869,
          28.002515999999996,
          37.77713894736843,
          18.744077647058823,
          11.265379999999997,
          15.087562499999999,
          24.1401,
          14.48406,
          33.10642285714285,
          22.810645217391304,
          59.072244705882355,
          119.493495,
          44.659185,
          88.835568,
          27.35878,
          52.854113684210525,
          36.76722923076923,
          80.46699999999998,
          37.74633818181818,
          12.874719999999998,
          42.689861052631585,
          43.951630344827585,
          9.656039999999999,
          16.981311724137928,
          100.422816,
          52.57177333333334,
          37.336687999999995,
          54.71755999999999,
          29.933724,
          59.86744800000001,
          22.933094999999998,
          24.7194624,
          26.554109999999998,
          24.1401,
          25.928255555555552,
          65.17827,
          60.350249999999996,
          73.27230352941177,
          101.01703384615385,
          35.69808727272727,
          38.18524909090909,
          52.6693090909091,
          63.30070666666667,
          64.26261103448276,
          31.42946352941177,
          42.8486775,
          28.96812,
          46.134413333333335,
          39.50198181818182,
          33.25969333333334,
          42.689861052631585,
          68.66517333333334,
          48.2802,
          21.49835320754717,
          15.173777142857144,
          58.62595714285714,
          18.23918666666667,
          17.007797727272727,
          14.045149090909094,
          20.691514285714288,
          34.761744,
          17.166293333333332,
          23.603653333333337,
          44.83161428571429,
          63.7842642253521,
          26.822333333333333,
          29.65783714285714,
          20.084563199999998,
          43.16817882352941,
          24.829817142857145,
          25.212993333333333,
          22.530759999999994,
          72.42030000000001,
          47.207306666666675,
          9.65604,
          46.576192941176465,
          50.211408,
          38.2379184,
          38.2379184,
          25.174675714285712,
          44.659185,
          77.24832,
          34.76174400000001,
          55.79045333333333,
          43.452180000000006,
          56.23223294117647,
          38.2379184,
          55.83710086956521,
          45.463855,
          56.3269,
          45.52133142857143,
          54.181113333333336,
          39.831165,
          29.933724000000005,
          49.889540000000004,
          53.10822,
          63.729864,
          47.207306666666675,
          32.31059538461538,
          67.02427764705882,
          23.174495999999998,
          47.797398,
          14.48406,
          47.797398,
          39.54378285714286,
          30.416526,
          50.31305052631579,
          47.797398,
          31.864932,
          23.02594153846154,
          27.243827142857143,
          143.23126,
          34.33258666666667,
          32.32674260869565,
          32.186800000000005,
          52.47847826086956,
          67.08406736842106,
          29.192679069767443,
          33.79614,
          45.597966666666665,
          17.932645714285712,
          15.800792727272729,
          82.07634,
          76.11231529411765,
          33.93408342857143,
          27.036911999999997,
          35.003144999999996,
          55.34559512195122,
          15.173777142857144,
          35.40548,
          39.831165,
          36.75524903225806,
          91.5448840776699,
          38.164348571428576,
          30.899328000000004,
          54.073823999999995,
          39.267896,
          36.21015,
          48.45262928571428,
          22.933094999999998,
          45.97591772727272,
          43.36108528301887,
          38.038945454545456,
          32.68198153846154,
          54.00229777777777,
          94.05504908108107,
          32.99146999999999,
          28.048497142857144,
          28.968120000000003,
          28.3646175,
          33.10642285714286,
          35.40548,
          45.52133142857143,
          21.726090000000003,
          45.866189999999996,
          38.62416,
          19.31208,
          28.002515999999996,
          37.658556000000004,
          25.74944,
          22.530759999999994,
          19.312079999999998,
          33.796139999999994,
          43.45218,
          24.676546666666663,
          23.818232000000002,
          31.113906666666665,
          33.357229090909094,
          35.175574285714276,
          38.20433217391304,
          45.440188235294116,
          45.52133142857143,
          36.8136525,
          35.69808727272727,
          42.915733333333336,
          22.720094117647058,
          38.221824999999995,
          24.1401,
          30.416526,
          62.76426,
          38.2379184,
          24.1401,
          43.0132690909091,
          26.304384827586208,
          23.450382857142856,
          35.40548,
          20.277684,
          30.175124999999998,
          30.175124999999998,
          22.530759999999994,
          61.7146904347826,
          54.22237846153846,
          44.417784,
          106.21644,
          11.801826666666669,
          54.073824,
          51.3701328,
          24.829817142857145,
          35.21614588235295,
          11.411683636363637,
          10.192486666666667,
          30.28485272727273,
          63.453977142857134,
          38.624159999999996,
          29.289987999999997,
          24.44185125,
          38.62416,
          19.714415,
          12.07005,
          16.0934,
          13.794342857142857,
          26.55411,
          36.210150000000006,
          17.932645714285712,
          43.452180000000006,
          14.484060000000001,
          35.405480000000004,
          35.11287272727273,
          28.968120000000003,
          17.380872,
          40.23349999999999,
          30.175124999999998,
          35.865291428571425,
          29.710892307692305,
          23.701189090909093,
          18.539596799999998,
          34.33258666666667,
          37.01482000000001,
          68.51190285714286,
          50.913665454545445,
          44.486755714285714,
          42.21068914285714,
          96.5604,
          38.62416,
          30.34755428571429,
          30.34755428571429,
          27.036911999999997,
          58.864705384615384,
          68.45059466666666,
          61.15492,
          19.31208,
          35.26553739130435,
          32.04983489361702,
          50.42598666666666,
          39.89469157894737,
          30.498955609756095,
          58.67901230769231,
          37.244725714285714,
          75.86888571428571,
          26.209251428571427,
          16.553211428571426,
          34.3996425,
          68.01210782608695,
          10.460709999999999,
          50.79916695652173,
          27.036911999999997,
          41.199104000000005,
          33.56623428571429,
          85.29501999999998,
          18.313179310344825,
          39.13237263157895,
          27.179964444444444,
          34.94566857142857,
          24.511486153846153,
          31.382130000000004,
          21.457866666666668,
          32.376134117647055,
          20.599552000000003,
          30.175125,
          25.305484137931032,
          25.63845103448276,
          36.8136525,
          19.312079999999998,
          54.181113333333336,
          21.50663454545455,
          38.0206575,
          36.39584307692308,
          16.093400000000003,
          43.854515,
          52.418502857142855,
          23.826592207792206,
          14.669753076923078,
          10.41835894736842,
          62.264809655172414,
          56.00503199999999,
          21.30008823529412,
          46.4696925,
          38.62416,
          32.1868,
          36.692952,
          6.304356694214877,
          34.879981224489796,
          47.71219764705883,
          64.50771166666668,
          51.994061538461544,
          26.554109999999998,
          40.22019966942149,
          27.761114999999997,
          39.160606666666666,
          34.48585714285714,
          30.57746,
          37.658556000000004,
          31.06725913043478,
          12.07005,
          30.5130864,
          16.472068235294117,
          23.450382857142856,
          15.953457391304346,
          56.970636,
          25.053509189189185,
          35.57488421052632,
          17.380872000000004,
          81.18573436893205,
          85.11419528089887,
          46.44095428571429,
          37.41715500000001,
          28.431673333333332,
          26.55411,
          35.96042482758621,
          41.520972,
          24.1401,
          36.692952,
          27.036911999999997,
          25.74944,
          31.240129411764705,
          27.895226666666666,
          16.89807,
          36.944848695652176,
          20.23170285714286,
          25.588506,
          29.88774285714286,
          38.038945454545456,
          68.23601599999999,
          11.180677894736844,
          18.90118468085106,
          30.381199024390245,
          87.41257263157894,
          15.904065882352938,
          207.60485999999997,
          473.14596,
          69.52348800000001,
          18.23918666666667,
          27.761115,
          11.265379999999997,
          16.898069999999997,
          17.380872000000004,
          226.91694,
          56.6902993548387,
          63.367762500000005,
          68.799285,
          39.50198181818182,
          45.30911076923077,
          83.85508421052633,
          7.724831999999999,
          11.201006399999999,
          19.312079999999998,
          57.93624,
          280.02515999999997,
          11.54014536585366,
          8.8111365,
          56.21194714285715,
          14.662875555555555,
          7.900396363636363,
          22.61072720496895,
          16.974301894736843,
          337.96139999999997,
          15.904065882352938,
          15.449664000000002,
          42.28679586206896,
          44.54237806451613,
          1458.0620399999998,
          10.349887185628742,
          639.5706494117646,
          888.3556799999999,
          33.31333800000001,
          1068.60176,
          10.915523478260868,
          35.003144999999996,
          19.082174285714288,
          15.449663999999999,
          15.754591578947371,
          21.036372857142858,
          257.4944,
          39.13237263157895,
          27.35878,
          22.933095,
          40.27275219512195,
          592.2371199999999,
          24.902418947368425,
          16.0934,
          24.676546666666663,
          23.38907466666667,
          22.709575555555553,
          33.25969333333334,
          15.28873,
          12.435809090909089,
          29.933724000000005,
          23.02594153846154,
          53.36232631578948,
          37.244725714285714,
          33.25969333333334,
          33.79614,
          46.134413333333335,
          34.48585714285714,
          52.34590105263159,
          40.46340571428572,
          38.624159999999996,
          22.760665714285715,
          30.10412470588235,
          31.864932,
          35.405480000000004,
          27.243827142857143,
          59.77548571428572,
          28.968120000000003,
          48.2802,
          26.209251428571427,
          33.97495555555555,
          14.92297090909091,
          35.96042482758621,
          21.99431333333333,
          16.34099076923077,
          15.863494285714284,
          37.41715500000001,
          79.41260482758621,
          81.25648754716983,
          84.973152,
          56.00503199999999,
          44.88753729729729,
          28.76267234042553,
          66.17920097560976,
          64.83341142857142,
          29.933724000000005,
          19.955816000000002,
          54.606571034482755,
          37.175754000000005,
          30.34755428571429,
          26.377475121951214,
          30.34755428571429,
          20.448084705882355,
          31.601585454545457,
          52.57177333333334,
          40.003594285714286,
          33.79614,
          20.277684,
          32.4442944,
          37.980424,
          40.28899448275862,
          53.797937142857144,
          27.21247636363637,
          55.79045333333333,
          31.864932,
          81.99970476190475,
          113.16201263157895,
          82.84340859813084,
          38.155420194174766,
          58.01287523809523,
          70.18292487804878,
          25.386040645161287,
          23.246022222222223,
          20.277684,
          57.936240000000005,
          73.385904,
          90.47577205479453,
          104.50929480662982,
          59.78808328767124,
          34.33258666666667,
          34.29559034482759,
          48.65158615384615,
          37.079193599999996,
          43.060718918918916,
          37.45373090909091,
          16.553211428571426,
          16.0934,
          30.45366461538461,
          28.96812,
          16.898069999999997,
          24.829817142857145,
          32.830535999999995,
          32.1868,
          52.418502857142855,
          40.23349999999999,
          38.624159999999996,
          27.036911999999997,
          13.369901538461539,
          17.608072941176474,
          24.944770000000002,
          47.6766975,
          52.418502857142855,
          25.950607499999997,
          28.96812,
          23.603653333333337,
          24.579010909090908,
          26.55411,
          16.553211428571426,
          15.904065882352938,
          69.49182885245902,
          21.726090000000003,
          21.243288,
          39.290093793103445,
          31.864932,
          42.072745714285716,
          33.06462181818182,
          17.380872000000004,
          22.283169230769232,
          33.35722909090909,
          14.48406,
          18.708577500000004,
          13.518455999999999,
          37.934442857142855,
          33.14370486486486,
          25.105704,
          17.70274,
          41.95382896551724,
          10.533861818181817,
          10.621644000000002,
          191.189592,
          25.189669565217393,
          25.749440000000003,
          92.3358825,
          25.74944,
          20.116749999999996,
          52.74792,
          21.54039692307692,
          25.105704,
          11.104446,
          20.599552000000003,
          16.898069999999997,
          14.48406,
          18.37762451612903,
          11.035474285714287,
          11.411683636363637,
          18.803867368421056,
          27.761114999999997,
          9.656039999999999,
          30.57746,
          16.89807,
          13.318675862068964,
          14.48406,
          21.726090000000003,
          21.067723636363635,
          18.346476,
          15.28873,
          87.88967020408164,
          79.43459320754718,
          26.822333333333333,
          32.47940727272728,
          70.35114857142855,
          55.09622823529412,
          71.213295,
          37.01481999999999,
          29.933724000000005,
          50.772081290322575,
          29.933724000000005,
          45.64673454545455,
          23.5607376,
          52.34590105263159,
          48.28020000000001,
          28.968120000000003,
          12.414908571428573,
          40.109704615384615,
          24.829817142857145,
          58.23334892307693,
          20.599552000000003,
          28.968120000000003,
          34.35321923076923,
          20.116749999999996,
          20.277684,
          46.21104857142858,
          37.55126666666667,
          41.03817,
          35.40548,
          30.45366461538461,
          23.583020769230767,
          28.968120000000003,
          28.16345,
          35.6066475,
          16.678614545454547,
          28.968120000000003,
          12.552852,
          58.50424235294118,
          59.54558,
          27.036911999999997,
          41.038169999999994,
          43.45218,
          36.692952,
          34.48585714285714,
          45.52133142857143,
          20.00179714285714,
          26.476238709677418,
          15.40368285714286,
          29.933724000000005,
          35.40548,
          33.1926375,
          23.335429999999995,
          28.002515999999996,
          44.76891272727272,
          34.118007999999996,
          45.52133142857143,
          36.210150000000006,
          30.34755428571429,
          24.829817142857145,
          28.968120000000003,
          40.00359428571428,
          29.84594181818182,
          30.45366461538461,
          24.461968,
          21.975815172413792,
          35.11287272727273,
          33.79614,
          18.00720972972973,
          25.254258461538463,
          36.47837333333334,
          38.62416,
          38.62416,
          32.830535999999995,
          30.34755428571429,
          23.51035826086956,
          33.796139999999994,
          45.64673454545454,
          41.84284,
          28.968120000000003,
          24.944770000000002,
          28.968120000000003,
          46.348991999999996,
          25.347105000000003,
          29.933724000000005,
          28.324384000000002,
          34.91029846153846,
          28.968120000000003,
          32.186800000000005,
          40.555368,
          43.98862666666666,
          18.23918666666667,
          26.554109999999998,
          28.968120000000003,
          18.708577500000004,
          30.10412470588235,
          13.632056470588234,
          12.794253,
          12.451209473684212,
          20.95566127659574,
          30.632954482758617,
          26.55411,
          29.984545263157894,
          16.898069999999997,
          11.411683636363637,
          30.175124999999998,
          36.555008571428566,
          40.109704615384615,
          33.962623448275856,
          36.59130947368421,
          17.70274,
          30.34755428571428,
          33.10642285714286,
          17.702740000000002,
          39.85684595744681,
          27.35878,
          23.930186086956517,
          17.380872000000004,
          12.289505454545454,
          29.25212117647059,
          39.65873571428571,
          29.5716225,
          24.1401,
          37.244725714285714,
          17.556436363636365,
          20.277684,
          22.53076,
          21.726090000000003,
          25.189669565217393,
          59.91398313253013,
          53.77415379310344,
          31.985632499999998,
          43.08079384615384,
          67.88488727272725,
          51.49888000000001,
          131.96588000000003,
          29.387947826086954,
          16.89807,
          40.555368,
          14.484060000000001,
          23.9469792,
          13.24256914285714,
          11.411683636363637,
          12.935449811320755,
          28.968120000000003,
          28.699896666666667,
          26.935269473684208,
          77.24832,
          16.55321142857143,
          10.943512,
          18.668343999999998,
          11.587247999999999,
          14.48406,
          20.189901818181816,
          37.01481999999999,
          28.090298181818188,
          42.762462857142864,
          35.405480000000004,
          28.22534769230769,
          22.436092941176472,
          39.42883,
          21.945545454545456,
          14.48406,
          21.381231428571432,
          31.784465,
          17.131683870967738,
          31.080378750000005,
          33.474272,
          24.1401,
          23.450382857142856,
          30.34755428571429,
          15.953457391304346,
          14.484059999999998,
          21.584089411764705,
          48.700027826086945,
          35.90839875,
          16.898069999999997,
          15.173777142857144,
          26.393175999999997,
          36.8136525,
          11.411683636363637,
          19.31208,
          19.794881999999998,
          23.174496,
          12.6119706122449,
          37.74633818181818,
          15.020506666666664,
          11.201006399999999,
          20.189901818181816,
          19.312079999999995,
          19.31208,
          9.656039999999999,
          20.92142,
          44.69367085714285,
          34.33258666666667,
          45.1865172815534
         ],
         "xaxis": "x",
         "yaxis": "y"
        }
       ],
       "layout": {
        "barmode": "relative",
        "legend": {
         "tracegroupgap": 0
        },
        "margin": {
         "t": 60
        },
        "template": {
         "data": {
          "bar": [
           {
            "error_x": {
             "color": "#2a3f5f"
            },
            "error_y": {
             "color": "#2a3f5f"
            },
            "marker": {
             "line": {
              "color": "#E5ECF6",
              "width": 0.5
             },
             "pattern": {
              "fillmode": "overlay",
              "size": 10,
              "solidity": 0.2
             }
            },
            "type": "bar"
           }
          ],
          "barpolar": [
           {
            "marker": {
             "line": {
              "color": "#E5ECF6",
              "width": 0.5
             },
             "pattern": {
              "fillmode": "overlay",
              "size": 10,
              "solidity": 0.2
             }
            },
            "type": "barpolar"
           }
          ],
          "carpet": [
           {
            "aaxis": {
             "endlinecolor": "#2a3f5f",
             "gridcolor": "white",
             "linecolor": "white",
             "minorgridcolor": "white",
             "startlinecolor": "#2a3f5f"
            },
            "baxis": {
             "endlinecolor": "#2a3f5f",
             "gridcolor": "white",
             "linecolor": "white",
             "minorgridcolor": "white",
             "startlinecolor": "#2a3f5f"
            },
            "type": "carpet"
           }
          ],
          "choropleth": [
           {
            "colorbar": {
             "outlinewidth": 0,
             "ticks": ""
            },
            "type": "choropleth"
           }
          ],
          "contour": [
           {
            "colorbar": {
             "outlinewidth": 0,
             "ticks": ""
            },
            "colorscale": [
             [
              0,
              "#0d0887"
             ],
             [
              0.1111111111111111,
              "#46039f"
             ],
             [
              0.2222222222222222,
              "#7201a8"
             ],
             [
              0.3333333333333333,
              "#9c179e"
             ],
             [
              0.4444444444444444,
              "#bd3786"
             ],
             [
              0.5555555555555556,
              "#d8576b"
             ],
             [
              0.6666666666666666,
              "#ed7953"
             ],
             [
              0.7777777777777778,
              "#fb9f3a"
             ],
             [
              0.8888888888888888,
              "#fdca26"
             ],
             [
              1,
              "#f0f921"
             ]
            ],
            "type": "contour"
           }
          ],
          "contourcarpet": [
           {
            "colorbar": {
             "outlinewidth": 0,
             "ticks": ""
            },
            "type": "contourcarpet"
           }
          ],
          "heatmap": [
           {
            "colorbar": {
             "outlinewidth": 0,
             "ticks": ""
            },
            "colorscale": [
             [
              0,
              "#0d0887"
             ],
             [
              0.1111111111111111,
              "#46039f"
             ],
             [
              0.2222222222222222,
              "#7201a8"
             ],
             [
              0.3333333333333333,
              "#9c179e"
             ],
             [
              0.4444444444444444,
              "#bd3786"
             ],
             [
              0.5555555555555556,
              "#d8576b"
             ],
             [
              0.6666666666666666,
              "#ed7953"
             ],
             [
              0.7777777777777778,
              "#fb9f3a"
             ],
             [
              0.8888888888888888,
              "#fdca26"
             ],
             [
              1,
              "#f0f921"
             ]
            ],
            "type": "heatmap"
           }
          ],
          "heatmapgl": [
           {
            "colorbar": {
             "outlinewidth": 0,
             "ticks": ""
            },
            "colorscale": [
             [
              0,
              "#0d0887"
             ],
             [
              0.1111111111111111,
              "#46039f"
             ],
             [
              0.2222222222222222,
              "#7201a8"
             ],
             [
              0.3333333333333333,
              "#9c179e"
             ],
             [
              0.4444444444444444,
              "#bd3786"
             ],
             [
              0.5555555555555556,
              "#d8576b"
             ],
             [
              0.6666666666666666,
              "#ed7953"
             ],
             [
              0.7777777777777778,
              "#fb9f3a"
             ],
             [
              0.8888888888888888,
              "#fdca26"
             ],
             [
              1,
              "#f0f921"
             ]
            ],
            "type": "heatmapgl"
           }
          ],
          "histogram": [
           {
            "marker": {
             "pattern": {
              "fillmode": "overlay",
              "size": 10,
              "solidity": 0.2
             }
            },
            "type": "histogram"
           }
          ],
          "histogram2d": [
           {
            "colorbar": {
             "outlinewidth": 0,
             "ticks": ""
            },
            "colorscale": [
             [
              0,
              "#0d0887"
             ],
             [
              0.1111111111111111,
              "#46039f"
             ],
             [
              0.2222222222222222,
              "#7201a8"
             ],
             [
              0.3333333333333333,
              "#9c179e"
             ],
             [
              0.4444444444444444,
              "#bd3786"
             ],
             [
              0.5555555555555556,
              "#d8576b"
             ],
             [
              0.6666666666666666,
              "#ed7953"
             ],
             [
              0.7777777777777778,
              "#fb9f3a"
             ],
             [
              0.8888888888888888,
              "#fdca26"
             ],
             [
              1,
              "#f0f921"
             ]
            ],
            "type": "histogram2d"
           }
          ],
          "histogram2dcontour": [
           {
            "colorbar": {
             "outlinewidth": 0,
             "ticks": ""
            },
            "colorscale": [
             [
              0,
              "#0d0887"
             ],
             [
              0.1111111111111111,
              "#46039f"
             ],
             [
              0.2222222222222222,
              "#7201a8"
             ],
             [
              0.3333333333333333,
              "#9c179e"
             ],
             [
              0.4444444444444444,
              "#bd3786"
             ],
             [
              0.5555555555555556,
              "#d8576b"
             ],
             [
              0.6666666666666666,
              "#ed7953"
             ],
             [
              0.7777777777777778,
              "#fb9f3a"
             ],
             [
              0.8888888888888888,
              "#fdca26"
             ],
             [
              1,
              "#f0f921"
             ]
            ],
            "type": "histogram2dcontour"
           }
          ],
          "mesh3d": [
           {
            "colorbar": {
             "outlinewidth": 0,
             "ticks": ""
            },
            "type": "mesh3d"
           }
          ],
          "parcoords": [
           {
            "line": {
             "colorbar": {
              "outlinewidth": 0,
              "ticks": ""
             }
            },
            "type": "parcoords"
           }
          ],
          "pie": [
           {
            "automargin": true,
            "type": "pie"
           }
          ],
          "scatter": [
           {
            "fillpattern": {
             "fillmode": "overlay",
             "size": 10,
             "solidity": 0.2
            },
            "type": "scatter"
           }
          ],
          "scatter3d": [
           {
            "line": {
             "colorbar": {
              "outlinewidth": 0,
              "ticks": ""
             }
            },
            "marker": {
             "colorbar": {
              "outlinewidth": 0,
              "ticks": ""
             }
            },
            "type": "scatter3d"
           }
          ],
          "scattercarpet": [
           {
            "marker": {
             "colorbar": {
              "outlinewidth": 0,
              "ticks": ""
             }
            },
            "type": "scattercarpet"
           }
          ],
          "scattergeo": [
           {
            "marker": {
             "colorbar": {
              "outlinewidth": 0,
              "ticks": ""
             }
            },
            "type": "scattergeo"
           }
          ],
          "scattergl": [
           {
            "marker": {
             "colorbar": {
              "outlinewidth": 0,
              "ticks": ""
             }
            },
            "type": "scattergl"
           }
          ],
          "scattermapbox": [
           {
            "marker": {
             "colorbar": {
              "outlinewidth": 0,
              "ticks": ""
             }
            },
            "type": "scattermapbox"
           }
          ],
          "scatterpolar": [
           {
            "marker": {
             "colorbar": {
              "outlinewidth": 0,
              "ticks": ""
             }
            },
            "type": "scatterpolar"
           }
          ],
          "scatterpolargl": [
           {
            "marker": {
             "colorbar": {
              "outlinewidth": 0,
              "ticks": ""
             }
            },
            "type": "scatterpolargl"
           }
          ],
          "scatterternary": [
           {
            "marker": {
             "colorbar": {
              "outlinewidth": 0,
              "ticks": ""
             }
            },
            "type": "scatterternary"
           }
          ],
          "surface": [
           {
            "colorbar": {
             "outlinewidth": 0,
             "ticks": ""
            },
            "colorscale": [
             [
              0,
              "#0d0887"
             ],
             [
              0.1111111111111111,
              "#46039f"
             ],
             [
              0.2222222222222222,
              "#7201a8"
             ],
             [
              0.3333333333333333,
              "#9c179e"
             ],
             [
              0.4444444444444444,
              "#bd3786"
             ],
             [
              0.5555555555555556,
              "#d8576b"
             ],
             [
              0.6666666666666666,
              "#ed7953"
             ],
             [
              0.7777777777777778,
              "#fb9f3a"
             ],
             [
              0.8888888888888888,
              "#fdca26"
             ],
             [
              1,
              "#f0f921"
             ]
            ],
            "type": "surface"
           }
          ],
          "table": [
           {
            "cells": {
             "fill": {
              "color": "#EBF0F8"
             },
             "line": {
              "color": "white"
             }
            },
            "header": {
             "fill": {
              "color": "#C8D4E3"
             },
             "line": {
              "color": "white"
             }
            },
            "type": "table"
           }
          ]
         },
         "layout": {
          "annotationdefaults": {
           "arrowcolor": "#2a3f5f",
           "arrowhead": 0,
           "arrowwidth": 1
          },
          "autotypenumbers": "strict",
          "coloraxis": {
           "colorbar": {
            "outlinewidth": 0,
            "ticks": ""
           }
          },
          "colorscale": {
           "diverging": [
            [
             0,
             "#8e0152"
            ],
            [
             0.1,
             "#c51b7d"
            ],
            [
             0.2,
             "#de77ae"
            ],
            [
             0.3,
             "#f1b6da"
            ],
            [
             0.4,
             "#fde0ef"
            ],
            [
             0.5,
             "#f7f7f7"
            ],
            [
             0.6,
             "#e6f5d0"
            ],
            [
             0.7,
             "#b8e186"
            ],
            [
             0.8,
             "#7fbc41"
            ],
            [
             0.9,
             "#4d9221"
            ],
            [
             1,
             "#276419"
            ]
           ],
           "sequential": [
            [
             0,
             "#0d0887"
            ],
            [
             0.1111111111111111,
             "#46039f"
            ],
            [
             0.2222222222222222,
             "#7201a8"
            ],
            [
             0.3333333333333333,
             "#9c179e"
            ],
            [
             0.4444444444444444,
             "#bd3786"
            ],
            [
             0.5555555555555556,
             "#d8576b"
            ],
            [
             0.6666666666666666,
             "#ed7953"
            ],
            [
             0.7777777777777778,
             "#fb9f3a"
            ],
            [
             0.8888888888888888,
             "#fdca26"
            ],
            [
             1,
             "#f0f921"
            ]
           ],
           "sequentialminus": [
            [
             0,
             "#0d0887"
            ],
            [
             0.1111111111111111,
             "#46039f"
            ],
            [
             0.2222222222222222,
             "#7201a8"
            ],
            [
             0.3333333333333333,
             "#9c179e"
            ],
            [
             0.4444444444444444,
             "#bd3786"
            ],
            [
             0.5555555555555556,
             "#d8576b"
            ],
            [
             0.6666666666666666,
             "#ed7953"
            ],
            [
             0.7777777777777778,
             "#fb9f3a"
            ],
            [
             0.8888888888888888,
             "#fdca26"
            ],
            [
             1,
             "#f0f921"
            ]
           ]
          },
          "colorway": [
           "#636efa",
           "#EF553B",
           "#00cc96",
           "#ab63fa",
           "#FFA15A",
           "#19d3f3",
           "#FF6692",
           "#B6E880",
           "#FF97FF",
           "#FECB52"
          ],
          "font": {
           "color": "#2a3f5f"
          },
          "geo": {
           "bgcolor": "white",
           "lakecolor": "white",
           "landcolor": "#E5ECF6",
           "showlakes": true,
           "showland": true,
           "subunitcolor": "white"
          },
          "hoverlabel": {
           "align": "left"
          },
          "hovermode": "closest",
          "mapbox": {
           "style": "light"
          },
          "paper_bgcolor": "white",
          "plot_bgcolor": "#E5ECF6",
          "polar": {
           "angularaxis": {
            "gridcolor": "white",
            "linecolor": "white",
            "ticks": ""
           },
           "bgcolor": "#E5ECF6",
           "radialaxis": {
            "gridcolor": "white",
            "linecolor": "white",
            "ticks": ""
           }
          },
          "scene": {
           "xaxis": {
            "backgroundcolor": "#E5ECF6",
            "gridcolor": "white",
            "gridwidth": 2,
            "linecolor": "white",
            "showbackground": true,
            "ticks": "",
            "zerolinecolor": "white"
           },
           "yaxis": {
            "backgroundcolor": "#E5ECF6",
            "gridcolor": "white",
            "gridwidth": 2,
            "linecolor": "white",
            "showbackground": true,
            "ticks": "",
            "zerolinecolor": "white"
           },
           "zaxis": {
            "backgroundcolor": "#E5ECF6",
            "gridcolor": "white",
            "gridwidth": 2,
            "linecolor": "white",
            "showbackground": true,
            "ticks": "",
            "zerolinecolor": "white"
           }
          },
          "shapedefaults": {
           "line": {
            "color": "#2a3f5f"
           }
          },
          "ternary": {
           "aaxis": {
            "gridcolor": "white",
            "linecolor": "white",
            "ticks": ""
           },
           "baxis": {
            "gridcolor": "white",
            "linecolor": "white",
            "ticks": ""
           },
           "bgcolor": "#E5ECF6",
           "caxis": {
            "gridcolor": "white",
            "linecolor": "white",
            "ticks": ""
           }
          },
          "title": {
           "x": 0.05
          },
          "xaxis": {
           "automargin": true,
           "gridcolor": "white",
           "linecolor": "white",
           "ticks": "",
           "title": {
            "standoff": 15
           },
           "zerolinecolor": "white",
           "zerolinewidth": 2
          },
          "yaxis": {
           "automargin": true,
           "gridcolor": "white",
           "linecolor": "white",
           "ticks": "",
           "title": {
            "standoff": 15
           },
           "zerolinecolor": "white",
           "zerolinewidth": 2
          }
         }
        },
        "xaxis": {
         "anchor": "y",
         "domain": [
          0,
          1
         ],
         "title": {
          "text": "speed"
         }
        },
        "yaxis": {
         "anchor": "x",
         "domain": [
          0,
          1
         ],
         "title": {
          "text": "count"
         }
        }
       }
      }
     },
     "metadata": {},
     "output_type": "display_data"
    }
   ],
   "source": [
    "px.histogram(df,x='speed',nbins=100)"
   ]
  },
  {
   "cell_type": "code",
   "execution_count": 55,
   "id": "b3515349",
   "metadata": {},
   "outputs": [
    {
     "data": {
      "text/plain": [
       "Int64Index([   6,  121,  126,  335,  375,  525,  753,  754,  762,  773,  781,\n",
       "             786,  788,  789,  791,  799,  804,  933, 1094],\n",
       "           dtype='int64')"
      ]
     },
     "execution_count": 55,
     "metadata": {},
     "output_type": "execute_result"
    }
   ],
   "source": [
    "df[df.speed > 120].index"
   ]
  },
  {
   "cell_type": "code",
   "execution_count": 56,
   "id": "1684238b",
   "metadata": {},
   "outputs": [],
   "source": [
    "df.drop(df[df.speed > 120].index, axis =0, inplace = True)"
   ]
  },
  {
   "cell_type": "code",
   "execution_count": 57,
   "id": "3a854424",
   "metadata": {},
   "outputs": [
    {
     "data": {
      "application/vnd.plotly.v1+json": {
       "config": {
        "plotlyServerURL": "https://plot.ly"
       },
       "data": [
        {
         "alignmentgroup": "True",
         "bingroup": "x",
         "hovertemplate": "speed=%{x}<br>count=%{y}<extra></extra>",
         "legendgroup": "",
         "marker": {
          "color": "#636efa",
          "pattern": {
           "shape": ""
          }
         },
         "name": "",
         "nbinsx": 100,
         "offsetgroup": "",
         "orientation": "v",
         "showlegend": false,
         "type": "histogram",
         "x": [
          82.07633999999999,
          40.23349999999999,
          35.653070769230766,
          32.41670571428571,
          91.80444,
          103.80242999999999,
          12.874720000000002,
          40.07256600000001,
          59.00913333333334,
          24.252379534883723,
          20.691514285714284,
          29.933724000000005,
          23.768713846153847,
          22.070948571428573,
          11.725191428571428,
          14.112673846153845,
          11.466547499999999,
          24.1401,
          12.414908571428573,
          15.449663999999999,
          16.0934,
          25.13900068965517,
          83.19049846153844,
          40.69331142857143,
          58.74091,
          62.76425999999999,
          38.62416,
          50.211408,
          55.79045333333333,
          42.13544727272727,
          41.257625454545455,
          49.65963428571429,
          52.418502857142855,
          47.17665257142857,
          47.0342593548387,
          71.88385333333333,
          38.62416,
          28.96812,
          19.31208,
          21.457866666666668,
          27.761114999999997,
          22.933094999999998,
          27.036911999999997,
          24.1401,
          24.829817142857145,
          62.264809655172414,
          32.830536,
          32.589135,
          56.619507272727276,
          57.3327375,
          70.97189399999999,
          50.533276,
          31.726988571428567,
          45.64673454545455,
          50.211408,
          42.40261043478261,
          26.669062857142855,
          27.951694736842104,
          45.866189999999996,
          36.692952,
          46.831794,
          68.17749454545454,
          34.23505090909091,
          42.181648421052635,
          38.62416,
          38.62416,
          23.910194285714287,
          29.269871249999998,
          25.749440000000003,
          26.55411,
          38.62416,
          32.1868,
          39.13237263157895,
          50.211408,
          52.854113684210525,
          33.35722909090909,
          36.21015,
          34.33258666666667,
          45.06151999999999,
          39.31387714285714,
          42.072745714285716,
          32.72324666666667,
          37.74633818181818,
          26.071308000000002,
          39.3669323076923,
          41.383028571428575,
          30.778627499999995,
          36.210150000000006,
          36.8136525,
          36.8136525,
          39.77368857142858,
          26.209251428571427,
          59.25297272727273,
          39.267896,
          39.08397142857143,
          35.865291428571425,
          78.16794285714286,
          51.12021176470588,
          47.71219764705883,
          33.64983636363636,
          42.969378000000006,
          16.2945675,
          17.380872000000004,
          23.701189090909086,
          11.360047058823529,
          46.492044444444446,
          58.35606782608695,
          81.14787461538461,
          20.946179076923077,
          25.105704,
          14.48406,
          54.71756,
          14.48406,
          16.093400000000003,
          11.801826666666669,
          86.90436000000001,
          30.8573452173913,
          32.830536,
          46.96346727272727,
          9.65604,
          29.198025714285713,
          38.62416,
          35.865291428571425,
          23.55131707317073,
          36.049215999999994,
          27.179964444444444,
          24.1401,
          19.31208,
          39.160606666666666,
          17.78744210526316,
          36.86851636363637,
          59.69188363636364,
          14.200058823529412,
          42.13544727272727,
          36.210150000000006,
          18.105075000000003,
          49.35309333333333,
          34.852269375000006,
          28.968120000000003,
          102.99776000000001,
          35.405480000000004,
          35.900661538461534,
          57.93624,
          31.726988571428567,
          38.62416,
          38.164348571428576,
          38.45475578947369,
          46.492044444444446,
          46.008190588235294,
          42.48657600000001,
          33.45128142857143,
          52.19481081081081,
          52.142616,
          28.968120000000003,
          27.35878,
          37.41715500000001,
          20.599552000000003,
          28.968120000000003,
          32.944136470588234,
          26.44915304347826,
          27.35878,
          42.64750999999999,
          41.56295478260869,
          22.933094999999998,
          22.53076,
          17.556436363636365,
          46.4696925,
          41.03817,
          28.96812,
          36.692952,
          45.06151999999999,
          31.38213,
          31.864932,
          33.58622608695652,
          42.915733333333336,
          30.34755428571429,
          37.01481999999999,
          35.865291428571425,
          34.94566857142857,
          41.762373000000004,
          50.31305052631579,
          56.23223294117647,
          50.211408,
          47.8412890909091,
          52.27580275862069,
          39.42883,
          12.874720000000002,
          44.95053103448276,
          30.57746,
          21.457866666666668,
          41.84284,
          27.036912,
          33.79614,
          34.23505090909091,
          35.86529142857143,
          34.23505090909091,
          27.036911999999997,
          49.889540000000004,
          35.6066475,
          43.22227428571429,
          44.194952307692304,
          40.89616941176471,
          29.354361599999997,
          12.874720000000002,
          47.71219764705883,
          42.619762758620695,
          13.880557499999998,
          15.449664000000002,
          16.0934,
          11.035474285714287,
          16.553211428571426,
          12.07005,
          14.48406,
          23.603653333333337,
          18.346476,
          18.346476,
          40.555368,
          28.508308571428575,
          53.36232631578948,
          57.93624,
          60.35025,
          12.87472,
          16.2945675,
          16.0934,
          20.79762461538461,
          14.92297090909091,
          17.556436363636365,
          15.598218461538462,
          14.92297090909091,
          94.47636258992804,
          69.43152571428571,
          35.63538571428571,
          21.50663454545455,
          39.247130322580645,
          62.76426,
          17.70274,
          13.277055,
          28.968120000000003,
          16.0934,
          63.453977142857134,
          60.511184,
          50.379339130434786,
          60.52267928571428,
          55.069603125,
          19.955816000000002,
          20.277684,
          14.48406,
          20.11675,
          83.39307272727272,
          51.791487272727274,
          42.762462857142864,
          38.624159999999996,
          19.312079999999998,
          44.14189714285714,
          19.31208,
          10.863045000000001,
          53.10822,
          66.80935783783784,
          85.41881538461539,
          43.45218,
          10.398812307692305,
          32.830536,
          25.749440000000003,
          27.588685714285713,
          35.40548,
          78.11627865168539,
          90.79603672727274,
          117.62812363636364,
          26.956445000000002,
          28.324384000000002,
          28.96812,
          22.53076,
          53.108219999999996,
          23.5607376,
          44.417784000000005,
          50.349351428571424,
          26.739803076923078,
          49.55552603773585,
          80.05168645161288,
          29.84594181818182,
          31.509183157894743,
          38.62416,
          78.38432470588236,
          55.6187904,
          44.417784,
          49.487204999999996,
          59.00913333333333,
          31.180962499999996,
          40.8370025,
          13.518455999999999,
          33.1926375,
          32.830535999999995,
          51.12410219178082,
          107.95989166666668,
          94.49899820224718,
          97.23564755244755,
          113.10346852941177,
          47.6766975,
          38.62416,
          31.00097052631579,
          39.267896,
          56.3269,
          49.41620470588235,
          21.726090000000003,
          49.846044324324325,
          42.762462857142864,
          24.579010909090908,
          45.23092421052632,
          36.210150000000006,
          69.78683454545455,
          33.03382105263158,
          36.934353,
          30.76459255813953,
          37.066734193548385,
          45.06151999999999,
          48.923936,
          32.186800000000005,
          36.8136525,
          32.99146999999999,
          35.11287272727273,
          33.67234461538462,
          72.4203,
          50.211408,
          40.23349999999999,
          44.566338461538464,
          39.2276625,
          33.25969333333334,
          30.57746,
          45.06152,
          47.314596,
          38.624159999999996,
          47.8939584,
          29.504566666666665,
          56.23223294117647,
          45.981142857142856,
          42.8486775,
          50.21140799999999,
          49.567672,
          36.47837333333334,
          25.347105000000003,
          44.417784,
          49.889540000000004,
          45.2626875,
          27.21247636363637,
          30.34755428571429,
          34.23505090909091,
          30.175124999999998,
          40.003594285714286,
          73.69083157894737,
          72.4203,
          60.350249999999996,
          114.26313999999999,
          46.67085999999999,
          95.8176276923077,
          92.697984,
          117.25191428571428,
          29.339506153846155,
          47.71219764705883,
          73.31437777777778,
          33.79614,
          70.81096,
          52.824218823529414,
          63.56893,
          66.80935783783784,
          46.008190588235294,
          74.83431000000002,
          74.83431000000002,
          33.796139999999994,
          21.72609,
          30.57746,
          27.036912,
          11.667714999999998,
          98.31604363636363,
          27.303285517241378,
          41.383028571428575,
          34.48585714285714,
          43.452180000000006,
          28.96812,
          108.63045,
          19.312079999999998,
          54.71756,
          75.63897999999999,
          42.072745714285716,
          37.62525931034483,
          30.611701276595745,
          36.53636756756757,
          19.31208,
          23.10552428571429,
          31.964822068965514,
          50.211408,
          31.864932,
          25.189669565217393,
          21.243288,
          24.944770000000002,
          27.35878,
          20.328505263157897,
          25.105704,
          47.073195,
          33.357229090909094,
          26.822333333333333,
          79.66233,
          59.7467475,
          32.186800000000005,
          28.96812,
          39.31387714285714,
          23.973616551724138,
          52.854113684210525,
          68.28199714285714,
          55.79045333333333,
          41.56295478260869,
          28.002515999999996,
          37.77713894736843,
          18.744077647058823,
          11.265379999999997,
          15.087562499999999,
          24.1401,
          14.48406,
          33.10642285714285,
          22.810645217391304,
          59.072244705882355,
          119.493495,
          44.659185,
          88.835568,
          27.35878,
          52.854113684210525,
          36.76722923076923,
          80.46699999999998,
          37.74633818181818,
          12.874719999999998,
          42.689861052631585,
          43.951630344827585,
          9.656039999999999,
          16.981311724137928,
          100.422816,
          52.57177333333334,
          37.336687999999995,
          54.71755999999999,
          29.933724,
          59.86744800000001,
          22.933094999999998,
          24.7194624,
          26.554109999999998,
          24.1401,
          25.928255555555552,
          65.17827,
          60.350249999999996,
          73.27230352941177,
          101.01703384615385,
          35.69808727272727,
          38.18524909090909,
          52.6693090909091,
          63.30070666666667,
          64.26261103448276,
          31.42946352941177,
          42.8486775,
          28.96812,
          46.134413333333335,
          39.50198181818182,
          33.25969333333334,
          42.689861052631585,
          68.66517333333334,
          48.2802,
          21.49835320754717,
          15.173777142857144,
          58.62595714285714,
          18.23918666666667,
          17.007797727272727,
          14.045149090909094,
          20.691514285714288,
          34.761744,
          17.166293333333332,
          23.603653333333337,
          44.83161428571429,
          63.7842642253521,
          26.822333333333333,
          29.65783714285714,
          20.084563199999998,
          43.16817882352941,
          24.829817142857145,
          25.212993333333333,
          22.530759999999994,
          72.42030000000001,
          47.207306666666675,
          9.65604,
          46.576192941176465,
          50.211408,
          38.2379184,
          38.2379184,
          25.174675714285712,
          44.659185,
          77.24832,
          34.76174400000001,
          55.79045333333333,
          43.452180000000006,
          56.23223294117647,
          38.2379184,
          55.83710086956521,
          45.463855,
          56.3269,
          45.52133142857143,
          54.181113333333336,
          39.831165,
          29.933724000000005,
          49.889540000000004,
          53.10822,
          63.729864,
          47.207306666666675,
          32.31059538461538,
          67.02427764705882,
          23.174495999999998,
          47.797398,
          14.48406,
          47.797398,
          39.54378285714286,
          30.416526,
          50.31305052631579,
          47.797398,
          31.864932,
          23.02594153846154,
          27.243827142857143,
          34.33258666666667,
          32.32674260869565,
          32.186800000000005,
          52.47847826086956,
          67.08406736842106,
          29.192679069767443,
          33.79614,
          45.597966666666665,
          17.932645714285712,
          15.800792727272729,
          82.07634,
          76.11231529411765,
          33.93408342857143,
          27.036911999999997,
          35.003144999999996,
          55.34559512195122,
          15.173777142857144,
          35.40548,
          39.831165,
          36.75524903225806,
          91.5448840776699,
          38.164348571428576,
          30.899328000000004,
          54.073823999999995,
          39.267896,
          36.21015,
          48.45262928571428,
          22.933094999999998,
          45.97591772727272,
          43.36108528301887,
          38.038945454545456,
          32.68198153846154,
          54.00229777777777,
          94.05504908108107,
          32.99146999999999,
          28.048497142857144,
          28.968120000000003,
          28.3646175,
          33.10642285714286,
          35.40548,
          45.52133142857143,
          21.726090000000003,
          45.866189999999996,
          38.62416,
          19.31208,
          28.002515999999996,
          37.658556000000004,
          25.74944,
          22.530759999999994,
          19.312079999999998,
          33.796139999999994,
          43.45218,
          24.676546666666663,
          23.818232000000002,
          31.113906666666665,
          33.357229090909094,
          35.175574285714276,
          38.20433217391304,
          45.440188235294116,
          45.52133142857143,
          36.8136525,
          35.69808727272727,
          42.915733333333336,
          22.720094117647058,
          38.221824999999995,
          24.1401,
          30.416526,
          62.76426,
          38.2379184,
          24.1401,
          43.0132690909091,
          26.304384827586208,
          23.450382857142856,
          35.40548,
          20.277684,
          30.175124999999998,
          30.175124999999998,
          22.530759999999994,
          61.7146904347826,
          54.22237846153846,
          44.417784,
          106.21644,
          11.801826666666669,
          54.073824,
          51.3701328,
          24.829817142857145,
          35.21614588235295,
          11.411683636363637,
          10.192486666666667,
          30.28485272727273,
          63.453977142857134,
          38.624159999999996,
          29.289987999999997,
          24.44185125,
          38.62416,
          19.714415,
          12.07005,
          16.0934,
          13.794342857142857,
          26.55411,
          36.210150000000006,
          17.932645714285712,
          43.452180000000006,
          14.484060000000001,
          35.405480000000004,
          35.11287272727273,
          28.968120000000003,
          17.380872,
          40.23349999999999,
          30.175124999999998,
          35.865291428571425,
          29.710892307692305,
          23.701189090909093,
          18.539596799999998,
          34.33258666666667,
          37.01482000000001,
          68.51190285714286,
          50.913665454545445,
          44.486755714285714,
          42.21068914285714,
          96.5604,
          38.62416,
          30.34755428571429,
          30.34755428571429,
          27.036911999999997,
          58.864705384615384,
          68.45059466666666,
          61.15492,
          19.31208,
          35.26553739130435,
          32.04983489361702,
          50.42598666666666,
          39.89469157894737,
          30.498955609756095,
          58.67901230769231,
          37.244725714285714,
          75.86888571428571,
          26.209251428571427,
          16.553211428571426,
          34.3996425,
          68.01210782608695,
          10.460709999999999,
          50.79916695652173,
          27.036911999999997,
          41.199104000000005,
          33.56623428571429,
          85.29501999999998,
          18.313179310344825,
          39.13237263157895,
          27.179964444444444,
          34.94566857142857,
          24.511486153846153,
          31.382130000000004,
          21.457866666666668,
          32.376134117647055,
          20.599552000000003,
          30.175125,
          25.305484137931032,
          25.63845103448276,
          36.8136525,
          19.312079999999998,
          54.181113333333336,
          21.50663454545455,
          38.0206575,
          36.39584307692308,
          16.093400000000003,
          43.854515,
          52.418502857142855,
          23.826592207792206,
          14.669753076923078,
          10.41835894736842,
          62.264809655172414,
          56.00503199999999,
          21.30008823529412,
          46.4696925,
          38.62416,
          32.1868,
          36.692952,
          6.304356694214877,
          34.879981224489796,
          47.71219764705883,
          64.50771166666668,
          51.994061538461544,
          26.554109999999998,
          40.22019966942149,
          27.761114999999997,
          39.160606666666666,
          34.48585714285714,
          30.57746,
          37.658556000000004,
          31.06725913043478,
          12.07005,
          30.5130864,
          16.472068235294117,
          23.450382857142856,
          15.953457391304346,
          56.970636,
          25.053509189189185,
          35.57488421052632,
          17.380872000000004,
          81.18573436893205,
          85.11419528089887,
          46.44095428571429,
          37.41715500000001,
          28.431673333333332,
          26.55411,
          35.96042482758621,
          41.520972,
          24.1401,
          36.692952,
          27.036911999999997,
          25.74944,
          31.240129411764705,
          27.895226666666666,
          16.89807,
          36.944848695652176,
          20.23170285714286,
          25.588506,
          29.88774285714286,
          38.038945454545456,
          68.23601599999999,
          11.180677894736844,
          18.90118468085106,
          30.381199024390245,
          87.41257263157894,
          15.904065882352938,
          69.52348800000001,
          18.23918666666667,
          27.761115,
          11.265379999999997,
          16.898069999999997,
          17.380872000000004,
          56.6902993548387,
          63.367762500000005,
          68.799285,
          39.50198181818182,
          45.30911076923077,
          83.85508421052633,
          7.724831999999999,
          11.201006399999999,
          19.312079999999998,
          57.93624,
          11.54014536585366,
          8.8111365,
          56.21194714285715,
          14.662875555555555,
          7.900396363636363,
          22.61072720496895,
          16.974301894736843,
          15.904065882352938,
          15.449664000000002,
          42.28679586206896,
          44.54237806451613,
          10.349887185628742,
          33.31333800000001,
          10.915523478260868,
          35.003144999999996,
          19.082174285714288,
          15.449663999999999,
          15.754591578947371,
          21.036372857142858,
          39.13237263157895,
          27.35878,
          22.933095,
          40.27275219512195,
          24.902418947368425,
          16.0934,
          24.676546666666663,
          23.38907466666667,
          22.709575555555553,
          33.25969333333334,
          15.28873,
          12.435809090909089,
          29.933724000000005,
          23.02594153846154,
          53.36232631578948,
          37.244725714285714,
          33.25969333333334,
          33.79614,
          46.134413333333335,
          34.48585714285714,
          52.34590105263159,
          40.46340571428572,
          38.624159999999996,
          22.760665714285715,
          30.10412470588235,
          31.864932,
          35.405480000000004,
          27.243827142857143,
          59.77548571428572,
          28.968120000000003,
          48.2802,
          26.209251428571427,
          33.97495555555555,
          14.92297090909091,
          35.96042482758621,
          21.99431333333333,
          16.34099076923077,
          15.863494285714284,
          37.41715500000001,
          79.41260482758621,
          81.25648754716983,
          84.973152,
          56.00503199999999,
          44.88753729729729,
          28.76267234042553,
          66.17920097560976,
          64.83341142857142,
          29.933724000000005,
          19.955816000000002,
          54.606571034482755,
          37.175754000000005,
          30.34755428571429,
          26.377475121951214,
          30.34755428571429,
          20.448084705882355,
          31.601585454545457,
          52.57177333333334,
          40.003594285714286,
          33.79614,
          20.277684,
          32.4442944,
          37.980424,
          40.28899448275862,
          53.797937142857144,
          27.21247636363637,
          55.79045333333333,
          31.864932,
          81.99970476190475,
          113.16201263157895,
          82.84340859813084,
          38.155420194174766,
          58.01287523809523,
          70.18292487804878,
          25.386040645161287,
          23.246022222222223,
          20.277684,
          57.936240000000005,
          73.385904,
          90.47577205479453,
          104.50929480662982,
          59.78808328767124,
          34.33258666666667,
          34.29559034482759,
          48.65158615384615,
          37.079193599999996,
          43.060718918918916,
          37.45373090909091,
          16.553211428571426,
          16.0934,
          30.45366461538461,
          28.96812,
          16.898069999999997,
          24.829817142857145,
          32.830535999999995,
          32.1868,
          52.418502857142855,
          40.23349999999999,
          38.624159999999996,
          27.036911999999997,
          13.369901538461539,
          17.608072941176474,
          24.944770000000002,
          47.6766975,
          52.418502857142855,
          25.950607499999997,
          28.96812,
          23.603653333333337,
          24.579010909090908,
          26.55411,
          16.553211428571426,
          15.904065882352938,
          69.49182885245902,
          21.726090000000003,
          21.243288,
          39.290093793103445,
          31.864932,
          42.072745714285716,
          33.06462181818182,
          17.380872000000004,
          22.283169230769232,
          33.35722909090909,
          14.48406,
          18.708577500000004,
          13.518455999999999,
          37.934442857142855,
          33.14370486486486,
          25.105704,
          17.70274,
          41.95382896551724,
          10.533861818181817,
          10.621644000000002,
          25.189669565217393,
          25.749440000000003,
          92.3358825,
          25.74944,
          20.116749999999996,
          52.74792,
          21.54039692307692,
          25.105704,
          11.104446,
          20.599552000000003,
          16.898069999999997,
          14.48406,
          18.37762451612903,
          11.035474285714287,
          11.411683636363637,
          18.803867368421056,
          27.761114999999997,
          9.656039999999999,
          30.57746,
          16.89807,
          13.318675862068964,
          14.48406,
          21.726090000000003,
          21.067723636363635,
          18.346476,
          15.28873,
          87.88967020408164,
          79.43459320754718,
          26.822333333333333,
          32.47940727272728,
          70.35114857142855,
          55.09622823529412,
          71.213295,
          37.01481999999999,
          29.933724000000005,
          50.772081290322575,
          29.933724000000005,
          45.64673454545455,
          23.5607376,
          52.34590105263159,
          48.28020000000001,
          28.968120000000003,
          12.414908571428573,
          40.109704615384615,
          24.829817142857145,
          58.23334892307693,
          20.599552000000003,
          28.968120000000003,
          34.35321923076923,
          20.116749999999996,
          20.277684,
          46.21104857142858,
          37.55126666666667,
          41.03817,
          35.40548,
          30.45366461538461,
          23.583020769230767,
          28.968120000000003,
          28.16345,
          35.6066475,
          16.678614545454547,
          28.968120000000003,
          12.552852,
          58.50424235294118,
          59.54558,
          27.036911999999997,
          41.038169999999994,
          43.45218,
          36.692952,
          34.48585714285714,
          45.52133142857143,
          20.00179714285714,
          26.476238709677418,
          15.40368285714286,
          29.933724000000005,
          35.40548,
          33.1926375,
          23.335429999999995,
          28.002515999999996,
          44.76891272727272,
          34.118007999999996,
          45.52133142857143,
          36.210150000000006,
          30.34755428571429,
          24.829817142857145,
          28.968120000000003,
          40.00359428571428,
          29.84594181818182,
          30.45366461538461,
          24.461968,
          21.975815172413792,
          35.11287272727273,
          33.79614,
          18.00720972972973,
          25.254258461538463,
          36.47837333333334,
          38.62416,
          38.62416,
          32.830535999999995,
          30.34755428571429,
          23.51035826086956,
          33.796139999999994,
          45.64673454545454,
          41.84284,
          28.968120000000003,
          24.944770000000002,
          28.968120000000003,
          46.348991999999996,
          25.347105000000003,
          29.933724000000005,
          28.324384000000002,
          34.91029846153846,
          28.968120000000003,
          32.186800000000005,
          40.555368,
          43.98862666666666,
          18.23918666666667,
          26.554109999999998,
          28.968120000000003,
          18.708577500000004,
          30.10412470588235,
          13.632056470588234,
          12.794253,
          12.451209473684212,
          20.95566127659574,
          30.632954482758617,
          26.55411,
          29.984545263157894,
          16.898069999999997,
          11.411683636363637,
          30.175124999999998,
          36.555008571428566,
          40.109704615384615,
          33.962623448275856,
          36.59130947368421,
          17.70274,
          30.34755428571428,
          33.10642285714286,
          17.702740000000002,
          39.85684595744681,
          27.35878,
          23.930186086956517,
          17.380872000000004,
          12.289505454545454,
          29.25212117647059,
          39.65873571428571,
          29.5716225,
          24.1401,
          37.244725714285714,
          17.556436363636365,
          20.277684,
          22.53076,
          21.726090000000003,
          25.189669565217393,
          59.91398313253013,
          53.77415379310344,
          31.985632499999998,
          43.08079384615384,
          67.88488727272725,
          51.49888000000001,
          29.387947826086954,
          16.89807,
          40.555368,
          14.484060000000001,
          23.9469792,
          13.24256914285714,
          11.411683636363637,
          12.935449811320755,
          28.968120000000003,
          28.699896666666667,
          26.935269473684208,
          77.24832,
          16.55321142857143,
          10.943512,
          18.668343999999998,
          11.587247999999999,
          14.48406,
          20.189901818181816,
          37.01481999999999,
          28.090298181818188,
          42.762462857142864,
          35.405480000000004,
          28.22534769230769,
          22.436092941176472,
          39.42883,
          21.945545454545456,
          14.48406,
          21.381231428571432,
          31.784465,
          17.131683870967738,
          31.080378750000005,
          33.474272,
          24.1401,
          23.450382857142856,
          30.34755428571429,
          15.953457391304346,
          14.484059999999998,
          21.584089411764705,
          48.700027826086945,
          35.90839875,
          16.898069999999997,
          15.173777142857144,
          26.393175999999997,
          36.8136525,
          11.411683636363637,
          19.31208,
          19.794881999999998,
          23.174496,
          12.6119706122449,
          37.74633818181818,
          15.020506666666664,
          11.201006399999999,
          20.189901818181816,
          19.312079999999995,
          19.31208,
          9.656039999999999,
          20.92142,
          44.69367085714285,
          34.33258666666667,
          45.1865172815534
         ],
         "xaxis": "x",
         "yaxis": "y"
        }
       ],
       "layout": {
        "barmode": "relative",
        "legend": {
         "tracegroupgap": 0
        },
        "margin": {
         "t": 60
        },
        "template": {
         "data": {
          "bar": [
           {
            "error_x": {
             "color": "#2a3f5f"
            },
            "error_y": {
             "color": "#2a3f5f"
            },
            "marker": {
             "line": {
              "color": "#E5ECF6",
              "width": 0.5
             },
             "pattern": {
              "fillmode": "overlay",
              "size": 10,
              "solidity": 0.2
             }
            },
            "type": "bar"
           }
          ],
          "barpolar": [
           {
            "marker": {
             "line": {
              "color": "#E5ECF6",
              "width": 0.5
             },
             "pattern": {
              "fillmode": "overlay",
              "size": 10,
              "solidity": 0.2
             }
            },
            "type": "barpolar"
           }
          ],
          "carpet": [
           {
            "aaxis": {
             "endlinecolor": "#2a3f5f",
             "gridcolor": "white",
             "linecolor": "white",
             "minorgridcolor": "white",
             "startlinecolor": "#2a3f5f"
            },
            "baxis": {
             "endlinecolor": "#2a3f5f",
             "gridcolor": "white",
             "linecolor": "white",
             "minorgridcolor": "white",
             "startlinecolor": "#2a3f5f"
            },
            "type": "carpet"
           }
          ],
          "choropleth": [
           {
            "colorbar": {
             "outlinewidth": 0,
             "ticks": ""
            },
            "type": "choropleth"
           }
          ],
          "contour": [
           {
            "colorbar": {
             "outlinewidth": 0,
             "ticks": ""
            },
            "colorscale": [
             [
              0,
              "#0d0887"
             ],
             [
              0.1111111111111111,
              "#46039f"
             ],
             [
              0.2222222222222222,
              "#7201a8"
             ],
             [
              0.3333333333333333,
              "#9c179e"
             ],
             [
              0.4444444444444444,
              "#bd3786"
             ],
             [
              0.5555555555555556,
              "#d8576b"
             ],
             [
              0.6666666666666666,
              "#ed7953"
             ],
             [
              0.7777777777777778,
              "#fb9f3a"
             ],
             [
              0.8888888888888888,
              "#fdca26"
             ],
             [
              1,
              "#f0f921"
             ]
            ],
            "type": "contour"
           }
          ],
          "contourcarpet": [
           {
            "colorbar": {
             "outlinewidth": 0,
             "ticks": ""
            },
            "type": "contourcarpet"
           }
          ],
          "heatmap": [
           {
            "colorbar": {
             "outlinewidth": 0,
             "ticks": ""
            },
            "colorscale": [
             [
              0,
              "#0d0887"
             ],
             [
              0.1111111111111111,
              "#46039f"
             ],
             [
              0.2222222222222222,
              "#7201a8"
             ],
             [
              0.3333333333333333,
              "#9c179e"
             ],
             [
              0.4444444444444444,
              "#bd3786"
             ],
             [
              0.5555555555555556,
              "#d8576b"
             ],
             [
              0.6666666666666666,
              "#ed7953"
             ],
             [
              0.7777777777777778,
              "#fb9f3a"
             ],
             [
              0.8888888888888888,
              "#fdca26"
             ],
             [
              1,
              "#f0f921"
             ]
            ],
            "type": "heatmap"
           }
          ],
          "heatmapgl": [
           {
            "colorbar": {
             "outlinewidth": 0,
             "ticks": ""
            },
            "colorscale": [
             [
              0,
              "#0d0887"
             ],
             [
              0.1111111111111111,
              "#46039f"
             ],
             [
              0.2222222222222222,
              "#7201a8"
             ],
             [
              0.3333333333333333,
              "#9c179e"
             ],
             [
              0.4444444444444444,
              "#bd3786"
             ],
             [
              0.5555555555555556,
              "#d8576b"
             ],
             [
              0.6666666666666666,
              "#ed7953"
             ],
             [
              0.7777777777777778,
              "#fb9f3a"
             ],
             [
              0.8888888888888888,
              "#fdca26"
             ],
             [
              1,
              "#f0f921"
             ]
            ],
            "type": "heatmapgl"
           }
          ],
          "histogram": [
           {
            "marker": {
             "pattern": {
              "fillmode": "overlay",
              "size": 10,
              "solidity": 0.2
             }
            },
            "type": "histogram"
           }
          ],
          "histogram2d": [
           {
            "colorbar": {
             "outlinewidth": 0,
             "ticks": ""
            },
            "colorscale": [
             [
              0,
              "#0d0887"
             ],
             [
              0.1111111111111111,
              "#46039f"
             ],
             [
              0.2222222222222222,
              "#7201a8"
             ],
             [
              0.3333333333333333,
              "#9c179e"
             ],
             [
              0.4444444444444444,
              "#bd3786"
             ],
             [
              0.5555555555555556,
              "#d8576b"
             ],
             [
              0.6666666666666666,
              "#ed7953"
             ],
             [
              0.7777777777777778,
              "#fb9f3a"
             ],
             [
              0.8888888888888888,
              "#fdca26"
             ],
             [
              1,
              "#f0f921"
             ]
            ],
            "type": "histogram2d"
           }
          ],
          "histogram2dcontour": [
           {
            "colorbar": {
             "outlinewidth": 0,
             "ticks": ""
            },
            "colorscale": [
             [
              0,
              "#0d0887"
             ],
             [
              0.1111111111111111,
              "#46039f"
             ],
             [
              0.2222222222222222,
              "#7201a8"
             ],
             [
              0.3333333333333333,
              "#9c179e"
             ],
             [
              0.4444444444444444,
              "#bd3786"
             ],
             [
              0.5555555555555556,
              "#d8576b"
             ],
             [
              0.6666666666666666,
              "#ed7953"
             ],
             [
              0.7777777777777778,
              "#fb9f3a"
             ],
             [
              0.8888888888888888,
              "#fdca26"
             ],
             [
              1,
              "#f0f921"
             ]
            ],
            "type": "histogram2dcontour"
           }
          ],
          "mesh3d": [
           {
            "colorbar": {
             "outlinewidth": 0,
             "ticks": ""
            },
            "type": "mesh3d"
           }
          ],
          "parcoords": [
           {
            "line": {
             "colorbar": {
              "outlinewidth": 0,
              "ticks": ""
             }
            },
            "type": "parcoords"
           }
          ],
          "pie": [
           {
            "automargin": true,
            "type": "pie"
           }
          ],
          "scatter": [
           {
            "fillpattern": {
             "fillmode": "overlay",
             "size": 10,
             "solidity": 0.2
            },
            "type": "scatter"
           }
          ],
          "scatter3d": [
           {
            "line": {
             "colorbar": {
              "outlinewidth": 0,
              "ticks": ""
             }
            },
            "marker": {
             "colorbar": {
              "outlinewidth": 0,
              "ticks": ""
             }
            },
            "type": "scatter3d"
           }
          ],
          "scattercarpet": [
           {
            "marker": {
             "colorbar": {
              "outlinewidth": 0,
              "ticks": ""
             }
            },
            "type": "scattercarpet"
           }
          ],
          "scattergeo": [
           {
            "marker": {
             "colorbar": {
              "outlinewidth": 0,
              "ticks": ""
             }
            },
            "type": "scattergeo"
           }
          ],
          "scattergl": [
           {
            "marker": {
             "colorbar": {
              "outlinewidth": 0,
              "ticks": ""
             }
            },
            "type": "scattergl"
           }
          ],
          "scattermapbox": [
           {
            "marker": {
             "colorbar": {
              "outlinewidth": 0,
              "ticks": ""
             }
            },
            "type": "scattermapbox"
           }
          ],
          "scatterpolar": [
           {
            "marker": {
             "colorbar": {
              "outlinewidth": 0,
              "ticks": ""
             }
            },
            "type": "scatterpolar"
           }
          ],
          "scatterpolargl": [
           {
            "marker": {
             "colorbar": {
              "outlinewidth": 0,
              "ticks": ""
             }
            },
            "type": "scatterpolargl"
           }
          ],
          "scatterternary": [
           {
            "marker": {
             "colorbar": {
              "outlinewidth": 0,
              "ticks": ""
             }
            },
            "type": "scatterternary"
           }
          ],
          "surface": [
           {
            "colorbar": {
             "outlinewidth": 0,
             "ticks": ""
            },
            "colorscale": [
             [
              0,
              "#0d0887"
             ],
             [
              0.1111111111111111,
              "#46039f"
             ],
             [
              0.2222222222222222,
              "#7201a8"
             ],
             [
              0.3333333333333333,
              "#9c179e"
             ],
             [
              0.4444444444444444,
              "#bd3786"
             ],
             [
              0.5555555555555556,
              "#d8576b"
             ],
             [
              0.6666666666666666,
              "#ed7953"
             ],
             [
              0.7777777777777778,
              "#fb9f3a"
             ],
             [
              0.8888888888888888,
              "#fdca26"
             ],
             [
              1,
              "#f0f921"
             ]
            ],
            "type": "surface"
           }
          ],
          "table": [
           {
            "cells": {
             "fill": {
              "color": "#EBF0F8"
             },
             "line": {
              "color": "white"
             }
            },
            "header": {
             "fill": {
              "color": "#C8D4E3"
             },
             "line": {
              "color": "white"
             }
            },
            "type": "table"
           }
          ]
         },
         "layout": {
          "annotationdefaults": {
           "arrowcolor": "#2a3f5f",
           "arrowhead": 0,
           "arrowwidth": 1
          },
          "autotypenumbers": "strict",
          "coloraxis": {
           "colorbar": {
            "outlinewidth": 0,
            "ticks": ""
           }
          },
          "colorscale": {
           "diverging": [
            [
             0,
             "#8e0152"
            ],
            [
             0.1,
             "#c51b7d"
            ],
            [
             0.2,
             "#de77ae"
            ],
            [
             0.3,
             "#f1b6da"
            ],
            [
             0.4,
             "#fde0ef"
            ],
            [
             0.5,
             "#f7f7f7"
            ],
            [
             0.6,
             "#e6f5d0"
            ],
            [
             0.7,
             "#b8e186"
            ],
            [
             0.8,
             "#7fbc41"
            ],
            [
             0.9,
             "#4d9221"
            ],
            [
             1,
             "#276419"
            ]
           ],
           "sequential": [
            [
             0,
             "#0d0887"
            ],
            [
             0.1111111111111111,
             "#46039f"
            ],
            [
             0.2222222222222222,
             "#7201a8"
            ],
            [
             0.3333333333333333,
             "#9c179e"
            ],
            [
             0.4444444444444444,
             "#bd3786"
            ],
            [
             0.5555555555555556,
             "#d8576b"
            ],
            [
             0.6666666666666666,
             "#ed7953"
            ],
            [
             0.7777777777777778,
             "#fb9f3a"
            ],
            [
             0.8888888888888888,
             "#fdca26"
            ],
            [
             1,
             "#f0f921"
            ]
           ],
           "sequentialminus": [
            [
             0,
             "#0d0887"
            ],
            [
             0.1111111111111111,
             "#46039f"
            ],
            [
             0.2222222222222222,
             "#7201a8"
            ],
            [
             0.3333333333333333,
             "#9c179e"
            ],
            [
             0.4444444444444444,
             "#bd3786"
            ],
            [
             0.5555555555555556,
             "#d8576b"
            ],
            [
             0.6666666666666666,
             "#ed7953"
            ],
            [
             0.7777777777777778,
             "#fb9f3a"
            ],
            [
             0.8888888888888888,
             "#fdca26"
            ],
            [
             1,
             "#f0f921"
            ]
           ]
          },
          "colorway": [
           "#636efa",
           "#EF553B",
           "#00cc96",
           "#ab63fa",
           "#FFA15A",
           "#19d3f3",
           "#FF6692",
           "#B6E880",
           "#FF97FF",
           "#FECB52"
          ],
          "font": {
           "color": "#2a3f5f"
          },
          "geo": {
           "bgcolor": "white",
           "lakecolor": "white",
           "landcolor": "#E5ECF6",
           "showlakes": true,
           "showland": true,
           "subunitcolor": "white"
          },
          "hoverlabel": {
           "align": "left"
          },
          "hovermode": "closest",
          "mapbox": {
           "style": "light"
          },
          "paper_bgcolor": "white",
          "plot_bgcolor": "#E5ECF6",
          "polar": {
           "angularaxis": {
            "gridcolor": "white",
            "linecolor": "white",
            "ticks": ""
           },
           "bgcolor": "#E5ECF6",
           "radialaxis": {
            "gridcolor": "white",
            "linecolor": "white",
            "ticks": ""
           }
          },
          "scene": {
           "xaxis": {
            "backgroundcolor": "#E5ECF6",
            "gridcolor": "white",
            "gridwidth": 2,
            "linecolor": "white",
            "showbackground": true,
            "ticks": "",
            "zerolinecolor": "white"
           },
           "yaxis": {
            "backgroundcolor": "#E5ECF6",
            "gridcolor": "white",
            "gridwidth": 2,
            "linecolor": "white",
            "showbackground": true,
            "ticks": "",
            "zerolinecolor": "white"
           },
           "zaxis": {
            "backgroundcolor": "#E5ECF6",
            "gridcolor": "white",
            "gridwidth": 2,
            "linecolor": "white",
            "showbackground": true,
            "ticks": "",
            "zerolinecolor": "white"
           }
          },
          "shapedefaults": {
           "line": {
            "color": "#2a3f5f"
           }
          },
          "ternary": {
           "aaxis": {
            "gridcolor": "white",
            "linecolor": "white",
            "ticks": ""
           },
           "baxis": {
            "gridcolor": "white",
            "linecolor": "white",
            "ticks": ""
           },
           "bgcolor": "#E5ECF6",
           "caxis": {
            "gridcolor": "white",
            "linecolor": "white",
            "ticks": ""
           }
          },
          "title": {
           "x": 0.05
          },
          "xaxis": {
           "automargin": true,
           "gridcolor": "white",
           "linecolor": "white",
           "ticks": "",
           "title": {
            "standoff": 15
           },
           "zerolinecolor": "white",
           "zerolinewidth": 2
          },
          "yaxis": {
           "automargin": true,
           "gridcolor": "white",
           "linecolor": "white",
           "ticks": "",
           "title": {
            "standoff": 15
           },
           "zerolinecolor": "white",
           "zerolinewidth": 2
          }
         }
        },
        "xaxis": {
         "anchor": "y",
         "domain": [
          0,
          1
         ],
         "title": {
          "text": "speed"
         }
        },
        "yaxis": {
         "anchor": "x",
         "domain": [
          0,
          1
         ],
         "title": {
          "text": "count"
         }
        }
       }
      }
     },
     "metadata": {},
     "output_type": "display_data"
    }
   ],
   "source": [
    "px.histogram(df,x='speed',nbins=100)"
   ]
  },
  {
   "cell_type": "markdown",
   "id": "c6692a3e",
   "metadata": {},
   "source": [
    "###  KMS been driven from Fort Pierce to Fort Pierce and how many trips"
   ]
  },
  {
   "cell_type": "code",
   "execution_count": 58,
   "id": "77ea1f72",
   "metadata": {},
   "outputs": [
    {
     "data": {
      "text/plain": [
       "4"
      ]
     },
     "execution_count": 58,
     "metadata": {},
     "output_type": "execute_result"
    }
   ],
   "source": [
    "df[ (df['start'] == 'Fort Pierce') & (df['stop']=='Fort Pierce')].count()['km']"
   ]
  },
  {
   "cell_type": "code",
   "execution_count": 59,
   "id": "c0c9efbf",
   "metadata": {},
   "outputs": [
    {
     "data": {
      "text/plain": [
       "31.543064"
      ]
     },
     "execution_count": 59,
     "metadata": {},
     "output_type": "execute_result"
    }
   ],
   "source": [
    "df[ (df['start'] == 'Fort Pierce') & (df['stop']=='Fort Pierce')].sum(numeric_only= True)['km']"
   ]
  },
  {
   "cell_type": "markdown",
   "id": "a3bfde90",
   "metadata": {},
   "source": [
    "### How many Trips in every start city and visualize the top 10"
   ]
  },
  {
   "cell_type": "code",
   "execution_count": 60,
   "id": "d523a939",
   "metadata": {},
   "outputs": [
    {
     "data": {
      "text/plain": [
       "Cary                201\n",
       "Unknown Location    135\n",
       "Morrisville          83\n",
       "Whitebridge          68\n",
       "Islamabad            56\n",
       "                   ... \n",
       "Florence              1\n",
       "Ridgeland             1\n",
       "Daytona Beach         1\n",
       "Sky Lake              1\n",
       "Gampaha               1\n",
       "Name: start, Length: 177, dtype: int64"
      ]
     },
     "execution_count": 60,
     "metadata": {},
     "output_type": "execute_result"
    }
   ],
   "source": [
    "df['start'].value_counts()"
   ]
  },
  {
   "cell_type": "code",
   "execution_count": 61,
   "id": "c8d1f591",
   "metadata": {},
   "outputs": [
    {
     "data": {
      "text/plain": [
       "Cary                201\n",
       "Unknown Location    135\n",
       "Morrisville          83\n",
       "Whitebridge          68\n",
       "Islamabad            56\n",
       "Durham               37\n",
       "Lahore               36\n",
       "Kar?chi              27\n",
       "Raleigh              27\n",
       "Westpark Place       17\n",
       "Name: start, dtype: int64"
      ]
     },
     "execution_count": 61,
     "metadata": {},
     "output_type": "execute_result"
    }
   ],
   "source": [
    "df['start'].value_counts().nlargest(10)"
   ]
  },
  {
   "cell_type": "code",
   "execution_count": 62,
   "id": "4b335896",
   "metadata": {},
   "outputs": [],
   "source": [
    "top_10_start_cities_indicies = df['start'].value_counts().head(10).index"
   ]
  },
  {
   "cell_type": "code",
   "execution_count": 63,
   "id": "cfe80d97",
   "metadata": {},
   "outputs": [],
   "source": [
    "top_10_start_cities_df = df[df['start'].isin(top_10_start_cities_indicies)]"
   ]
  },
  {
   "cell_type": "code",
   "execution_count": 64,
   "id": "86195128",
   "metadata": {},
   "outputs": [
    {
     "data": {
      "text/plain": [
       "<Axes: xlabel='count', ylabel='start'>"
      ]
     },
     "execution_count": 64,
     "metadata": {},
     "output_type": "execute_result"
    },
    {
     "data": {
      "image/png": "[encoded data removed]",
      "text/plain": [
       "<Figure size 640x480 with 1 Axes>"
      ]
     },
     "metadata": {},
     "output_type": "display_data"
    }
   ],
   "source": [
    "sns.countplot(data = top_10_start_cities_df , y ='start',order=top_10_start_cities_indicies)"
   ]
  },
  {
   "cell_type": "markdown",
   "id": "822cf5dc",
   "metadata": {},
   "source": [
    "### How many trips driven in all Months of year and visualize the top 4 month descening\n",
    "###  How many trips driven in all days of week\n",
    "###  How many KMS driven in all period of the day and visualiaze them descending\n"
   ]
  },
  {
   "cell_type": "code",
   "execution_count": 65,
   "id": "d1e44c8b",
   "metadata": {},
   "outputs": [],
   "source": [
    "df['hour'] = df['start_date'].dt.hour\n",
    "df['month'] =df['start_date'].dt.month_name()\n",
    "df['day'] = df['start_date'].dt.day_name()"
   ]
  },
  {
   "cell_type": "code",
   "execution_count": 66,
   "id": "5e5de73c",
   "metadata": {},
   "outputs": [
    {
     "data": {
      "text/html": [
       "<div>\n",
       "<style scoped>\n",
       "    .dataframe tbody tr th:only-of-type {\n",
       "        vertical-align: middle;\n",
       "    }\n",
       "\n",
       "    .dataframe tbody tr th {\n",
       "        vertical-align: top;\n",
       "    }\n",
       "\n",
       "    .dataframe thead th {\n",
       "        text-align: right;\n",
       "    }\n",
       "</style>\n",
       "<table border=\"1\" class=\"dataframe\">\n",
       "  <thead>\n",
       "    <tr style=\"text-align: right;\">\n",
       "      <th></th>\n",
       "      <th>0</th>\n",
       "      <th>1</th>\n",
       "      <th>2</th>\n",
       "      <th>3</th>\n",
       "      <th>4</th>\n",
       "    </tr>\n",
       "  </thead>\n",
       "  <tbody>\n",
       "    <tr>\n",
       "      <th>start_date</th>\n",
       "      <td>2016-01-01 21:11:00</td>\n",
       "      <td>2016-01-02 01:25:00</td>\n",
       "      <td>2016-01-02 20:25:00</td>\n",
       "      <td>2016-01-05 17:31:00</td>\n",
       "      <td>2016-01-06 14:42:00</td>\n",
       "    </tr>\n",
       "    <tr>\n",
       "      <th>end_date</th>\n",
       "      <td>2016-01-01 21:17:00</td>\n",
       "      <td>2016-01-02 01:37:00</td>\n",
       "      <td>2016-01-02 20:38:00</td>\n",
       "      <td>2016-01-05 17:45:00</td>\n",
       "      <td>2016-01-06 15:49:00</td>\n",
       "    </tr>\n",
       "    <tr>\n",
       "      <th>category</th>\n",
       "      <td>Business</td>\n",
       "      <td>Business</td>\n",
       "      <td>Business</td>\n",
       "      <td>Business</td>\n",
       "      <td>Business</td>\n",
       "    </tr>\n",
       "    <tr>\n",
       "      <th>start</th>\n",
       "      <td>Fort Pierce</td>\n",
       "      <td>Fort Pierce</td>\n",
       "      <td>Fort Pierce</td>\n",
       "      <td>Fort Pierce</td>\n",
       "      <td>Fort Pierce</td>\n",
       "    </tr>\n",
       "    <tr>\n",
       "      <th>stop</th>\n",
       "      <td>Fort Pierce</td>\n",
       "      <td>Fort Pierce</td>\n",
       "      <td>Fort Pierce</td>\n",
       "      <td>Fort Pierce</td>\n",
       "      <td>West Palm Beach</td>\n",
       "    </tr>\n",
       "    <tr>\n",
       "      <th>purpose</th>\n",
       "      <td>Meal/Entertain</td>\n",
       "      <td>NaN</td>\n",
       "      <td>Errand/Supplies</td>\n",
       "      <td>Meeting</td>\n",
       "      <td>Customer Visit</td>\n",
       "    </tr>\n",
       "    <tr>\n",
       "      <th>km</th>\n",
       "      <td>8.207634</td>\n",
       "      <td>8.0467</td>\n",
       "      <td>7.724832</td>\n",
       "      <td>7.563898</td>\n",
       "      <td>102.514958</td>\n",
       "    </tr>\n",
       "    <tr>\n",
       "      <th>duration</th>\n",
       "      <td>6.0</td>\n",
       "      <td>12.0</td>\n",
       "      <td>13.0</td>\n",
       "      <td>14.0</td>\n",
       "      <td>67.0</td>\n",
       "    </tr>\n",
       "    <tr>\n",
       "      <th>speed</th>\n",
       "      <td>82.07634</td>\n",
       "      <td>40.2335</td>\n",
       "      <td>35.653071</td>\n",
       "      <td>32.416706</td>\n",
       "      <td>91.80444</td>\n",
       "    </tr>\n",
       "    <tr>\n",
       "      <th>hour</th>\n",
       "      <td>21</td>\n",
       "      <td>1</td>\n",
       "      <td>20</td>\n",
       "      <td>17</td>\n",
       "      <td>14</td>\n",
       "    </tr>\n",
       "    <tr>\n",
       "      <th>month</th>\n",
       "      <td>January</td>\n",
       "      <td>January</td>\n",
       "      <td>January</td>\n",
       "      <td>January</td>\n",
       "      <td>January</td>\n",
       "    </tr>\n",
       "    <tr>\n",
       "      <th>day</th>\n",
       "      <td>Friday</td>\n",
       "      <td>Saturday</td>\n",
       "      <td>Saturday</td>\n",
       "      <td>Tuesday</td>\n",
       "      <td>Wednesday</td>\n",
       "    </tr>\n",
       "  </tbody>\n",
       "</table>\n",
       "</div>"
      ],
      "text/plain": [
       "                              0                    1                    2  \\\n",
       "start_date  2016-01-01 21:11:00  2016-01-02 01:25:00  2016-01-02 20:25:00   \n",
       "end_date    2016-01-01 21:17:00  2016-01-02 01:37:00  2016-01-02 20:38:00   \n",
       "category               Business             Business             Business   \n",
       "start               Fort Pierce          Fort Pierce          Fort Pierce   \n",
       "stop                Fort Pierce          Fort Pierce          Fort Pierce   \n",
       "purpose          Meal/Entertain                  NaN      Errand/Supplies   \n",
       "km                     8.207634               8.0467             7.724832   \n",
       "duration                    6.0                 12.0                 13.0   \n",
       "speed                  82.07634              40.2335            35.653071   \n",
       "hour                         21                    1                   20   \n",
       "month                   January              January              January   \n",
       "day                      Friday             Saturday             Saturday   \n",
       "\n",
       "                              3                    4  \n",
       "start_date  2016-01-05 17:31:00  2016-01-06 14:42:00  \n",
       "end_date    2016-01-05 17:45:00  2016-01-06 15:49:00  \n",
       "category               Business             Business  \n",
       "start               Fort Pierce          Fort Pierce  \n",
       "stop                Fort Pierce      West Palm Beach  \n",
       "purpose                 Meeting       Customer Visit  \n",
       "km                     7.563898           102.514958  \n",
       "duration                   14.0                 67.0  \n",
       "speed                 32.416706             91.80444  \n",
       "hour                         17                   14  \n",
       "month                   January              January  \n",
       "day                     Tuesday            Wednesday  "
      ]
     },
     "execution_count": 66,
     "metadata": {},
     "output_type": "execute_result"
    }
   ],
   "source": [
    "df.head().T"
   ]
  },
  {
   "cell_type": "code",
   "execution_count": 67,
   "id": "be2e0ddf",
   "metadata": {},
   "outputs": [],
   "source": [
    "def explore(col):\n",
    "    fig = px.histogram(df,x=col,y='km',title=col)\n",
    "    fig.show()\n"
   ]
  },
  {
   "cell_type": "code",
   "execution_count": 68,
   "id": "db663954",
   "metadata": {},
   "outputs": [
    {
     "data": {
      "application/vnd.plotly.v1+json": {
       "config": {
        "plotlyServerURL": "https://plot.ly"
       },
       "data": [
        {
         "alignmentgroup": "True",
         "bingroup": "x",
         "histfunc": "sum",
         "hovertemplate": "hour=%{x}<br>sum of km=%{y}<extra></extra>",
         "legendgroup": "",
         "marker": {
          "color": "#636efa",
          "pattern": {
           "shape": ""
          }
         },
         "name": "",
         "offsetgroup": "",
         "orientation": "v",
         "showlegend": false,
         "type": "histogram",
         "x": [
          21,
          1,
          20,
          17,
          14,
          17,
          13,
          8,
          12,
          15,
          18,
          19,
          8,
          11,
          13,
          14,
          12,
          12,
          14,
          15,
          15,
          16,
          13,
          15,
          16,
          21,
          0,
          11,
          13,
          14,
          16,
          9,
          10,
          10,
          11,
          13,
          14,
          14,
          16,
          10,
          12,
          16,
          17,
          17,
          9,
          10,
          12,
          14,
          14,
          12,
          15,
          16,
          9,
          10,
          11,
          13,
          18,
          21,
          16,
          18,
          10,
          12,
          12,
          13,
          13,
          14,
          8,
          9,
          10,
          15,
          16,
          18,
          20,
          11,
          13,
          16,
          18,
          19,
          16,
          18,
          18,
          20,
          12,
          14,
          10,
          11,
          13,
          13,
          18,
          20,
          16,
          17,
          18,
          20,
          8,
          10,
          11,
          13,
          14,
          15,
          14,
          23,
          0,
          14,
          14,
          16,
          17,
          3,
          8,
          10,
          11,
          12,
          13,
          16,
          17,
          17,
          13,
          15,
          15,
          16,
          14,
          15,
          18,
          19,
          9,
          10,
          11,
          11,
          12,
          16,
          17,
          20,
          20,
          7,
          10,
          11,
          12,
          14,
          16,
          18,
          19,
          9,
          11,
          11,
          12,
          12,
          13,
          14,
          15,
          15,
          16,
          23,
          21,
          14,
          15,
          16,
          16,
          17,
          18,
          9,
          11,
          11,
          13,
          14,
          15,
          17,
          5,
          9,
          11,
          11,
          12,
          14,
          16,
          18,
          21,
          9,
          11,
          14,
          15,
          16,
          7,
          9,
          11,
          13,
          13,
          15,
          16,
          16,
          19,
          19,
          11,
          12,
          14,
          14,
          16,
          17,
          9,
          9,
          12,
          13,
          15,
          14,
          15,
          16,
          3,
          10,
          14,
          16,
          9,
          10,
          11,
          13,
          19,
          9,
          18,
          9,
          18,
          20,
          20,
          21,
          22,
          8,
          18,
          8,
          20,
          11,
          14,
          18,
          0,
          12,
          15,
          17,
          18,
          20,
          21,
          7,
          8,
          18,
          19,
          21,
          9,
          12,
          14,
          15,
          17,
          17,
          17,
          18,
          19,
          7,
          11,
          17,
          18,
          18,
          10,
          16,
          18,
          20,
          6,
          12,
          19,
          14,
          14,
          19,
          20,
          13,
          16,
          22,
          14,
          15,
          16,
          0,
          1,
          15,
          21,
          23,
          12,
          19,
          22,
          15,
          18,
          20,
          23,
          22,
          12,
          14,
          13,
          14,
          16,
          16,
          8,
          11,
          12,
          16,
          19,
          23,
          2,
          21,
          0,
          18,
          19,
          12,
          13,
          13,
          14,
          16,
          9,
          9,
          10,
          12,
          13,
          7,
          16,
          11,
          12,
          14,
          12,
          15,
          17,
          19,
          8,
          10,
          12,
          13,
          17,
          18,
          19,
          19,
          21,
          13,
          14,
          12,
          22,
          11,
          13,
          18,
          22,
          18,
          22,
          13,
          14,
          17,
          17,
          22,
          14,
          15,
          22,
          15,
          20,
          21,
          22,
          21,
          22,
          23,
          5,
          16,
          17,
          6,
          14,
          17,
          19,
          9,
          17,
          8,
          21,
          18,
          23,
          13,
          13,
          14,
          9,
          14,
          10,
          15,
          15,
          18,
          20,
          21,
          20,
          20,
          22,
          0,
          12,
          14,
          13,
          16,
          17,
          10,
          13,
          11,
          13,
          15,
          18,
          18,
          19,
          22,
          14,
          15,
          15,
          18,
          21,
          23,
          15,
          16,
          20,
          21,
          21,
          23,
          21,
          23,
          8,
          12,
          13,
          14,
          16,
          17,
          17,
          20,
          15,
          21,
          23,
          17,
          17,
          17,
          21,
          23,
          19,
          20,
          21,
          5,
          14,
          18,
          18,
          20,
          12,
          16,
          17,
          17,
          1,
          15,
          16,
          17,
          19,
          13,
          14,
          15,
          19,
          21,
          16,
          0,
          2,
          5,
          15,
          17,
          10,
          11,
          12,
          12,
          13,
          14,
          20,
          9,
          9,
          10,
          10,
          11,
          11,
          19,
          23,
          17,
          18,
          19,
          21,
          7,
          8,
          9,
          9,
          10,
          10,
          11,
          11,
          12,
          13,
          21,
          0,
          20,
          23,
          23,
          8,
          10,
          11,
          12,
          20,
          23,
          20,
          0,
          9,
          12,
          20,
          23,
          20,
          23,
          0,
          3,
          20,
          0,
          17,
          18,
          20,
          0,
          0,
          16,
          20,
          22,
          0,
          9,
          12,
          20,
          23,
          8,
          12,
          9,
          10,
          13,
          17,
          9,
          9,
          10,
          14,
          16,
          18,
          19,
          16,
          19,
          23,
          12,
          13,
          13,
          15,
          16,
          16,
          11,
          12,
          12,
          15,
          15,
          13,
          14,
          15,
          19,
          21,
          22,
          11,
          12,
          10,
          10,
          11,
          11,
          17,
          18,
          19,
          20,
          21,
          10,
          10,
          11,
          17,
          17,
          17,
          17,
          18,
          17,
          17,
          18,
          19,
          10,
          11,
          11,
          12,
          13,
          14,
          15,
          18,
          14,
          14,
          15,
          15,
          20,
          23,
          10,
          10,
          11,
          11,
          15,
          17,
          20,
          22,
          19,
          21,
          22,
          0,
          15,
          17,
          17,
          21,
          17,
          12,
          13,
          13,
          13,
          15,
          16,
          16,
          17,
          8,
          11,
          19,
          21,
          12,
          14,
          16,
          17,
          18,
          19,
          6,
          9,
          17,
          17,
          18,
          20,
          16,
          16,
          17,
          21,
          23,
          14,
          15,
          16,
          16,
          17,
          18,
          19,
          12,
          13,
          13,
          18,
          20,
          18,
          18,
          15,
          9,
          15,
          16,
          19,
          7,
          8,
          8,
          10,
          10,
          11,
          15,
          10,
          10,
          14,
          15,
          16,
          16,
          17,
          18,
          18,
          8,
          8,
          9,
          10,
          12,
          15,
          17,
          10,
          14,
          16,
          18,
          18,
          10,
          11,
          12,
          13,
          14,
          15,
          15,
          19,
          20,
          22,
          8,
          9,
          12,
          13,
          13,
          15,
          15,
          17,
          12,
          13,
          15,
          16,
          17,
          19,
          22,
          9,
          11,
          12,
          14,
          15,
          15,
          16,
          18,
          19,
          20,
          9,
          11,
          12,
          14,
          16,
          9,
          16,
          17,
          21,
          12,
          13,
          14,
          14,
          15,
          16,
          17,
          18,
          11,
          12,
          13,
          14,
          17,
          11,
          17,
          18,
          11,
          18,
          10,
          10,
          8,
          11,
          13,
          16,
          11,
          20,
          6,
          14,
          16,
          17,
          19,
          11,
          20,
          13,
          14,
          20,
          13,
          19,
          21,
          17,
          16,
          17,
          20,
          18,
          18,
          22,
          9,
          8,
          19,
          11,
          13,
          14,
          15,
          18,
          18,
          14,
          17,
          17,
          1,
          11,
          12,
          13,
          16,
          8,
          10,
          15,
          23,
          22,
          0,
          12,
          14,
          15,
          19,
          20,
          21,
          15,
          16,
          18,
          18,
          19,
          8,
          8,
          10,
          18,
          19,
          20,
          9,
          9,
          13,
          14,
          15,
          16,
          16,
          11,
          12,
          20,
          10,
          0,
          13,
          17,
          9,
          12,
          19,
          21,
          14,
          15,
          16,
          13,
          15,
          15,
          20,
          20,
          22,
          19,
          20,
          18,
          19,
          19,
          20,
          21,
          11,
          13,
          15,
          18,
          20,
          15,
          17,
          7,
          9,
          10,
          10,
          12,
          12,
          13,
          15,
          18,
          18,
          18,
          20,
          21,
          11,
          16,
          17,
          19,
          19,
          20,
          15,
          15,
          16,
          17,
          17,
          11,
          12,
          13,
          14,
          18,
          22,
          10,
          18,
          21,
          22,
          8,
          17,
          19,
          10,
          16,
          16,
          19,
          20,
          12,
          19,
          10,
          12,
          13,
          16,
          13,
          15,
          17,
          18,
          18,
          18,
          20,
          21,
          9,
          10,
          14,
          15,
          19,
          9,
          12,
          14,
          14,
          18,
          21,
          10,
          10,
          13,
          13,
          14,
          15,
          15,
          15,
          8,
          9,
          10,
          11,
          12,
          13,
          13,
          14,
          15,
          15,
          11,
          13,
          15,
          20,
          13,
          14,
          20,
          20,
          22,
          10,
          20,
          21,
          21,
          13,
          14,
          16,
          16,
          17,
          21,
          10,
          11,
          14,
          17,
          13,
          14,
          17,
          18,
          18,
          15,
          15,
          15,
          18,
          21,
          15,
          16,
          16,
          18,
          11,
          13,
          15,
          17,
          17,
          18,
          19,
          15,
          18,
          11,
          11,
          12,
          7,
          8,
          18,
          20,
          12,
          13,
          20,
          22,
          18,
          19,
          20,
          18,
          20,
          18,
          19,
          12,
          12,
          19,
          21,
          14,
          14,
          19,
          21,
          12,
          13,
          20,
          22,
          12,
          14,
          18,
          22,
          16,
          19,
          21,
          13,
          13,
          14,
          17,
          20,
          18,
          20,
          16,
          17,
          17,
          20,
          14,
          15,
          17,
          13,
          16,
          20,
          9,
          10,
          13,
          13,
          14,
          14,
          14,
          15,
          16,
          19,
          19,
          8,
          10,
          11,
          13,
          13,
          16,
          16,
          18,
          7,
          10,
          11,
          12,
          15,
          15,
          17,
          17,
          19,
          20,
          15,
          17,
          17,
          17,
          18,
          19,
          21,
          23,
          9,
          11,
          14,
          16,
          17,
          7,
          9,
          10,
          12,
          13,
          17,
          19,
          22,
          0,
          19,
          21,
          8,
          9,
          10,
          11,
          13,
          7,
          8,
          12,
          14,
          16,
          19,
          8,
          11,
          13,
          15,
          17,
          18,
          22,
          0,
          9,
          11,
          12,
          13,
          13,
          14,
          15,
          18,
          19,
          20,
          20,
          23,
          10,
          11,
          15,
          16,
          23,
          1,
          13,
          15,
          21,
          22
         ],
         "xaxis": "x",
         "y": [
          8.207633999999999,
          8.0467,
          7.724831999999999,
          7.563898,
          102.51495800000001,
          6.9201619999999995,
          1.2874720000000002,
          13.357522000000001,
          26.55411,
          17.380872,
          12.07005,
          9.977908000000001,
          10.299776000000001,
          2.5749440000000003,
          2.735878,
          3.057746,
          3.057746,
          6.43736,
          2.896812,
          3.8624159999999996,
          3.21868,
          24.301033999999998,
          18.024607999999997,
          18.990212,
          35.244546,
          6.276426,
          12.87472,
          16.737136,
          16.737136,
          7.724831999999999,
          7.563898,
          11.587248,
          12.230984,
          27.519714,
          24.301033999999998,
          64.695468,
          2.5749440000000003,
          3.8624159999999996,
          1.60934,
          3.21868,
          3.7014819999999995,
          3.057746,
          2.2530759999999996,
          0.80467,
          2.896812,
          30.094658,
          5.471756,
          4.345218,
          20.760486,
          30.57746,
          23.657297999999997,
          25.266638,
          7.402963999999999,
          8.368568,
          16.737136,
          16.254334,
          9.334171999999999,
          8.85137,
          9.173238,
          9.173238,
          31.221196,
          37.497622,
          6.276426,
          13.357522000000001,
          9.65604,
          2.5749440000000003,
          8.368568,
          15.610598,
          2.5749440000000003,
          1.7702740000000001,
          2.5749440000000003,
          14.48406,
          12.391918,
          16.737136,
          16.737136,
          18.346476,
          14.48406,
          5.149888000000001,
          9.012303999999999,
          9.173238,
          9.816974,
          9.816974,
          6.9201619999999995,
          4.345218,
          8.529501999999999,
          4.82802,
          8.207633999999999,
          2.41401,
          9.816974,
          9.816974,
          27.841582000000002,
          9.173238,
          21.72609,
          9.816974,
          13.67939,
          4.184284,
          27.35878,
          28.96812,
          13.518456,
          18.50741,
          14.323126,
          4.345218,
          2.896812,
          13.035654,
          3.21868,
          20.92142,
          22.369826,
          70.328158,
          22.691694,
          4.184284,
          7.24203,
          2.735878,
          2.896812,
          9.65604,
          1.7702740000000001,
          5.793624,
          23.657297999999997,
          2.735878,
          34.439876,
          0.80467,
          20.438617999999998,
          9.65604,
          8.368568,
          16.0934,
          18.024607999999997,
          12.230984,
          2.41401,
          1.60934,
          11.748182,
          5.63269,
          6.759228,
          21.887024,
          4.02335,
          23.174496,
          4.82802,
          2.41401,
          29.611855999999996,
          37.175754000000005,
          26.55411,
          5.149888000000001,
          12.391918,
          23.33543,
          3.8624159999999996,
          7.402963999999999,
          14.162192000000001,
          13.357522000000001,
          36.532018,
          20.92142,
          13.035654,
          3.5405480000000003,
          15.610598,
          32.1868,
          13.035654,
          2.41401,
          2.735878,
          4.9889540000000006,
          5.149888000000001,
          9.65604,
          9.334171999999999,
          10.138842,
          2.735878,
          17.059003999999998,
          15.932466,
          3.057746,
          6.759228,
          3.21868,
          12.391918,
          10.943512,
          3.379614,
          6.115492,
          9.012303999999999,
          4.184284,
          10.621644,
          12.87472,
          12.87472,
          3.5405480000000003,
          3.7014819999999995,
          8.368568,
          12.230984,
          27.841582000000002,
          15.932466,
          15.932466,
          16.737136,
          17.541806,
          25.266638,
          7.885766,
          1.2874720000000002,
          21.72609,
          3.057746,
          3.21868,
          10.46071,
          6.759228,
          5.63269,
          12.552852,
          12.552852,
          6.276426,
          4.506151999999999,
          19.955816000000002,
          9.495106,
          15.127796,
          19.151146,
          11.587248,
          12.230984,
          2.5749440000000003,
          13.518456,
          20.599552000000003,
          3.7014819999999995,
          2.5749440000000003,
          3.21868,
          1.2874720000000002,
          1.9312079999999998,
          1.60934,
          3.379614,
          3.5405480000000003,
          3.057746,
          9.173238,
          13.518456,
          9.977908000000001,
          16.89807,
          11.587248,
          20.11675,
          3.21868,
          4.345218,
          3.21868,
          4.506151999999999,
          2.735878,
          3.21868,
          3.379614,
          2.735878,
          218.87024,
          48.602067999999996,
          24.94477,
          7.885766,
          20.277684,
          16.737136,
          1.7702740000000001,
          1.7702740000000001,
          21.243288,
          1.60934,
          14.805927999999998,
          15.127796,
          19.31208,
          56.487834,
          58.74091,
          4.9889540000000006,
          3.379614,
          1.9312079999999998,
          12.07005,
          91.73238,
          9.495106,
          9.977908000000001,
          16.737136,
          1.9312079999999998,
          15.449663999999999,
          1.60934,
          1.448406,
          14.162192000000001,
          41.199104000000005,
          37.01482,
          13.035654,
          2.2530759999999996,
          2.735878,
          2.5749440000000003,
          3.21868,
          3.5405480000000003,
          231.74496,
          499.37820200000004,
          323.47734,
          10.782578,
          14.162192000000001,
          1.9312079999999998,
          3.379614,
          10.621644,
          9.816974,
          11.104446000000001,
          11.748182,
          5.793624,
          43.774048,
          41.360037999999996,
          21.887024,
          9.977908000000001,
          9.65604,
          22.208892000000002,
          46.348992,
          25.910374,
          26.393175999999997,
          17.70274,
          24.94477,
          32.669602,
          1.1265379999999998,
          8.85137,
          8.207633999999999,
          124.40198199999999,
          129.55187,
          280.34702799999997,
          231.74496,
          256.367862,
          12.713786,
          12.87472,
          9.816974,
          9.816974,
          16.89807,
          14.001257999999998,
          2.896812,
          30.738394000000003,
          29.933724,
          4.506151999999999,
          14.323126,
          12.07005,
          25.588506,
          10.46071,
          24.622902,
          22.047957999999998,
          19.151146,
          2.2530759999999996,
          24.461968,
          9.65604,
          9.816974,
          13.196587999999998,
          12.87472,
          21.887024,
          36.21015,
          16.737136,
          16.0934,
          9.65604,
          10.46071,
          4.9889540000000006,
          3.057746,
          6.759228,
          7.885766,
          7.724831999999999,
          19.955816000000002,
          8.85137,
          15.932466,
          16.0934,
          22.852628,
          29.289987999999997,
          12.391918,
          10.943512,
          3.379614,
          3.7014819999999995,
          9.977908000000001,
          12.07005,
          4.9889540000000006,
          3.5405480000000003,
          6.276426,
          4.02335,
          14.001257999999998,
          23.33543,
          7.24203,
          8.0467,
          22.852628,
          4.667085999999999,
          20.760486,
          23.174496,
          27.35878,
          12.713786,
          13.518456,
          32.99147,
          15.771532,
          28.324384000000002,
          14.966862,
          12.713786,
          41.199104000000005,
          13.035654,
          4.9889540000000006,
          4.9889540000000006,
          4.506151999999999,
          4.345218,
          3.057746,
          13.518456,
          4.667085999999999,
          18.024607999999997,
          13.196587999999998,
          4.82802,
          4.02335,
          5.793624,
          5.793624,
          7.24203,
          1.9312079999999998,
          2.735878,
          7.563898,
          9.816974,
          18.185542,
          23.979166,
          22.53076,
          2.896812,
          10.782578,
          15.449663999999999,
          16.737136,
          15.932466,
          9.65604,
          5.310822,
          4.9889540000000006,
          2.735878,
          6.43736,
          12.552852,
          12.552852,
          6.115492,
          4.02335,
          15.932466,
          15.932466,
          4.82802,
          3.8624159999999996,
          9.173238,
          11.587248,
          16.737136,
          15.932466,
          16.737136,
          15.932466,
          14.001257999999998,
          35.888282000000004,
          5.310822,
          1.1265379999999998,
          4.02335,
          0.80467,
          1.448406,
          7.724831999999999,
          26.232242,
          16.737136,
          15.932466,
          5.9545580000000005,
          7.402963999999999,
          2.735878,
          16.737136,
          15.932466,
          4.02335,
          6.9201619999999995,
          4.506151999999999,
          13.518456,
          21.243288,
          6.276426,
          8.207633999999999,
          8.368568,
          15.771532,
          18.668343999999998,
          8.207633999999999,
          14.966862,
          19.955816000000002,
          3.057746,
          10.299776000000001,
          8.85137,
          2.41401,
          23.33543,
          4.345218,
          24.1401,
          20.760486,
          21.887024,
          19.633948,
          14.001257999999998,
          9.65604,
          9.495106,
          31.060262,
          26.715044000000002,
          11.426314,
          3.379614,
          13.840323999999999,
          14.48406,
          4.9889540000000006,
          13.518456,
          20.599552000000003,
          7.24203,
          18.990212,
          1.7702740000000001,
          27.35878,
          2.735878,
          24.94477,
          2.5749440000000003,
          2.41401,
          20.277684,
          7.724831999999999,
          3.5405480000000003,
          20.92142,
          75.47804599999999,
          4.02335,
          13.840323999999999,
          8.368568,
          12.230984,
          2.896812,
          7.563898,
          4.506151999999999,
          48.2802,
          7.0810960000000005,
          1.60934,
          13.196587999999998,
          16.737136,
          15.932466,
          15.932466,
          11.748182,
          11.909116000000001,
          2.5749440000000003,
          2.896812,
          16.737136,
          15.932466,
          15.932466,
          15.932466,
          21.404222,
          18.185542,
          16.89807,
          15.932466,
          16.254334,
          15.932466,
          4.9889540000000006,
          4.9889540000000006,
          15.932466,
          15.932466,
          14.162192000000001,
          14.001257999999998,
          18.990212,
          1.9312079999999998,
          15.932466,
          0.9656039999999999,
          15.932466,
          13.840323999999999,
          10.138842,
          15.932466,
          15.932466,
          5.310822,
          4.9889540000000006,
          12.713786,
          20.599552000000003,
          12.391918,
          11.26538,
          20.11675,
          21.243288,
          20.92142,
          7.885766,
          13.67939,
          2.092142,
          2.896812,
          21.887024,
          21.565156,
          19.794882,
          2.2530759999999996,
          14.001257999999998,
          37.81949,
          3.5405480000000003,
          7.0810960000000005,
          5.310822,
          18.990212,
          314.304102,
          13.357522000000001,
          5.149888000000001,
          36.049215999999994,
          19.633948,
          7.24203,
          45.222454,
          6.115492,
          67.43134599999999,
          38.302292,
          20.92142,
          7.0810960000000005,
          24.301033999999998,
          290.003068,
          6.598293999999999,
          9.816974,
          5.310822,
          7.563898,
          11.587248,
          8.85137,
          5.310822,
          1.448406,
          6.115492,
          10.299776000000001,
          4.82802,
          14.001257999999998,
          6.276426,
          7.724831999999999,
          4.506151999999999,
          2.2530759999999996,
          2.2530759999999996,
          4.345218,
          3.7014819999999995,
          5.9545580000000005,
          4.667085999999999,
          6.115492,
          8.207633999999999,
          14.644993999999999,
          12.87472,
          15.932466,
          9.816974,
          19.633948,
          12.87472,
          6.43736,
          15.28873,
          4.82802,
          10.138842,
          16.737136,
          15.932466,
          2.41401,
          7.885766,
          12.713786,
          2.735878,
          3.5405480000000003,
          3.379614,
          4.02335,
          4.02335,
          4.506151999999999,
          23.657297999999997,
          23.496364,
          3.7014819999999995,
          3.5405480000000003,
          3.5405480000000003,
          22.53076,
          21.404222,
          2.896812,
          9.977908000000001,
          2.092142,
          3.057746,
          11.104446000000001,
          7.402963999999999,
          4.506151999999999,
          14.644993999999999,
          13.035654,
          13.518456,
          7.885766,
          1.60934,
          1.60934,
          3.21868,
          1.7702740000000001,
          2.41401,
          2.092142,
          2.896812,
          2.41401,
          10.621644,
          12.87472,
          4.345218,
          4.345218,
          4.02335,
          4.02335,
          8.368568,
          6.43736,
          4.345218,
          7.724831999999999,
          5.149888000000001,
          11.104446000000001,
          23.979166,
          28.002515999999996,
          20.760486,
          24.622902,
          1.60934,
          9.65604,
          3.5405480000000003,
          7.0810960000000005,
          4.506151999999999,
          51.016078,
          51.337945999999995,
          3.057746,
          2.896812,
          13.518456,
          25.105704,
          22.691694,
          25.266638,
          41.681906,
          12.713786,
          4.345218,
          8.85137,
          9.173238,
          1.9312079999999998,
          9.173238,
          26.071308,
          4.184284,
          19.473014,
          2.2530759999999996,
          10.299776000000001,
          11.748182,
          8.529501999999999,
          8.85137,
          12.391918,
          12.230984,
          12.230984,
          5.310822,
          10.46071,
          3.21868,
          9.173238,
          5.149888000000001,
          20.11675,
          12.230984,
          12.391918,
          19.633948,
          2.2530759999999996,
          32.508668,
          15.771532,
          10.138842,
          7.885766,
          2.41401,
          17.541806,
          30.57746,
          30.57746,
          12.713786,
          6.598293999999999,
          30.094658,
          14.001257999999998,
          12.07005,
          12.391918,
          7.0810960000000005,
          8.0467,
          3.057746,
          12.713786,
          28.485318,
          40.555368,
          154.818508,
          56.3269,
          8.85137,
          81.110736,
          14.805927999999998,
          11.748182,
          8.0467,
          6.115492,
          6.276426,
          11.909116000000001,
          2.41401,
          12.713786,
          4.667085999999999,
          5.471756,
          6.115492,
          9.495106,
          15.449663999999999,
          11.26538,
          1.448406,
          139.368844,
          252.505446,
          16.254334,
          9.977908000000001,
          8.529501999999999,
          19.473014,
          17.380872,
          6.9201619999999995,
          4.02335,
          9.173238,
          4.506151999999999,
          6.43736,
          8.85137,
          4.184284,
          3.379614,
          14.162192000000001,
          7.0810960000000005,
          8.529501999999999,
          20.92142,
          20.92142,
          17.059003999999998,
          3.5405480000000003,
          14.805927999999998,
          20.760486,
          27.680647999999998,
          4.506151999999999,
          5.793624,
          2.735878,
          18.50741,
          1.1265379999999998,
          1.1265379999999998,
          1.448406,
          29.289987999999997,
          16.89807,
          9.173238,
          28.96812,
          29.450922000000002,
          26.55411,
          15.449663999999999,
          4.667085999999999,
          13.196587999999998,
          3.8624159999999996,
          15.771532,
          11.748182,
          314.786904,
          32.99147,
          20.277684,
          60.672118000000005,
          26.875978,
          4.506151999999999,
          2.5749440000000003,
          20.438617999999998,
          46.027124,
          28.807185999999998,
          22.208892000000002,
          4.184284,
          9.334171999999999,
          13.357522000000001,
          3.8624159999999996,
          4.9889540000000006,
          9.816974,
          12.391918,
          2.735878,
          15.28873,
          27.519714,
          15.771532,
          1.60934,
          3.7014819999999995,
          17.541806,
          20.438617999999998,
          19.955816000000002,
          6.115492,
          27.35878,
          9.977908000000001,
          4.9889540000000006,
          16.89807,
          13.035654,
          4.9889540000000006,
          3.379614,
          6.9201619999999995,
          4.02335,
          33.152404000000004,
          28.324384000000002,
          9.012303999999999,
          5.310822,
          8.529501999999999,
          5.310822,
          5.310822,
          12.713786,
          20.92142,
          4.82802,
          4.82802,
          6.115492,
          15.28873,
          2.735878,
          17.380872,
          6.598293999999999,
          3.5405480000000003,
          7.402963999999999,
          4.9889540000000006,
          76.765518,
          71.77656400000001,
          21.243288,
          14.001257999999998,
          27.680647999999998,
          22.53076,
          45.222454,
          45.383388,
          4.9889540000000006,
          4.9889540000000006,
          26.393175999999997,
          24.783836,
          3.5405480000000003,
          18.024607999999997,
          3.5405480000000003,
          5.793624,
          5.793624,
          7.885766,
          14.001257999999998,
          3.379614,
          3.379614,
          13.518456,
          9.495106,
          19.473014,
          6.276426,
          9.977908000000001,
          16.737136,
          15.932466,
          172.19938,
          215.007824,
          147.737412,
          65.500138,
          121.827038,
          47.958332,
          26.232242,
          10.46071,
          10.138842,
          10.621644,
          24.461968,
          110.078856,
          315.269706,
          72.742168,
          5.149888000000001,
          16.576202000000002,
          21.082354,
          15.449663999999999,
          26.55411,
          20.599552000000003,
          1.9312079999999998,
          1.60934,
          6.598293999999999,
          6.759228,
          2.2530759999999996,
          2.896812,
          13.67939,
          8.0467,
          6.115492,
          4.02335,
          3.8624159999999996,
          2.2530759999999996,
          2.896812,
          4.9889540000000006,
          4.9889540000000006,
          12.713786,
          6.115492,
          6.9201619999999995,
          6.276426,
          3.5405480000000003,
          4.506151999999999,
          3.5405480000000003,
          3.8624159999999996,
          4.506151999999999,
          70.650026,
          2.896812,
          5.310822,
          18.990212,
          21.243288,
          19.633948,
          18.185542,
          5.793624,
          4.82802,
          18.346476,
          1.448406,
          9.977908000000001,
          1.1265379999999998,
          8.85137,
          20.438617999999998,
          4.184284,
          1.7702740000000001,
          20.277684,
          1.9312079999999998,
          1.7702740000000001,
          9.65604,
          1.2874720000000002,
          73.868706,
          6.43736,
          4.02335,
          58.901844000000004,
          4.667085999999999,
          4.184284,
          3.7014819999999995,
          10.299776000000001,
          2.2530759999999996,
          0.9656039999999999,
          9.495106,
          1.2874720000000002,
          2.092142,
          5.9545580000000005,
          3.7014819999999995,
          4.184284,
          3.057746,
          3.379614,
          6.43736,
          1.448406,
          1.448406,
          3.8624159999999996,
          3.057746,
          3.057746,
          71.77656400000001,
          70.167224,
          4.02335,
          5.9545580000000005,
          8.207633999999999,
          15.610598,
          18.990212,
          3.7014819999999995,
          4.9889540000000006,
          26.232242,
          4.9889540000000006,
          8.368568,
          9.816974,
          16.576202000000002,
          16.89807,
          2.41401,
          2.896812,
          8.690436,
          8.690436,
          63.086128,
          10.299776000000001,
          4.345218,
          29.77279,
          4.02335,
          3.379614,
          10.782578,
          5.63269,
          5.471756,
          8.85137,
          6.598293999999999,
          20.438617999999998,
          4.82802,
          5.63269,
          9.495106,
          3.057746,
          5.310822,
          2.092142,
          16.576202000000002,
          17.863674,
          2.2530759999999996,
          8.207633999999999,
          14.48406,
          21.404222,
          4.02335,
          5.310822,
          4.667085999999999,
          13.67939,
          10.782578,
          4.9889540000000006,
          8.85137,
          8.85137,
          4.667085999999999,
          4.667085999999999,
          8.207633999999999,
          8.529501999999999,
          5.310822,
          4.82802,
          10.621644,
          2.896812,
          4.82802,
          4.667085999999999,
          5.471756,
          6.598293999999999,
          6.115492,
          10.621644,
          6.43736,
          11.26538,
          11.104446000000001,
          5.471756,
          5.471756,
          3.21868,
          3.21868,
          8.207633999999999,
          14.162192000000001,
          9.012303999999999,
          30.416525999999998,
          25.105704,
          25.105704,
          4.82802,
          4.9889540000000006,
          4.82802,
          7.724831999999999,
          3.379614,
          4.9889540000000006,
          7.0810960000000005,
          7.563898,
          4.82802,
          4.82802,
          6.759228,
          6.598293999999999,
          5.471756,
          5.310822,
          4.82802,
          4.9889540000000006,
          17.059003999999998,
          7.724831999999999,
          8.529501999999999,
          7.885766,
          16.415267999999998,
          14.805927999999998,
          12.391918,
          9.495106,
          1.1265379999999998,
          2.092142,
          4.02335,
          8.529501999999999,
          8.690436,
          16.415267999999998,
          11.587248,
          3.5405480000000003,
          17.70274,
          19.31208,
          5.310822,
          31.221196,
          2.735878,
          9.173238,
          2.896812,
          2.2530759999999996,
          16.576202000000002,
          18.50741,
          7.885766,
          5.63269,
          26.071308,
          3.21868,
          3.379614,
          3.379614,
          11.587248,
          19.31208,
          165.76202,
          51.98168199999999,
          8.529501999999999,
          18.668343999999998,
          37.336687999999995,
          5.149888000000001,
          22.53076,
          3.379614,
          3.379614,
          4.82802,
          9.977908000000001,
          15.449663999999999,
          2.092142,
          11.426314,
          10.138842,
          17.219938,
          8.529501999999999,
          2.5749440000000003,
          5.793624,
          2.735878,
          4.667085999999999,
          0.9656039999999999,
          0.9656039999999999,
          3.7014819999999995,
          3.7014819999999995,
          5.149888000000001,
          9.977908000000001,
          12.391918,
          6.115492,
          12.713786,
          7.885766,
          8.0467,
          0.9656039999999999,
          4.9889540000000006,
          12.713786,
          8.85137,
          16.576202000000002,
          16.737136,
          3.21868,
          13.67939,
          7.0810960000000005,
          6.115492,
          8.207633999999999,
          6.115492,
          18.668343999999998,
          19.151146,
          2.2530759999999996,
          1.7702740000000001,
          6.598293999999999,
          9.816974,
          2.092142,
          4.82802,
          6.598293999999999,
          11.587248,
          10.299776000000001,
          20.760486,
          4.506151999999999,
          4.667085999999999,
          7.402963999999999,
          7.402963999999999,
          1.2874720000000002,
          1.1265379999999998,
          6.276426,
          26.071308,
          10.299776000000001,
          77.570188
         ],
         "yaxis": "y"
        }
       ],
       "layout": {
        "barmode": "relative",
        "legend": {
         "tracegroupgap": 0
        },
        "template": {
         "data": {
          "bar": [
           {
            "error_x": {
             "color": "#2a3f5f"
            },
            "error_y": {
             "color": "#2a3f5f"
            },
            "marker": {
             "line": {
              "color": "#E5ECF6",
              "width": 0.5
             },
             "pattern": {
              "fillmode": "overlay",
              "size": 10,
              "solidity": 0.2
             }
            },
            "type": "bar"
           }
          ],
          "barpolar": [
           {
            "marker": {
             "line": {
              "color": "#E5ECF6",
              "width": 0.5
             },
             "pattern": {
              "fillmode": "overlay",
              "size": 10,
              "solidity": 0.2
             }
            },
            "type": "barpolar"
           }
          ],
          "carpet": [
           {
            "aaxis": {
             "endlinecolor": "#2a3f5f",
             "gridcolor": "white",
             "linecolor": "white",
             "minorgridcolor": "white",
             "startlinecolor": "#2a3f5f"
            },
            "baxis": {
             "endlinecolor": "#2a3f5f",
             "gridcolor": "white",
             "linecolor": "white",
             "minorgridcolor": "white",
             "startlinecolor": "#2a3f5f"
            },
            "type": "carpet"
           }
          ],
          "choropleth": [
           {
            "colorbar": {
             "outlinewidth": 0,
             "ticks": ""
            },
            "type": "choropleth"
           }
          ],
          "contour": [
           {
            "colorbar": {
             "outlinewidth": 0,
             "ticks": ""
            },
            "colorscale": [
             [
              0,
              "#0d0887"
             ],
             [
              0.1111111111111111,
              "#46039f"
             ],
             [
              0.2222222222222222,
              "#7201a8"
             ],
             [
              0.3333333333333333,
              "#9c179e"
             ],
             [
              0.4444444444444444,
              "#bd3786"
             ],
             [
              0.5555555555555556,
              "#d8576b"
             ],
             [
              0.6666666666666666,
              "#ed7953"
             ],
             [
              0.7777777777777778,
              "#fb9f3a"
             ],
             [
              0.8888888888888888,
              "#fdca26"
             ],
             [
              1,
              "#f0f921"
             ]
            ],
            "type": "contour"
           }
          ],
          "contourcarpet": [
           {
            "colorbar": {
             "outlinewidth": 0,
             "ticks": ""
            },
            "type": "contourcarpet"
           }
          ],
          "heatmap": [
           {
            "colorbar": {
             "outlinewidth": 0,
             "ticks": ""
            },
            "colorscale": [
             [
              0,
              "#0d0887"
             ],
             [
              0.1111111111111111,
              "#46039f"
             ],
             [
              0.2222222222222222,
              "#7201a8"
             ],
             [
              0.3333333333333333,
              "#9c179e"
             ],
             [
              0.4444444444444444,
              "#bd3786"
             ],
             [
              0.5555555555555556,
              "#d8576b"
             ],
             [
              0.6666666666666666,
              "#ed7953"
             ],
             [
              0.7777777777777778,
              "#fb9f3a"
             ],
             [
              0.8888888888888888,
              "#fdca26"
             ],
             [
              1,
              "#f0f921"
             ]
            ],
            "type": "heatmap"
           }
          ],
          "heatmapgl": [
           {
            "colorbar": {
             "outlinewidth": 0,
             "ticks": ""
            },
            "colorscale": [
             [
              0,
              "#0d0887"
             ],
             [
              0.1111111111111111,
              "#46039f"
             ],
             [
              0.2222222222222222,
              "#7201a8"
             ],
             [
              0.3333333333333333,
              "#9c179e"
             ],
             [
              0.4444444444444444,
              "#bd3786"
             ],
             [
              0.5555555555555556,
              "#d8576b"
             ],
             [
              0.6666666666666666,
              "#ed7953"
             ],
             [
              0.7777777777777778,
              "#fb9f3a"
             ],
             [
              0.8888888888888888,
              "#fdca26"
             ],
             [
              1,
              "#f0f921"
             ]
            ],
            "type": "heatmapgl"
           }
          ],
          "histogram": [
           {
            "marker": {
             "pattern": {
              "fillmode": "overlay",
              "size": 10,
              "solidity": 0.2
             }
            },
            "type": "histogram"
           }
          ],
          "histogram2d": [
           {
            "colorbar": {
             "outlinewidth": 0,
             "ticks": ""
            },
            "colorscale": [
             [
              0,
              "#0d0887"
             ],
             [
              0.1111111111111111,
              "#46039f"
             ],
             [
              0.2222222222222222,
              "#7201a8"
             ],
             [
              0.3333333333333333,
              "#9c179e"
             ],
             [
              0.4444444444444444,
              "#bd3786"
             ],
             [
              0.5555555555555556,
              "#d8576b"
             ],
             [
              0.6666666666666666,
              "#ed7953"
             ],
             [
              0.7777777777777778,
              "#fb9f3a"
             ],
             [
              0.8888888888888888,
              "#fdca26"
             ],
             [
              1,
              "#f0f921"
             ]
            ],
            "type": "histogram2d"
           }
          ],
          "histogram2dcontour": [
           {
            "colorbar": {
             "outlinewidth": 0,
             "ticks": ""
            },
            "colorscale": [
             [
              0,
              "#0d0887"
             ],
             [
              0.1111111111111111,
              "#46039f"
             ],
             [
              0.2222222222222222,
              "#7201a8"
             ],
             [
              0.3333333333333333,
              "#9c179e"
             ],
             [
              0.4444444444444444,
              "#bd3786"
             ],
             [
              0.5555555555555556,
              "#d8576b"
             ],
             [
              0.6666666666666666,
              "#ed7953"
             ],
             [
              0.7777777777777778,
              "#fb9f3a"
             ],
             [
              0.8888888888888888,
              "#fdca26"
             ],
             [
              1,
              "#f0f921"
             ]
            ],
            "type": "histogram2dcontour"
           }
          ],
          "mesh3d": [
           {
            "colorbar": {
             "outlinewidth": 0,
             "ticks": ""
            },
            "type": "mesh3d"
           }
          ],
          "parcoords": [
           {
            "line": {
             "colorbar": {
              "outlinewidth": 0,
              "ticks": ""
             }
            },
            "type": "parcoords"
           }
          ],
          "pie": [
           {
            "automargin": true,
            "type": "pie"
           }
          ],
          "scatter": [
           {
            "fillpattern": {
             "fillmode": "overlay",
             "size": 10,
             "solidity": 0.2
            },
            "type": "scatter"
           }
          ],
          "scatter3d": [
           {
            "line": {
             "colorbar": {
              "outlinewidth": 0,
              "ticks": ""
             }
            },
            "marker": {
             "colorbar": {
              "outlinewidth": 0,
              "ticks": ""
             }
            },
            "type": "scatter3d"
           }
          ],
          "scattercarpet": [
           {
            "marker": {
             "colorbar": {
              "outlinewidth": 0,
              "ticks": ""
             }
            },
            "type": "scattercarpet"
           }
          ],
          "scattergeo": [
           {
            "marker": {
             "colorbar": {
              "outlinewidth": 0,
              "ticks": ""
             }
            },
            "type": "scattergeo"
           }
          ],
          "scattergl": [
           {
            "marker": {
             "colorbar": {
              "outlinewidth": 0,
              "ticks": ""
             }
            },
            "type": "scattergl"
           }
          ],
          "scattermapbox": [
           {
            "marker": {
             "colorbar": {
              "outlinewidth": 0,
              "ticks": ""
             }
            },
            "type": "scattermapbox"
           }
          ],
          "scatterpolar": [
           {
            "marker": {
             "colorbar": {
              "outlinewidth": 0,
              "ticks": ""
             }
            },
            "type": "scatterpolar"
           }
          ],
          "scatterpolargl": [
           {
            "marker": {
             "colorbar": {
              "outlinewidth": 0,
              "ticks": ""
             }
            },
            "type": "scatterpolargl"
           }
          ],
          "scatterternary": [
           {
            "marker": {
             "colorbar": {
              "outlinewidth": 0,
              "ticks": ""
             }
            },
            "type": "scatterternary"
           }
          ],
          "surface": [
           {
            "colorbar": {
             "outlinewidth": 0,
             "ticks": ""
            },
            "colorscale": [
             [
              0,
              "#0d0887"
             ],
             [
              0.1111111111111111,
              "#46039f"
             ],
             [
              0.2222222222222222,
              "#7201a8"
             ],
             [
              0.3333333333333333,
              "#9c179e"
             ],
             [
              0.4444444444444444,
              "#bd3786"
             ],
             [
              0.5555555555555556,
              "#d8576b"
             ],
             [
              0.6666666666666666,
              "#ed7953"
             ],
             [
              0.7777777777777778,
              "#fb9f3a"
             ],
             [
              0.8888888888888888,
              "#fdca26"
             ],
             [
              1,
              "#f0f921"
             ]
            ],
            "type": "surface"
           }
          ],
          "table": [
           {
            "cells": {
             "fill": {
              "color": "#EBF0F8"
             },
             "line": {
              "color": "white"
             }
            },
            "header": {
             "fill": {
              "color": "#C8D4E3"
             },
             "line": {
              "color": "white"
             }
            },
            "type": "table"
           }
          ]
         },
         "layout": {
          "annotationdefaults": {
           "arrowcolor": "#2a3f5f",
           "arrowhead": 0,
           "arrowwidth": 1
          },
          "autotypenumbers": "strict",
          "coloraxis": {
           "colorbar": {
            "outlinewidth": 0,
            "ticks": ""
           }
          },
          "colorscale": {
           "diverging": [
            [
             0,
             "#8e0152"
            ],
            [
             0.1,
             "#c51b7d"
            ],
            [
             0.2,
             "#de77ae"
            ],
            [
             0.3,
             "#f1b6da"
            ],
            [
             0.4,
             "#fde0ef"
            ],
            [
             0.5,
             "#f7f7f7"
            ],
            [
             0.6,
             "#e6f5d0"
            ],
            [
             0.7,
             "#b8e186"
            ],
            [
             0.8,
             "#7fbc41"
            ],
            [
             0.9,
             "#4d9221"
            ],
            [
             1,
             "#276419"
            ]
           ],
           "sequential": [
            [
             0,
             "#0d0887"
            ],
            [
             0.1111111111111111,
             "#46039f"
            ],
            [
             0.2222222222222222,
             "#7201a8"
            ],
            [
             0.3333333333333333,
             "#9c179e"
            ],
            [
             0.4444444444444444,
             "#bd3786"
            ],
            [
             0.5555555555555556,
             "#d8576b"
            ],
            [
             0.6666666666666666,
             "#ed7953"
            ],
            [
             0.7777777777777778,
             "#fb9f3a"
            ],
            [
             0.8888888888888888,
             "#fdca26"
            ],
            [
             1,
             "#f0f921"
            ]
           ],
           "sequentialminus": [
            [
             0,
             "#0d0887"
            ],
            [
             0.1111111111111111,
             "#46039f"
            ],
            [
             0.2222222222222222,
             "#7201a8"
            ],
            [
             0.3333333333333333,
             "#9c179e"
            ],
            [
             0.4444444444444444,
             "#bd3786"
            ],
            [
             0.5555555555555556,
             "#d8576b"
            ],
            [
             0.6666666666666666,
             "#ed7953"
            ],
            [
             0.7777777777777778,
             "#fb9f3a"
            ],
            [
             0.8888888888888888,
             "#fdca26"
            ],
            [
             1,
             "#f0f921"
            ]
           ]
          },
          "colorway": [
           "#636efa",
           "#EF553B",
           "#00cc96",
           "#ab63fa",
           "#FFA15A",
           "#19d3f3",
           "#FF6692",
           "#B6E880",
           "#FF97FF",
           "#FECB52"
          ],
          "font": {
           "color": "#2a3f5f"
          },
          "geo": {
           "bgcolor": "white",
           "lakecolor": "white",
           "landcolor": "#E5ECF6",
           "showlakes": true,
           "showland": true,
           "subunitcolor": "white"
          },
          "hoverlabel": {
           "align": "left"
          },
          "hovermode": "closest",
          "mapbox": {
           "style": "light"
          },
          "paper_bgcolor": "white",
          "plot_bgcolor": "#E5ECF6",
          "polar": {
           "angularaxis": {
            "gridcolor": "white",
            "linecolor": "white",
            "ticks": ""
           },
           "bgcolor": "#E5ECF6",
           "radialaxis": {
            "gridcolor": "white",
            "linecolor": "white",
            "ticks": ""
           }
          },
          "scene": {
           "xaxis": {
            "backgroundcolor": "#E5ECF6",
            "gridcolor": "white",
            "gridwidth": 2,
            "linecolor": "white",
            "showbackground": true,
            "ticks": "",
            "zerolinecolor": "white"
           },
           "yaxis": {
            "backgroundcolor": "#E5ECF6",
            "gridcolor": "white",
            "gridwidth": 2,
            "linecolor": "white",
            "showbackground": true,
            "ticks": "",
            "zerolinecolor": "white"
           },
           "zaxis": {
            "backgroundcolor": "#E5ECF6",
            "gridcolor": "white",
            "gridwidth": 2,
            "linecolor": "white",
            "showbackground": true,
            "ticks": "",
            "zerolinecolor": "white"
           }
          },
          "shapedefaults": {
           "line": {
            "color": "#2a3f5f"
           }
          },
          "ternary": {
           "aaxis": {
            "gridcolor": "white",
            "linecolor": "white",
            "ticks": ""
           },
           "baxis": {
            "gridcolor": "white",
            "linecolor": "white",
            "ticks": ""
           },
           "bgcolor": "#E5ECF6",
           "caxis": {
            "gridcolor": "white",
            "linecolor": "white",
            "ticks": ""
           }
          },
          "title": {
           "x": 0.05
          },
          "xaxis": {
           "automargin": true,
           "gridcolor": "white",
           "linecolor": "white",
           "ticks": "",
           "title": {
            "standoff": 15
           },
           "zerolinecolor": "white",
           "zerolinewidth": 2
          },
          "yaxis": {
           "automargin": true,
           "gridcolor": "white",
           "linecolor": "white",
           "ticks": "",
           "title": {
            "standoff": 15
           },
           "zerolinecolor": "white",
           "zerolinewidth": 2
          }
         }
        },
        "title": {
         "text": "hour"
        },
        "xaxis": {
         "anchor": "y",
         "domain": [
          0,
          1
         ],
         "title": {
          "text": "hour"
         }
        },
        "yaxis": {
         "anchor": "x",
         "domain": [
          0,
          1
         ],
         "title": {
          "text": "sum of km"
         }
        }
       }
      }
     },
     "metadata": {},
     "output_type": "display_data"
    }
   ],
   "source": [
    "explore('hour')"
   ]
  },
  {
   "cell_type": "code",
   "execution_count": 69,
   "id": "19c48c6b",
   "metadata": {},
   "outputs": [
    {
     "data": {
      "application/vnd.plotly.v1+json": {
       "config": {
        "plotlyServerURL": "https://plot.ly"
       },
       "data": [
        {
         "alignmentgroup": "True",
         "bingroup": "x",
         "histfunc": "sum",
         "hovertemplate": "month=%{x}<br>sum of km=%{y}<extra></extra>",
         "legendgroup": "",
         "marker": {
          "color": "#636efa",
          "pattern": {
           "shape": ""
          }
         },
         "name": "",
         "offsetgroup": "",
         "orientation": "v",
         "showlegend": false,
         "type": "histogram",
         "x": [
          "January",
          "January",
          "January",
          "January",
          "January",
          "January",
          "January",
          "January",
          "January",
          "January",
          "January",
          "January",
          "January",
          "January",
          "January",
          "January",
          "January",
          "January",
          "January",
          "January",
          "January",
          "January",
          "January",
          "January",
          "January",
          "January",
          "January",
          "January",
          "January",
          "January",
          "January",
          "January",
          "January",
          "January",
          "January",
          "January",
          "January",
          "January",
          "January",
          "January",
          "January",
          "January",
          "January",
          "January",
          "January",
          "January",
          "January",
          "January",
          "January",
          "January",
          "January",
          "January",
          "January",
          "January",
          "January",
          "January",
          "January",
          "January",
          "January",
          "January",
          "February",
          "February",
          "February",
          "February",
          "February",
          "February",
          "February",
          "February",
          "February",
          "February",
          "February",
          "February",
          "February",
          "February",
          "February",
          "February",
          "February",
          "February",
          "February",
          "February",
          "February",
          "February",
          "February",
          "February",
          "February",
          "February",
          "February",
          "February",
          "February",
          "February",
          "February",
          "February",
          "February",
          "February",
          "February",
          "February",
          "February",
          "February",
          "February",
          "February",
          "February",
          "February",
          "February",
          "February",
          "February",
          "February",
          "February",
          "February",
          "February",
          "February",
          "February",
          "February",
          "February",
          "February",
          "February",
          "February",
          "February",
          "February",
          "February",
          "February",
          "February",
          "February",
          "February",
          "February",
          "February",
          "February",
          "February",
          "February",
          "February",
          "February",
          "February",
          "February",
          "February",
          "February",
          "February",
          "February",
          "February",
          "February",
          "February",
          "February",
          "February",
          "February",
          "February",
          "February",
          "February",
          "February",
          "February",
          "February",
          "February",
          "February",
          "February",
          "February",
          "February",
          "February",
          "February",
          "February",
          "February",
          "February",
          "February",
          "February",
          "February",
          "February",
          "February",
          "February",
          "February",
          "February",
          "February",
          "February",
          "February",
          "February",
          "February",
          "February",
          "February",
          "March",
          "March",
          "March",
          "March",
          "March",
          "March",
          "March",
          "March",
          "March",
          "March",
          "March",
          "March",
          "March",
          "March",
          "March",
          "March",
          "March",
          "March",
          "March",
          "March",
          "March",
          "March",
          "March",
          "March",
          "March",
          "March",
          "March",
          "March",
          "March",
          "March",
          "March",
          "March",
          "March",
          "March",
          "March",
          "March",
          "March",
          "March",
          "March",
          "March",
          "March",
          "March",
          "March",
          "March",
          "March",
          "March",
          "March",
          "March",
          "March",
          "March",
          "March",
          "March",
          "March",
          "March",
          "March",
          "March",
          "March",
          "March",
          "March",
          "March",
          "March",
          "March",
          "March",
          "March",
          "March",
          "March",
          "March",
          "March",
          "March",
          "March",
          "March",
          "March",
          "March",
          "March",
          "March",
          "March",
          "March",
          "March",
          "March",
          "March",
          "March",
          "March",
          "March",
          "March",
          "March",
          "March",
          "March",
          "March",
          "March",
          "March",
          "March",
          "March",
          "March",
          "March",
          "March",
          "March",
          "March",
          "March",
          "March",
          "March",
          "March",
          "March",
          "March",
          "March",
          "March",
          "March",
          "March",
          "March",
          "March",
          "March",
          "March",
          "March",
          "March",
          "April",
          "April",
          "April",
          "April",
          "April",
          "April",
          "April",
          "April",
          "April",
          "April",
          "April",
          "April",
          "April",
          "April",
          "April",
          "April",
          "April",
          "April",
          "April",
          "April",
          "April",
          "April",
          "April",
          "April",
          "April",
          "April",
          "April",
          "April",
          "April",
          "April",
          "April",
          "April",
          "April",
          "April",
          "April",
          "April",
          "April",
          "April",
          "April",
          "April",
          "April",
          "April",
          "April",
          "April",
          "April",
          "April",
          "April",
          "April",
          "April",
          "April",
          "April",
          "April",
          "April",
          "May",
          "May",
          "May",
          "May",
          "May",
          "May",
          "May",
          "May",
          "May",
          "May",
          "May",
          "May",
          "May",
          "May",
          "May",
          "May",
          "May",
          "May",
          "May",
          "May",
          "May",
          "May",
          "May",
          "May",
          "May",
          "May",
          "May",
          "May",
          "May",
          "May",
          "May",
          "May",
          "May",
          "May",
          "May",
          "May",
          "May",
          "May",
          "May",
          "May",
          "May",
          "May",
          "May",
          "May",
          "May",
          "May",
          "May",
          "May",
          "June",
          "June",
          "June",
          "June",
          "June",
          "June",
          "June",
          "June",
          "June",
          "June",
          "June",
          "June",
          "June",
          "June",
          "June",
          "June",
          "June",
          "June",
          "June",
          "June",
          "June",
          "June",
          "June",
          "June",
          "June",
          "June",
          "June",
          "June",
          "June",
          "June",
          "June",
          "June",
          "June",
          "June",
          "June",
          "June",
          "June",
          "June",
          "June",
          "June",
          "June",
          "June",
          "June",
          "June",
          "June",
          "June",
          "June",
          "June",
          "June",
          "June",
          "June",
          "June",
          "June",
          "June",
          "June",
          "June",
          "June",
          "June",
          "June",
          "June",
          "June",
          "June",
          "June",
          "June",
          "June",
          "June",
          "June",
          "June",
          "June",
          "June",
          "June",
          "June",
          "June",
          "June",
          "June",
          "June",
          "June",
          "June",
          "June",
          "June",
          "June",
          "June",
          "June",
          "June",
          "June",
          "June",
          "June",
          "June",
          "June",
          "June",
          "June",
          "June",
          "June",
          "June",
          "June",
          "June",
          "June",
          "June",
          "June",
          "June",
          "June",
          "June",
          "June",
          "June",
          "June",
          "June",
          "June",
          "June",
          "July",
          "July",
          "July",
          "July",
          "July",
          "July",
          "July",
          "July",
          "July",
          "July",
          "July",
          "July",
          "July",
          "July",
          "July",
          "July",
          "July",
          "July",
          "July",
          "July",
          "July",
          "July",
          "July",
          "July",
          "July",
          "July",
          "July",
          "July",
          "July",
          "July",
          "July",
          "July",
          "July",
          "July",
          "July",
          "July",
          "July",
          "July",
          "July",
          "July",
          "July",
          "July",
          "July",
          "July",
          "July",
          "July",
          "July",
          "July",
          "July",
          "July",
          "July",
          "July",
          "July",
          "July",
          "July",
          "July",
          "July",
          "July",
          "July",
          "July",
          "July",
          "July",
          "July",
          "July",
          "July",
          "July",
          "July",
          "July",
          "July",
          "July",
          "July",
          "July",
          "July",
          "July",
          "July",
          "July",
          "July",
          "July",
          "July",
          "July",
          "July",
          "July",
          "July",
          "July",
          "July",
          "July",
          "July",
          "July",
          "July",
          "July",
          "July",
          "July",
          "July",
          "July",
          "July",
          "July",
          "July",
          "July",
          "July",
          "July",
          "July",
          "July",
          "July",
          "July",
          "July",
          "July",
          "July",
          "July",
          "July",
          "July",
          "July",
          "August",
          "August",
          "August",
          "August",
          "August",
          "August",
          "August",
          "August",
          "August",
          "August",
          "August",
          "August",
          "August",
          "August",
          "August",
          "August",
          "August",
          "August",
          "August",
          "August",
          "August",
          "August",
          "August",
          "August",
          "August",
          "August",
          "August",
          "August",
          "August",
          "August",
          "August",
          "August",
          "August",
          "August",
          "August",
          "August",
          "August",
          "August",
          "August",
          "August",
          "August",
          "August",
          "August",
          "August",
          "August",
          "August",
          "August",
          "August",
          "August",
          "August",
          "August",
          "August",
          "August",
          "August",
          "August",
          "August",
          "August",
          "August",
          "August",
          "August",
          "August",
          "August",
          "August",
          "August",
          "August",
          "August",
          "August",
          "August",
          "August",
          "August",
          "August",
          "August",
          "August",
          "August",
          "August",
          "August",
          "August",
          "August",
          "August",
          "August",
          "August",
          "August",
          "August",
          "August",
          "August",
          "August",
          "August",
          "August",
          "August",
          "August",
          "August",
          "August",
          "August",
          "August",
          "August",
          "August",
          "August",
          "August",
          "August",
          "August",
          "August",
          "August",
          "August",
          "August",
          "August",
          "August",
          "August",
          "August",
          "August",
          "August",
          "August",
          "August",
          "August",
          "August",
          "August",
          "August",
          "August",
          "August",
          "August",
          "August",
          "August",
          "August",
          "August",
          "August",
          "August",
          "August",
          "August",
          "August",
          "August",
          "August",
          "August",
          "August",
          "August",
          "September",
          "September",
          "September",
          "September",
          "September",
          "September",
          "September",
          "September",
          "September",
          "September",
          "September",
          "September",
          "September",
          "September",
          "September",
          "September",
          "September",
          "September",
          "September",
          "September",
          "September",
          "September",
          "September",
          "September",
          "September",
          "September",
          "September",
          "September",
          "September",
          "September",
          "October",
          "October",
          "October",
          "October",
          "October",
          "October",
          "October",
          "October",
          "October",
          "October",
          "October",
          "October",
          "October",
          "October",
          "October",
          "October",
          "October",
          "October",
          "October",
          "October",
          "October",
          "October",
          "October",
          "October",
          "October",
          "October",
          "October",
          "October",
          "October",
          "October",
          "October",
          "October",
          "October",
          "October",
          "October",
          "October",
          "October",
          "October",
          "October",
          "October",
          "October",
          "October",
          "October",
          "October",
          "October",
          "October",
          "October",
          "October",
          "October",
          "October",
          "October",
          "October",
          "October",
          "October",
          "October",
          "October",
          "October",
          "October",
          "October",
          "October",
          "October",
          "October",
          "October",
          "October",
          "October",
          "October",
          "October",
          "October",
          "October",
          "October",
          "October",
          "October",
          "October",
          "October",
          "October",
          "October",
          "October",
          "October",
          "October",
          "October",
          "October",
          "October",
          "October",
          "October",
          "October",
          "October",
          "October",
          "October",
          "October",
          "October",
          "October",
          "October",
          "October",
          "October",
          "October",
          "October",
          "October",
          "November",
          "November",
          "November",
          "November",
          "November",
          "November",
          "November",
          "November",
          "November",
          "November",
          "November",
          "November",
          "November",
          "November",
          "November",
          "November",
          "November",
          "November",
          "November",
          "November",
          "November",
          "November",
          "November",
          "November",
          "November",
          "November",
          "November",
          "November",
          "November",
          "November",
          "November",
          "November",
          "November",
          "November",
          "November",
          "November",
          "November",
          "November",
          "November",
          "November",
          "November",
          "November",
          "November",
          "November",
          "November",
          "November",
          "November",
          "November",
          "November",
          "November",
          "November",
          "November",
          "November",
          "November",
          "November",
          "November",
          "November",
          "November",
          "November",
          "November",
          "November",
          "November",
          "November",
          "November",
          "November",
          "November",
          "November",
          "November",
          "November",
          "November",
          "November",
          "November",
          "November",
          "November",
          "November",
          "November",
          "November",
          "November",
          "November",
          "November",
          "November",
          "November",
          "November",
          "November",
          "November",
          "November",
          "November",
          "November",
          "November",
          "November",
          "November",
          "November",
          "November",
          "November",
          "November",
          "November",
          "November",
          "November",
          "November",
          "November",
          "November",
          "November",
          "November",
          "November",
          "November",
          "November",
          "November",
          "November",
          "November",
          "November",
          "November",
          "November",
          "November",
          "November",
          "November",
          "November",
          "November",
          "November",
          "November",
          "November",
          "November",
          "December",
          "December",
          "December",
          "December",
          "December",
          "December",
          "December",
          "December",
          "December",
          "December",
          "December",
          "December",
          "December",
          "December",
          "December",
          "December",
          "December",
          "December",
          "December",
          "December",
          "December",
          "December",
          "December",
          "December",
          "December",
          "December",
          "December",
          "December",
          "December",
          "December",
          "December",
          "December",
          "December",
          "December",
          "December",
          "December",
          "December",
          "December",
          "December",
          "December",
          "December",
          "December",
          "December",
          "December",
          "December",
          "December",
          "December",
          "December",
          "December",
          "December",
          "December",
          "December",
          "December",
          "December",
          "December",
          "December",
          "December",
          "December",
          "December",
          "December",
          "December",
          "December",
          "December",
          "December",
          "December",
          "December",
          "December",
          "December",
          "December",
          "December",
          "December",
          "December",
          "December",
          "December",
          "December",
          "December",
          "December",
          "December",
          "December",
          "December",
          "December",
          "December",
          "December",
          "December",
          "December",
          "December",
          "December",
          "December",
          "December",
          "December",
          "December",
          "December",
          "December",
          "December",
          "December",
          "December",
          "December",
          "December",
          "December",
          "December",
          "December",
          "December",
          "December",
          "December",
          "December",
          "December",
          "December",
          "December",
          "December",
          "December",
          "December",
          "December",
          "December",
          "December",
          "December",
          "December",
          "December",
          "December",
          "December",
          "December",
          "December",
          "December",
          "December",
          "December",
          "December",
          "December",
          "December",
          "December",
          "December",
          "December",
          "December",
          "December",
          "December",
          "December",
          "December",
          "December",
          "December",
          "December",
          "December",
          "December",
          "December",
          "December",
          "December",
          "December",
          "December"
         ],
         "xaxis": "x",
         "y": [
          8.207633999999999,
          8.0467,
          7.724831999999999,
          7.563898,
          102.51495800000001,
          6.9201619999999995,
          1.2874720000000002,
          13.357522000000001,
          26.55411,
          17.380872,
          12.07005,
          9.977908000000001,
          10.299776000000001,
          2.5749440000000003,
          2.735878,
          3.057746,
          3.057746,
          6.43736,
          2.896812,
          3.8624159999999996,
          3.21868,
          24.301033999999998,
          18.024607999999997,
          18.990212,
          35.244546,
          6.276426,
          12.87472,
          16.737136,
          16.737136,
          7.724831999999999,
          7.563898,
          11.587248,
          12.230984,
          27.519714,
          24.301033999999998,
          64.695468,
          2.5749440000000003,
          3.8624159999999996,
          1.60934,
          3.21868,
          3.7014819999999995,
          3.057746,
          2.2530759999999996,
          0.80467,
          2.896812,
          30.094658,
          5.471756,
          4.345218,
          20.760486,
          30.57746,
          23.657297999999997,
          25.266638,
          7.402963999999999,
          8.368568,
          16.737136,
          16.254334,
          9.334171999999999,
          8.85137,
          9.173238,
          9.173238,
          31.221196,
          37.497622,
          6.276426,
          13.357522000000001,
          9.65604,
          2.5749440000000003,
          8.368568,
          15.610598,
          2.5749440000000003,
          1.7702740000000001,
          2.5749440000000003,
          14.48406,
          12.391918,
          16.737136,
          16.737136,
          18.346476,
          14.48406,
          5.149888000000001,
          9.012303999999999,
          9.173238,
          9.816974,
          9.816974,
          6.9201619999999995,
          4.345218,
          8.529501999999999,
          4.82802,
          8.207633999999999,
          2.41401,
          9.816974,
          9.816974,
          27.841582000000002,
          9.173238,
          21.72609,
          9.816974,
          13.67939,
          4.184284,
          27.35878,
          28.96812,
          13.518456,
          18.50741,
          14.323126,
          4.345218,
          2.896812,
          13.035654,
          3.21868,
          20.92142,
          22.369826,
          70.328158,
          22.691694,
          4.184284,
          7.24203,
          2.735878,
          2.896812,
          9.65604,
          1.7702740000000001,
          5.793624,
          23.657297999999997,
          2.735878,
          34.439876,
          0.80467,
          20.438617999999998,
          9.65604,
          8.368568,
          16.0934,
          18.024607999999997,
          12.230984,
          2.41401,
          1.60934,
          11.748182,
          5.63269,
          6.759228,
          21.887024,
          4.02335,
          23.174496,
          4.82802,
          2.41401,
          29.611855999999996,
          37.175754000000005,
          26.55411,
          5.149888000000001,
          12.391918,
          23.33543,
          3.8624159999999996,
          7.402963999999999,
          14.162192000000001,
          13.357522000000001,
          36.532018,
          20.92142,
          13.035654,
          3.5405480000000003,
          15.610598,
          32.1868,
          13.035654,
          2.41401,
          2.735878,
          4.9889540000000006,
          5.149888000000001,
          9.65604,
          9.334171999999999,
          10.138842,
          2.735878,
          17.059003999999998,
          15.932466,
          3.057746,
          6.759228,
          3.21868,
          12.391918,
          10.943512,
          3.379614,
          6.115492,
          9.012303999999999,
          4.184284,
          10.621644,
          12.87472,
          12.87472,
          3.5405480000000003,
          3.7014819999999995,
          8.368568,
          12.230984,
          27.841582000000002,
          15.932466,
          15.932466,
          16.737136,
          17.541806,
          25.266638,
          7.885766,
          1.2874720000000002,
          21.72609,
          3.057746,
          3.21868,
          10.46071,
          6.759228,
          5.63269,
          12.552852,
          12.552852,
          6.276426,
          4.506151999999999,
          19.955816000000002,
          9.495106,
          15.127796,
          19.151146,
          11.587248,
          12.230984,
          2.5749440000000003,
          13.518456,
          20.599552000000003,
          3.7014819999999995,
          2.5749440000000003,
          3.21868,
          1.2874720000000002,
          1.9312079999999998,
          1.60934,
          3.379614,
          3.5405480000000003,
          3.057746,
          9.173238,
          13.518456,
          9.977908000000001,
          16.89807,
          11.587248,
          20.11675,
          3.21868,
          4.345218,
          3.21868,
          4.506151999999999,
          2.735878,
          3.21868,
          3.379614,
          2.735878,
          218.87024,
          48.602067999999996,
          24.94477,
          7.885766,
          20.277684,
          16.737136,
          1.7702740000000001,
          1.7702740000000001,
          21.243288,
          1.60934,
          14.805927999999998,
          15.127796,
          19.31208,
          56.487834,
          58.74091,
          4.9889540000000006,
          3.379614,
          1.9312079999999998,
          12.07005,
          91.73238,
          9.495106,
          9.977908000000001,
          16.737136,
          1.9312079999999998,
          15.449663999999999,
          1.60934,
          1.448406,
          14.162192000000001,
          41.199104000000005,
          37.01482,
          13.035654,
          2.2530759999999996,
          2.735878,
          2.5749440000000003,
          3.21868,
          3.5405480000000003,
          231.74496,
          499.37820200000004,
          323.47734,
          10.782578,
          14.162192000000001,
          1.9312079999999998,
          3.379614,
          10.621644,
          9.816974,
          11.104446000000001,
          11.748182,
          5.793624,
          43.774048,
          41.360037999999996,
          21.887024,
          9.977908000000001,
          9.65604,
          22.208892000000002,
          46.348992,
          25.910374,
          26.393175999999997,
          17.70274,
          24.94477,
          32.669602,
          1.1265379999999998,
          8.85137,
          8.207633999999999,
          124.40198199999999,
          129.55187,
          280.34702799999997,
          231.74496,
          256.367862,
          12.713786,
          12.87472,
          9.816974,
          9.816974,
          16.89807,
          14.001257999999998,
          2.896812,
          30.738394000000003,
          29.933724,
          4.506151999999999,
          14.323126,
          12.07005,
          25.588506,
          10.46071,
          24.622902,
          22.047957999999998,
          19.151146,
          2.2530759999999996,
          24.461968,
          9.65604,
          9.816974,
          13.196587999999998,
          12.87472,
          21.887024,
          36.21015,
          16.737136,
          16.0934,
          9.65604,
          10.46071,
          4.9889540000000006,
          3.057746,
          6.759228,
          7.885766,
          7.724831999999999,
          19.955816000000002,
          8.85137,
          15.932466,
          16.0934,
          22.852628,
          29.289987999999997,
          12.391918,
          10.943512,
          3.379614,
          3.7014819999999995,
          9.977908000000001,
          12.07005,
          4.9889540000000006,
          3.5405480000000003,
          6.276426,
          4.02335,
          14.001257999999998,
          23.33543,
          7.24203,
          8.0467,
          22.852628,
          4.667085999999999,
          20.760486,
          23.174496,
          27.35878,
          12.713786,
          13.518456,
          32.99147,
          15.771532,
          28.324384000000002,
          14.966862,
          12.713786,
          41.199104000000005,
          13.035654,
          4.9889540000000006,
          4.9889540000000006,
          4.506151999999999,
          4.345218,
          3.057746,
          13.518456,
          4.667085999999999,
          18.024607999999997,
          13.196587999999998,
          4.82802,
          4.02335,
          5.793624,
          5.793624,
          7.24203,
          1.9312079999999998,
          2.735878,
          7.563898,
          9.816974,
          18.185542,
          23.979166,
          22.53076,
          2.896812,
          10.782578,
          15.449663999999999,
          16.737136,
          15.932466,
          9.65604,
          5.310822,
          4.9889540000000006,
          2.735878,
          6.43736,
          12.552852,
          12.552852,
          6.115492,
          4.02335,
          15.932466,
          15.932466,
          4.82802,
          3.8624159999999996,
          9.173238,
          11.587248,
          16.737136,
          15.932466,
          16.737136,
          15.932466,
          14.001257999999998,
          35.888282000000004,
          5.310822,
          1.1265379999999998,
          4.02335,
          0.80467,
          1.448406,
          7.724831999999999,
          26.232242,
          16.737136,
          15.932466,
          5.9545580000000005,
          7.402963999999999,
          2.735878,
          16.737136,
          15.932466,
          4.02335,
          6.9201619999999995,
          4.506151999999999,
          13.518456,
          21.243288,
          6.276426,
          8.207633999999999,
          8.368568,
          15.771532,
          18.668343999999998,
          8.207633999999999,
          14.966862,
          19.955816000000002,
          3.057746,
          10.299776000000001,
          8.85137,
          2.41401,
          23.33543,
          4.345218,
          24.1401,
          20.760486,
          21.887024,
          19.633948,
          14.001257999999998,
          9.65604,
          9.495106,
          31.060262,
          26.715044000000002,
          11.426314,
          3.379614,
          13.840323999999999,
          14.48406,
          4.9889540000000006,
          13.518456,
          20.599552000000003,
          7.24203,
          18.990212,
          1.7702740000000001,
          27.35878,
          2.735878,
          24.94477,
          2.5749440000000003,
          2.41401,
          20.277684,
          7.724831999999999,
          3.5405480000000003,
          20.92142,
          75.47804599999999,
          4.02335,
          13.840323999999999,
          8.368568,
          12.230984,
          2.896812,
          7.563898,
          4.506151999999999,
          48.2802,
          7.0810960000000005,
          1.60934,
          13.196587999999998,
          16.737136,
          15.932466,
          15.932466,
          11.748182,
          11.909116000000001,
          2.5749440000000003,
          2.896812,
          16.737136,
          15.932466,
          15.932466,
          15.932466,
          21.404222,
          18.185542,
          16.89807,
          15.932466,
          16.254334,
          15.932466,
          4.9889540000000006,
          4.9889540000000006,
          15.932466,
          15.932466,
          14.162192000000001,
          14.001257999999998,
          18.990212,
          1.9312079999999998,
          15.932466,
          0.9656039999999999,
          15.932466,
          13.840323999999999,
          10.138842,
          15.932466,
          15.932466,
          5.310822,
          4.9889540000000006,
          12.713786,
          20.599552000000003,
          12.391918,
          11.26538,
          20.11675,
          21.243288,
          20.92142,
          7.885766,
          13.67939,
          2.092142,
          2.896812,
          21.887024,
          21.565156,
          19.794882,
          2.2530759999999996,
          14.001257999999998,
          37.81949,
          3.5405480000000003,
          7.0810960000000005,
          5.310822,
          18.990212,
          314.304102,
          13.357522000000001,
          5.149888000000001,
          36.049215999999994,
          19.633948,
          7.24203,
          45.222454,
          6.115492,
          67.43134599999999,
          38.302292,
          20.92142,
          7.0810960000000005,
          24.301033999999998,
          290.003068,
          6.598293999999999,
          9.816974,
          5.310822,
          7.563898,
          11.587248,
          8.85137,
          5.310822,
          1.448406,
          6.115492,
          10.299776000000001,
          4.82802,
          14.001257999999998,
          6.276426,
          7.724831999999999,
          4.506151999999999,
          2.2530759999999996,
          2.2530759999999996,
          4.345218,
          3.7014819999999995,
          5.9545580000000005,
          4.667085999999999,
          6.115492,
          8.207633999999999,
          14.644993999999999,
          12.87472,
          15.932466,
          9.816974,
          19.633948,
          12.87472,
          6.43736,
          15.28873,
          4.82802,
          10.138842,
          16.737136,
          15.932466,
          2.41401,
          7.885766,
          12.713786,
          2.735878,
          3.5405480000000003,
          3.379614,
          4.02335,
          4.02335,
          4.506151999999999,
          23.657297999999997,
          23.496364,
          3.7014819999999995,
          3.5405480000000003,
          3.5405480000000003,
          22.53076,
          21.404222,
          2.896812,
          9.977908000000001,
          2.092142,
          3.057746,
          11.104446000000001,
          7.402963999999999,
          4.506151999999999,
          14.644993999999999,
          13.035654,
          13.518456,
          7.885766,
          1.60934,
          1.60934,
          3.21868,
          1.7702740000000001,
          2.41401,
          2.092142,
          2.896812,
          2.41401,
          10.621644,
          12.87472,
          4.345218,
          4.345218,
          4.02335,
          4.02335,
          8.368568,
          6.43736,
          4.345218,
          7.724831999999999,
          5.149888000000001,
          11.104446000000001,
          23.979166,
          28.002515999999996,
          20.760486,
          24.622902,
          1.60934,
          9.65604,
          3.5405480000000003,
          7.0810960000000005,
          4.506151999999999,
          51.016078,
          51.337945999999995,
          3.057746,
          2.896812,
          13.518456,
          25.105704,
          22.691694,
          25.266638,
          41.681906,
          12.713786,
          4.345218,
          8.85137,
          9.173238,
          1.9312079999999998,
          9.173238,
          26.071308,
          4.184284,
          19.473014,
          2.2530759999999996,
          10.299776000000001,
          11.748182,
          8.529501999999999,
          8.85137,
          12.391918,
          12.230984,
          12.230984,
          5.310822,
          10.46071,
          3.21868,
          9.173238,
          5.149888000000001,
          20.11675,
          12.230984,
          12.391918,
          19.633948,
          2.2530759999999996,
          32.508668,
          15.771532,
          10.138842,
          7.885766,
          2.41401,
          17.541806,
          30.57746,
          30.57746,
          12.713786,
          6.598293999999999,
          30.094658,
          14.001257999999998,
          12.07005,
          12.391918,
          7.0810960000000005,
          8.0467,
          3.057746,
          12.713786,
          28.485318,
          40.555368,
          154.818508,
          56.3269,
          8.85137,
          81.110736,
          14.805927999999998,
          11.748182,
          8.0467,
          6.115492,
          6.276426,
          11.909116000000001,
          2.41401,
          12.713786,
          4.667085999999999,
          5.471756,
          6.115492,
          9.495106,
          15.449663999999999,
          11.26538,
          1.448406,
          139.368844,
          252.505446,
          16.254334,
          9.977908000000001,
          8.529501999999999,
          19.473014,
          17.380872,
          6.9201619999999995,
          4.02335,
          9.173238,
          4.506151999999999,
          6.43736,
          8.85137,
          4.184284,
          3.379614,
          14.162192000000001,
          7.0810960000000005,
          8.529501999999999,
          20.92142,
          20.92142,
          17.059003999999998,
          3.5405480000000003,
          14.805927999999998,
          20.760486,
          27.680647999999998,
          4.506151999999999,
          5.793624,
          2.735878,
          18.50741,
          1.1265379999999998,
          1.1265379999999998,
          1.448406,
          29.289987999999997,
          16.89807,
          9.173238,
          28.96812,
          29.450922000000002,
          26.55411,
          15.449663999999999,
          4.667085999999999,
          13.196587999999998,
          3.8624159999999996,
          15.771532,
          11.748182,
          314.786904,
          32.99147,
          20.277684,
          60.672118000000005,
          26.875978,
          4.506151999999999,
          2.5749440000000003,
          20.438617999999998,
          46.027124,
          28.807185999999998,
          22.208892000000002,
          4.184284,
          9.334171999999999,
          13.357522000000001,
          3.8624159999999996,
          4.9889540000000006,
          9.816974,
          12.391918,
          2.735878,
          15.28873,
          27.519714,
          15.771532,
          1.60934,
          3.7014819999999995,
          17.541806,
          20.438617999999998,
          19.955816000000002,
          6.115492,
          27.35878,
          9.977908000000001,
          4.9889540000000006,
          16.89807,
          13.035654,
          4.9889540000000006,
          3.379614,
          6.9201619999999995,
          4.02335,
          33.152404000000004,
          28.324384000000002,
          9.012303999999999,
          5.310822,
          8.529501999999999,
          5.310822,
          5.310822,
          12.713786,
          20.92142,
          4.82802,
          4.82802,
          6.115492,
          15.28873,
          2.735878,
          17.380872,
          6.598293999999999,
          3.5405480000000003,
          7.402963999999999,
          4.9889540000000006,
          76.765518,
          71.77656400000001,
          21.243288,
          14.001257999999998,
          27.680647999999998,
          22.53076,
          45.222454,
          45.383388,
          4.9889540000000006,
          4.9889540000000006,
          26.393175999999997,
          24.783836,
          3.5405480000000003,
          18.024607999999997,
          3.5405480000000003,
          5.793624,
          5.793624,
          7.885766,
          14.001257999999998,
          3.379614,
          3.379614,
          13.518456,
          9.495106,
          19.473014,
          6.276426,
          9.977908000000001,
          16.737136,
          15.932466,
          172.19938,
          215.007824,
          147.737412,
          65.500138,
          121.827038,
          47.958332,
          26.232242,
          10.46071,
          10.138842,
          10.621644,
          24.461968,
          110.078856,
          315.269706,
          72.742168,
          5.149888000000001,
          16.576202000000002,
          21.082354,
          15.449663999999999,
          26.55411,
          20.599552000000003,
          1.9312079999999998,
          1.60934,
          6.598293999999999,
          6.759228,
          2.2530759999999996,
          2.896812,
          13.67939,
          8.0467,
          6.115492,
          4.02335,
          3.8624159999999996,
          2.2530759999999996,
          2.896812,
          4.9889540000000006,
          4.9889540000000006,
          12.713786,
          6.115492,
          6.9201619999999995,
          6.276426,
          3.5405480000000003,
          4.506151999999999,
          3.5405480000000003,
          3.8624159999999996,
          4.506151999999999,
          70.650026,
          2.896812,
          5.310822,
          18.990212,
          21.243288,
          19.633948,
          18.185542,
          5.793624,
          4.82802,
          18.346476,
          1.448406,
          9.977908000000001,
          1.1265379999999998,
          8.85137,
          20.438617999999998,
          4.184284,
          1.7702740000000001,
          20.277684,
          1.9312079999999998,
          1.7702740000000001,
          9.65604,
          1.2874720000000002,
          73.868706,
          6.43736,
          4.02335,
          58.901844000000004,
          4.667085999999999,
          4.184284,
          3.7014819999999995,
          10.299776000000001,
          2.2530759999999996,
          0.9656039999999999,
          9.495106,
          1.2874720000000002,
          2.092142,
          5.9545580000000005,
          3.7014819999999995,
          4.184284,
          3.057746,
          3.379614,
          6.43736,
          1.448406,
          1.448406,
          3.8624159999999996,
          3.057746,
          3.057746,
          71.77656400000001,
          70.167224,
          4.02335,
          5.9545580000000005,
          8.207633999999999,
          15.610598,
          18.990212,
          3.7014819999999995,
          4.9889540000000006,
          26.232242,
          4.9889540000000006,
          8.368568,
          9.816974,
          16.576202000000002,
          16.89807,
          2.41401,
          2.896812,
          8.690436,
          8.690436,
          63.086128,
          10.299776000000001,
          4.345218,
          29.77279,
          4.02335,
          3.379614,
          10.782578,
          5.63269,
          5.471756,
          8.85137,
          6.598293999999999,
          20.438617999999998,
          4.82802,
          5.63269,
          9.495106,
          3.057746,
          5.310822,
          2.092142,
          16.576202000000002,
          17.863674,
          2.2530759999999996,
          8.207633999999999,
          14.48406,
          21.404222,
          4.02335,
          5.310822,
          4.667085999999999,
          13.67939,
          10.782578,
          4.9889540000000006,
          8.85137,
          8.85137,
          4.667085999999999,
          4.667085999999999,
          8.207633999999999,
          8.529501999999999,
          5.310822,
          4.82802,
          10.621644,
          2.896812,
          4.82802,
          4.667085999999999,
          5.471756,
          6.598293999999999,
          6.115492,
          10.621644,
          6.43736,
          11.26538,
          11.104446000000001,
          5.471756,
          5.471756,
          3.21868,
          3.21868,
          8.207633999999999,
          14.162192000000001,
          9.012303999999999,
          30.416525999999998,
          25.105704,
          25.105704,
          4.82802,
          4.9889540000000006,
          4.82802,
          7.724831999999999,
          3.379614,
          4.9889540000000006,
          7.0810960000000005,
          7.563898,
          4.82802,
          4.82802,
          6.759228,
          6.598293999999999,
          5.471756,
          5.310822,
          4.82802,
          4.9889540000000006,
          17.059003999999998,
          7.724831999999999,
          8.529501999999999,
          7.885766,
          16.415267999999998,
          14.805927999999998,
          12.391918,
          9.495106,
          1.1265379999999998,
          2.092142,
          4.02335,
          8.529501999999999,
          8.690436,
          16.415267999999998,
          11.587248,
          3.5405480000000003,
          17.70274,
          19.31208,
          5.310822,
          31.221196,
          2.735878,
          9.173238,
          2.896812,
          2.2530759999999996,
          16.576202000000002,
          18.50741,
          7.885766,
          5.63269,
          26.071308,
          3.21868,
          3.379614,
          3.379614,
          11.587248,
          19.31208,
          165.76202,
          51.98168199999999,
          8.529501999999999,
          18.668343999999998,
          37.336687999999995,
          5.149888000000001,
          22.53076,
          3.379614,
          3.379614,
          4.82802,
          9.977908000000001,
          15.449663999999999,
          2.092142,
          11.426314,
          10.138842,
          17.219938,
          8.529501999999999,
          2.5749440000000003,
          5.793624,
          2.735878,
          4.667085999999999,
          0.9656039999999999,
          0.9656039999999999,
          3.7014819999999995,
          3.7014819999999995,
          5.149888000000001,
          9.977908000000001,
          12.391918,
          6.115492,
          12.713786,
          7.885766,
          8.0467,
          0.9656039999999999,
          4.9889540000000006,
          12.713786,
          8.85137,
          16.576202000000002,
          16.737136,
          3.21868,
          13.67939,
          7.0810960000000005,
          6.115492,
          8.207633999999999,
          6.115492,
          18.668343999999998,
          19.151146,
          2.2530759999999996,
          1.7702740000000001,
          6.598293999999999,
          9.816974,
          2.092142,
          4.82802,
          6.598293999999999,
          11.587248,
          10.299776000000001,
          20.760486,
          4.506151999999999,
          4.667085999999999,
          7.402963999999999,
          7.402963999999999,
          1.2874720000000002,
          1.1265379999999998,
          6.276426,
          26.071308,
          10.299776000000001,
          77.570188
         ],
         "yaxis": "y"
        }
       ],
       "layout": {
        "barmode": "relative",
        "legend": {
         "tracegroupgap": 0
        },
        "template": {
         "data": {
          "bar": [
           {
            "error_x": {
             "color": "#2a3f5f"
            },
            "error_y": {
             "color": "#2a3f5f"
            },
            "marker": {
             "line": {
              "color": "#E5ECF6",
              "width": 0.5
             },
             "pattern": {
              "fillmode": "overlay",
              "size": 10,
              "solidity": 0.2
             }
            },
            "type": "bar"
           }
          ],
          "barpolar": [
           {
            "marker": {
             "line": {
              "color": "#E5ECF6",
              "width": 0.5
             },
             "pattern": {
              "fillmode": "overlay",
              "size": 10,
              "solidity": 0.2
             }
            },
            "type": "barpolar"
           }
          ],
          "carpet": [
           {
            "aaxis": {
             "endlinecolor": "#2a3f5f",
             "gridcolor": "white",
             "linecolor": "white",
             "minorgridcolor": "white",
             "startlinecolor": "#2a3f5f"
            },
            "baxis": {
             "endlinecolor": "#2a3f5f",
             "gridcolor": "white",
             "linecolor": "white",
             "minorgridcolor": "white",
             "startlinecolor": "#2a3f5f"
            },
            "type": "carpet"
           }
          ],
          "choropleth": [
           {
            "colorbar": {
             "outlinewidth": 0,
             "ticks": ""
            },
            "type": "choropleth"
           }
          ],
          "contour": [
           {
            "colorbar": {
             "outlinewidth": 0,
             "ticks": ""
            },
            "colorscale": [
             [
              0,
              "#0d0887"
             ],
             [
              0.1111111111111111,
              "#46039f"
             ],
             [
              0.2222222222222222,
              "#7201a8"
             ],
             [
              0.3333333333333333,
              "#9c179e"
             ],
             [
              0.4444444444444444,
              "#bd3786"
             ],
             [
              0.5555555555555556,
              "#d8576b"
             ],
             [
              0.6666666666666666,
              "#ed7953"
             ],
             [
              0.7777777777777778,
              "#fb9f3a"
             ],
             [
              0.8888888888888888,
              "#fdca26"
             ],
             [
              1,
              "#f0f921"
             ]
            ],
            "type": "contour"
           }
          ],
          "contourcarpet": [
           {
            "colorbar": {
             "outlinewidth": 0,
             "ticks": ""
            },
            "type": "contourcarpet"
           }
          ],
          "heatmap": [
           {
            "colorbar": {
             "outlinewidth": 0,
             "ticks": ""
            },
            "colorscale": [
             [
              0,
              "#0d0887"
             ],
             [
              0.1111111111111111,
              "#46039f"
             ],
             [
              0.2222222222222222,
              "#7201a8"
             ],
             [
              0.3333333333333333,
              "#9c179e"
             ],
             [
              0.4444444444444444,
              "#bd3786"
             ],
             [
              0.5555555555555556,
              "#d8576b"
             ],
             [
              0.6666666666666666,
              "#ed7953"
             ],
             [
              0.7777777777777778,
              "#fb9f3a"
             ],
             [
              0.8888888888888888,
              "#fdca26"
             ],
             [
              1,
              "#f0f921"
             ]
            ],
            "type": "heatmap"
           }
          ],
          "heatmapgl": [
           {
            "colorbar": {
             "outlinewidth": 0,
             "ticks": ""
            },
            "colorscale": [
             [
              0,
              "#0d0887"
             ],
             [
              0.1111111111111111,
              "#46039f"
             ],
             [
              0.2222222222222222,
              "#7201a8"
             ],
             [
              0.3333333333333333,
              "#9c179e"
             ],
             [
              0.4444444444444444,
              "#bd3786"
             ],
             [
              0.5555555555555556,
              "#d8576b"
             ],
             [
              0.6666666666666666,
              "#ed7953"
             ],
             [
              0.7777777777777778,
              "#fb9f3a"
             ],
             [
              0.8888888888888888,
              "#fdca26"
             ],
             [
              1,
              "#f0f921"
             ]
            ],
            "type": "heatmapgl"
           }
          ],
          "histogram": [
           {
            "marker": {
             "pattern": {
              "fillmode": "overlay",
              "size": 10,
              "solidity": 0.2
             }
            },
            "type": "histogram"
           }
          ],
          "histogram2d": [
           {
            "colorbar": {
             "outlinewidth": 0,
             "ticks": ""
            },
            "colorscale": [
             [
              0,
              "#0d0887"
             ],
             [
              0.1111111111111111,
              "#46039f"
             ],
             [
              0.2222222222222222,
              "#7201a8"
             ],
             [
              0.3333333333333333,
              "#9c179e"
             ],
             [
              0.4444444444444444,
              "#bd3786"
             ],
             [
              0.5555555555555556,
              "#d8576b"
             ],
             [
              0.6666666666666666,
              "#ed7953"
             ],
             [
              0.7777777777777778,
              "#fb9f3a"
             ],
             [
              0.8888888888888888,
              "#fdca26"
             ],
             [
              1,
              "#f0f921"
             ]
            ],
            "type": "histogram2d"
           }
          ],
          "histogram2dcontour": [
           {
            "colorbar": {
             "outlinewidth": 0,
             "ticks": ""
            },
            "colorscale": [
             [
              0,
              "#0d0887"
             ],
             [
              0.1111111111111111,
              "#46039f"
             ],
             [
              0.2222222222222222,
              "#7201a8"
             ],
             [
              0.3333333333333333,
              "#9c179e"
             ],
             [
              0.4444444444444444,
              "#bd3786"
             ],
             [
              0.5555555555555556,
              "#d8576b"
             ],
             [
              0.6666666666666666,
              "#ed7953"
             ],
             [
              0.7777777777777778,
              "#fb9f3a"
             ],
             [
              0.8888888888888888,
              "#fdca26"
             ],
             [
              1,
              "#f0f921"
             ]
            ],
            "type": "histogram2dcontour"
           }
          ],
          "mesh3d": [
           {
            "colorbar": {
             "outlinewidth": 0,
             "ticks": ""
            },
            "type": "mesh3d"
           }
          ],
          "parcoords": [
           {
            "line": {
             "colorbar": {
              "outlinewidth": 0,
              "ticks": ""
             }
            },
            "type": "parcoords"
           }
          ],
          "pie": [
           {
            "automargin": true,
            "type": "pie"
           }
          ],
          "scatter": [
           {
            "fillpattern": {
             "fillmode": "overlay",
             "size": 10,
             "solidity": 0.2
            },
            "type": "scatter"
           }
          ],
          "scatter3d": [
           {
            "line": {
             "colorbar": {
              "outlinewidth": 0,
              "ticks": ""
             }
            },
            "marker": {
             "colorbar": {
              "outlinewidth": 0,
              "ticks": ""
             }
            },
            "type": "scatter3d"
           }
          ],
          "scattercarpet": [
           {
            "marker": {
             "colorbar": {
              "outlinewidth": 0,
              "ticks": ""
             }
            },
            "type": "scattercarpet"
           }
          ],
          "scattergeo": [
           {
            "marker": {
             "colorbar": {
              "outlinewidth": 0,
              "ticks": ""
             }
            },
            "type": "scattergeo"
           }
          ],
          "scattergl": [
           {
            "marker": {
             "colorbar": {
              "outlinewidth": 0,
              "ticks": ""
             }
            },
            "type": "scattergl"
           }
          ],
          "scattermapbox": [
           {
            "marker": {
             "colorbar": {
              "outlinewidth": 0,
              "ticks": ""
             }
            },
            "type": "scattermapbox"
           }
          ],
          "scatterpolar": [
           {
            "marker": {
             "colorbar": {
              "outlinewidth": 0,
              "ticks": ""
             }
            },
            "type": "scatterpolar"
           }
          ],
          "scatterpolargl": [
           {
            "marker": {
             "colorbar": {
              "outlinewidth": 0,
              "ticks": ""
             }
            },
            "type": "scatterpolargl"
           }
          ],
          "scatterternary": [
           {
            "marker": {
             "colorbar": {
              "outlinewidth": 0,
              "ticks": ""
             }
            },
            "type": "scatterternary"
           }
          ],
          "surface": [
           {
            "colorbar": {
             "outlinewidth": 0,
             "ticks": ""
            },
            "colorscale": [
             [
              0,
              "#0d0887"
             ],
             [
              0.1111111111111111,
              "#46039f"
             ],
             [
              0.2222222222222222,
              "#7201a8"
             ],
             [
              0.3333333333333333,
              "#9c179e"
             ],
             [
              0.4444444444444444,
              "#bd3786"
             ],
             [
              0.5555555555555556,
              "#d8576b"
             ],
             [
              0.6666666666666666,
              "#ed7953"
             ],
             [
              0.7777777777777778,
              "#fb9f3a"
             ],
             [
              0.8888888888888888,
              "#fdca26"
             ],
             [
              1,
              "#f0f921"
             ]
            ],
            "type": "surface"
           }
          ],
          "table": [
           {
            "cells": {
             "fill": {
              "color": "#EBF0F8"
             },
             "line": {
              "color": "white"
             }
            },
            "header": {
             "fill": {
              "color": "#C8D4E3"
             },
             "line": {
              "color": "white"
             }
            },
            "type": "table"
           }
          ]
         },
         "layout": {
          "annotationdefaults": {
           "arrowcolor": "#2a3f5f",
           "arrowhead": 0,
           "arrowwidth": 1
          },
          "autotypenumbers": "strict",
          "coloraxis": {
           "colorbar": {
            "outlinewidth": 0,
            "ticks": ""
           }
          },
          "colorscale": {
           "diverging": [
            [
             0,
             "#8e0152"
            ],
            [
             0.1,
             "#c51b7d"
            ],
            [
             0.2,
             "#de77ae"
            ],
            [
             0.3,
             "#f1b6da"
            ],
            [
             0.4,
             "#fde0ef"
            ],
            [
             0.5,
             "#f7f7f7"
            ],
            [
             0.6,
             "#e6f5d0"
            ],
            [
             0.7,
             "#b8e186"
            ],
            [
             0.8,
             "#7fbc41"
            ],
            [
             0.9,
             "#4d9221"
            ],
            [
             1,
             "#276419"
            ]
           ],
           "sequential": [
            [
             0,
             "#0d0887"
            ],
            [
             0.1111111111111111,
             "#46039f"
            ],
            [
             0.2222222222222222,
             "#7201a8"
            ],
            [
             0.3333333333333333,
             "#9c179e"
            ],
            [
             0.4444444444444444,
             "#bd3786"
            ],
            [
             0.5555555555555556,
             "#d8576b"
            ],
            [
             0.6666666666666666,
             "#ed7953"
            ],
            [
             0.7777777777777778,
             "#fb9f3a"
            ],
            [
             0.8888888888888888,
             "#fdca26"
            ],
            [
             1,
             "#f0f921"
            ]
           ],
           "sequentialminus": [
            [
             0,
             "#0d0887"
            ],
            [
             0.1111111111111111,
             "#46039f"
            ],
            [
             0.2222222222222222,
             "#7201a8"
            ],
            [
             0.3333333333333333,
             "#9c179e"
            ],
            [
             0.4444444444444444,
             "#bd3786"
            ],
            [
             0.5555555555555556,
             "#d8576b"
            ],
            [
             0.6666666666666666,
             "#ed7953"
            ],
            [
             0.7777777777777778,
             "#fb9f3a"
            ],
            [
             0.8888888888888888,
             "#fdca26"
            ],
            [
             1,
             "#f0f921"
            ]
           ]
          },
          "colorway": [
           "#636efa",
           "#EF553B",
           "#00cc96",
           "#ab63fa",
           "#FFA15A",
           "#19d3f3",
           "#FF6692",
           "#B6E880",
           "#FF97FF",
           "#FECB52"
          ],
          "font": {
           "color": "#2a3f5f"
          },
          "geo": {
           "bgcolor": "white",
           "lakecolor": "white",
           "landcolor": "#E5ECF6",
           "showlakes": true,
           "showland": true,
           "subunitcolor": "white"
          },
          "hoverlabel": {
           "align": "left"
          },
          "hovermode": "closest",
          "mapbox": {
           "style": "light"
          },
          "paper_bgcolor": "white",
          "plot_bgcolor": "#E5ECF6",
          "polar": {
           "angularaxis": {
            "gridcolor": "white",
            "linecolor": "white",
            "ticks": ""
           },
           "bgcolor": "#E5ECF6",
           "radialaxis": {
            "gridcolor": "white",
            "linecolor": "white",
            "ticks": ""
           }
          },
          "scene": {
           "xaxis": {
            "backgroundcolor": "#E5ECF6",
            "gridcolor": "white",
            "gridwidth": 2,
            "linecolor": "white",
            "showbackground": true,
            "ticks": "",
            "zerolinecolor": "white"
           },
           "yaxis": {
            "backgroundcolor": "#E5ECF6",
            "gridcolor": "white",
            "gridwidth": 2,
            "linecolor": "white",
            "showbackground": true,
            "ticks": "",
            "zerolinecolor": "white"
           },
           "zaxis": {
            "backgroundcolor": "#E5ECF6",
            "gridcolor": "white",
            "gridwidth": 2,
            "linecolor": "white",
            "showbackground": true,
            "ticks": "",
            "zerolinecolor": "white"
           }
          },
          "shapedefaults": {
           "line": {
            "color": "#2a3f5f"
           }
          },
          "ternary": {
           "aaxis": {
            "gridcolor": "white",
            "linecolor": "white",
            "ticks": ""
           },
           "baxis": {
            "gridcolor": "white",
            "linecolor": "white",
            "ticks": ""
           },
           "bgcolor": "#E5ECF6",
           "caxis": {
            "gridcolor": "white",
            "linecolor": "white",
            "ticks": ""
           }
          },
          "title": {
           "x": 0.05
          },
          "xaxis": {
           "automargin": true,
           "gridcolor": "white",
           "linecolor": "white",
           "ticks": "",
           "title": {
            "standoff": 15
           },
           "zerolinecolor": "white",
           "zerolinewidth": 2
          },
          "yaxis": {
           "automargin": true,
           "gridcolor": "white",
           "linecolor": "white",
           "ticks": "",
           "title": {
            "standoff": 15
           },
           "zerolinecolor": "white",
           "zerolinewidth": 2
          }
         }
        },
        "title": {
         "text": "month"
        },
        "xaxis": {
         "anchor": "y",
         "domain": [
          0,
          1
         ],
         "title": {
          "text": "month"
         }
        },
        "yaxis": {
         "anchor": "x",
         "domain": [
          0,
          1
         ],
         "title": {
          "text": "sum of km"
         }
        }
       }
      }
     },
     "metadata": {},
     "output_type": "display_data"
    }
   ],
   "source": [
    "explore('month')"
   ]
  },
  {
   "cell_type": "code",
   "execution_count": 70,
   "id": "3311f535",
   "metadata": {},
   "outputs": [
    {
     "data": {
      "application/vnd.plotly.v1+json": {
       "config": {
        "plotlyServerURL": "https://plot.ly"
       },
       "data": [
        {
         "alignmentgroup": "True",
         "bingroup": "x",
         "histfunc": "sum",
         "hovertemplate": "day=%{x}<br>sum of km=%{y}<extra></extra>",
         "legendgroup": "",
         "marker": {
          "color": "#636efa",
          "pattern": {
           "shape": ""
          }
         },
         "name": "",
         "offsetgroup": "",
         "orientation": "v",
         "showlegend": false,
         "type": "histogram",
         "x": [
          "Friday",
          "Saturday",
          "Saturday",
          "Tuesday",
          "Wednesday",
          "Wednesday",
          "Thursday",
          "Sunday",
          "Sunday",
          "Sunday",
          "Sunday",
          "Sunday",
          "Monday",
          "Monday",
          "Monday",
          "Monday",
          "Tuesday",
          "Tuesday",
          "Tuesday",
          "Tuesday",
          "Tuesday",
          "Tuesday",
          "Wednesday",
          "Wednesday",
          "Thursday",
          "Thursday",
          "Friday",
          "Friday",
          "Friday",
          "Monday",
          "Monday",
          "Tuesday",
          "Tuesday",
          "Wednesday",
          "Wednesday",
          "Wednesday",
          "Thursday",
          "Thursday",
          "Thursday",
          "Tuesday",
          "Tuesday",
          "Tuesday",
          "Tuesday",
          "Tuesday",
          "Wednesday",
          "Wednesday",
          "Wednesday",
          "Wednesday",
          "Wednesday",
          "Thursday",
          "Thursday",
          "Thursday",
          "Friday",
          "Friday",
          "Friday",
          "Friday",
          "Friday",
          "Friday",
          "Saturday",
          "Saturday",
          "Monday",
          "Monday",
          "Monday",
          "Tuesday",
          "Tuesday",
          "Tuesday",
          "Thursday",
          "Thursday",
          "Thursday",
          "Thursday",
          "Thursday",
          "Thursday",
          "Thursday",
          "Friday",
          "Friday",
          "Saturday",
          "Saturday",
          "Saturday",
          "Sunday",
          "Sunday",
          "Sunday",
          "Sunday",
          "Monday",
          "Monday",
          "Tuesday",
          "Tuesday",
          "Tuesday",
          "Tuesday",
          "Tuesday",
          "Tuesday",
          "Thursday",
          "Thursday",
          "Thursday",
          "Thursday",
          "Friday",
          "Friday",
          "Friday",
          "Friday",
          "Friday",
          "Friday",
          "Saturday",
          "Saturday",
          "Sunday",
          "Sunday",
          "Sunday",
          "Sunday",
          "Sunday",
          "Tuesday",
          "Tuesday",
          "Tuesday",
          "Tuesday",
          "Tuesday",
          "Tuesday",
          "Tuesday",
          "Tuesday",
          "Tuesday",
          "Wednesday",
          "Wednesday",
          "Wednesday",
          "Wednesday",
          "Thursday",
          "Thursday",
          "Thursday",
          "Thursday",
          "Friday",
          "Friday",
          "Friday",
          "Friday",
          "Friday",
          "Friday",
          "Friday",
          "Friday",
          "Friday",
          "Saturday",
          "Saturday",
          "Saturday",
          "Saturday",
          "Saturday",
          "Saturday",
          "Saturday",
          "Saturday",
          "Sunday",
          "Sunday",
          "Sunday",
          "Sunday",
          "Sunday",
          "Sunday",
          "Sunday",
          "Sunday",
          "Sunday",
          "Sunday",
          "Sunday",
          "Monday",
          "Wednesday",
          "Wednesday",
          "Thursday",
          "Thursday",
          "Thursday",
          "Thursday",
          "Friday",
          "Friday",
          "Friday",
          "Friday",
          "Friday",
          "Friday",
          "Friday",
          "Sunday",
          "Sunday",
          "Monday",
          "Monday",
          "Monday",
          "Monday",
          "Monday",
          "Tuesday",
          "Tuesday",
          "Thursday",
          "Thursday",
          "Thursday",
          "Thursday",
          "Thursday",
          "Friday",
          "Friday",
          "Friday",
          "Friday",
          "Friday",
          "Friday",
          "Friday",
          "Friday",
          "Friday",
          "Friday",
          "Saturday",
          "Saturday",
          "Saturday",
          "Saturday",
          "Saturday",
          "Saturday",
          "Monday",
          "Monday",
          "Monday",
          "Monday",
          "Monday",
          "Tuesday",
          "Tuesday",
          "Tuesday",
          "Thursday",
          "Thursday",
          "Thursday",
          "Thursday",
          "Friday",
          "Friday",
          "Friday",
          "Friday",
          "Friday",
          "Saturday",
          "Saturday",
          "Sunday",
          "Sunday",
          "Sunday",
          "Sunday",
          "Sunday",
          "Sunday",
          "Monday",
          "Monday",
          "Tuesday",
          "Tuesday",
          "Wednesday",
          "Wednesday",
          "Wednesday",
          "Thursday",
          "Thursday",
          "Thursday",
          "Thursday",
          "Thursday",
          "Thursday",
          "Thursday",
          "Friday",
          "Friday",
          "Friday",
          "Friday",
          "Friday",
          "Saturday",
          "Saturday",
          "Saturday",
          "Saturday",
          "Saturday",
          "Saturday",
          "Saturday",
          "Saturday",
          "Saturday",
          "Sunday",
          "Sunday",
          "Sunday",
          "Sunday",
          "Sunday",
          "Monday",
          "Monday",
          "Monday",
          "Monday",
          "Tuesday",
          "Tuesday",
          "Tuesday",
          "Wednesday",
          "Wednesday",
          "Thursday",
          "Thursday",
          "Friday",
          "Friday",
          "Friday",
          "Saturday",
          "Saturday",
          "Saturday",
          "Sunday",
          "Sunday",
          "Sunday",
          "Sunday",
          "Sunday",
          "Monday",
          "Monday",
          "Monday",
          "Tuesday",
          "Tuesday",
          "Tuesday",
          "Tuesday",
          "Wednesday",
          "Thursday",
          "Thursday",
          "Friday",
          "Friday",
          "Friday",
          "Friday",
          "Saturday",
          "Saturday",
          "Saturday",
          "Saturday",
          "Saturday",
          "Saturday",
          "Sunday",
          "Tuesday",
          "Wednesday",
          "Thursday",
          "Thursday",
          "Friday",
          "Friday",
          "Friday",
          "Friday",
          "Friday",
          "Tuesday",
          "Tuesday",
          "Tuesday",
          "Tuesday",
          "Tuesday",
          "Thursday",
          "Thursday",
          "Friday",
          "Friday",
          "Friday",
          "Saturday",
          "Saturday",
          "Tuesday",
          "Tuesday",
          "Friday",
          "Friday",
          "Friday",
          "Friday",
          "Saturday",
          "Saturday",
          "Sunday",
          "Sunday",
          "Sunday",
          "Wednesday",
          "Wednesday",
          "Thursday",
          "Thursday",
          "Friday",
          "Friday",
          "Friday",
          "Friday",
          "Saturday",
          "Saturday",
          "Sunday",
          "Sunday",
          "Sunday",
          "Sunday",
          "Sunday",
          "Monday",
          "Monday",
          "Tuesday",
          "Wednesday",
          "Wednesday",
          "Wednesday",
          "Wednesday",
          "Thursday",
          "Thursday",
          "Thursday",
          "Friday",
          "Friday",
          "Friday",
          "Monday",
          "Monday",
          "Monday",
          "Monday",
          "Tuesday",
          "Tuesday",
          "Wednesday",
          "Wednesday",
          "Saturday",
          "Saturday",
          "Tuesday",
          "Tuesday",
          "Tuesday",
          "Wednesday",
          "Thursday",
          "Friday",
          "Friday",
          "Sunday",
          "Sunday",
          "Monday",
          "Monday",
          "Friday",
          "Friday",
          "Friday",
          "Saturday",
          "Saturday",
          "Saturday",
          "Tuesday",
          "Tuesday",
          "Tuesday",
          "Wednesday",
          "Wednesday",
          "Friday",
          "Friday",
          "Friday",
          "Friday",
          "Friday",
          "Friday",
          "Friday",
          "Sunday",
          "Sunday",
          "Sunday",
          "Sunday",
          "Sunday",
          "Sunday",
          "Monday",
          "Monday",
          "Monday",
          "Monday",
          "Monday",
          "Monday",
          "Tuesday",
          "Tuesday",
          "Wednesday",
          "Wednesday",
          "Wednesday",
          "Wednesday",
          "Wednesday",
          "Wednesday",
          "Wednesday",
          "Wednesday",
          "Friday",
          "Friday",
          "Friday",
          "Saturday",
          "Saturday",
          "Saturday",
          "Saturday",
          "Saturday",
          "Sunday",
          "Sunday",
          "Sunday",
          "Monday",
          "Monday",
          "Monday",
          "Monday",
          "Monday",
          "Tuesday",
          "Tuesday",
          "Tuesday",
          "Tuesday",
          "Wednesday",
          "Wednesday",
          "Wednesday",
          "Wednesday",
          "Wednesday",
          "Thursday",
          "Thursday",
          "Thursday",
          "Thursday",
          "Thursday",
          "Friday",
          "Saturday",
          "Sunday",
          "Sunday",
          "Tuesday",
          "Tuesday",
          "Friday",
          "Friday",
          "Friday",
          "Friday",
          "Friday",
          "Friday",
          "Friday",
          "Saturday",
          "Saturday",
          "Saturday",
          "Saturday",
          "Saturday",
          "Saturday",
          "Saturday",
          "Saturday",
          "Sunday",
          "Sunday",
          "Sunday",
          "Sunday",
          "Monday",
          "Monday",
          "Monday",
          "Monday",
          "Monday",
          "Monday",
          "Monday",
          "Monday",
          "Monday",
          "Monday",
          "Monday",
          "Tuesday",
          "Tuesday",
          "Tuesday",
          "Tuesday",
          "Wednesday",
          "Wednesday",
          "Wednesday",
          "Wednesday",
          "Wednesday",
          "Wednesday",
          "Thursday",
          "Friday",
          "Friday",
          "Friday",
          "Friday",
          "Friday",
          "Saturday",
          "Saturday",
          "Sunday",
          "Sunday",
          "Sunday",
          "Monday",
          "Monday",
          "Monday",
          "Monday",
          "Tuesday",
          "Tuesday",
          "Tuesday",
          "Tuesday",
          "Tuesday",
          "Wednesday",
          "Wednesday",
          "Wednesday",
          "Wednesday",
          "Wednesday",
          "Thursday",
          "Thursday",
          "Friday",
          "Friday",
          "Friday",
          "Friday",
          "Saturday",
          "Saturday",
          "Saturday",
          "Sunday",
          "Sunday",
          "Sunday",
          "Sunday",
          "Tuesday",
          "Tuesday",
          "Tuesday",
          "Wednesday",
          "Wednesday",
          "Wednesday",
          "Thursday",
          "Thursday",
          "Thursday",
          "Friday",
          "Friday",
          "Friday",
          "Friday",
          "Friday",
          "Saturday",
          "Saturday",
          "Saturday",
          "Saturday",
          "Saturday",
          "Saturday",
          "Sunday",
          "Sunday",
          "Monday",
          "Monday",
          "Monday",
          "Monday",
          "Monday",
          "Monday",
          "Monday",
          "Monday",
          "Monday",
          "Tuesday",
          "Tuesday",
          "Tuesday",
          "Tuesday",
          "Tuesday",
          "Wednesday",
          "Wednesday",
          "Wednesday",
          "Thursday",
          "Thursday",
          "Thursday",
          "Thursday",
          "Friday",
          "Friday",
          "Friday",
          "Friday",
          "Friday",
          "Friday",
          "Friday",
          "Friday",
          "Saturday",
          "Saturday",
          "Saturday",
          "Saturday",
          "Saturday",
          "Saturday",
          "Monday",
          "Monday",
          "Monday",
          "Monday",
          "Tuesday",
          "Tuesday",
          "Tuesday",
          "Tuesday",
          "Wednesday",
          "Wednesday",
          "Wednesday",
          "Thursday",
          "Friday",
          "Friday",
          "Saturday",
          "Saturday",
          "Sunday",
          "Monday",
          "Monday",
          "Monday",
          "Monday",
          "Monday",
          "Monday",
          "Monday",
          "Monday",
          "Tuesday",
          "Tuesday",
          "Tuesday",
          "Tuesday",
          "Wednesday",
          "Wednesday",
          "Wednesday",
          "Friday",
          "Friday",
          "Friday",
          "Saturday",
          "Saturday",
          "Sunday",
          "Sunday",
          "Sunday",
          "Sunday",
          "Monday",
          "Monday",
          "Monday",
          "Monday",
          "Monday",
          "Tuesday",
          "Tuesday",
          "Tuesday",
          "Wednesday",
          "Wednesday",
          "Wednesday",
          "Wednesday",
          "Thursday",
          "Thursday",
          "Thursday",
          "Thursday",
          "Thursday",
          "Friday",
          "Friday",
          "Saturday",
          "Monday",
          "Monday",
          "Monday",
          "Monday",
          "Tuesday",
          "Tuesday",
          "Tuesday",
          "Tuesday",
          "Tuesday",
          "Tuesday",
          "Tuesday",
          "Wednesday",
          "Wednesday",
          "Wednesday",
          "Wednesday",
          "Wednesday",
          "Wednesday",
          "Wednesday",
          "Wednesday",
          "Thursday",
          "Friday",
          "Friday",
          "Friday",
          "Friday",
          "Friday",
          "Friday",
          "Friday",
          "Sunday",
          "Sunday",
          "Sunday",
          "Sunday",
          "Sunday",
          "Monday",
          "Monday",
          "Monday",
          "Monday",
          "Monday",
          "Monday",
          "Monday",
          "Monday",
          "Monday",
          "Monday",
          "Tuesday",
          "Tuesday",
          "Tuesday",
          "Tuesday",
          "Tuesday",
          "Tuesday",
          "Tuesday",
          "Tuesday",
          "Wednesday",
          "Wednesday",
          "Thursday",
          "Thursday",
          "Thursday",
          "Thursday",
          "Thursday",
          "Friday",
          "Friday",
          "Friday",
          "Friday",
          "Friday",
          "Friday",
          "Friday",
          "Friday",
          "Friday",
          "Friday",
          "Saturday",
          "Saturday",
          "Saturday",
          "Saturday",
          "Saturday",
          "Sunday",
          "Sunday",
          "Sunday",
          "Sunday",
          "Monday",
          "Monday",
          "Monday",
          "Monday",
          "Monday",
          "Monday",
          "Monday",
          "Monday",
          "Tuesday",
          "Tuesday",
          "Tuesday",
          "Tuesday",
          "Tuesday",
          "Thursday",
          "Thursday",
          "Thursday",
          "Friday",
          "Friday",
          "Monday",
          "Saturday",
          "Monday",
          "Monday",
          "Monday",
          "Tuesday",
          "Wednesday",
          "Thursday",
          "Monday",
          "Monday",
          "Monday",
          "Monday",
          "Monday",
          "Tuesday",
          "Tuesday",
          "Friday",
          "Saturday",
          "Saturday",
          "Tuesday",
          "Tuesday",
          "Tuesday",
          "Wednesday",
          "Thursday",
          "Friday",
          "Friday",
          "Monday",
          "Monday",
          "Monday",
          "Tuesday",
          "Thursday",
          "Thursday",
          "Friday",
          "Friday",
          "Friday",
          "Friday",
          "Friday",
          "Friday",
          "Sunday",
          "Monday",
          "Monday",
          "Tuesday",
          "Thursday",
          "Thursday",
          "Thursday",
          "Thursday",
          "Friday",
          "Friday",
          "Friday",
          "Friday",
          "Saturday",
          "Sunday",
          "Sunday",
          "Sunday",
          "Sunday",
          "Sunday",
          "Sunday",
          "Sunday",
          "Monday",
          "Monday",
          "Monday",
          "Monday",
          "Monday",
          "Tuesday",
          "Tuesday",
          "Tuesday",
          "Tuesday",
          "Tuesday",
          "Tuesday",
          "Wednesday",
          "Wednesday",
          "Wednesday",
          "Wednesday",
          "Wednesday",
          "Wednesday",
          "Wednesday",
          "Thursday",
          "Thursday",
          "Thursday",
          "Friday",
          "Saturday",
          "Saturday",
          "Saturday",
          "Sunday",
          "Sunday",
          "Sunday",
          "Sunday",
          "Monday",
          "Monday",
          "Monday",
          "Tuesday",
          "Tuesday",
          "Tuesday",
          "Tuesday",
          "Tuesday",
          "Tuesday",
          "Wednesday",
          "Wednesday",
          "Thursday",
          "Thursday",
          "Thursday",
          "Thursday",
          "Thursday",
          "Friday",
          "Friday",
          "Friday",
          "Friday",
          "Friday",
          "Saturday",
          "Saturday",
          "Sunday",
          "Sunday",
          "Sunday",
          "Sunday",
          "Sunday",
          "Sunday",
          "Sunday",
          "Sunday",
          "Sunday",
          "Monday",
          "Monday",
          "Monday",
          "Monday",
          "Tuesday",
          "Tuesday",
          "Tuesday",
          "Tuesday",
          "Tuesday",
          "Tuesday",
          "Wednesday",
          "Wednesday",
          "Wednesday",
          "Wednesday",
          "Wednesday",
          "Thursday",
          "Thursday",
          "Thursday",
          "Thursday",
          "Thursday",
          "Thursday",
          "Friday",
          "Friday",
          "Friday",
          "Friday",
          "Saturday",
          "Saturday",
          "Saturday",
          "Sunday",
          "Sunday",
          "Sunday",
          "Sunday",
          "Sunday",
          "Monday",
          "Monday",
          "Tuesday",
          "Tuesday",
          "Tuesday",
          "Tuesday",
          "Wednesday",
          "Wednesday",
          "Wednesday",
          "Wednesday",
          "Wednesday",
          "Wednesday",
          "Wednesday",
          "Wednesday",
          "Thursday",
          "Thursday",
          "Thursday",
          "Thursday",
          "Thursday",
          "Friday",
          "Friday",
          "Friday",
          "Friday",
          "Friday",
          "Friday",
          "Saturday",
          "Saturday",
          "Saturday",
          "Saturday",
          "Saturday",
          "Saturday",
          "Saturday",
          "Saturday",
          "Sunday",
          "Sunday",
          "Sunday",
          "Sunday",
          "Sunday",
          "Sunday",
          "Sunday",
          "Sunday",
          "Sunday",
          "Sunday",
          "Monday",
          "Monday",
          "Monday",
          "Monday",
          "Tuesday",
          "Tuesday",
          "Tuesday",
          "Wednesday",
          "Wednesday",
          "Thursday",
          "Friday",
          "Friday",
          "Friday",
          "Saturday",
          "Saturday",
          "Saturday",
          "Saturday",
          "Saturday",
          "Saturday",
          "Sunday",
          "Sunday",
          "Sunday",
          "Sunday",
          "Monday",
          "Monday",
          "Monday",
          "Monday",
          "Monday",
          "Tuesday",
          "Tuesday",
          "Tuesday",
          "Tuesday",
          "Tuesday",
          "Wednesday",
          "Wednesday",
          "Wednesday",
          "Wednesday",
          "Friday",
          "Friday",
          "Saturday",
          "Saturday",
          "Saturday",
          "Saturday",
          "Saturday",
          "Sunday",
          "Sunday",
          "Wednesday",
          "Wednesday",
          "Wednesday",
          "Thursday",
          "Thursday",
          "Thursday",
          "Thursday",
          "Friday",
          "Friday",
          "Friday",
          "Friday",
          "Saturday",
          "Saturday",
          "Saturday",
          "Sunday",
          "Sunday",
          "Monday",
          "Monday",
          "Wednesday",
          "Wednesday",
          "Wednesday",
          "Wednesday",
          "Thursday",
          "Thursday",
          "Thursday",
          "Thursday",
          "Friday",
          "Friday",
          "Friday",
          "Friday",
          "Saturday",
          "Saturday",
          "Saturday",
          "Saturday",
          "Sunday",
          "Sunday",
          "Sunday",
          "Monday",
          "Monday",
          "Monday",
          "Monday",
          "Monday",
          "Tuesday",
          "Tuesday",
          "Wednesday",
          "Wednesday",
          "Wednesday",
          "Wednesday",
          "Thursday",
          "Saturday",
          "Saturday",
          "Sunday",
          "Sunday",
          "Sunday",
          "Monday",
          "Monday",
          "Monday",
          "Monday",
          "Monday",
          "Monday",
          "Monday",
          "Monday",
          "Monday",
          "Monday",
          "Monday",
          "Tuesday",
          "Tuesday",
          "Tuesday",
          "Tuesday",
          "Tuesday",
          "Tuesday",
          "Tuesday",
          "Tuesday",
          "Wednesday",
          "Wednesday",
          "Wednesday",
          "Wednesday",
          "Wednesday",
          "Wednesday",
          "Wednesday",
          "Wednesday",
          "Wednesday",
          "Wednesday",
          "Thursday",
          "Thursday",
          "Thursday",
          "Thursday",
          "Thursday",
          "Thursday",
          "Thursday",
          "Thursday",
          "Friday",
          "Friday",
          "Friday",
          "Friday",
          "Friday",
          "Saturday",
          "Saturday",
          "Saturday",
          "Saturday",
          "Saturday",
          "Saturday",
          "Saturday",
          "Saturday",
          "Sunday",
          "Sunday",
          "Sunday",
          "Monday",
          "Monday",
          "Monday",
          "Monday",
          "Monday",
          "Tuesday",
          "Tuesday",
          "Tuesday",
          "Tuesday",
          "Tuesday",
          "Tuesday",
          "Wednesday",
          "Wednesday",
          "Wednesday",
          "Wednesday",
          "Wednesday",
          "Wednesday",
          "Wednesday",
          "Thursday",
          "Thursday",
          "Thursday",
          "Thursday",
          "Thursday",
          "Thursday",
          "Thursday",
          "Thursday",
          "Thursday",
          "Thursday",
          "Thursday",
          "Thursday",
          "Thursday",
          "Friday",
          "Friday",
          "Friday",
          "Friday",
          "Friday",
          "Saturday",
          "Saturday",
          "Saturday",
          "Saturday",
          "Saturday"
         ],
         "xaxis": "x",
         "y": [
          8.207633999999999,
          8.0467,
          7.724831999999999,
          7.563898,
          102.51495800000001,
          6.9201619999999995,
          1.2874720000000002,
          13.357522000000001,
          26.55411,
          17.380872,
          12.07005,
          9.977908000000001,
          10.299776000000001,
          2.5749440000000003,
          2.735878,
          3.057746,
          3.057746,
          6.43736,
          2.896812,
          3.8624159999999996,
          3.21868,
          24.301033999999998,
          18.024607999999997,
          18.990212,
          35.244546,
          6.276426,
          12.87472,
          16.737136,
          16.737136,
          7.724831999999999,
          7.563898,
          11.587248,
          12.230984,
          27.519714,
          24.301033999999998,
          64.695468,
          2.5749440000000003,
          3.8624159999999996,
          1.60934,
          3.21868,
          3.7014819999999995,
          3.057746,
          2.2530759999999996,
          0.80467,
          2.896812,
          30.094658,
          5.471756,
          4.345218,
          20.760486,
          30.57746,
          23.657297999999997,
          25.266638,
          7.402963999999999,
          8.368568,
          16.737136,
          16.254334,
          9.334171999999999,
          8.85137,
          9.173238,
          9.173238,
          31.221196,
          37.497622,
          6.276426,
          13.357522000000001,
          9.65604,
          2.5749440000000003,
          8.368568,
          15.610598,
          2.5749440000000003,
          1.7702740000000001,
          2.5749440000000003,
          14.48406,
          12.391918,
          16.737136,
          16.737136,
          18.346476,
          14.48406,
          5.149888000000001,
          9.012303999999999,
          9.173238,
          9.816974,
          9.816974,
          6.9201619999999995,
          4.345218,
          8.529501999999999,
          4.82802,
          8.207633999999999,
          2.41401,
          9.816974,
          9.816974,
          27.841582000000002,
          9.173238,
          21.72609,
          9.816974,
          13.67939,
          4.184284,
          27.35878,
          28.96812,
          13.518456,
          18.50741,
          14.323126,
          4.345218,
          2.896812,
          13.035654,
          3.21868,
          20.92142,
          22.369826,
          70.328158,
          22.691694,
          4.184284,
          7.24203,
          2.735878,
          2.896812,
          9.65604,
          1.7702740000000001,
          5.793624,
          23.657297999999997,
          2.735878,
          34.439876,
          0.80467,
          20.438617999999998,
          9.65604,
          8.368568,
          16.0934,
          18.024607999999997,
          12.230984,
          2.41401,
          1.60934,
          11.748182,
          5.63269,
          6.759228,
          21.887024,
          4.02335,
          23.174496,
          4.82802,
          2.41401,
          29.611855999999996,
          37.175754000000005,
          26.55411,
          5.149888000000001,
          12.391918,
          23.33543,
          3.8624159999999996,
          7.402963999999999,
          14.162192000000001,
          13.357522000000001,
          36.532018,
          20.92142,
          13.035654,
          3.5405480000000003,
          15.610598,
          32.1868,
          13.035654,
          2.41401,
          2.735878,
          4.9889540000000006,
          5.149888000000001,
          9.65604,
          9.334171999999999,
          10.138842,
          2.735878,
          17.059003999999998,
          15.932466,
          3.057746,
          6.759228,
          3.21868,
          12.391918,
          10.943512,
          3.379614,
          6.115492,
          9.012303999999999,
          4.184284,
          10.621644,
          12.87472,
          12.87472,
          3.5405480000000003,
          3.7014819999999995,
          8.368568,
          12.230984,
          27.841582000000002,
          15.932466,
          15.932466,
          16.737136,
          17.541806,
          25.266638,
          7.885766,
          1.2874720000000002,
          21.72609,
          3.057746,
          3.21868,
          10.46071,
          6.759228,
          5.63269,
          12.552852,
          12.552852,
          6.276426,
          4.506151999999999,
          19.955816000000002,
          9.495106,
          15.127796,
          19.151146,
          11.587248,
          12.230984,
          2.5749440000000003,
          13.518456,
          20.599552000000003,
          3.7014819999999995,
          2.5749440000000003,
          3.21868,
          1.2874720000000002,
          1.9312079999999998,
          1.60934,
          3.379614,
          3.5405480000000003,
          3.057746,
          9.173238,
          13.518456,
          9.977908000000001,
          16.89807,
          11.587248,
          20.11675,
          3.21868,
          4.345218,
          3.21868,
          4.506151999999999,
          2.735878,
          3.21868,
          3.379614,
          2.735878,
          218.87024,
          48.602067999999996,
          24.94477,
          7.885766,
          20.277684,
          16.737136,
          1.7702740000000001,
          1.7702740000000001,
          21.243288,
          1.60934,
          14.805927999999998,
          15.127796,
          19.31208,
          56.487834,
          58.74091,
          4.9889540000000006,
          3.379614,
          1.9312079999999998,
          12.07005,
          91.73238,
          9.495106,
          9.977908000000001,
          16.737136,
          1.9312079999999998,
          15.449663999999999,
          1.60934,
          1.448406,
          14.162192000000001,
          41.199104000000005,
          37.01482,
          13.035654,
          2.2530759999999996,
          2.735878,
          2.5749440000000003,
          3.21868,
          3.5405480000000003,
          231.74496,
          499.37820200000004,
          323.47734,
          10.782578,
          14.162192000000001,
          1.9312079999999998,
          3.379614,
          10.621644,
          9.816974,
          11.104446000000001,
          11.748182,
          5.793624,
          43.774048,
          41.360037999999996,
          21.887024,
          9.977908000000001,
          9.65604,
          22.208892000000002,
          46.348992,
          25.910374,
          26.393175999999997,
          17.70274,
          24.94477,
          32.669602,
          1.1265379999999998,
          8.85137,
          8.207633999999999,
          124.40198199999999,
          129.55187,
          280.34702799999997,
          231.74496,
          256.367862,
          12.713786,
          12.87472,
          9.816974,
          9.816974,
          16.89807,
          14.001257999999998,
          2.896812,
          30.738394000000003,
          29.933724,
          4.506151999999999,
          14.323126,
          12.07005,
          25.588506,
          10.46071,
          24.622902,
          22.047957999999998,
          19.151146,
          2.2530759999999996,
          24.461968,
          9.65604,
          9.816974,
          13.196587999999998,
          12.87472,
          21.887024,
          36.21015,
          16.737136,
          16.0934,
          9.65604,
          10.46071,
          4.9889540000000006,
          3.057746,
          6.759228,
          7.885766,
          7.724831999999999,
          19.955816000000002,
          8.85137,
          15.932466,
          16.0934,
          22.852628,
          29.289987999999997,
          12.391918,
          10.943512,
          3.379614,
          3.7014819999999995,
          9.977908000000001,
          12.07005,
          4.9889540000000006,
          3.5405480000000003,
          6.276426,
          4.02335,
          14.001257999999998,
          23.33543,
          7.24203,
          8.0467,
          22.852628,
          4.667085999999999,
          20.760486,
          23.174496,
          27.35878,
          12.713786,
          13.518456,
          32.99147,
          15.771532,
          28.324384000000002,
          14.966862,
          12.713786,
          41.199104000000005,
          13.035654,
          4.9889540000000006,
          4.9889540000000006,
          4.506151999999999,
          4.345218,
          3.057746,
          13.518456,
          4.667085999999999,
          18.024607999999997,
          13.196587999999998,
          4.82802,
          4.02335,
          5.793624,
          5.793624,
          7.24203,
          1.9312079999999998,
          2.735878,
          7.563898,
          9.816974,
          18.185542,
          23.979166,
          22.53076,
          2.896812,
          10.782578,
          15.449663999999999,
          16.737136,
          15.932466,
          9.65604,
          5.310822,
          4.9889540000000006,
          2.735878,
          6.43736,
          12.552852,
          12.552852,
          6.115492,
          4.02335,
          15.932466,
          15.932466,
          4.82802,
          3.8624159999999996,
          9.173238,
          11.587248,
          16.737136,
          15.932466,
          16.737136,
          15.932466,
          14.001257999999998,
          35.888282000000004,
          5.310822,
          1.1265379999999998,
          4.02335,
          0.80467,
          1.448406,
          7.724831999999999,
          26.232242,
          16.737136,
          15.932466,
          5.9545580000000005,
          7.402963999999999,
          2.735878,
          16.737136,
          15.932466,
          4.02335,
          6.9201619999999995,
          4.506151999999999,
          13.518456,
          21.243288,
          6.276426,
          8.207633999999999,
          8.368568,
          15.771532,
          18.668343999999998,
          8.207633999999999,
          14.966862,
          19.955816000000002,
          3.057746,
          10.299776000000001,
          8.85137,
          2.41401,
          23.33543,
          4.345218,
          24.1401,
          20.760486,
          21.887024,
          19.633948,
          14.001257999999998,
          9.65604,
          9.495106,
          31.060262,
          26.715044000000002,
          11.426314,
          3.379614,
          13.840323999999999,
          14.48406,
          4.9889540000000006,
          13.518456,
          20.599552000000003,
          7.24203,
          18.990212,
          1.7702740000000001,
          27.35878,
          2.735878,
          24.94477,
          2.5749440000000003,
          2.41401,
          20.277684,
          7.724831999999999,
          3.5405480000000003,
          20.92142,
          75.47804599999999,
          4.02335,
          13.840323999999999,
          8.368568,
          12.230984,
          2.896812,
          7.563898,
          4.506151999999999,
          48.2802,
          7.0810960000000005,
          1.60934,
          13.196587999999998,
          16.737136,
          15.932466,
          15.932466,
          11.748182,
          11.909116000000001,
          2.5749440000000003,
          2.896812,
          16.737136,
          15.932466,
          15.932466,
          15.932466,
          21.404222,
          18.185542,
          16.89807,
          15.932466,
          16.254334,
          15.932466,
          4.9889540000000006,
          4.9889540000000006,
          15.932466,
          15.932466,
          14.162192000000001,
          14.001257999999998,
          18.990212,
          1.9312079999999998,
          15.932466,
          0.9656039999999999,
          15.932466,
          13.840323999999999,
          10.138842,
          15.932466,
          15.932466,
          5.310822,
          4.9889540000000006,
          12.713786,
          20.599552000000003,
          12.391918,
          11.26538,
          20.11675,
          21.243288,
          20.92142,
          7.885766,
          13.67939,
          2.092142,
          2.896812,
          21.887024,
          21.565156,
          19.794882,
          2.2530759999999996,
          14.001257999999998,
          37.81949,
          3.5405480000000003,
          7.0810960000000005,
          5.310822,
          18.990212,
          314.304102,
          13.357522000000001,
          5.149888000000001,
          36.049215999999994,
          19.633948,
          7.24203,
          45.222454,
          6.115492,
          67.43134599999999,
          38.302292,
          20.92142,
          7.0810960000000005,
          24.301033999999998,
          290.003068,
          6.598293999999999,
          9.816974,
          5.310822,
          7.563898,
          11.587248,
          8.85137,
          5.310822,
          1.448406,
          6.115492,
          10.299776000000001,
          4.82802,
          14.001257999999998,
          6.276426,
          7.724831999999999,
          4.506151999999999,
          2.2530759999999996,
          2.2530759999999996,
          4.345218,
          3.7014819999999995,
          5.9545580000000005,
          4.667085999999999,
          6.115492,
          8.207633999999999,
          14.644993999999999,
          12.87472,
          15.932466,
          9.816974,
          19.633948,
          12.87472,
          6.43736,
          15.28873,
          4.82802,
          10.138842,
          16.737136,
          15.932466,
          2.41401,
          7.885766,
          12.713786,
          2.735878,
          3.5405480000000003,
          3.379614,
          4.02335,
          4.02335,
          4.506151999999999,
          23.657297999999997,
          23.496364,
          3.7014819999999995,
          3.5405480000000003,
          3.5405480000000003,
          22.53076,
          21.404222,
          2.896812,
          9.977908000000001,
          2.092142,
          3.057746,
          11.104446000000001,
          7.402963999999999,
          4.506151999999999,
          14.644993999999999,
          13.035654,
          13.518456,
          7.885766,
          1.60934,
          1.60934,
          3.21868,
          1.7702740000000001,
          2.41401,
          2.092142,
          2.896812,
          2.41401,
          10.621644,
          12.87472,
          4.345218,
          4.345218,
          4.02335,
          4.02335,
          8.368568,
          6.43736,
          4.345218,
          7.724831999999999,
          5.149888000000001,
          11.104446000000001,
          23.979166,
          28.002515999999996,
          20.760486,
          24.622902,
          1.60934,
          9.65604,
          3.5405480000000003,
          7.0810960000000005,
          4.506151999999999,
          51.016078,
          51.337945999999995,
          3.057746,
          2.896812,
          13.518456,
          25.105704,
          22.691694,
          25.266638,
          41.681906,
          12.713786,
          4.345218,
          8.85137,
          9.173238,
          1.9312079999999998,
          9.173238,
          26.071308,
          4.184284,
          19.473014,
          2.2530759999999996,
          10.299776000000001,
          11.748182,
          8.529501999999999,
          8.85137,
          12.391918,
          12.230984,
          12.230984,
          5.310822,
          10.46071,
          3.21868,
          9.173238,
          5.149888000000001,
          20.11675,
          12.230984,
          12.391918,
          19.633948,
          2.2530759999999996,
          32.508668,
          15.771532,
          10.138842,
          7.885766,
          2.41401,
          17.541806,
          30.57746,
          30.57746,
          12.713786,
          6.598293999999999,
          30.094658,
          14.001257999999998,
          12.07005,
          12.391918,
          7.0810960000000005,
          8.0467,
          3.057746,
          12.713786,
          28.485318,
          40.555368,
          154.818508,
          56.3269,
          8.85137,
          81.110736,
          14.805927999999998,
          11.748182,
          8.0467,
          6.115492,
          6.276426,
          11.909116000000001,
          2.41401,
          12.713786,
          4.667085999999999,
          5.471756,
          6.115492,
          9.495106,
          15.449663999999999,
          11.26538,
          1.448406,
          139.368844,
          252.505446,
          16.254334,
          9.977908000000001,
          8.529501999999999,
          19.473014,
          17.380872,
          6.9201619999999995,
          4.02335,
          9.173238,
          4.506151999999999,
          6.43736,
          8.85137,
          4.184284,
          3.379614,
          14.162192000000001,
          7.0810960000000005,
          8.529501999999999,
          20.92142,
          20.92142,
          17.059003999999998,
          3.5405480000000003,
          14.805927999999998,
          20.760486,
          27.680647999999998,
          4.506151999999999,
          5.793624,
          2.735878,
          18.50741,
          1.1265379999999998,
          1.1265379999999998,
          1.448406,
          29.289987999999997,
          16.89807,
          9.173238,
          28.96812,
          29.450922000000002,
          26.55411,
          15.449663999999999,
          4.667085999999999,
          13.196587999999998,
          3.8624159999999996,
          15.771532,
          11.748182,
          314.786904,
          32.99147,
          20.277684,
          60.672118000000005,
          26.875978,
          4.506151999999999,
          2.5749440000000003,
          20.438617999999998,
          46.027124,
          28.807185999999998,
          22.208892000000002,
          4.184284,
          9.334171999999999,
          13.357522000000001,
          3.8624159999999996,
          4.9889540000000006,
          9.816974,
          12.391918,
          2.735878,
          15.28873,
          27.519714,
          15.771532,
          1.60934,
          3.7014819999999995,
          17.541806,
          20.438617999999998,
          19.955816000000002,
          6.115492,
          27.35878,
          9.977908000000001,
          4.9889540000000006,
          16.89807,
          13.035654,
          4.9889540000000006,
          3.379614,
          6.9201619999999995,
          4.02335,
          33.152404000000004,
          28.324384000000002,
          9.012303999999999,
          5.310822,
          8.529501999999999,
          5.310822,
          5.310822,
          12.713786,
          20.92142,
          4.82802,
          4.82802,
          6.115492,
          15.28873,
          2.735878,
          17.380872,
          6.598293999999999,
          3.5405480000000003,
          7.402963999999999,
          4.9889540000000006,
          76.765518,
          71.77656400000001,
          21.243288,
          14.001257999999998,
          27.680647999999998,
          22.53076,
          45.222454,
          45.383388,
          4.9889540000000006,
          4.9889540000000006,
          26.393175999999997,
          24.783836,
          3.5405480000000003,
          18.024607999999997,
          3.5405480000000003,
          5.793624,
          5.793624,
          7.885766,
          14.001257999999998,
          3.379614,
          3.379614,
          13.518456,
          9.495106,
          19.473014,
          6.276426,
          9.977908000000001,
          16.737136,
          15.932466,
          172.19938,
          215.007824,
          147.737412,
          65.500138,
          121.827038,
          47.958332,
          26.232242,
          10.46071,
          10.138842,
          10.621644,
          24.461968,
          110.078856,
          315.269706,
          72.742168,
          5.149888000000001,
          16.576202000000002,
          21.082354,
          15.449663999999999,
          26.55411,
          20.599552000000003,
          1.9312079999999998,
          1.60934,
          6.598293999999999,
          6.759228,
          2.2530759999999996,
          2.896812,
          13.67939,
          8.0467,
          6.115492,
          4.02335,
          3.8624159999999996,
          2.2530759999999996,
          2.896812,
          4.9889540000000006,
          4.9889540000000006,
          12.713786,
          6.115492,
          6.9201619999999995,
          6.276426,
          3.5405480000000003,
          4.506151999999999,
          3.5405480000000003,
          3.8624159999999996,
          4.506151999999999,
          70.650026,
          2.896812,
          5.310822,
          18.990212,
          21.243288,
          19.633948,
          18.185542,
          5.793624,
          4.82802,
          18.346476,
          1.448406,
          9.977908000000001,
          1.1265379999999998,
          8.85137,
          20.438617999999998,
          4.184284,
          1.7702740000000001,
          20.277684,
          1.9312079999999998,
          1.7702740000000001,
          9.65604,
          1.2874720000000002,
          73.868706,
          6.43736,
          4.02335,
          58.901844000000004,
          4.667085999999999,
          4.184284,
          3.7014819999999995,
          10.299776000000001,
          2.2530759999999996,
          0.9656039999999999,
          9.495106,
          1.2874720000000002,
          2.092142,
          5.9545580000000005,
          3.7014819999999995,
          4.184284,
          3.057746,
          3.379614,
          6.43736,
          1.448406,
          1.448406,
          3.8624159999999996,
          3.057746,
          3.057746,
          71.77656400000001,
          70.167224,
          4.02335,
          5.9545580000000005,
          8.207633999999999,
          15.610598,
          18.990212,
          3.7014819999999995,
          4.9889540000000006,
          26.232242,
          4.9889540000000006,
          8.368568,
          9.816974,
          16.576202000000002,
          16.89807,
          2.41401,
          2.896812,
          8.690436,
          8.690436,
          63.086128,
          10.299776000000001,
          4.345218,
          29.77279,
          4.02335,
          3.379614,
          10.782578,
          5.63269,
          5.471756,
          8.85137,
          6.598293999999999,
          20.438617999999998,
          4.82802,
          5.63269,
          9.495106,
          3.057746,
          5.310822,
          2.092142,
          16.576202000000002,
          17.863674,
          2.2530759999999996,
          8.207633999999999,
          14.48406,
          21.404222,
          4.02335,
          5.310822,
          4.667085999999999,
          13.67939,
          10.782578,
          4.9889540000000006,
          8.85137,
          8.85137,
          4.667085999999999,
          4.667085999999999,
          8.207633999999999,
          8.529501999999999,
          5.310822,
          4.82802,
          10.621644,
          2.896812,
          4.82802,
          4.667085999999999,
          5.471756,
          6.598293999999999,
          6.115492,
          10.621644,
          6.43736,
          11.26538,
          11.104446000000001,
          5.471756,
          5.471756,
          3.21868,
          3.21868,
          8.207633999999999,
          14.162192000000001,
          9.012303999999999,
          30.416525999999998,
          25.105704,
          25.105704,
          4.82802,
          4.9889540000000006,
          4.82802,
          7.724831999999999,
          3.379614,
          4.9889540000000006,
          7.0810960000000005,
          7.563898,
          4.82802,
          4.82802,
          6.759228,
          6.598293999999999,
          5.471756,
          5.310822,
          4.82802,
          4.9889540000000006,
          17.059003999999998,
          7.724831999999999,
          8.529501999999999,
          7.885766,
          16.415267999999998,
          14.805927999999998,
          12.391918,
          9.495106,
          1.1265379999999998,
          2.092142,
          4.02335,
          8.529501999999999,
          8.690436,
          16.415267999999998,
          11.587248,
          3.5405480000000003,
          17.70274,
          19.31208,
          5.310822,
          31.221196,
          2.735878,
          9.173238,
          2.896812,
          2.2530759999999996,
          16.576202000000002,
          18.50741,
          7.885766,
          5.63269,
          26.071308,
          3.21868,
          3.379614,
          3.379614,
          11.587248,
          19.31208,
          165.76202,
          51.98168199999999,
          8.529501999999999,
          18.668343999999998,
          37.336687999999995,
          5.149888000000001,
          22.53076,
          3.379614,
          3.379614,
          4.82802,
          9.977908000000001,
          15.449663999999999,
          2.092142,
          11.426314,
          10.138842,
          17.219938,
          8.529501999999999,
          2.5749440000000003,
          5.793624,
          2.735878,
          4.667085999999999,
          0.9656039999999999,
          0.9656039999999999,
          3.7014819999999995,
          3.7014819999999995,
          5.149888000000001,
          9.977908000000001,
          12.391918,
          6.115492,
          12.713786,
          7.885766,
          8.0467,
          0.9656039999999999,
          4.9889540000000006,
          12.713786,
          8.85137,
          16.576202000000002,
          16.737136,
          3.21868,
          13.67939,
          7.0810960000000005,
          6.115492,
          8.207633999999999,
          6.115492,
          18.668343999999998,
          19.151146,
          2.2530759999999996,
          1.7702740000000001,
          6.598293999999999,
          9.816974,
          2.092142,
          4.82802,
          6.598293999999999,
          11.587248,
          10.299776000000001,
          20.760486,
          4.506151999999999,
          4.667085999999999,
          7.402963999999999,
          7.402963999999999,
          1.2874720000000002,
          1.1265379999999998,
          6.276426,
          26.071308,
          10.299776000000001,
          77.570188
         ],
         "yaxis": "y"
        }
       ],
       "layout": {
        "barmode": "relative",
        "legend": {
         "tracegroupgap": 0
        },
        "template": {
         "data": {
          "bar": [
           {
            "error_x": {
             "color": "#2a3f5f"
            },
            "error_y": {
             "color": "#2a3f5f"
            },
            "marker": {
             "line": {
              "color": "#E5ECF6",
              "width": 0.5
             },
             "pattern": {
              "fillmode": "overlay",
              "size": 10,
              "solidity": 0.2
             }
            },
            "type": "bar"
           }
          ],
          "barpolar": [
           {
            "marker": {
             "line": {
              "color": "#E5ECF6",
              "width": 0.5
             },
             "pattern": {
              "fillmode": "overlay",
              "size": 10,
              "solidity": 0.2
             }
            },
            "type": "barpolar"
           }
          ],
          "carpet": [
           {
            "aaxis": {
             "endlinecolor": "#2a3f5f",
             "gridcolor": "white",
             "linecolor": "white",
             "minorgridcolor": "white",
             "startlinecolor": "#2a3f5f"
            },
            "baxis": {
             "endlinecolor": "#2a3f5f",
             "gridcolor": "white",
             "linecolor": "white",
             "minorgridcolor": "white",
             "startlinecolor": "#2a3f5f"
            },
            "type": "carpet"
           }
          ],
          "choropleth": [
           {
            "colorbar": {
             "outlinewidth": 0,
             "ticks": ""
            },
            "type": "choropleth"
           }
          ],
          "contour": [
           {
            "colorbar": {
             "outlinewidth": 0,
             "ticks": ""
            },
            "colorscale": [
             [
              0,
              "#0d0887"
             ],
             [
              0.1111111111111111,
              "#46039f"
             ],
             [
              0.2222222222222222,
              "#7201a8"
             ],
             [
              0.3333333333333333,
              "#9c179e"
             ],
             [
              0.4444444444444444,
              "#bd3786"
             ],
             [
              0.5555555555555556,
              "#d8576b"
             ],
             [
              0.6666666666666666,
              "#ed7953"
             ],
             [
              0.7777777777777778,
              "#fb9f3a"
             ],
             [
              0.8888888888888888,
              "#fdca26"
             ],
             [
              1,
              "#f0f921"
             ]
            ],
            "type": "contour"
           }
          ],
          "contourcarpet": [
           {
            "colorbar": {
             "outlinewidth": 0,
             "ticks": ""
            },
            "type": "contourcarpet"
           }
          ],
          "heatmap": [
           {
            "colorbar": {
             "outlinewidth": 0,
             "ticks": ""
            },
            "colorscale": [
             [
              0,
              "#0d0887"
             ],
             [
              0.1111111111111111,
              "#46039f"
             ],
             [
              0.2222222222222222,
              "#7201a8"
             ],
             [
              0.3333333333333333,
              "#9c179e"
             ],
             [
              0.4444444444444444,
              "#bd3786"
             ],
             [
              0.5555555555555556,
              "#d8576b"
             ],
             [
              0.6666666666666666,
              "#ed7953"
             ],
             [
              0.7777777777777778,
              "#fb9f3a"
             ],
             [
              0.8888888888888888,
              "#fdca26"
             ],
             [
              1,
              "#f0f921"
             ]
            ],
            "type": "heatmap"
           }
          ],
          "heatmapgl": [
           {
            "colorbar": {
             "outlinewidth": 0,
             "ticks": ""
            },
            "colorscale": [
             [
              0,
              "#0d0887"
             ],
             [
              0.1111111111111111,
              "#46039f"
             ],
             [
              0.2222222222222222,
              "#7201a8"
             ],
             [
              0.3333333333333333,
              "#9c179e"
             ],
             [
              0.4444444444444444,
              "#bd3786"
             ],
             [
              0.5555555555555556,
              "#d8576b"
             ],
             [
              0.6666666666666666,
              "#ed7953"
             ],
             [
              0.7777777777777778,
              "#fb9f3a"
             ],
             [
              0.8888888888888888,
              "#fdca26"
             ],
             [
              1,
              "#f0f921"
             ]
            ],
            "type": "heatmapgl"
           }
          ],
          "histogram": [
           {
            "marker": {
             "pattern": {
              "fillmode": "overlay",
              "size": 10,
              "solidity": 0.2
             }
            },
            "type": "histogram"
           }
          ],
          "histogram2d": [
           {
            "colorbar": {
             "outlinewidth": 0,
             "ticks": ""
            },
            "colorscale": [
             [
              0,
              "#0d0887"
             ],
             [
              0.1111111111111111,
              "#46039f"
             ],
             [
              0.2222222222222222,
              "#7201a8"
             ],
             [
              0.3333333333333333,
              "#9c179e"
             ],
             [
              0.4444444444444444,
              "#bd3786"
             ],
             [
              0.5555555555555556,
              "#d8576b"
             ],
             [
              0.6666666666666666,
              "#ed7953"
             ],
             [
              0.7777777777777778,
              "#fb9f3a"
             ],
             [
              0.8888888888888888,
              "#fdca26"
             ],
             [
              1,
              "#f0f921"
             ]
            ],
            "type": "histogram2d"
           }
          ],
          "histogram2dcontour": [
           {
            "colorbar": {
             "outlinewidth": 0,
             "ticks": ""
            },
            "colorscale": [
             [
              0,
              "#0d0887"
             ],
             [
              0.1111111111111111,
              "#46039f"
             ],
             [
              0.2222222222222222,
              "#7201a8"
             ],
             [
              0.3333333333333333,
              "#9c179e"
             ],
             [
              0.4444444444444444,
              "#bd3786"
             ],
             [
              0.5555555555555556,
              "#d8576b"
             ],
             [
              0.6666666666666666,
              "#ed7953"
             ],
             [
              0.7777777777777778,
              "#fb9f3a"
             ],
             [
              0.8888888888888888,
              "#fdca26"
             ],
             [
              1,
              "#f0f921"
             ]
            ],
            "type": "histogram2dcontour"
           }
          ],
          "mesh3d": [
           {
            "colorbar": {
             "outlinewidth": 0,
             "ticks": ""
            },
            "type": "mesh3d"
           }
          ],
          "parcoords": [
           {
            "line": {
             "colorbar": {
              "outlinewidth": 0,
              "ticks": ""
             }
            },
            "type": "parcoords"
           }
          ],
          "pie": [
           {
            "automargin": true,
            "type": "pie"
           }
          ],
          "scatter": [
           {
            "fillpattern": {
             "fillmode": "overlay",
             "size": 10,
             "solidity": 0.2
            },
            "type": "scatter"
           }
          ],
          "scatter3d": [
           {
            "line": {
             "colorbar": {
              "outlinewidth": 0,
              "ticks": ""
             }
            },
            "marker": {
             "colorbar": {
              "outlinewidth": 0,
              "ticks": ""
             }
            },
            "type": "scatter3d"
           }
          ],
          "scattercarpet": [
           {
            "marker": {
             "colorbar": {
              "outlinewidth": 0,
              "ticks": ""
             }
            },
            "type": "scattercarpet"
           }
          ],
          "scattergeo": [
           {
            "marker": {
             "colorbar": {
              "outlinewidth": 0,
              "ticks": ""
             }
            },
            "type": "scattergeo"
           }
          ],
          "scattergl": [
           {
            "marker": {
             "colorbar": {
              "outlinewidth": 0,
              "ticks": ""
             }
            },
            "type": "scattergl"
           }
          ],
          "scattermapbox": [
           {
            "marker": {
             "colorbar": {
              "outlinewidth": 0,
              "ticks": ""
             }
            },
            "type": "scattermapbox"
           }
          ],
          "scatterpolar": [
           {
            "marker": {
             "colorbar": {
              "outlinewidth": 0,
              "ticks": ""
             }
            },
            "type": "scatterpolar"
           }
          ],
          "scatterpolargl": [
           {
            "marker": {
             "colorbar": {
              "outlinewidth": 0,
              "ticks": ""
             }
            },
            "type": "scatterpolargl"
           }
          ],
          "scatterternary": [
           {
            "marker": {
             "colorbar": {
              "outlinewidth": 0,
              "ticks": ""
             }
            },
            "type": "scatterternary"
           }
          ],
          "surface": [
           {
            "colorbar": {
             "outlinewidth": 0,
             "ticks": ""
            },
            "colorscale": [
             [
              0,
              "#0d0887"
             ],
             [
              0.1111111111111111,
              "#46039f"
             ],
             [
              0.2222222222222222,
              "#7201a8"
             ],
             [
              0.3333333333333333,
              "#9c179e"
             ],
             [
              0.4444444444444444,
              "#bd3786"
             ],
             [
              0.5555555555555556,
              "#d8576b"
             ],
             [
              0.6666666666666666,
              "#ed7953"
             ],
             [
              0.7777777777777778,
              "#fb9f3a"
             ],
             [
              0.8888888888888888,
              "#fdca26"
             ],
             [
              1,
              "#f0f921"
             ]
            ],
            "type": "surface"
           }
          ],
          "table": [
           {
            "cells": {
             "fill": {
              "color": "#EBF0F8"
             },
             "line": {
              "color": "white"
             }
            },
            "header": {
             "fill": {
              "color": "#C8D4E3"
             },
             "line": {
              "color": "white"
             }
            },
            "type": "table"
           }
          ]
         },
         "layout": {
          "annotationdefaults": {
           "arrowcolor": "#2a3f5f",
           "arrowhead": 0,
           "arrowwidth": 1
          },
          "autotypenumbers": "strict",
          "coloraxis": {
           "colorbar": {
            "outlinewidth": 0,
            "ticks": ""
           }
          },
          "colorscale": {
           "diverging": [
            [
             0,
             "#8e0152"
            ],
            [
             0.1,
             "#c51b7d"
            ],
            [
             0.2,
             "#de77ae"
            ],
            [
             0.3,
             "#f1b6da"
            ],
            [
             0.4,
             "#fde0ef"
            ],
            [
             0.5,
             "#f7f7f7"
            ],
            [
             0.6,
             "#e6f5d0"
            ],
            [
             0.7,
             "#b8e186"
            ],
            [
             0.8,
             "#7fbc41"
            ],
            [
             0.9,
             "#4d9221"
            ],
            [
             1,
             "#276419"
            ]
           ],
           "sequential": [
            [
             0,
             "#0d0887"
            ],
            [
             0.1111111111111111,
             "#46039f"
            ],
            [
             0.2222222222222222,
             "#7201a8"
            ],
            [
             0.3333333333333333,
             "#9c179e"
            ],
            [
             0.4444444444444444,
             "#bd3786"
            ],
            [
             0.5555555555555556,
             "#d8576b"
            ],
            [
             0.6666666666666666,
             "#ed7953"
            ],
            [
             0.7777777777777778,
             "#fb9f3a"
            ],
            [
             0.8888888888888888,
             "#fdca26"
            ],
            [
             1,
             "#f0f921"
            ]
           ],
           "sequentialminus": [
            [
             0,
             "#0d0887"
            ],
            [
             0.1111111111111111,
             "#46039f"
            ],
            [
             0.2222222222222222,
             "#7201a8"
            ],
            [
             0.3333333333333333,
             "#9c179e"
            ],
            [
             0.4444444444444444,
             "#bd3786"
            ],
            [
             0.5555555555555556,
             "#d8576b"
            ],
            [
             0.6666666666666666,
             "#ed7953"
            ],
            [
             0.7777777777777778,
             "#fb9f3a"
            ],
            [
             0.8888888888888888,
             "#fdca26"
            ],
            [
             1,
             "#f0f921"
            ]
           ]
          },
          "colorway": [
           "#636efa",
           "#EF553B",
           "#00cc96",
           "#ab63fa",
           "#FFA15A",
           "#19d3f3",
           "#FF6692",
           "#B6E880",
           "#FF97FF",
           "#FECB52"
          ],
          "font": {
           "color": "#2a3f5f"
          },
          "geo": {
           "bgcolor": "white",
           "lakecolor": "white",
           "landcolor": "#E5ECF6",
           "showlakes": true,
           "showland": true,
           "subunitcolor": "white"
          },
          "hoverlabel": {
           "align": "left"
          },
          "hovermode": "closest",
          "mapbox": {
           "style": "light"
          },
          "paper_bgcolor": "white",
          "plot_bgcolor": "#E5ECF6",
          "polar": {
           "angularaxis": {
            "gridcolor": "white",
            "linecolor": "white",
            "ticks": ""
           },
           "bgcolor": "#E5ECF6",
           "radialaxis": {
            "gridcolor": "white",
            "linecolor": "white",
            "ticks": ""
           }
          },
          "scene": {
           "xaxis": {
            "backgroundcolor": "#E5ECF6",
            "gridcolor": "white",
            "gridwidth": 2,
            "linecolor": "white",
            "showbackground": true,
            "ticks": "",
            "zerolinecolor": "white"
           },
           "yaxis": {
            "backgroundcolor": "#E5ECF6",
            "gridcolor": "white",
            "gridwidth": 2,
            "linecolor": "white",
            "showbackground": true,
            "ticks": "",
            "zerolinecolor": "white"
           },
           "zaxis": {
            "backgroundcolor": "#E5ECF6",
            "gridcolor": "white",
            "gridwidth": 2,
            "linecolor": "white",
            "showbackground": true,
            "ticks": "",
            "zerolinecolor": "white"
           }
          },
          "shapedefaults": {
           "line": {
            "color": "#2a3f5f"
           }
          },
          "ternary": {
           "aaxis": {
            "gridcolor": "white",
            "linecolor": "white",
            "ticks": ""
           },
           "baxis": {
            "gridcolor": "white",
            "linecolor": "white",
            "ticks": ""
           },
           "bgcolor": "#E5ECF6",
           "caxis": {
            "gridcolor": "white",
            "linecolor": "white",
            "ticks": ""
           }
          },
          "title": {
           "x": 0.05
          },
          "xaxis": {
           "automargin": true,
           "gridcolor": "white",
           "linecolor": "white",
           "ticks": "",
           "title": {
            "standoff": 15
           },
           "zerolinecolor": "white",
           "zerolinewidth": 2
          },
          "yaxis": {
           "automargin": true,
           "gridcolor": "white",
           "linecolor": "white",
           "ticks": "",
           "title": {
            "standoff": 15
           },
           "zerolinecolor": "white",
           "zerolinewidth": 2
          }
         }
        },
        "title": {
         "text": "day"
        },
        "xaxis": {
         "anchor": "y",
         "domain": [
          0,
          1
         ],
         "title": {
          "text": "day"
         }
        },
        "yaxis": {
         "anchor": "x",
         "domain": [
          0,
          1
         ],
         "title": {
          "text": "sum of km"
         }
        }
       }
      }
     },
     "metadata": {},
     "output_type": "display_data"
    }
   ],
   "source": [
    "explore('day')"
   ]
  },
  {
   "cell_type": "code",
   "execution_count": 71,
   "id": "ca64fa9e",
   "metadata": {},
   "outputs": [],
   "source": [
    "def get_max(col):\n",
    "    return df.groupby(col).count()['km'].idxmax()"
   ]
  },
  {
   "cell_type": "code",
   "execution_count": 72,
   "id": "8980846e",
   "metadata": {},
   "outputs": [
    {
     "name": "stdout",
     "output_type": "stream",
     "text": [
      "hour : 15\n",
      "month : December\n",
      "day : Friday\n"
     ]
    }
   ],
   "source": [
    "for col in ['hour','month','day']:\n",
    "    print(f'{col} : {get_max(col)}')"
   ]
  },
  {
   "cell_type": "code",
   "execution_count": 73,
   "id": "c807d530",
   "metadata": {},
   "outputs": [],
   "source": [
    "# Periods\n",
    "# Hour > Period\n",
    "\n",
    "# Seasons:\n",
    "# month > Season"
   ]
  },
  {
   "cell_type": "code",
   "execution_count": 74,
   "id": "fefdc60d",
   "metadata": {},
   "outputs": [],
   "source": [
    "top_month_indicies = df['month'].value_counts().head(4).index"
   ]
  },
  {
   "cell_type": "code",
   "execution_count": 75,
   "id": "79e4cee6",
   "metadata": {},
   "outputs": [],
   "source": [
    "top_month_df = df[df['month'].isin(top_month_indicies)]"
   ]
  },
  {
   "cell_type": "code",
   "execution_count": 76,
   "id": "a4b04522",
   "metadata": {},
   "outputs": [
    {
     "data": {
      "text/html": [
       "<div>\n",
       "<style scoped>\n",
       "    .dataframe tbody tr th:only-of-type {\n",
       "        vertical-align: middle;\n",
       "    }\n",
       "\n",
       "    .dataframe tbody tr th {\n",
       "        vertical-align: top;\n",
       "    }\n",
       "\n",
       "    .dataframe thead th {\n",
       "        text-align: right;\n",
       "    }\n",
       "</style>\n",
       "<table border=\"1\" class=\"dataframe\">\n",
       "  <thead>\n",
       "    <tr style=\"text-align: right;\">\n",
       "      <th></th>\n",
       "      <th>start_date</th>\n",
       "      <th>end_date</th>\n",
       "      <th>category</th>\n",
       "      <th>start</th>\n",
       "      <th>stop</th>\n",
       "      <th>purpose</th>\n",
       "      <th>km</th>\n",
       "      <th>duration</th>\n",
       "      <th>speed</th>\n",
       "      <th>hour</th>\n",
       "      <th>month</th>\n",
       "      <th>day</th>\n",
       "    </tr>\n",
       "  </thead>\n",
       "  <tbody>\n",
       "    <tr>\n",
       "      <th>61</th>\n",
       "      <td>2016-02-01 10:35:00</td>\n",
       "      <td>2016-02-01 11:15:00</td>\n",
       "      <td>Business</td>\n",
       "      <td>Cary</td>\n",
       "      <td>Chapel Hill</td>\n",
       "      <td>Customer Visit</td>\n",
       "      <td>31.221196</td>\n",
       "      <td>40.0</td>\n",
       "      <td>46.831794</td>\n",
       "      <td>10</td>\n",
       "      <td>February</td>\n",
       "      <td>Monday</td>\n",
       "    </tr>\n",
       "    <tr>\n",
       "      <th>62</th>\n",
       "      <td>2016-02-01 12:10:00</td>\n",
       "      <td>2016-02-01 12:43:00</td>\n",
       "      <td>Business</td>\n",
       "      <td>Chapel Hill</td>\n",
       "      <td>Cary</td>\n",
       "      <td>Customer Visit</td>\n",
       "      <td>37.497622</td>\n",
       "      <td>33.0</td>\n",
       "      <td>68.177495</td>\n",
       "      <td>12</td>\n",
       "      <td>February</td>\n",
       "      <td>Monday</td>\n",
       "    </tr>\n",
       "    <tr>\n",
       "      <th>63</th>\n",
       "      <td>2016-02-01 12:56:00</td>\n",
       "      <td>2016-02-01 13:07:00</td>\n",
       "      <td>Business</td>\n",
       "      <td>Northwoods</td>\n",
       "      <td>Whitebridge</td>\n",
       "      <td>Meal/Entertain</td>\n",
       "      <td>6.276426</td>\n",
       "      <td>11.0</td>\n",
       "      <td>34.235051</td>\n",
       "      <td>12</td>\n",
       "      <td>February</td>\n",
       "      <td>Monday</td>\n",
       "    </tr>\n",
       "    <tr>\n",
       "      <th>64</th>\n",
       "      <td>2016-02-02 13:04:00</td>\n",
       "      <td>2016-02-02 13:23:00</td>\n",
       "      <td>Business</td>\n",
       "      <td>Whitebridge</td>\n",
       "      <td>Williamsburg Manor</td>\n",
       "      <td>Meeting</td>\n",
       "      <td>13.357522</td>\n",
       "      <td>19.0</td>\n",
       "      <td>42.181648</td>\n",
       "      <td>13</td>\n",
       "      <td>February</td>\n",
       "      <td>Tuesday</td>\n",
       "    </tr>\n",
       "    <tr>\n",
       "      <th>65</th>\n",
       "      <td>2016-02-02 13:51:00</td>\n",
       "      <td>2016-02-02 14:06:00</td>\n",
       "      <td>Business</td>\n",
       "      <td>Cary</td>\n",
       "      <td>Cary</td>\n",
       "      <td>Errand/Supplies</td>\n",
       "      <td>9.656040</td>\n",
       "      <td>15.0</td>\n",
       "      <td>38.624160</td>\n",
       "      <td>13</td>\n",
       "      <td>February</td>\n",
       "      <td>Tuesday</td>\n",
       "    </tr>\n",
       "    <tr>\n",
       "      <th>...</th>\n",
       "      <td>...</td>\n",
       "      <td>...</td>\n",
       "      <td>...</td>\n",
       "      <td>...</td>\n",
       "      <td>...</td>\n",
       "      <td>...</td>\n",
       "      <td>...</td>\n",
       "      <td>...</td>\n",
       "      <td>...</td>\n",
       "      <td>...</td>\n",
       "      <td>...</td>\n",
       "      <td>...</td>\n",
       "    </tr>\n",
       "    <tr>\n",
       "      <th>1150</th>\n",
       "      <td>2016-12-31 01:07:00</td>\n",
       "      <td>2016-12-31 01:14:00</td>\n",
       "      <td>Business</td>\n",
       "      <td>Kar?chi</td>\n",
       "      <td>Kar?chi</td>\n",
       "      <td>Meeting</td>\n",
       "      <td>1.126538</td>\n",
       "      <td>7.0</td>\n",
       "      <td>9.656040</td>\n",
       "      <td>1</td>\n",
       "      <td>December</td>\n",
       "      <td>Saturday</td>\n",
       "    </tr>\n",
       "    <tr>\n",
       "      <th>1151</th>\n",
       "      <td>2016-12-31 13:24:00</td>\n",
       "      <td>2016-12-31 13:42:00</td>\n",
       "      <td>Business</td>\n",
       "      <td>Kar?chi</td>\n",
       "      <td>Unknown Location</td>\n",
       "      <td>Temporary Site</td>\n",
       "      <td>6.276426</td>\n",
       "      <td>18.0</td>\n",
       "      <td>20.921420</td>\n",
       "      <td>13</td>\n",
       "      <td>December</td>\n",
       "      <td>Saturday</td>\n",
       "    </tr>\n",
       "    <tr>\n",
       "      <th>1152</th>\n",
       "      <td>2016-12-31 15:03:00</td>\n",
       "      <td>2016-12-31 15:38:00</td>\n",
       "      <td>Business</td>\n",
       "      <td>Unknown Location</td>\n",
       "      <td>Unknown Location</td>\n",
       "      <td>Meeting</td>\n",
       "      <td>26.071308</td>\n",
       "      <td>35.0</td>\n",
       "      <td>44.693671</td>\n",
       "      <td>15</td>\n",
       "      <td>December</td>\n",
       "      <td>Saturday</td>\n",
       "    </tr>\n",
       "    <tr>\n",
       "      <th>1153</th>\n",
       "      <td>2016-12-31 21:32:00</td>\n",
       "      <td>2016-12-31 21:50:00</td>\n",
       "      <td>Business</td>\n",
       "      <td>Katunayake</td>\n",
       "      <td>Gampaha</td>\n",
       "      <td>Temporary Site</td>\n",
       "      <td>10.299776</td>\n",
       "      <td>18.0</td>\n",
       "      <td>34.332587</td>\n",
       "      <td>21</td>\n",
       "      <td>December</td>\n",
       "      <td>Saturday</td>\n",
       "    </tr>\n",
       "    <tr>\n",
       "      <th>1154</th>\n",
       "      <td>2016-12-31 22:08:00</td>\n",
       "      <td>2016-12-31 23:51:00</td>\n",
       "      <td>Business</td>\n",
       "      <td>Gampaha</td>\n",
       "      <td>Ilukwatta</td>\n",
       "      <td>Temporary Site</td>\n",
       "      <td>77.570188</td>\n",
       "      <td>103.0</td>\n",
       "      <td>45.186517</td>\n",
       "      <td>22</td>\n",
       "      <td>December</td>\n",
       "      <td>Saturday</td>\n",
       "    </tr>\n",
       "  </tbody>\n",
       "</table>\n",
       "<p>512 rows × 12 columns</p>\n",
       "</div>"
      ],
      "text/plain": [
       "              start_date            end_date  category             start  \\\n",
       "61   2016-02-01 10:35:00 2016-02-01 11:15:00  Business              Cary   \n",
       "62   2016-02-01 12:10:00 2016-02-01 12:43:00  Business       Chapel Hill   \n",
       "63   2016-02-01 12:56:00 2016-02-01 13:07:00  Business        Northwoods   \n",
       "64   2016-02-02 13:04:00 2016-02-02 13:23:00  Business       Whitebridge   \n",
       "65   2016-02-02 13:51:00 2016-02-02 14:06:00  Business              Cary   \n",
       "...                  ...                 ...       ...               ...   \n",
       "1150 2016-12-31 01:07:00 2016-12-31 01:14:00  Business           Kar?chi   \n",
       "1151 2016-12-31 13:24:00 2016-12-31 13:42:00  Business           Kar?chi   \n",
       "1152 2016-12-31 15:03:00 2016-12-31 15:38:00  Business  Unknown Location   \n",
       "1153 2016-12-31 21:32:00 2016-12-31 21:50:00  Business        Katunayake   \n",
       "1154 2016-12-31 22:08:00 2016-12-31 23:51:00  Business           Gampaha   \n",
       "\n",
       "                    stop          purpose         km  duration      speed  \\\n",
       "61           Chapel Hill   Customer Visit  31.221196      40.0  46.831794   \n",
       "62                  Cary   Customer Visit  37.497622      33.0  68.177495   \n",
       "63           Whitebridge   Meal/Entertain   6.276426      11.0  34.235051   \n",
       "64    Williamsburg Manor          Meeting  13.357522      19.0  42.181648   \n",
       "65                  Cary  Errand/Supplies   9.656040      15.0  38.624160   \n",
       "...                  ...              ...        ...       ...        ...   \n",
       "1150             Kar?chi          Meeting   1.126538       7.0   9.656040   \n",
       "1151    Unknown Location   Temporary Site   6.276426      18.0  20.921420   \n",
       "1152    Unknown Location          Meeting  26.071308      35.0  44.693671   \n",
       "1153             Gampaha   Temporary Site  10.299776      18.0  34.332587   \n",
       "1154           Ilukwatta   Temporary Site  77.570188     103.0  45.186517   \n",
       "\n",
       "      hour     month       day  \n",
       "61      10  February    Monday  \n",
       "62      12  February    Monday  \n",
       "63      12  February    Monday  \n",
       "64      13  February   Tuesday  \n",
       "65      13  February   Tuesday  \n",
       "...    ...       ...       ...  \n",
       "1150     1  December  Saturday  \n",
       "1151    13  December  Saturday  \n",
       "1152    15  December  Saturday  \n",
       "1153    21  December  Saturday  \n",
       "1154    22  December  Saturday  \n",
       "\n",
       "[512 rows x 12 columns]"
      ]
     },
     "execution_count": 76,
     "metadata": {},
     "output_type": "execute_result"
    }
   ],
   "source": [
    "top_month_df"
   ]
  },
  {
   "cell_type": "code",
   "execution_count": 77,
   "id": "c4c2e7f0",
   "metadata": {},
   "outputs": [
    {
     "data": {
      "text/plain": [
       "<Axes: xlabel='month', ylabel='count'>"
      ]
     },
     "execution_count": 77,
     "metadata": {},
     "output_type": "execute_result"
    },
    {
     "data": {
      "image/png": "[encoded data removed]",
      "text/plain": [
       "<Figure size 640x480 with 1 Axes>"
      ]
     },
     "metadata": {},
     "output_type": "display_data"
    }
   ],
   "source": [
    "sns.countplot(data = top_month_df , x = 'month' , order = top_month_indicies)"
   ]
  },
  {
   "cell_type": "code",
   "execution_count": 78,
   "id": "fb641309",
   "metadata": {},
   "outputs": [
    {
     "data": {
      "text/plain": [
       "Friday       203\n",
       "Tuesday      173\n",
       "Monday       173\n",
       "Saturday     148\n",
       "Thursday     146\n",
       "Sunday       145\n",
       "Wednesday    144\n",
       "Name: day, dtype: int64"
      ]
     },
     "execution_count": 78,
     "metadata": {},
     "output_type": "execute_result"
    }
   ],
   "source": [
    "df['day'].value_counts()"
   ]
  },
  {
   "cell_type": "code",
   "execution_count": 79,
   "id": "bf2dde91",
   "metadata": {},
   "outputs": [],
   "source": [
    "def get_periods(x):\n",
    "    if x in range(0,13):\n",
    "        return 'Morning'\n",
    "    elif x in range(13,19):\n",
    "        return 'Afternoon'\n",
    "    elif x in range(19,21):\n",
    "        return 'Evening'\n",
    "    else:\n",
    "        return 'Night'"
   ]
  },
  {
   "cell_type": "code",
   "execution_count": 80,
   "id": "1c0426ce",
   "metadata": {},
   "outputs": [],
   "source": [
    "# df['period']= pd.cut(df['hour'],bins=[0,12,18,20,24],labels=['Morning','Afternoon','Evening','Night'])"
   ]
  },
  {
   "cell_type": "code",
   "execution_count": 81,
   "id": "cd867c62",
   "metadata": {},
   "outputs": [
    {
     "data": {
      "text/html": [
       "<div>\n",
       "<style scoped>\n",
       "    .dataframe tbody tr th:only-of-type {\n",
       "        vertical-align: middle;\n",
       "    }\n",
       "\n",
       "    .dataframe tbody tr th {\n",
       "        vertical-align: top;\n",
       "    }\n",
       "\n",
       "    .dataframe thead th {\n",
       "        text-align: right;\n",
       "    }\n",
       "</style>\n",
       "<table border=\"1\" class=\"dataframe\">\n",
       "  <thead>\n",
       "    <tr style=\"text-align: right;\">\n",
       "      <th></th>\n",
       "      <th>start_date</th>\n",
       "      <th>end_date</th>\n",
       "      <th>category</th>\n",
       "      <th>start</th>\n",
       "      <th>stop</th>\n",
       "      <th>purpose</th>\n",
       "      <th>km</th>\n",
       "      <th>duration</th>\n",
       "      <th>speed</th>\n",
       "      <th>hour</th>\n",
       "      <th>month</th>\n",
       "      <th>day</th>\n",
       "    </tr>\n",
       "  </thead>\n",
       "  <tbody>\n",
       "    <tr>\n",
       "      <th>0</th>\n",
       "      <td>2016-01-01 21:11:00</td>\n",
       "      <td>2016-01-01 21:17:00</td>\n",
       "      <td>Business</td>\n",
       "      <td>Fort Pierce</td>\n",
       "      <td>Fort Pierce</td>\n",
       "      <td>Meal/Entertain</td>\n",
       "      <td>8.207634</td>\n",
       "      <td>6.0</td>\n",
       "      <td>82.076340</td>\n",
       "      <td>21</td>\n",
       "      <td>January</td>\n",
       "      <td>Friday</td>\n",
       "    </tr>\n",
       "    <tr>\n",
       "      <th>1</th>\n",
       "      <td>2016-01-02 01:25:00</td>\n",
       "      <td>2016-01-02 01:37:00</td>\n",
       "      <td>Business</td>\n",
       "      <td>Fort Pierce</td>\n",
       "      <td>Fort Pierce</td>\n",
       "      <td>NaN</td>\n",
       "      <td>8.046700</td>\n",
       "      <td>12.0</td>\n",
       "      <td>40.233500</td>\n",
       "      <td>1</td>\n",
       "      <td>January</td>\n",
       "      <td>Saturday</td>\n",
       "    </tr>\n",
       "    <tr>\n",
       "      <th>2</th>\n",
       "      <td>2016-01-02 20:25:00</td>\n",
       "      <td>2016-01-02 20:38:00</td>\n",
       "      <td>Business</td>\n",
       "      <td>Fort Pierce</td>\n",
       "      <td>Fort Pierce</td>\n",
       "      <td>Errand/Supplies</td>\n",
       "      <td>7.724832</td>\n",
       "      <td>13.0</td>\n",
       "      <td>35.653071</td>\n",
       "      <td>20</td>\n",
       "      <td>January</td>\n",
       "      <td>Saturday</td>\n",
       "    </tr>\n",
       "    <tr>\n",
       "      <th>3</th>\n",
       "      <td>2016-01-05 17:31:00</td>\n",
       "      <td>2016-01-05 17:45:00</td>\n",
       "      <td>Business</td>\n",
       "      <td>Fort Pierce</td>\n",
       "      <td>Fort Pierce</td>\n",
       "      <td>Meeting</td>\n",
       "      <td>7.563898</td>\n",
       "      <td>14.0</td>\n",
       "      <td>32.416706</td>\n",
       "      <td>17</td>\n",
       "      <td>January</td>\n",
       "      <td>Tuesday</td>\n",
       "    </tr>\n",
       "    <tr>\n",
       "      <th>4</th>\n",
       "      <td>2016-01-06 14:42:00</td>\n",
       "      <td>2016-01-06 15:49:00</td>\n",
       "      <td>Business</td>\n",
       "      <td>Fort Pierce</td>\n",
       "      <td>West Palm Beach</td>\n",
       "      <td>Customer Visit</td>\n",
       "      <td>102.514958</td>\n",
       "      <td>67.0</td>\n",
       "      <td>91.804440</td>\n",
       "      <td>14</td>\n",
       "      <td>January</td>\n",
       "      <td>Wednesday</td>\n",
       "    </tr>\n",
       "    <tr>\n",
       "      <th>...</th>\n",
       "      <td>...</td>\n",
       "      <td>...</td>\n",
       "      <td>...</td>\n",
       "      <td>...</td>\n",
       "      <td>...</td>\n",
       "      <td>...</td>\n",
       "      <td>...</td>\n",
       "      <td>...</td>\n",
       "      <td>...</td>\n",
       "      <td>...</td>\n",
       "      <td>...</td>\n",
       "      <td>...</td>\n",
       "    </tr>\n",
       "    <tr>\n",
       "      <th>1150</th>\n",
       "      <td>2016-12-31 01:07:00</td>\n",
       "      <td>2016-12-31 01:14:00</td>\n",
       "      <td>Business</td>\n",
       "      <td>Kar?chi</td>\n",
       "      <td>Kar?chi</td>\n",
       "      <td>Meeting</td>\n",
       "      <td>1.126538</td>\n",
       "      <td>7.0</td>\n",
       "      <td>9.656040</td>\n",
       "      <td>1</td>\n",
       "      <td>December</td>\n",
       "      <td>Saturday</td>\n",
       "    </tr>\n",
       "    <tr>\n",
       "      <th>1151</th>\n",
       "      <td>2016-12-31 13:24:00</td>\n",
       "      <td>2016-12-31 13:42:00</td>\n",
       "      <td>Business</td>\n",
       "      <td>Kar?chi</td>\n",
       "      <td>Unknown Location</td>\n",
       "      <td>Temporary Site</td>\n",
       "      <td>6.276426</td>\n",
       "      <td>18.0</td>\n",
       "      <td>20.921420</td>\n",
       "      <td>13</td>\n",
       "      <td>December</td>\n",
       "      <td>Saturday</td>\n",
       "    </tr>\n",
       "    <tr>\n",
       "      <th>1152</th>\n",
       "      <td>2016-12-31 15:03:00</td>\n",
       "      <td>2016-12-31 15:38:00</td>\n",
       "      <td>Business</td>\n",
       "      <td>Unknown Location</td>\n",
       "      <td>Unknown Location</td>\n",
       "      <td>Meeting</td>\n",
       "      <td>26.071308</td>\n",
       "      <td>35.0</td>\n",
       "      <td>44.693671</td>\n",
       "      <td>15</td>\n",
       "      <td>December</td>\n",
       "      <td>Saturday</td>\n",
       "    </tr>\n",
       "    <tr>\n",
       "      <th>1153</th>\n",
       "      <td>2016-12-31 21:32:00</td>\n",
       "      <td>2016-12-31 21:50:00</td>\n",
       "      <td>Business</td>\n",
       "      <td>Katunayake</td>\n",
       "      <td>Gampaha</td>\n",
       "      <td>Temporary Site</td>\n",
       "      <td>10.299776</td>\n",
       "      <td>18.0</td>\n",
       "      <td>34.332587</td>\n",
       "      <td>21</td>\n",
       "      <td>December</td>\n",
       "      <td>Saturday</td>\n",
       "    </tr>\n",
       "    <tr>\n",
       "      <th>1154</th>\n",
       "      <td>2016-12-31 22:08:00</td>\n",
       "      <td>2016-12-31 23:51:00</td>\n",
       "      <td>Business</td>\n",
       "      <td>Gampaha</td>\n",
       "      <td>Ilukwatta</td>\n",
       "      <td>Temporary Site</td>\n",
       "      <td>77.570188</td>\n",
       "      <td>103.0</td>\n",
       "      <td>45.186517</td>\n",
       "      <td>22</td>\n",
       "      <td>December</td>\n",
       "      <td>Saturday</td>\n",
       "    </tr>\n",
       "  </tbody>\n",
       "</table>\n",
       "<p>1132 rows × 12 columns</p>\n",
       "</div>"
      ],
      "text/plain": [
       "              start_date            end_date  category             start  \\\n",
       "0    2016-01-01 21:11:00 2016-01-01 21:17:00  Business       Fort Pierce   \n",
       "1    2016-01-02 01:25:00 2016-01-02 01:37:00  Business       Fort Pierce   \n",
       "2    2016-01-02 20:25:00 2016-01-02 20:38:00  Business       Fort Pierce   \n",
       "3    2016-01-05 17:31:00 2016-01-05 17:45:00  Business       Fort Pierce   \n",
       "4    2016-01-06 14:42:00 2016-01-06 15:49:00  Business       Fort Pierce   \n",
       "...                  ...                 ...       ...               ...   \n",
       "1150 2016-12-31 01:07:00 2016-12-31 01:14:00  Business           Kar?chi   \n",
       "1151 2016-12-31 13:24:00 2016-12-31 13:42:00  Business           Kar?chi   \n",
       "1152 2016-12-31 15:03:00 2016-12-31 15:38:00  Business  Unknown Location   \n",
       "1153 2016-12-31 21:32:00 2016-12-31 21:50:00  Business        Katunayake   \n",
       "1154 2016-12-31 22:08:00 2016-12-31 23:51:00  Business           Gampaha   \n",
       "\n",
       "                  stop          purpose          km  duration      speed  \\\n",
       "0          Fort Pierce   Meal/Entertain    8.207634       6.0  82.076340   \n",
       "1          Fort Pierce              NaN    8.046700      12.0  40.233500   \n",
       "2          Fort Pierce  Errand/Supplies    7.724832      13.0  35.653071   \n",
       "3          Fort Pierce          Meeting    7.563898      14.0  32.416706   \n",
       "4      West Palm Beach   Customer Visit  102.514958      67.0  91.804440   \n",
       "...                ...              ...         ...       ...        ...   \n",
       "1150           Kar?chi          Meeting    1.126538       7.0   9.656040   \n",
       "1151  Unknown Location   Temporary Site    6.276426      18.0  20.921420   \n",
       "1152  Unknown Location          Meeting   26.071308      35.0  44.693671   \n",
       "1153           Gampaha   Temporary Site   10.299776      18.0  34.332587   \n",
       "1154         Ilukwatta   Temporary Site   77.570188     103.0  45.186517   \n",
       "\n",
       "      hour     month        day  \n",
       "0       21   January     Friday  \n",
       "1        1   January   Saturday  \n",
       "2       20   January   Saturday  \n",
       "3       17   January    Tuesday  \n",
       "4       14   January  Wednesday  \n",
       "...    ...       ...        ...  \n",
       "1150     1  December   Saturday  \n",
       "1151    13  December   Saturday  \n",
       "1152    15  December   Saturday  \n",
       "1153    21  December   Saturday  \n",
       "1154    22  December   Saturday  \n",
       "\n",
       "[1132 rows x 12 columns]"
      ]
     },
     "execution_count": 81,
     "metadata": {},
     "output_type": "execute_result"
    }
   ],
   "source": [
    "df"
   ]
  },
  {
   "cell_type": "code",
   "execution_count": 82,
   "id": "91d4b1de",
   "metadata": {},
   "outputs": [
    {
     "data": {
      "text/html": [
       "<div>\n",
       "<style scoped>\n",
       "    .dataframe tbody tr th:only-of-type {\n",
       "        vertical-align: middle;\n",
       "    }\n",
       "\n",
       "    .dataframe tbody tr th {\n",
       "        vertical-align: top;\n",
       "    }\n",
       "\n",
       "    .dataframe thead th {\n",
       "        text-align: right;\n",
       "    }\n",
       "</style>\n",
       "<table border=\"1\" class=\"dataframe\">\n",
       "  <thead>\n",
       "    <tr style=\"text-align: right;\">\n",
       "      <th></th>\n",
       "      <th>start_date</th>\n",
       "      <th>end_date</th>\n",
       "      <th>category</th>\n",
       "      <th>start</th>\n",
       "      <th>stop</th>\n",
       "      <th>purpose</th>\n",
       "      <th>km</th>\n",
       "      <th>duration</th>\n",
       "      <th>speed</th>\n",
       "      <th>hour</th>\n",
       "      <th>month</th>\n",
       "      <th>day</th>\n",
       "      <th>periods</th>\n",
       "    </tr>\n",
       "  </thead>\n",
       "  <tbody>\n",
       "    <tr>\n",
       "      <th>0</th>\n",
       "      <td>2016-01-01 21:11:00</td>\n",
       "      <td>2016-01-01 21:17:00</td>\n",
       "      <td>Business</td>\n",
       "      <td>Fort Pierce</td>\n",
       "      <td>Fort Pierce</td>\n",
       "      <td>Meal/Entertain</td>\n",
       "      <td>8.207634</td>\n",
       "      <td>6.0</td>\n",
       "      <td>82.076340</td>\n",
       "      <td>21</td>\n",
       "      <td>January</td>\n",
       "      <td>Friday</td>\n",
       "      <td>Night</td>\n",
       "    </tr>\n",
       "    <tr>\n",
       "      <th>1</th>\n",
       "      <td>2016-01-02 01:25:00</td>\n",
       "      <td>2016-01-02 01:37:00</td>\n",
       "      <td>Business</td>\n",
       "      <td>Fort Pierce</td>\n",
       "      <td>Fort Pierce</td>\n",
       "      <td>NaN</td>\n",
       "      <td>8.046700</td>\n",
       "      <td>12.0</td>\n",
       "      <td>40.233500</td>\n",
       "      <td>1</td>\n",
       "      <td>January</td>\n",
       "      <td>Saturday</td>\n",
       "      <td>Morning</td>\n",
       "    </tr>\n",
       "    <tr>\n",
       "      <th>2</th>\n",
       "      <td>2016-01-02 20:25:00</td>\n",
       "      <td>2016-01-02 20:38:00</td>\n",
       "      <td>Business</td>\n",
       "      <td>Fort Pierce</td>\n",
       "      <td>Fort Pierce</td>\n",
       "      <td>Errand/Supplies</td>\n",
       "      <td>7.724832</td>\n",
       "      <td>13.0</td>\n",
       "      <td>35.653071</td>\n",
       "      <td>20</td>\n",
       "      <td>January</td>\n",
       "      <td>Saturday</td>\n",
       "      <td>Evening</td>\n",
       "    </tr>\n",
       "    <tr>\n",
       "      <th>3</th>\n",
       "      <td>2016-01-05 17:31:00</td>\n",
       "      <td>2016-01-05 17:45:00</td>\n",
       "      <td>Business</td>\n",
       "      <td>Fort Pierce</td>\n",
       "      <td>Fort Pierce</td>\n",
       "      <td>Meeting</td>\n",
       "      <td>7.563898</td>\n",
       "      <td>14.0</td>\n",
       "      <td>32.416706</td>\n",
       "      <td>17</td>\n",
       "      <td>January</td>\n",
       "      <td>Tuesday</td>\n",
       "      <td>Afternoon</td>\n",
       "    </tr>\n",
       "    <tr>\n",
       "      <th>4</th>\n",
       "      <td>2016-01-06 14:42:00</td>\n",
       "      <td>2016-01-06 15:49:00</td>\n",
       "      <td>Business</td>\n",
       "      <td>Fort Pierce</td>\n",
       "      <td>West Palm Beach</td>\n",
       "      <td>Customer Visit</td>\n",
       "      <td>102.514958</td>\n",
       "      <td>67.0</td>\n",
       "      <td>91.804440</td>\n",
       "      <td>14</td>\n",
       "      <td>January</td>\n",
       "      <td>Wednesday</td>\n",
       "      <td>Afternoon</td>\n",
       "    </tr>\n",
       "    <tr>\n",
       "      <th>...</th>\n",
       "      <td>...</td>\n",
       "      <td>...</td>\n",
       "      <td>...</td>\n",
       "      <td>...</td>\n",
       "      <td>...</td>\n",
       "      <td>...</td>\n",
       "      <td>...</td>\n",
       "      <td>...</td>\n",
       "      <td>...</td>\n",
       "      <td>...</td>\n",
       "      <td>...</td>\n",
       "      <td>...</td>\n",
       "      <td>...</td>\n",
       "    </tr>\n",
       "    <tr>\n",
       "      <th>1150</th>\n",
       "      <td>2016-12-31 01:07:00</td>\n",
       "      <td>2016-12-31 01:14:00</td>\n",
       "      <td>Business</td>\n",
       "      <td>Kar?chi</td>\n",
       "      <td>Kar?chi</td>\n",
       "      <td>Meeting</td>\n",
       "      <td>1.126538</td>\n",
       "      <td>7.0</td>\n",
       "      <td>9.656040</td>\n",
       "      <td>1</td>\n",
       "      <td>December</td>\n",
       "      <td>Saturday</td>\n",
       "      <td>Morning</td>\n",
       "    </tr>\n",
       "    <tr>\n",
       "      <th>1151</th>\n",
       "      <td>2016-12-31 13:24:00</td>\n",
       "      <td>2016-12-31 13:42:00</td>\n",
       "      <td>Business</td>\n",
       "      <td>Kar?chi</td>\n",
       "      <td>Unknown Location</td>\n",
       "      <td>Temporary Site</td>\n",
       "      <td>6.276426</td>\n",
       "      <td>18.0</td>\n",
       "      <td>20.921420</td>\n",
       "      <td>13</td>\n",
       "      <td>December</td>\n",
       "      <td>Saturday</td>\n",
       "      <td>Afternoon</td>\n",
       "    </tr>\n",
       "    <tr>\n",
       "      <th>1152</th>\n",
       "      <td>2016-12-31 15:03:00</td>\n",
       "      <td>2016-12-31 15:38:00</td>\n",
       "      <td>Business</td>\n",
       "      <td>Unknown Location</td>\n",
       "      <td>Unknown Location</td>\n",
       "      <td>Meeting</td>\n",
       "      <td>26.071308</td>\n",
       "      <td>35.0</td>\n",
       "      <td>44.693671</td>\n",
       "      <td>15</td>\n",
       "      <td>December</td>\n",
       "      <td>Saturday</td>\n",
       "      <td>Afternoon</td>\n",
       "    </tr>\n",
       "    <tr>\n",
       "      <th>1153</th>\n",
       "      <td>2016-12-31 21:32:00</td>\n",
       "      <td>2016-12-31 21:50:00</td>\n",
       "      <td>Business</td>\n",
       "      <td>Katunayake</td>\n",
       "      <td>Gampaha</td>\n",
       "      <td>Temporary Site</td>\n",
       "      <td>10.299776</td>\n",
       "      <td>18.0</td>\n",
       "      <td>34.332587</td>\n",
       "      <td>21</td>\n",
       "      <td>December</td>\n",
       "      <td>Saturday</td>\n",
       "      <td>Night</td>\n",
       "    </tr>\n",
       "    <tr>\n",
       "      <th>1154</th>\n",
       "      <td>2016-12-31 22:08:00</td>\n",
       "      <td>2016-12-31 23:51:00</td>\n",
       "      <td>Business</td>\n",
       "      <td>Gampaha</td>\n",
       "      <td>Ilukwatta</td>\n",
       "      <td>Temporary Site</td>\n",
       "      <td>77.570188</td>\n",
       "      <td>103.0</td>\n",
       "      <td>45.186517</td>\n",
       "      <td>22</td>\n",
       "      <td>December</td>\n",
       "      <td>Saturday</td>\n",
       "      <td>Night</td>\n",
       "    </tr>\n",
       "  </tbody>\n",
       "</table>\n",
       "<p>1132 rows × 13 columns</p>\n",
       "</div>"
      ],
      "text/plain": [
       "              start_date            end_date  category             start  \\\n",
       "0    2016-01-01 21:11:00 2016-01-01 21:17:00  Business       Fort Pierce   \n",
       "1    2016-01-02 01:25:00 2016-01-02 01:37:00  Business       Fort Pierce   \n",
       "2    2016-01-02 20:25:00 2016-01-02 20:38:00  Business       Fort Pierce   \n",
       "3    2016-01-05 17:31:00 2016-01-05 17:45:00  Business       Fort Pierce   \n",
       "4    2016-01-06 14:42:00 2016-01-06 15:49:00  Business       Fort Pierce   \n",
       "...                  ...                 ...       ...               ...   \n",
       "1150 2016-12-31 01:07:00 2016-12-31 01:14:00  Business           Kar?chi   \n",
       "1151 2016-12-31 13:24:00 2016-12-31 13:42:00  Business           Kar?chi   \n",
       "1152 2016-12-31 15:03:00 2016-12-31 15:38:00  Business  Unknown Location   \n",
       "1153 2016-12-31 21:32:00 2016-12-31 21:50:00  Business        Katunayake   \n",
       "1154 2016-12-31 22:08:00 2016-12-31 23:51:00  Business           Gampaha   \n",
       "\n",
       "                  stop          purpose          km  duration      speed  \\\n",
       "0          Fort Pierce   Meal/Entertain    8.207634       6.0  82.076340   \n",
       "1          Fort Pierce              NaN    8.046700      12.0  40.233500   \n",
       "2          Fort Pierce  Errand/Supplies    7.724832      13.0  35.653071   \n",
       "3          Fort Pierce          Meeting    7.563898      14.0  32.416706   \n",
       "4      West Palm Beach   Customer Visit  102.514958      67.0  91.804440   \n",
       "...                ...              ...         ...       ...        ...   \n",
       "1150           Kar?chi          Meeting    1.126538       7.0   9.656040   \n",
       "1151  Unknown Location   Temporary Site    6.276426      18.0  20.921420   \n",
       "1152  Unknown Location          Meeting   26.071308      35.0  44.693671   \n",
       "1153           Gampaha   Temporary Site   10.299776      18.0  34.332587   \n",
       "1154         Ilukwatta   Temporary Site   77.570188     103.0  45.186517   \n",
       "\n",
       "      hour     month        day    periods  \n",
       "0       21   January     Friday      Night  \n",
       "1        1   January   Saturday    Morning  \n",
       "2       20   January   Saturday    Evening  \n",
       "3       17   January    Tuesday  Afternoon  \n",
       "4       14   January  Wednesday  Afternoon  \n",
       "...    ...       ...        ...        ...  \n",
       "1150     1  December   Saturday    Morning  \n",
       "1151    13  December   Saturday  Afternoon  \n",
       "1152    15  December   Saturday  Afternoon  \n",
       "1153    21  December   Saturday      Night  \n",
       "1154    22  December   Saturday      Night  \n",
       "\n",
       "[1132 rows x 13 columns]"
      ]
     },
     "execution_count": 82,
     "metadata": {},
     "output_type": "execute_result"
    }
   ],
   "source": [
    "df['periods'] = df['hour'].apply(get_periods)\n",
    "df"
   ]
  },
  {
   "cell_type": "code",
   "execution_count": 83,
   "id": "9d28eb58",
   "metadata": {},
   "outputs": [
    {
     "data": {
      "text/plain": [
       "periods\n",
       "Afternoon    9115.462694\n",
       "Morning      5451.800184\n",
       "Night        2217.670520\n",
       "Evening      2140.100332\n",
       "Name: km, dtype: float64"
      ]
     },
     "execution_count": 83,
     "metadata": {},
     "output_type": "execute_result"
    }
   ],
   "source": [
    "df.groupby('periods').sum()['km'].sort_values(ascending=False)"
   ]
  },
  {
   "cell_type": "code",
   "execution_count": 84,
   "id": "5b63a45e",
   "metadata": {},
   "outputs": [
    {
     "data": {
      "text/plain": [
       "<Axes: xlabel='periods', ylabel='km'>"
      ]
     },
     "execution_count": 84,
     "metadata": {},
     "output_type": "execute_result"
    },
    {
     "data": {
      "image/png": "[encoded data removed]",
      "text/plain": [
       "<Figure size 640x480 with 1 Axes>"
      ]
     },
     "metadata": {},
     "output_type": "display_data"
    }
   ],
   "source": [
    "sns.barplot(data = df , x ='periods' , y = 'km',estimator=np.sum,order=df.groupby('periods').sum()['km'].sort_values(ascending=False).index)"
   ]
  },
  {
   "cell_type": "code",
   "execution_count": 85,
   "id": "c8f8a8d7",
   "metadata": {},
   "outputs": [
    {
     "data": {
      "text/plain": [
       "Afternoon    545\n",
       "Morning      342\n",
       "Evening      138\n",
       "Night        107\n",
       "Name: periods, dtype: int64"
      ]
     },
     "execution_count": 85,
     "metadata": {},
     "output_type": "execute_result"
    }
   ],
   "source": [
    "df['periods'].value_counts()"
   ]
  },
  {
   "cell_type": "code",
   "execution_count": 86,
   "id": "ec26e2a1",
   "metadata": {},
   "outputs": [
    {
     "data": {
      "text/plain": [
       "periods\n",
       "Afternoon    18784.502818\n",
       "Evening       5184.876484\n",
       "Morning      13004.943242\n",
       "Night         4684.923802\n",
       "Name: speed, dtype: float64"
      ]
     },
     "execution_count": 86,
     "metadata": {},
     "output_type": "execute_result"
    }
   ],
   "source": [
    "df.groupby('periods').sum()['speed']"
   ]
  },
  {
   "cell_type": "code",
   "execution_count": 87,
   "id": "029dc73f",
   "metadata": {},
   "outputs": [
    {
     "data": {
      "text/plain": [
       "count    1132.000000\n",
       "mean       36.801454\n",
       "std        19.042469\n",
       "min         6.304357\n",
       "25%        23.751833\n",
       "50%        33.404255\n",
       "75%        45.197619\n",
       "max       119.493495\n",
       "Name: speed, dtype: float64"
      ]
     },
     "execution_count": 87,
     "metadata": {},
     "output_type": "execute_result"
    }
   ],
   "source": [
    "df['speed'].describe()"
   ]
  },
  {
   "cell_type": "markdown",
   "id": "d146d1d1",
   "metadata": {},
   "source": [
    "### For each Period for each category which has most driven count"
   ]
  },
  {
   "cell_type": "code",
   "execution_count": 88,
   "id": "523f8278",
   "metadata": {},
   "outputs": [],
   "source": [
    "df['dummy'] = 1"
   ]
  },
  {
   "cell_type": "code",
   "execution_count": 89,
   "id": "ee5a7d32",
   "metadata": {},
   "outputs": [
    {
     "data": {
      "text/html": [
       "<div>\n",
       "<style scoped>\n",
       "    .dataframe tbody tr th:only-of-type {\n",
       "        vertical-align: middle;\n",
       "    }\n",
       "\n",
       "    .dataframe tbody tr th {\n",
       "        vertical-align: top;\n",
       "    }\n",
       "\n",
       "    .dataframe thead th {\n",
       "        text-align: right;\n",
       "    }\n",
       "</style>\n",
       "<table border=\"1\" class=\"dataframe\">\n",
       "  <thead>\n",
       "    <tr style=\"text-align: right;\">\n",
       "      <th>category</th>\n",
       "      <th>Business</th>\n",
       "      <th>Personal</th>\n",
       "    </tr>\n",
       "    <tr>\n",
       "      <th>periods</th>\n",
       "      <th></th>\n",
       "      <th></th>\n",
       "    </tr>\n",
       "  </thead>\n",
       "  <tbody>\n",
       "    <tr>\n",
       "      <th>Afternoon</th>\n",
       "      <td>513</td>\n",
       "      <td>32</td>\n",
       "    </tr>\n",
       "    <tr>\n",
       "      <th>Evening</th>\n",
       "      <td>129</td>\n",
       "      <td>9</td>\n",
       "    </tr>\n",
       "    <tr>\n",
       "      <th>Morning</th>\n",
       "      <td>314</td>\n",
       "      <td>28</td>\n",
       "    </tr>\n",
       "    <tr>\n",
       "      <th>Night</th>\n",
       "      <td>99</td>\n",
       "      <td>8</td>\n",
       "    </tr>\n",
       "  </tbody>\n",
       "</table>\n",
       "</div>"
      ],
      "text/plain": [
       "category   Business  Personal\n",
       "periods                      \n",
       "Afternoon       513        32\n",
       "Evening         129         9\n",
       "Morning         314        28\n",
       "Night            99         8"
      ]
     },
     "execution_count": 89,
     "metadata": {},
     "output_type": "execute_result"
    }
   ],
   "source": [
    "pd.pivot_table(data = df , index = 'periods' , columns = 'category',values = 'dummy' , aggfunc='count')"
   ]
  },
  {
   "cell_type": "code",
   "execution_count": 90,
   "id": "07b5a61f",
   "metadata": {},
   "outputs": [],
   "source": [
    "def get_season(x):\n",
    "    if x in ['December','January','February']:\n",
    "        return 'Winter'\n",
    "    elif x in ['March','April','May']:\n",
    "        return 'Spring'\n",
    "    elif x in ['June','July','August']:\n",
    "        return 'Summer'\n",
    "    else:\n",
    "        return 'Autumn'"
   ]
  },
  {
   "cell_type": "code",
   "execution_count": null,
   "id": "2d45705e",
   "metadata": {},
   "outputs": [],
   "source": []
  }
 ],
 "metadata": {
  "kernelspec": {
   "display_name": "Python 3.9.12 ('base')",
   "language": "python",
   "name": "python3"
  },
  "language_info": {
   "codemirror_mode": {
    "name": "ipython",
    "version": 3
   },
   "file_extension": ".py",
   "mimetype": "text/x-python",
   "name": "python",
   "nbconvert_exporter": "python",
   "pygments_lexer": "ipython3",
   "version": "3.9.12"
  },
  "vscode": {
   "interpreter": {
    "hash": "cf09db7c5a43ebc020488360be383d2a4c3a085f9fc26d5b11b1a561cf0ad7de"
   }
  }
 },
 "nbformat": 4,
 "nbformat_minor": 5
}
